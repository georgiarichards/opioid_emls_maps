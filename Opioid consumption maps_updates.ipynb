{
 "cells": [
  {
   "cell_type": "markdown",
   "metadata": {},
   "source": [
    "# Global, regional & national consumption of opioids, 2015-2017\n"
   ]
  },
  {
   "cell_type": "markdown",
   "metadata": {},
   "source": [
    "Our study aims to measure variation in opioid consumption across the globe. \n",
    "\n",
    "**Methods:**<br>\n",
    "We obtained the most up-to-date data from the <a href=\"https://www.incb.org/\" target=\"_blank\">International Narcotics Control Board (INCB)</a> as of Auguat 2019 (2015-17), reported in kilograms (kg). We extracted total opioid consumption for each country, state and territory (n=214) for each year. We calculated the 3-year annual mean consumption for each country and created a rate (kg per 100,000 of the population), using 2016 population data from the <a href=\"https://apps.who.int/gho/data/node.main.SDGPOP?lang=en\" target=\"_blank\">WHO Global Health Observatory</a>. We visualised the data and use quantiles to create the colour spectrum for the choropleth maps displayed in this Notebook."
   ]
  },
  {
   "cell_type": "code",
   "execution_count": 1,
   "metadata": {},
   "outputs": [],
   "source": [
    "# import libraries for handling data, analysis, and visualising/graphing the data\n",
    "import pandas as pd\n",
    "import numpy as np\n",
    "import plotly.express as px\n",
    "import plotly.graph_objects as go"
   ]
  },
  {
   "cell_type": "code",
   "execution_count": 2,
   "metadata": {},
   "outputs": [],
   "source": [
    "# import data \n",
    "df=pd.read_csv(filepath_or_buffer=\"map_opioidconsum.csv\")\n",
    "df.head()"
   ]
  },
  {
   "cell_type": "code",
   "execution_count": 4,
   "metadata": {
    "scrolled": true
   },
   "outputs": [
    {
     "name": "stdout",
     "output_type": "stream",
     "text": [
      "<class 'pandas.core.frame.DataFrame'>\n",
      "RangeIndex: 195 entries, 0 to 194\n",
      "Data columns (total 6 columns):\n",
      "Country          195 non-null object\n",
      "country_ISO      195 non-null object\n",
      "Pop_2016         195 non-null float64\n",
      "meanop_pop       192 non-null float64\n",
      "decile_op_pop    192 non-null float64\n",
      "Region2          195 non-null object\n",
      "dtypes: float64(3), object(3)\n",
      "memory usage: 9.2+ KB\n"
     ]
    }
   ],
   "source": [
    "# to see what data is in the dataset (column names)\n",
    "df.info()"
   ]
  },
  {
   "cell_type": "code",
   "execution_count": 5,
   "metadata": {},
   "outputs": [
    {
     "data": {
      "text/html": [
       "<div>\n",
       "<style scoped>\n",
       "    .dataframe tbody tr th:only-of-type {\n",
       "        vertical-align: middle;\n",
       "    }\n",
       "\n",
       "    .dataframe tbody tr th {\n",
       "        vertical-align: top;\n",
       "    }\n",
       "\n",
       "    .dataframe thead th {\n",
       "        text-align: right;\n",
       "    }\n",
       "</style>\n",
       "<table border=\"1\" class=\"dataframe\">\n",
       "  <thead>\n",
       "    <tr style=\"text-align: right;\">\n",
       "      <th></th>\n",
       "      <th>Pop_2016</th>\n",
       "      <th>meanop_pop</th>\n",
       "      <th>decile_op_pop</th>\n",
       "    </tr>\n",
       "  </thead>\n",
       "  <tbody>\n",
       "    <tr>\n",
       "      <th>count</th>\n",
       "      <td>1.950000e+02</td>\n",
       "      <td>192.000000</td>\n",
       "      <td>192.000000</td>\n",
       "    </tr>\n",
       "    <tr>\n",
       "      <th>mean</th>\n",
       "      <td>3.643970e+07</td>\n",
       "      <td>2.490439</td>\n",
       "      <td>5.427083</td>\n",
       "    </tr>\n",
       "    <tr>\n",
       "      <th>std</th>\n",
       "      <td>1.291513e+08</td>\n",
       "      <td>6.972130</td>\n",
       "      <td>2.954258</td>\n",
       "    </tr>\n",
       "    <tr>\n",
       "      <th>min</th>\n",
       "      <td>2.000000e+03</td>\n",
       "      <td>0.000000</td>\n",
       "      <td>1.000000</td>\n",
       "    </tr>\n",
       "    <tr>\n",
       "      <th>25%</th>\n",
       "      <td>1.893500e+06</td>\n",
       "      <td>0.024082</td>\n",
       "      <td>3.000000</td>\n",
       "    </tr>\n",
       "    <tr>\n",
       "      <th>50%</th>\n",
       "      <td>8.402000e+06</td>\n",
       "      <td>0.313941</td>\n",
       "      <td>5.500000</td>\n",
       "    </tr>\n",
       "    <tr>\n",
       "      <th>75%</th>\n",
       "      <td>2.789550e+07</td>\n",
       "      <td>1.165447</td>\n",
       "      <td>8.000000</td>\n",
       "    </tr>\n",
       "    <tr>\n",
       "      <th>max</th>\n",
       "      <td>1.411000e+09</td>\n",
       "      <td>48.027650</td>\n",
       "      <td>10.000000</td>\n",
       "    </tr>\n",
       "  </tbody>\n",
       "</table>\n",
       "</div>"
      ],
      "text/plain": [
       "           Pop_2016  meanop_pop  decile_op_pop\n",
       "count  1.950000e+02  192.000000     192.000000\n",
       "mean   3.643970e+07    2.490439       5.427083\n",
       "std    1.291513e+08    6.972130       2.954258\n",
       "min    2.000000e+03    0.000000       1.000000\n",
       "25%    1.893500e+06    0.024082       3.000000\n",
       "50%    8.402000e+06    0.313941       5.500000\n",
       "75%    2.789550e+07    1.165447       8.000000\n",
       "max    1.411000e+09   48.027650      10.000000"
      ]
     },
     "execution_count": 5,
     "metadata": {},
     "output_type": "execute_result"
    }
   ],
   "source": [
    "# summary stats for each column \n",
    "df.describe()"
   ]
  },
  {
   "cell_type": "code",
   "execution_count": 10,
   "metadata": {},
   "outputs": [
    {
     "data": {
      "application/vnd.plotly.v1+json": {
       "config": {
        "plotlyServerURL": "https://plot.ly"
       },
       "data": [
        {
         "alignmentgroup": "True",
         "customdata": [
          [
           "Afghanistan",
           0.055548900000000005
          ],
          [
           "Armenia",
           0.3636012
          ],
          [
           "Azerbaijan",
           0.0734567
          ],
          [
           "Bahrain",
           1.205541
          ],
          [
           "Bangladesh",
           0.08255499999999999
          ],
          [
           "Bhutan",
           0.0246868
          ],
          [
           "Brunei Darussalam",
           0.3638741
          ],
          [
           "Cambodia",
           0
          ],
          [
           "China",
           0.3852545
          ],
          [
           "Democratic People's Republic of Korea",
           0.44754099999999997
          ],
          [
           "Georgia",
           1.478999
          ],
          [
           "India",
           0.05271169999999999
          ],
          [
           "Indonesia",
           0.07077649999999999
          ],
          [
           "Iran (Islamic Republic of)",
           0.3325181
          ],
          [
           "Iraq",
           0
          ],
          [
           "Israel",
           9.150239
          ],
          [
           "Japan",
           1.08171
          ],
          [
           "Jordan",
           0.397999
          ],
          [
           "Kazakhstan",
           0.1308873
          ],
          [
           "Kuwait",
           0.3430114
          ],
          [
           "Kyrgyzstan",
           0.5936095
          ],
          [
           "Lao People's Democratic Republic",
           0.045688099999999995
          ],
          [
           "Lebanon",
           0.41225839999999997
          ],
          [
           "Malaysia",
           1.6406830000000001
          ],
          [
           "Maldives",
           0.07633739999999999
          ],
          [
           "Mongolia",
           0.31342359999999997
          ],
          [
           "Myanmar",
           1.4821360000000001
          ],
          [
           "Nepal",
           0.0520576
          ],
          [
           "Oman",
           1.9291599999999998
          ],
          [
           "Pakistan",
           0.0033466999999999998
          ],
          [
           "Philippines",
           0.0360427
          ],
          [
           "Qatar",
           0.1612998
          ],
          [
           "Republic of Korea",
           1.963555
          ],
          [
           "Saudi Arabia",
           0.6358550000000001
          ],
          [
           "Singapore",
           0.3144587
          ],
          [
           "Sri Lanka",
           0.6002957
          ],
          [
           "Syrian Arab Republic",
           0.1642055
          ],
          [
           "Tajikistan",
           0.0113413
          ],
          [
           "Thailand",
           0.32214590000000004
          ],
          [
           "Timor-Leste",
           0.47463320000000003
          ],
          [
           "Turkey",
           0.3322697
          ],
          [
           "Turkmenistan",
           0.030973
          ],
          [
           "United Arab Emirates",
           0.1534026
          ],
          [
           "Uzbekistan",
           0.0324881
          ],
          [
           "Viet Nam",
           1.7481240000000002
          ],
          [
           "Yemen",
           0
          ]
         ],
         "hovertemplate": "Region2=Asia<br>=%{customdata[0]}<br>Annual mean consumption of opioids<br>(kg per 100,000 population)=%{customdata[1]}<extra></extra>",
         "legendgroup": "Asia",
         "marker": {
          "color": "#636efa"
         },
         "name": "Asia",
         "offsetgroup": "Asia",
         "orientation": "v",
         "showlegend": true,
         "textposition": "auto",
         "type": "bar",
         "x": [
          "Afghanistan",
          "Armenia",
          "Azerbaijan",
          "Bahrain",
          "Bangladesh",
          "Bhutan",
          "Brunei Darussalam",
          "Cambodia",
          "China",
          "Democratic People's Republic of Korea",
          "Georgia",
          "India",
          "Indonesia",
          "Iran (Islamic Republic of)",
          "Iraq",
          "Israel",
          "Japan",
          "Jordan",
          "Kazakhstan",
          "Kuwait",
          "Kyrgyzstan",
          "Lao People's Democratic Republic",
          "Lebanon",
          "Malaysia",
          "Maldives",
          "Mongolia",
          "Myanmar",
          "Nepal",
          "Oman",
          "Pakistan",
          "Philippines",
          "Qatar",
          "Republic of Korea",
          "Saudi Arabia",
          "Singapore",
          "Sri Lanka",
          "Syrian Arab Republic",
          "Tajikistan",
          "Thailand",
          "Timor-Leste",
          "Turkey",
          "Turkmenistan",
          "United Arab Emirates",
          "Uzbekistan",
          "Viet Nam",
          "Yemen"
         ],
         "xaxis": "x",
         "y": [
          0.055548900000000005,
          0.3636012,
          0.0734567,
          1.205541,
          0.08255499999999999,
          0.0246868,
          0.3638741,
          0,
          0.3852545,
          0.44754099999999997,
          1.478999,
          0.05271169999999999,
          0.07077649999999999,
          0.3325181,
          0,
          9.150239,
          1.08171,
          0.397999,
          0.1308873,
          0.3430114,
          0.5936095,
          0.045688099999999995,
          0.41225839999999997,
          1.6406830000000001,
          0.07633739999999999,
          0.31342359999999997,
          1.4821360000000001,
          0.0520576,
          1.9291599999999998,
          0.0033466999999999998,
          0.0360427,
          0.1612998,
          1.963555,
          0.6358550000000001,
          0.3144587,
          0.6002957,
          0.1642055,
          0.0113413,
          0.32214590000000004,
          0.47463320000000003,
          0.3322697,
          0.030973,
          0.1534026,
          0.0324881,
          1.7481240000000002,
          0
         ],
         "yaxis": "y"
        },
        {
         "alignmentgroup": "True",
         "customdata": [
          [
           "Albania",
           0.5056594
          ],
          [
           "Andorra",
           1.74537
          ],
          [
           "Austria",
           25.10115
          ],
          [
           "Belarus",
           0.4851543
          ],
          [
           "Belgium",
           22.28791
          ],
          [
           "Bosnia & Herzegovina",
           0.3920785
          ],
          [
           "Bulgaria",
           2.553382
          ],
          [
           "Croatia",
           1.478524
          ],
          [
           "Cyprus",
           2.5440419999999997
          ],
          [
           "Czechia",
           2.158196
          ],
          [
           "Denmark",
           19.66481
          ],
          [
           "Estonia",
           2.6066409999999998
          ],
          [
           "Finland",
           6.183696
          ],
          [
           "France",
           7.081598
          ],
          [
           "Germany",
           48.02765
          ],
          [
           "Greece",
           0.8267286
          ],
          [
           "Hungary",
           0.9950699000000001
          ],
          [
           "Iceland",
           42.84424
          ],
          [
           "Ireland",
           11.997630000000001
          ],
          [
           "Italy",
           5.5174
          ],
          [
           "Latvia",
           1.152083
          ],
          [
           "Liechtenstein",
           null
          ],
          [
           "Lithuania",
           1.001343
          ],
          [
           "Luxembourg",
           11.54363
          ],
          [
           "Malta",
           4.214658
          ],
          [
           "Moldova (the Republic of)",
           0.5536939000000001
          ],
          [
           "Monaco",
           null
          ],
          [
           "Montenegro",
           0.5658736
          ],
          [
           "Netherlands",
           8.239208
          ],
          [
           "North Macedonia",
           2.607637
          ],
          [
           "Norway",
           11.0801
          ],
          [
           "Poland",
           1.7593900000000002
          ],
          [
           "Portugal",
           1.793094
          ],
          [
           "Romania",
           1.045929
          ],
          [
           "Russian Federation",
           0.18117139999999998
          ],
          [
           "San Marino",
           null
          ],
          [
           "Serbia",
           0.9930191999999999
          ],
          [
           "Slovakia",
           1.4229180000000001
          ],
          [
           "Slovenia",
           6.445069
          ],
          [
           "Spain",
           5.088083
          ],
          [
           "Sweden",
           9.792585
          ],
          [
           "Switzerland",
           20.18465
          ],
          [
           "UK",
           12.424619999999999
          ],
          [
           "Ukraine",
           1.025336
          ]
         ],
         "hovertemplate": "Region2=Europe<br>=%{customdata[0]}<br>Annual mean consumption of opioids<br>(kg per 100,000 population)=%{customdata[1]}<extra></extra>",
         "legendgroup": "Europe",
         "marker": {
          "color": "#EF553B"
         },
         "name": "Europe",
         "offsetgroup": "Europe",
         "orientation": "v",
         "showlegend": true,
         "textposition": "auto",
         "type": "bar",
         "x": [
          "Albania",
          "Andorra",
          "Austria",
          "Belarus",
          "Belgium",
          "Bosnia & Herzegovina",
          "Bulgaria",
          "Croatia",
          "Cyprus",
          "Czechia",
          "Denmark",
          "Estonia",
          "Finland",
          "France",
          "Germany",
          "Greece",
          "Hungary",
          "Iceland",
          "Ireland",
          "Italy",
          "Latvia",
          "Liechtenstein",
          "Lithuania",
          "Luxembourg",
          "Malta",
          "Moldova (the Republic of)",
          "Monaco",
          "Montenegro",
          "Netherlands",
          "North Macedonia",
          "Norway",
          "Poland",
          "Portugal",
          "Romania",
          "Russian Federation",
          "San Marino",
          "Serbia",
          "Slovakia",
          "Slovenia",
          "Spain",
          "Sweden",
          "Switzerland",
          "UK",
          "Ukraine"
         ],
         "xaxis": "x",
         "y": [
          0.5056594,
          1.74537,
          25.10115,
          0.4851543,
          22.28791,
          0.3920785,
          2.553382,
          1.478524,
          2.5440419999999997,
          2.158196,
          19.66481,
          2.6066409999999998,
          6.183696,
          7.081598,
          48.02765,
          0.8267286,
          0.9950699000000001,
          42.84424,
          11.997630000000001,
          5.5174,
          1.152083,
          null,
          1.001343,
          11.54363,
          4.214658,
          0.5536939000000001,
          null,
          0.5658736,
          8.239208,
          2.607637,
          11.0801,
          1.7593900000000002,
          1.793094,
          1.045929,
          0.18117139999999998,
          null,
          0.9930191999999999,
          1.4229180000000001,
          6.445069,
          5.088083,
          9.792585,
          20.18465,
          12.424619999999999,
          1.025336
         ],
         "yaxis": "y"
        },
        {
         "alignmentgroup": "True",
         "customdata": [
          [
           "Algeria",
           0.0163644
          ],
          [
           "Angola",
           0.00017490000000000002
          ],
          [
           "Benin",
           0.0236623
          ],
          [
           "Botswana",
           0.3165317
          ],
          [
           "Burkina Faso",
           0.0053872
          ],
          [
           "Burundi",
           0.0049284
          ],
          [
           "Cabo Verde",
           0.059979899999999996
          ],
          [
           "Cameroon",
           0
          ],
          [
           "Central African Republic",
           0
          ],
          [
           "Chad",
           0.000572
          ],
          [
           "Comoros",
           0.0062927
          ],
          [
           "Congo",
           0
          ],
          [
           "Côte d'Ivoire",
           0.389805
          ],
          [
           "Democratic Republic of the Congo",
           0.0025991
          ],
          [
           "Djibouti",
           0
          ],
          [
           "Egypt",
           0.0377399
          ],
          [
           "Equatorial Guinea",
           0
          ],
          [
           "Eritrea",
           0
          ],
          [
           "Eswatini",
           0.4343224
          ],
          [
           "Ethiopia",
           0.0539034
          ],
          [
           "Gabon",
           0
          ],
          [
           "Gambia",
           0
          ],
          [
           "Ghana",
           0.2672469
          ],
          [
           "Guinea",
           0
          ],
          [
           "Guinea-Bissau",
           0
          ],
          [
           "Kenya",
           0.1927077
          ],
          [
           "Lesotho",
           0
          ],
          [
           "Liberia",
           0
          ],
          [
           "Libya",
           0.0150852
          ],
          [
           "Madagascar",
           0.0037254
          ],
          [
           "Malawi",
           0.14848
          ],
          [
           "Mali",
           0
          ],
          [
           "Mauritania",
           0
          ],
          [
           "Mauritius",
           5.553447
          ],
          [
           "Morocco",
           0.1288902
          ],
          [
           "Mozambique",
           0.0222808
          ],
          [
           "Namibia",
           0.365989
          ],
          [
           "Niger",
           0
          ],
          [
           "Nigeria",
           0.0012314
          ],
          [
           "Rwanda",
           0.059748300000000004
          ],
          [
           "Sao Tome & Principe",
           0
          ],
          [
           "Senegal",
           0.12414860000000001
          ],
          [
           "Seychelles",
           2.090855
          ],
          [
           "Sierra Leone",
           0.00045069999999999995
          ],
          [
           "Somalia",
           0
          ],
          [
           "South Africa",
           1.637748
          ],
          [
           "South Sudan",
           0
          ],
          [
           "Sudan",
           0.024221299999999998
          ],
          [
           "Tanzania (United Republic of)",
           0.11592169999999999
          ],
          [
           "Togo",
           0.0110702
          ],
          [
           "Tunisia",
           0.2738932
          ],
          [
           "Uganda",
           0.2033951
          ],
          [
           "Zambia",
           0.15501779999999998
          ],
          [
           "Zimbabwe",
           0.24069459999999998
          ]
         ],
         "hovertemplate": "Region2=Africa<br>=%{customdata[0]}<br>Annual mean consumption of opioids<br>(kg per 100,000 population)=%{customdata[1]}<extra></extra>",
         "legendgroup": "Africa",
         "marker": {
          "color": "#00cc96"
         },
         "name": "Africa",
         "offsetgroup": "Africa",
         "orientation": "v",
         "showlegend": true,
         "textposition": "auto",
         "type": "bar",
         "x": [
          "Algeria",
          "Angola",
          "Benin",
          "Botswana",
          "Burkina Faso",
          "Burundi",
          "Cabo Verde",
          "Cameroon",
          "Central African Republic",
          "Chad",
          "Comoros",
          "Congo",
          "Côte d'Ivoire",
          "Democratic Republic of the Congo",
          "Djibouti",
          "Egypt",
          "Equatorial Guinea",
          "Eritrea",
          "Eswatini",
          "Ethiopia",
          "Gabon",
          "Gambia",
          "Ghana",
          "Guinea",
          "Guinea-Bissau",
          "Kenya",
          "Lesotho",
          "Liberia",
          "Libya",
          "Madagascar",
          "Malawi",
          "Mali",
          "Mauritania",
          "Mauritius",
          "Morocco",
          "Mozambique",
          "Namibia",
          "Niger",
          "Nigeria",
          "Rwanda",
          "Sao Tome & Principe",
          "Senegal",
          "Seychelles",
          "Sierra Leone",
          "Somalia",
          "South Africa",
          "South Sudan",
          "Sudan",
          "Tanzania (United Republic of)",
          "Togo",
          "Tunisia",
          "Uganda",
          "Zambia",
          "Zimbabwe"
         ],
         "xaxis": "x",
         "y": [
          0.0163644,
          0.00017490000000000002,
          0.0236623,
          0.3165317,
          0.0053872,
          0.0049284,
          0.059979899999999996,
          0,
          0,
          0.000572,
          0.0062927,
          0,
          0.389805,
          0.0025991,
          0,
          0.0377399,
          0,
          0,
          0.4343224,
          0.0539034,
          0,
          0,
          0.2672469,
          0,
          0,
          0.1927077,
          0,
          0,
          0.0150852,
          0.0037254,
          0.14848,
          0,
          0,
          5.553447,
          0.1288902,
          0.0222808,
          0.365989,
          0,
          0.0012314,
          0.059748300000000004,
          0,
          0.12414860000000001,
          2.090855,
          0.00045069999999999995,
          0,
          1.637748,
          0,
          0.024221299999999998,
          0.11592169999999999,
          0.0110702,
          0.2738932,
          0.2033951,
          0.15501779999999998,
          0.24069459999999998
         ],
         "yaxis": "y"
        },
        {
         "alignmentgroup": "True",
         "customdata": [
          [
           "Antigua & Barbuda",
           0
          ],
          [
           "Argentina",
           1.432941
          ],
          [
           "Bahamas",
           1.567289
          ],
          [
           "Barbados",
           3.118456
          ],
          [
           "Belize",
           0.43306120000000004
          ],
          [
           "Bolivia (Plurinational State of)",
           0.0302957
          ],
          [
           "Brazil",
           0.5662716999999999
          ],
          [
           "Canada",
           33.26712
          ],
          [
           "Chile",
           1.253718
          ],
          [
           "Colombia",
           0.7657834
          ],
          [
           "Costa Rica",
           0.6788349
          ],
          [
           "Cuba",
           0.2213842
          ],
          [
           "Dominica",
           0.6788288
          ],
          [
           "Dominican Republic",
           0.1021715
          ],
          [
           "Ecuador",
           0.0859196
          ],
          [
           "El Salvador",
           0.4480746
          ],
          [
           "Grenada",
           0
          ],
          [
           "Guatemala",
           0.1856345
          ],
          [
           "Guyana",
           1.021631
          ],
          [
           "Haiti",
           0.0027649000000000003
          ],
          [
           "Honduras",
           0.0733806
          ],
          [
           "Jamaica",
           0.7240865
          ],
          [
           "Mexico",
           0.0708617
          ],
          [
           "Nicaragua",
           0.0677404
          ],
          [
           "Panama",
           0.3180397
          ],
          [
           "Paraguay",
           0
          ],
          [
           "Peru",
           0.22706679999999996
          ],
          [
           "Saint Kitts & Nevis",
           0
          ],
          [
           "Saint Lucia",
           0
          ],
          [
           "Saint Vincent & the Grenadines",
           0.5833567
          ],
          [
           "Suriname",
           0.0292617
          ],
          [
           "Trinidad & Tobago",
           1.108702
          ],
          [
           "USA",
           39.7854
          ],
          [
           "Uruguay",
           0.7419043000000001
          ],
          [
           "Venezuela (Bolivarian Rep. of)",
           0.012923400000000002
          ]
         ],
         "hovertemplate": "Region2=America<br>=%{customdata[0]}<br>Annual mean consumption of opioids<br>(kg per 100,000 population)=%{customdata[1]}<extra></extra>",
         "legendgroup": "America",
         "marker": {
          "color": "#ab63fa"
         },
         "name": "America",
         "offsetgroup": "America",
         "orientation": "v",
         "showlegend": true,
         "textposition": "auto",
         "type": "bar",
         "x": [
          "Antigua & Barbuda",
          "Argentina",
          "Bahamas",
          "Barbados",
          "Belize",
          "Bolivia (Plurinational State of)",
          "Brazil",
          "Canada",
          "Chile",
          "Colombia",
          "Costa Rica",
          "Cuba",
          "Dominica",
          "Dominican Republic",
          "Ecuador",
          "El Salvador",
          "Grenada",
          "Guatemala",
          "Guyana",
          "Haiti",
          "Honduras",
          "Jamaica",
          "Mexico",
          "Nicaragua",
          "Panama",
          "Paraguay",
          "Peru",
          "Saint Kitts & Nevis",
          "Saint Lucia",
          "Saint Vincent & the Grenadines",
          "Suriname",
          "Trinidad & Tobago",
          "USA",
          "Uruguay",
          "Venezuela (Bolivarian Rep. of)"
         ],
         "xaxis": "x",
         "y": [
          0,
          1.432941,
          1.567289,
          3.118456,
          0.43306120000000004,
          0.0302957,
          0.5662716999999999,
          33.26712,
          1.253718,
          0.7657834,
          0.6788349,
          0.2213842,
          0.6788288,
          0.1021715,
          0.0859196,
          0.4480746,
          0,
          0.1856345,
          1.021631,
          0.0027649000000000003,
          0.0733806,
          0.7240865,
          0.0708617,
          0.0677404,
          0.3180397,
          0,
          0.22706679999999996,
          0,
          0,
          0.5833567,
          0.0292617,
          1.108702,
          39.7854,
          0.7419043000000001,
          0.012923400000000002
         ],
         "yaxis": "y"
        },
        {
         "alignmentgroup": "True",
         "customdata": [
          [
           "Australia",
           18.78293
          ],
          [
           "Cook Islands",
           0.5607843000000001
          ],
          [
           "Fiji",
           0.3277345
          ],
          [
           "Kiribati",
           0.028830400000000003
          ],
          [
           "Marshall Islands",
           0
          ],
          [
           "Micronesia (Federated States of)",
           0.23113649999999997
          ],
          [
           "Nauru",
           0
          ],
          [
           "New Zealand",
           14.93406
          ],
          [
           "Niue",
           0.60005
          ],
          [
           "Palau",
           1.553036
          ],
          [
           "Papua New Guinea",
           0.17817360000000002
          ],
          [
           "Samoa",
           0
          ],
          [
           "Solomon Islands",
           0.0909627
          ],
          [
           "Tonga",
           0.4003383
          ],
          [
           "Tuvalu",
           0.2030303
          ],
          [
           "Vanuatu",
           0
          ]
         ],
         "hovertemplate": "Region2=Oceania<br>=%{customdata[0]}<br>Annual mean consumption of opioids<br>(kg per 100,000 population)=%{customdata[1]}<extra></extra>",
         "legendgroup": "Oceania",
         "marker": {
          "color": "#FFA15A"
         },
         "name": "Oceania",
         "offsetgroup": "Oceania",
         "orientation": "v",
         "showlegend": true,
         "textposition": "auto",
         "type": "bar",
         "x": [
          "Australia",
          "Cook Islands",
          "Fiji",
          "Kiribati",
          "Marshall Islands",
          "Micronesia (Federated States of)",
          "Nauru",
          "New Zealand",
          "Niue",
          "Palau",
          "Papua New Guinea",
          "Samoa",
          "Solomon Islands",
          "Tonga",
          "Tuvalu",
          "Vanuatu"
         ],
         "xaxis": "x",
         "y": [
          18.78293,
          0.5607843000000001,
          0.3277345,
          0.028830400000000003,
          0,
          0.23113649999999997,
          0,
          14.93406,
          0.60005,
          1.553036,
          0.17817360000000002,
          0,
          0.0909627,
          0.4003383,
          0.2030303,
          0
         ],
         "yaxis": "y"
        }
       ],
       "layout": {
        "barmode": "relative",
        "font": {
         "size": 10
        },
        "legend": {
         "title": {
          "text": "Region2"
         },
         "tracegroupgap": 0
        },
        "margin": {
         "t": 60
        },
        "template": {
         "data": {
          "bar": [
           {
            "error_x": {
             "color": "#2a3f5f"
            },
            "error_y": {
             "color": "#2a3f5f"
            },
            "marker": {
             "line": {
              "color": "#E5ECF6",
              "width": 0.5
             }
            },
            "type": "bar"
           }
          ],
          "barpolar": [
           {
            "marker": {
             "line": {
              "color": "#E5ECF6",
              "width": 0.5
             }
            },
            "type": "barpolar"
           }
          ],
          "carpet": [
           {
            "aaxis": {
             "endlinecolor": "#2a3f5f",
             "gridcolor": "white",
             "linecolor": "white",
             "minorgridcolor": "white",
             "startlinecolor": "#2a3f5f"
            },
            "baxis": {
             "endlinecolor": "#2a3f5f",
             "gridcolor": "white",
             "linecolor": "white",
             "minorgridcolor": "white",
             "startlinecolor": "#2a3f5f"
            },
            "type": "carpet"
           }
          ],
          "choropleth": [
           {
            "colorbar": {
             "outlinewidth": 0,
             "ticks": ""
            },
            "type": "choropleth"
           }
          ],
          "contour": [
           {
            "colorbar": {
             "outlinewidth": 0,
             "ticks": ""
            },
            "colorscale": [
             [
              0,
              "#0d0887"
             ],
             [
              0.1111111111111111,
              "#46039f"
             ],
             [
              0.2222222222222222,
              "#7201a8"
             ],
             [
              0.3333333333333333,
              "#9c179e"
             ],
             [
              0.4444444444444444,
              "#bd3786"
             ],
             [
              0.5555555555555556,
              "#d8576b"
             ],
             [
              0.6666666666666666,
              "#ed7953"
             ],
             [
              0.7777777777777778,
              "#fb9f3a"
             ],
             [
              0.8888888888888888,
              "#fdca26"
             ],
             [
              1,
              "#f0f921"
             ]
            ],
            "type": "contour"
           }
          ],
          "contourcarpet": [
           {
            "colorbar": {
             "outlinewidth": 0,
             "ticks": ""
            },
            "type": "contourcarpet"
           }
          ],
          "heatmap": [
           {
            "colorbar": {
             "outlinewidth": 0,
             "ticks": ""
            },
            "colorscale": [
             [
              0,
              "#0d0887"
             ],
             [
              0.1111111111111111,
              "#46039f"
             ],
             [
              0.2222222222222222,
              "#7201a8"
             ],
             [
              0.3333333333333333,
              "#9c179e"
             ],
             [
              0.4444444444444444,
              "#bd3786"
             ],
             [
              0.5555555555555556,
              "#d8576b"
             ],
             [
              0.6666666666666666,
              "#ed7953"
             ],
             [
              0.7777777777777778,
              "#fb9f3a"
             ],
             [
              0.8888888888888888,
              "#fdca26"
             ],
             [
              1,
              "#f0f921"
             ]
            ],
            "type": "heatmap"
           }
          ],
          "heatmapgl": [
           {
            "colorbar": {
             "outlinewidth": 0,
             "ticks": ""
            },
            "colorscale": [
             [
              0,
              "#0d0887"
             ],
             [
              0.1111111111111111,
              "#46039f"
             ],
             [
              0.2222222222222222,
              "#7201a8"
             ],
             [
              0.3333333333333333,
              "#9c179e"
             ],
             [
              0.4444444444444444,
              "#bd3786"
             ],
             [
              0.5555555555555556,
              "#d8576b"
             ],
             [
              0.6666666666666666,
              "#ed7953"
             ],
             [
              0.7777777777777778,
              "#fb9f3a"
             ],
             [
              0.8888888888888888,
              "#fdca26"
             ],
             [
              1,
              "#f0f921"
             ]
            ],
            "type": "heatmapgl"
           }
          ],
          "histogram": [
           {
            "marker": {
             "colorbar": {
              "outlinewidth": 0,
              "ticks": ""
             }
            },
            "type": "histogram"
           }
          ],
          "histogram2d": [
           {
            "colorbar": {
             "outlinewidth": 0,
             "ticks": ""
            },
            "colorscale": [
             [
              0,
              "#0d0887"
             ],
             [
              0.1111111111111111,
              "#46039f"
             ],
             [
              0.2222222222222222,
              "#7201a8"
             ],
             [
              0.3333333333333333,
              "#9c179e"
             ],
             [
              0.4444444444444444,
              "#bd3786"
             ],
             [
              0.5555555555555556,
              "#d8576b"
             ],
             [
              0.6666666666666666,
              "#ed7953"
             ],
             [
              0.7777777777777778,
              "#fb9f3a"
             ],
             [
              0.8888888888888888,
              "#fdca26"
             ],
             [
              1,
              "#f0f921"
             ]
            ],
            "type": "histogram2d"
           }
          ],
          "histogram2dcontour": [
           {
            "colorbar": {
             "outlinewidth": 0,
             "ticks": ""
            },
            "colorscale": [
             [
              0,
              "#0d0887"
             ],
             [
              0.1111111111111111,
              "#46039f"
             ],
             [
              0.2222222222222222,
              "#7201a8"
             ],
             [
              0.3333333333333333,
              "#9c179e"
             ],
             [
              0.4444444444444444,
              "#bd3786"
             ],
             [
              0.5555555555555556,
              "#d8576b"
             ],
             [
              0.6666666666666666,
              "#ed7953"
             ],
             [
              0.7777777777777778,
              "#fb9f3a"
             ],
             [
              0.8888888888888888,
              "#fdca26"
             ],
             [
              1,
              "#f0f921"
             ]
            ],
            "type": "histogram2dcontour"
           }
          ],
          "mesh3d": [
           {
            "colorbar": {
             "outlinewidth": 0,
             "ticks": ""
            },
            "type": "mesh3d"
           }
          ],
          "parcoords": [
           {
            "line": {
             "colorbar": {
              "outlinewidth": 0,
              "ticks": ""
             }
            },
            "type": "parcoords"
           }
          ],
          "pie": [
           {
            "automargin": true,
            "type": "pie"
           }
          ],
          "scatter": [
           {
            "marker": {
             "colorbar": {
              "outlinewidth": 0,
              "ticks": ""
             }
            },
            "type": "scatter"
           }
          ],
          "scatter3d": [
           {
            "line": {
             "colorbar": {
              "outlinewidth": 0,
              "ticks": ""
             }
            },
            "marker": {
             "colorbar": {
              "outlinewidth": 0,
              "ticks": ""
             }
            },
            "type": "scatter3d"
           }
          ],
          "scattercarpet": [
           {
            "marker": {
             "colorbar": {
              "outlinewidth": 0,
              "ticks": ""
             }
            },
            "type": "scattercarpet"
           }
          ],
          "scattergeo": [
           {
            "marker": {
             "colorbar": {
              "outlinewidth": 0,
              "ticks": ""
             }
            },
            "type": "scattergeo"
           }
          ],
          "scattergl": [
           {
            "marker": {
             "colorbar": {
              "outlinewidth": 0,
              "ticks": ""
             }
            },
            "type": "scattergl"
           }
          ],
          "scattermapbox": [
           {
            "marker": {
             "colorbar": {
              "outlinewidth": 0,
              "ticks": ""
             }
            },
            "type": "scattermapbox"
           }
          ],
          "scatterpolar": [
           {
            "marker": {
             "colorbar": {
              "outlinewidth": 0,
              "ticks": ""
             }
            },
            "type": "scatterpolar"
           }
          ],
          "scatterpolargl": [
           {
            "marker": {
             "colorbar": {
              "outlinewidth": 0,
              "ticks": ""
             }
            },
            "type": "scatterpolargl"
           }
          ],
          "scatterternary": [
           {
            "marker": {
             "colorbar": {
              "outlinewidth": 0,
              "ticks": ""
             }
            },
            "type": "scatterternary"
           }
          ],
          "surface": [
           {
            "colorbar": {
             "outlinewidth": 0,
             "ticks": ""
            },
            "colorscale": [
             [
              0,
              "#0d0887"
             ],
             [
              0.1111111111111111,
              "#46039f"
             ],
             [
              0.2222222222222222,
              "#7201a8"
             ],
             [
              0.3333333333333333,
              "#9c179e"
             ],
             [
              0.4444444444444444,
              "#bd3786"
             ],
             [
              0.5555555555555556,
              "#d8576b"
             ],
             [
              0.6666666666666666,
              "#ed7953"
             ],
             [
              0.7777777777777778,
              "#fb9f3a"
             ],
             [
              0.8888888888888888,
              "#fdca26"
             ],
             [
              1,
              "#f0f921"
             ]
            ],
            "type": "surface"
           }
          ],
          "table": [
           {
            "cells": {
             "fill": {
              "color": "#EBF0F8"
             },
             "line": {
              "color": "white"
             }
            },
            "header": {
             "fill": {
              "color": "#C8D4E3"
             },
             "line": {
              "color": "white"
             }
            },
            "type": "table"
           }
          ]
         },
         "layout": {
          "annotationdefaults": {
           "arrowcolor": "#2a3f5f",
           "arrowhead": 0,
           "arrowwidth": 1
          },
          "coloraxis": {
           "colorbar": {
            "outlinewidth": 0,
            "ticks": ""
           }
          },
          "colorscale": {
           "diverging": [
            [
             0,
             "#8e0152"
            ],
            [
             0.1,
             "#c51b7d"
            ],
            [
             0.2,
             "#de77ae"
            ],
            [
             0.3,
             "#f1b6da"
            ],
            [
             0.4,
             "#fde0ef"
            ],
            [
             0.5,
             "#f7f7f7"
            ],
            [
             0.6,
             "#e6f5d0"
            ],
            [
             0.7,
             "#b8e186"
            ],
            [
             0.8,
             "#7fbc41"
            ],
            [
             0.9,
             "#4d9221"
            ],
            [
             1,
             "#276419"
            ]
           ],
           "sequential": [
            [
             0,
             "#0d0887"
            ],
            [
             0.1111111111111111,
             "#46039f"
            ],
            [
             0.2222222222222222,
             "#7201a8"
            ],
            [
             0.3333333333333333,
             "#9c179e"
            ],
            [
             0.4444444444444444,
             "#bd3786"
            ],
            [
             0.5555555555555556,
             "#d8576b"
            ],
            [
             0.6666666666666666,
             "#ed7953"
            ],
            [
             0.7777777777777778,
             "#fb9f3a"
            ],
            [
             0.8888888888888888,
             "#fdca26"
            ],
            [
             1,
             "#f0f921"
            ]
           ],
           "sequentialminus": [
            [
             0,
             "#0d0887"
            ],
            [
             0.1111111111111111,
             "#46039f"
            ],
            [
             0.2222222222222222,
             "#7201a8"
            ],
            [
             0.3333333333333333,
             "#9c179e"
            ],
            [
             0.4444444444444444,
             "#bd3786"
            ],
            [
             0.5555555555555556,
             "#d8576b"
            ],
            [
             0.6666666666666666,
             "#ed7953"
            ],
            [
             0.7777777777777778,
             "#fb9f3a"
            ],
            [
             0.8888888888888888,
             "#fdca26"
            ],
            [
             1,
             "#f0f921"
            ]
           ]
          },
          "colorway": [
           "#636efa",
           "#EF553B",
           "#00cc96",
           "#ab63fa",
           "#FFA15A",
           "#19d3f3",
           "#FF6692",
           "#B6E880",
           "#FF97FF",
           "#FECB52"
          ],
          "font": {
           "color": "#2a3f5f"
          },
          "geo": {
           "bgcolor": "white",
           "lakecolor": "white",
           "landcolor": "#E5ECF6",
           "showlakes": true,
           "showland": true,
           "subunitcolor": "white"
          },
          "hoverlabel": {
           "align": "left"
          },
          "hovermode": "closest",
          "mapbox": {
           "style": "light"
          },
          "paper_bgcolor": "white",
          "plot_bgcolor": "#E5ECF6",
          "polar": {
           "angularaxis": {
            "gridcolor": "white",
            "linecolor": "white",
            "ticks": ""
           },
           "bgcolor": "#E5ECF6",
           "radialaxis": {
            "gridcolor": "white",
            "linecolor": "white",
            "ticks": ""
           }
          },
          "scene": {
           "xaxis": {
            "backgroundcolor": "#E5ECF6",
            "gridcolor": "white",
            "gridwidth": 2,
            "linecolor": "white",
            "showbackground": true,
            "ticks": "",
            "zerolinecolor": "white"
           },
           "yaxis": {
            "backgroundcolor": "#E5ECF6",
            "gridcolor": "white",
            "gridwidth": 2,
            "linecolor": "white",
            "showbackground": true,
            "ticks": "",
            "zerolinecolor": "white"
           },
           "zaxis": {
            "backgroundcolor": "#E5ECF6",
            "gridcolor": "white",
            "gridwidth": 2,
            "linecolor": "white",
            "showbackground": true,
            "ticks": "",
            "zerolinecolor": "white"
           }
          },
          "shapedefaults": {
           "line": {
            "color": "#2a3f5f"
           }
          },
          "ternary": {
           "aaxis": {
            "gridcolor": "white",
            "linecolor": "white",
            "ticks": ""
           },
           "baxis": {
            "gridcolor": "white",
            "linecolor": "white",
            "ticks": ""
           },
           "bgcolor": "#E5ECF6",
           "caxis": {
            "gridcolor": "white",
            "linecolor": "white",
            "ticks": ""
           }
          },
          "title": {
           "x": 0.05
          },
          "xaxis": {
           "automargin": true,
           "gridcolor": "white",
           "linecolor": "white",
           "ticks": "",
           "title": {
            "standoff": 15
           },
           "zerolinecolor": "white",
           "zerolinewidth": 2
          },
          "yaxis": {
           "automargin": true,
           "gridcolor": "white",
           "linecolor": "white",
           "ticks": "",
           "title": {
            "standoff": 15
           },
           "zerolinecolor": "white",
           "zerolinewidth": 2
          }
         }
        },
        "xaxis": {
         "anchor": "y",
         "categoryorder": "total descending",
         "domain": [
          0,
          1
         ],
         "tickangle": -45,
         "title": {
          "text": ""
         }
        },
        "yaxis": {
         "anchor": "x",
         "domain": [
          0,
          1
         ],
         "showgrid": false,
         "title": {
          "text": "Annual mean consumption of opioids<br>(kg per 100,000 population)"
         }
        }
       }
      },
      "text/html": [
       "<div>\n",
       "        \n",
       "        \n",
       "            <div id=\"f5b16deb-2cf0-4783-b605-6e523b803f99\" class=\"plotly-graph-div\" style=\"height:525px; width:100%;\"></div>\n",
       "            <script type=\"text/javascript\">\n",
       "                require([\"plotly\"], function(Plotly) {\n",
       "                    window.PLOTLYENV=window.PLOTLYENV || {};\n",
       "                    \n",
       "                if (document.getElementById(\"f5b16deb-2cf0-4783-b605-6e523b803f99\")) {\n",
       "                    Plotly.newPlot(\n",
       "                        'f5b16deb-2cf0-4783-b605-6e523b803f99',\n",
       "                        [{\"alignmentgroup\": \"True\", \"customdata\": [[\"Afghanistan\", 0.055548900000000005], [\"Armenia\", 0.3636012], [\"Azerbaijan\", 0.0734567], [\"Bahrain\", 1.205541], [\"Bangladesh\", 0.08255499999999999], [\"Bhutan\", 0.0246868], [\"Brunei Darussalam\", 0.3638741], [\"Cambodia\", 0.0], [\"China\", 0.3852545], [\"Democratic People's Republic of Korea\", 0.44754099999999997], [\"Georgia\", 1.478999], [\"India\", 0.05271169999999999], [\"Indonesia\", 0.07077649999999999], [\"Iran (Islamic Republic of)\", 0.3325181], [\"Iraq\", 0.0], [\"Israel\", 9.150239], [\"Japan\", 1.08171], [\"Jordan\", 0.397999], [\"Kazakhstan\", 0.1308873], [\"Kuwait\", 0.3430114], [\"Kyrgyzstan\", 0.5936095], [\"Lao People's Democratic Republic\", 0.045688099999999995], [\"Lebanon\", 0.41225839999999997], [\"Malaysia\", 1.6406830000000001], [\"Maldives\", 0.07633739999999999], [\"Mongolia\", 0.31342359999999997], [\"Myanmar\", 1.4821360000000001], [\"Nepal\", 0.0520576], [\"Oman\", 1.9291599999999998], [\"Pakistan\", 0.0033466999999999998], [\"Philippines\", 0.0360427], [\"Qatar\", 0.1612998], [\"Republic of Korea\", 1.963555], [\"Saudi Arabia\", 0.6358550000000001], [\"Singapore\", 0.3144587], [\"Sri Lanka\", 0.6002957], [\"Syrian Arab Republic\", 0.1642055], [\"Tajikistan\", 0.0113413], [\"Thailand\", 0.32214590000000004], [\"Timor-Leste\", 0.47463320000000003], [\"Turkey\", 0.3322697], [\"Turkmenistan\", 0.030973], [\"United Arab Emirates\", 0.1534026], [\"Uzbekistan\", 0.0324881], [\"Viet Nam\", 1.7481240000000002], [\"Yemen\", 0.0]], \"hovertemplate\": \"Region2=Asia<br>=%{customdata[0]}<br>Annual mean consumption of opioids<br>(kg per 100,000 population)=%{customdata[1]}<extra></extra>\", \"legendgroup\": \"Asia\", \"marker\": {\"color\": \"#636efa\"}, \"name\": \"Asia\", \"offsetgroup\": \"Asia\", \"orientation\": \"v\", \"showlegend\": true, \"textposition\": \"auto\", \"type\": \"bar\", \"x\": [\"Afghanistan\", \"Armenia\", \"Azerbaijan\", \"Bahrain\", \"Bangladesh\", \"Bhutan\", \"Brunei Darussalam\", \"Cambodia\", \"China\", \"Democratic People's Republic of Korea\", \"Georgia\", \"India\", \"Indonesia\", \"Iran (Islamic Republic of)\", \"Iraq\", \"Israel\", \"Japan\", \"Jordan\", \"Kazakhstan\", \"Kuwait\", \"Kyrgyzstan\", \"Lao People's Democratic Republic\", \"Lebanon\", \"Malaysia\", \"Maldives\", \"Mongolia\", \"Myanmar\", \"Nepal\", \"Oman\", \"Pakistan\", \"Philippines\", \"Qatar\", \"Republic of Korea\", \"Saudi Arabia\", \"Singapore\", \"Sri Lanka\", \"Syrian Arab Republic\", \"Tajikistan\", \"Thailand\", \"Timor-Leste\", \"Turkey\", \"Turkmenistan\", \"United Arab Emirates\", \"Uzbekistan\", \"Viet Nam\", \"Yemen\"], \"xaxis\": \"x\", \"y\": [0.055548900000000005, 0.3636012, 0.0734567, 1.205541, 0.08255499999999999, 0.0246868, 0.3638741, 0.0, 0.3852545, 0.44754099999999997, 1.478999, 0.05271169999999999, 0.07077649999999999, 0.3325181, 0.0, 9.150239, 1.08171, 0.397999, 0.1308873, 0.3430114, 0.5936095, 0.045688099999999995, 0.41225839999999997, 1.6406830000000001, 0.07633739999999999, 0.31342359999999997, 1.4821360000000001, 0.0520576, 1.9291599999999998, 0.0033466999999999998, 0.0360427, 0.1612998, 1.963555, 0.6358550000000001, 0.3144587, 0.6002957, 0.1642055, 0.0113413, 0.32214590000000004, 0.47463320000000003, 0.3322697, 0.030973, 0.1534026, 0.0324881, 1.7481240000000002, 0.0], \"yaxis\": \"y\"}, {\"alignmentgroup\": \"True\", \"customdata\": [[\"Albania\", 0.5056594], [\"Andorra\", 1.74537], [\"Austria\", 25.10115], [\"Belarus\", 0.4851543], [\"Belgium\", 22.28791], [\"Bosnia & Herzegovina\", 0.3920785], [\"Bulgaria\", 2.553382], [\"Croatia\", 1.478524], [\"Cyprus\", 2.5440419999999997], [\"Czechia\", 2.158196], [\"Denmark\", 19.66481], [\"Estonia\", 2.6066409999999998], [\"Finland\", 6.183696], [\"France\", 7.081598], [\"Germany\", 48.02765], [\"Greece\", 0.8267286], [\"Hungary\", 0.9950699000000001], [\"Iceland\", 42.84424], [\"Ireland\", 11.997630000000001], [\"Italy\", 5.5174], [\"Latvia\", 1.152083], [\"Liechtenstein\", null], [\"Lithuania\", 1.001343], [\"Luxembourg\", 11.54363], [\"Malta\", 4.214658], [\"Moldova (the Republic of)\", 0.5536939000000001], [\"Monaco\", null], [\"Montenegro\", 0.5658736], [\"Netherlands\", 8.239208], [\"North Macedonia\", 2.607637], [\"Norway\", 11.0801], [\"Poland\", 1.7593900000000002], [\"Portugal\", 1.793094], [\"Romania\", 1.045929], [\"Russian Federation\", 0.18117139999999998], [\"San Marino\", null], [\"Serbia\", 0.9930191999999999], [\"Slovakia\", 1.4229180000000001], [\"Slovenia\", 6.445069], [\"Spain\", 5.088083], [\"Sweden\", 9.792585], [\"Switzerland\", 20.18465], [\"UK\", 12.424619999999999], [\"Ukraine\", 1.025336]], \"hovertemplate\": \"Region2=Europe<br>=%{customdata[0]}<br>Annual mean consumption of opioids<br>(kg per 100,000 population)=%{customdata[1]}<extra></extra>\", \"legendgroup\": \"Europe\", \"marker\": {\"color\": \"#EF553B\"}, \"name\": \"Europe\", \"offsetgroup\": \"Europe\", \"orientation\": \"v\", \"showlegend\": true, \"textposition\": \"auto\", \"type\": \"bar\", \"x\": [\"Albania\", \"Andorra\", \"Austria\", \"Belarus\", \"Belgium\", \"Bosnia & Herzegovina\", \"Bulgaria\", \"Croatia\", \"Cyprus\", \"Czechia\", \"Denmark\", \"Estonia\", \"Finland\", \"France\", \"Germany\", \"Greece\", \"Hungary\", \"Iceland\", \"Ireland\", \"Italy\", \"Latvia\", \"Liechtenstein\", \"Lithuania\", \"Luxembourg\", \"Malta\", \"Moldova (the Republic of)\", \"Monaco\", \"Montenegro\", \"Netherlands\", \"North Macedonia\", \"Norway\", \"Poland\", \"Portugal\", \"Romania\", \"Russian Federation\", \"San Marino\", \"Serbia\", \"Slovakia\", \"Slovenia\", \"Spain\", \"Sweden\", \"Switzerland\", \"UK\", \"Ukraine\"], \"xaxis\": \"x\", \"y\": [0.5056594, 1.74537, 25.10115, 0.4851543, 22.28791, 0.3920785, 2.553382, 1.478524, 2.5440419999999997, 2.158196, 19.66481, 2.6066409999999998, 6.183696, 7.081598, 48.02765, 0.8267286, 0.9950699000000001, 42.84424, 11.997630000000001, 5.5174, 1.152083, null, 1.001343, 11.54363, 4.214658, 0.5536939000000001, null, 0.5658736, 8.239208, 2.607637, 11.0801, 1.7593900000000002, 1.793094, 1.045929, 0.18117139999999998, null, 0.9930191999999999, 1.4229180000000001, 6.445069, 5.088083, 9.792585, 20.18465, 12.424619999999999, 1.025336], \"yaxis\": \"y\"}, {\"alignmentgroup\": \"True\", \"customdata\": [[\"Algeria\", 0.0163644], [\"Angola\", 0.00017490000000000002], [\"Benin\", 0.0236623], [\"Botswana\", 0.3165317], [\"Burkina Faso\", 0.0053872], [\"Burundi\", 0.0049284], [\"Cabo Verde\", 0.059979899999999996], [\"Cameroon\", 0.0], [\"Central African Republic\", 0.0], [\"Chad\", 0.000572], [\"Comoros\", 0.0062927], [\"Congo\", 0.0], [\"C\\u00f4te d'Ivoire\", 0.389805], [\"Democratic Republic of the Congo\", 0.0025991], [\"Djibouti\", 0.0], [\"Egypt\", 0.0377399], [\"Equatorial Guinea\", 0.0], [\"Eritrea\", 0.0], [\"Eswatini\", 0.4343224], [\"Ethiopia\", 0.0539034], [\"Gabon\", 0.0], [\"Gambia\", 0.0], [\"Ghana\", 0.2672469], [\"Guinea\", 0.0], [\"Guinea-Bissau\", 0.0], [\"Kenya\", 0.1927077], [\"Lesotho\", 0.0], [\"Liberia\", 0.0], [\"Libya\", 0.0150852], [\"Madagascar\", 0.0037254], [\"Malawi\", 0.14848], [\"Mali\", 0.0], [\"Mauritania\", 0.0], [\"Mauritius\", 5.553447], [\"Morocco\", 0.1288902], [\"Mozambique\", 0.0222808], [\"Namibia\", 0.365989], [\"Niger\", 0.0], [\"Nigeria\", 0.0012314], [\"Rwanda\", 0.059748300000000004], [\"Sao Tome & Principe\", 0.0], [\"Senegal\", 0.12414860000000001], [\"Seychelles\", 2.090855], [\"Sierra Leone\", 0.00045069999999999995], [\"Somalia\", 0.0], [\"South Africa\", 1.637748], [\"South Sudan\", 0.0], [\"Sudan\", 0.024221299999999998], [\"Tanzania (United Republic of)\", 0.11592169999999999], [\"Togo\", 0.0110702], [\"Tunisia\", 0.2738932], [\"Uganda\", 0.2033951], [\"Zambia\", 0.15501779999999998], [\"Zimbabwe\", 0.24069459999999998]], \"hovertemplate\": \"Region2=Africa<br>=%{customdata[0]}<br>Annual mean consumption of opioids<br>(kg per 100,000 population)=%{customdata[1]}<extra></extra>\", \"legendgroup\": \"Africa\", \"marker\": {\"color\": \"#00cc96\"}, \"name\": \"Africa\", \"offsetgroup\": \"Africa\", \"orientation\": \"v\", \"showlegend\": true, \"textposition\": \"auto\", \"type\": \"bar\", \"x\": [\"Algeria\", \"Angola\", \"Benin\", \"Botswana\", \"Burkina Faso\", \"Burundi\", \"Cabo Verde\", \"Cameroon\", \"Central African Republic\", \"Chad\", \"Comoros\", \"Congo\", \"C\\u00f4te d'Ivoire\", \"Democratic Republic of the Congo\", \"Djibouti\", \"Egypt\", \"Equatorial Guinea\", \"Eritrea\", \"Eswatini\", \"Ethiopia\", \"Gabon\", \"Gambia\", \"Ghana\", \"Guinea\", \"Guinea-Bissau\", \"Kenya\", \"Lesotho\", \"Liberia\", \"Libya\", \"Madagascar\", \"Malawi\", \"Mali\", \"Mauritania\", \"Mauritius\", \"Morocco\", \"Mozambique\", \"Namibia\", \"Niger\", \"Nigeria\", \"Rwanda\", \"Sao Tome & Principe\", \"Senegal\", \"Seychelles\", \"Sierra Leone\", \"Somalia\", \"South Africa\", \"South Sudan\", \"Sudan\", \"Tanzania (United Republic of)\", \"Togo\", \"Tunisia\", \"Uganda\", \"Zambia\", \"Zimbabwe\"], \"xaxis\": \"x\", \"y\": [0.0163644, 0.00017490000000000002, 0.0236623, 0.3165317, 0.0053872, 0.0049284, 0.059979899999999996, 0.0, 0.0, 0.000572, 0.0062927, 0.0, 0.389805, 0.0025991, 0.0, 0.0377399, 0.0, 0.0, 0.4343224, 0.0539034, 0.0, 0.0, 0.2672469, 0.0, 0.0, 0.1927077, 0.0, 0.0, 0.0150852, 0.0037254, 0.14848, 0.0, 0.0, 5.553447, 0.1288902, 0.0222808, 0.365989, 0.0, 0.0012314, 0.059748300000000004, 0.0, 0.12414860000000001, 2.090855, 0.00045069999999999995, 0.0, 1.637748, 0.0, 0.024221299999999998, 0.11592169999999999, 0.0110702, 0.2738932, 0.2033951, 0.15501779999999998, 0.24069459999999998], \"yaxis\": \"y\"}, {\"alignmentgroup\": \"True\", \"customdata\": [[\"Antigua & Barbuda\", 0.0], [\"Argentina\", 1.432941], [\"Bahamas\", 1.567289], [\"Barbados\", 3.118456], [\"Belize\", 0.43306120000000004], [\"Bolivia (Plurinational State of)\", 0.0302957], [\"Brazil\", 0.5662716999999999], [\"Canada\", 33.26712], [\"Chile\", 1.253718], [\"Colombia\", 0.7657834], [\"Costa Rica\", 0.6788349], [\"Cuba\", 0.2213842], [\"Dominica\", 0.6788288], [\"Dominican Republic\", 0.1021715], [\"Ecuador\", 0.0859196], [\"El Salvador\", 0.4480746], [\"Grenada\", 0.0], [\"Guatemala\", 0.1856345], [\"Guyana\", 1.021631], [\"Haiti\", 0.0027649000000000003], [\"Honduras\", 0.0733806], [\"Jamaica\", 0.7240865], [\"Mexico\", 0.0708617], [\"Nicaragua\", 0.0677404], [\"Panama\", 0.3180397], [\"Paraguay\", 0.0], [\"Peru\", 0.22706679999999996], [\"Saint Kitts & Nevis\", 0.0], [\"Saint Lucia\", 0.0], [\"Saint Vincent & the Grenadines\", 0.5833567], [\"Suriname\", 0.0292617], [\"Trinidad & Tobago\", 1.108702], [\"USA\", 39.7854], [\"Uruguay\", 0.7419043000000001], [\"Venezuela (Bolivarian Rep. of)\", 0.012923400000000002]], \"hovertemplate\": \"Region2=America<br>=%{customdata[0]}<br>Annual mean consumption of opioids<br>(kg per 100,000 population)=%{customdata[1]}<extra></extra>\", \"legendgroup\": \"America\", \"marker\": {\"color\": \"#ab63fa\"}, \"name\": \"America\", \"offsetgroup\": \"America\", \"orientation\": \"v\", \"showlegend\": true, \"textposition\": \"auto\", \"type\": \"bar\", \"x\": [\"Antigua & Barbuda\", \"Argentina\", \"Bahamas\", \"Barbados\", \"Belize\", \"Bolivia (Plurinational State of)\", \"Brazil\", \"Canada\", \"Chile\", \"Colombia\", \"Costa Rica\", \"Cuba\", \"Dominica\", \"Dominican Republic\", \"Ecuador\", \"El Salvador\", \"Grenada\", \"Guatemala\", \"Guyana\", \"Haiti\", \"Honduras\", \"Jamaica\", \"Mexico\", \"Nicaragua\", \"Panama\", \"Paraguay\", \"Peru\", \"Saint Kitts & Nevis\", \"Saint Lucia\", \"Saint Vincent & the Grenadines\", \"Suriname\", \"Trinidad & Tobago\", \"USA\", \"Uruguay\", \"Venezuela (Bolivarian Rep. of)\"], \"xaxis\": \"x\", \"y\": [0.0, 1.432941, 1.567289, 3.118456, 0.43306120000000004, 0.0302957, 0.5662716999999999, 33.26712, 1.253718, 0.7657834, 0.6788349, 0.2213842, 0.6788288, 0.1021715, 0.0859196, 0.4480746, 0.0, 0.1856345, 1.021631, 0.0027649000000000003, 0.0733806, 0.7240865, 0.0708617, 0.0677404, 0.3180397, 0.0, 0.22706679999999996, 0.0, 0.0, 0.5833567, 0.0292617, 1.108702, 39.7854, 0.7419043000000001, 0.012923400000000002], \"yaxis\": \"y\"}, {\"alignmentgroup\": \"True\", \"customdata\": [[\"Australia\", 18.78293], [\"Cook Islands\", 0.5607843000000001], [\"Fiji\", 0.3277345], [\"Kiribati\", 0.028830400000000003], [\"Marshall Islands\", 0.0], [\"Micronesia (Federated States of)\", 0.23113649999999997], [\"Nauru\", 0.0], [\"New Zealand\", 14.93406], [\"Niue\", 0.60005], [\"Palau\", 1.553036], [\"Papua New Guinea\", 0.17817360000000002], [\"Samoa\", 0.0], [\"Solomon Islands\", 0.0909627], [\"Tonga\", 0.4003383], [\"Tuvalu\", 0.2030303], [\"Vanuatu\", 0.0]], \"hovertemplate\": \"Region2=Oceania<br>=%{customdata[0]}<br>Annual mean consumption of opioids<br>(kg per 100,000 population)=%{customdata[1]}<extra></extra>\", \"legendgroup\": \"Oceania\", \"marker\": {\"color\": \"#FFA15A\"}, \"name\": \"Oceania\", \"offsetgroup\": \"Oceania\", \"orientation\": \"v\", \"showlegend\": true, \"textposition\": \"auto\", \"type\": \"bar\", \"x\": [\"Australia\", \"Cook Islands\", \"Fiji\", \"Kiribati\", \"Marshall Islands\", \"Micronesia (Federated States of)\", \"Nauru\", \"New Zealand\", \"Niue\", \"Palau\", \"Papua New Guinea\", \"Samoa\", \"Solomon Islands\", \"Tonga\", \"Tuvalu\", \"Vanuatu\"], \"xaxis\": \"x\", \"y\": [18.78293, 0.5607843000000001, 0.3277345, 0.028830400000000003, 0.0, 0.23113649999999997, 0.0, 14.93406, 0.60005, 1.553036, 0.17817360000000002, 0.0, 0.0909627, 0.4003383, 0.2030303, 0.0], \"yaxis\": \"y\"}],\n",
       "                        {\"barmode\": \"relative\", \"font\": {\"size\": 10}, \"legend\": {\"title\": {\"text\": \"Region2\"}, \"tracegroupgap\": 0}, \"margin\": {\"t\": 60}, \"template\": {\"data\": {\"bar\": [{\"error_x\": {\"color\": \"#2a3f5f\"}, \"error_y\": {\"color\": \"#2a3f5f\"}, \"marker\": {\"line\": {\"color\": \"#E5ECF6\", \"width\": 0.5}}, \"type\": \"bar\"}], \"barpolar\": [{\"marker\": {\"line\": {\"color\": \"#E5ECF6\", \"width\": 0.5}}, \"type\": \"barpolar\"}], \"carpet\": [{\"aaxis\": {\"endlinecolor\": \"#2a3f5f\", \"gridcolor\": \"white\", \"linecolor\": \"white\", \"minorgridcolor\": \"white\", \"startlinecolor\": \"#2a3f5f\"}, \"baxis\": {\"endlinecolor\": \"#2a3f5f\", \"gridcolor\": \"white\", \"linecolor\": \"white\", \"minorgridcolor\": \"white\", \"startlinecolor\": \"#2a3f5f\"}, \"type\": \"carpet\"}], \"choropleth\": [{\"colorbar\": {\"outlinewidth\": 0, \"ticks\": \"\"}, \"type\": \"choropleth\"}], \"contour\": [{\"colorbar\": {\"outlinewidth\": 0, \"ticks\": \"\"}, \"colorscale\": [[0.0, \"#0d0887\"], [0.1111111111111111, \"#46039f\"], [0.2222222222222222, \"#7201a8\"], [0.3333333333333333, \"#9c179e\"], [0.4444444444444444, \"#bd3786\"], [0.5555555555555556, \"#d8576b\"], [0.6666666666666666, \"#ed7953\"], [0.7777777777777778, \"#fb9f3a\"], [0.8888888888888888, \"#fdca26\"], [1.0, \"#f0f921\"]], \"type\": \"contour\"}], \"contourcarpet\": [{\"colorbar\": {\"outlinewidth\": 0, \"ticks\": \"\"}, \"type\": \"contourcarpet\"}], \"heatmap\": [{\"colorbar\": {\"outlinewidth\": 0, \"ticks\": \"\"}, \"colorscale\": [[0.0, \"#0d0887\"], [0.1111111111111111, \"#46039f\"], [0.2222222222222222, \"#7201a8\"], [0.3333333333333333, \"#9c179e\"], [0.4444444444444444, \"#bd3786\"], [0.5555555555555556, \"#d8576b\"], [0.6666666666666666, \"#ed7953\"], [0.7777777777777778, \"#fb9f3a\"], [0.8888888888888888, \"#fdca26\"], [1.0, \"#f0f921\"]], \"type\": \"heatmap\"}], \"heatmapgl\": [{\"colorbar\": {\"outlinewidth\": 0, \"ticks\": \"\"}, \"colorscale\": [[0.0, \"#0d0887\"], [0.1111111111111111, \"#46039f\"], [0.2222222222222222, \"#7201a8\"], [0.3333333333333333, \"#9c179e\"], [0.4444444444444444, \"#bd3786\"], [0.5555555555555556, \"#d8576b\"], [0.6666666666666666, \"#ed7953\"], [0.7777777777777778, \"#fb9f3a\"], [0.8888888888888888, \"#fdca26\"], [1.0, \"#f0f921\"]], \"type\": \"heatmapgl\"}], \"histogram\": [{\"marker\": {\"colorbar\": {\"outlinewidth\": 0, \"ticks\": \"\"}}, \"type\": \"histogram\"}], \"histogram2d\": [{\"colorbar\": {\"outlinewidth\": 0, \"ticks\": \"\"}, \"colorscale\": [[0.0, \"#0d0887\"], [0.1111111111111111, \"#46039f\"], [0.2222222222222222, \"#7201a8\"], [0.3333333333333333, \"#9c179e\"], [0.4444444444444444, \"#bd3786\"], [0.5555555555555556, \"#d8576b\"], [0.6666666666666666, \"#ed7953\"], [0.7777777777777778, \"#fb9f3a\"], [0.8888888888888888, \"#fdca26\"], [1.0, \"#f0f921\"]], \"type\": \"histogram2d\"}], \"histogram2dcontour\": [{\"colorbar\": {\"outlinewidth\": 0, \"ticks\": \"\"}, \"colorscale\": [[0.0, \"#0d0887\"], [0.1111111111111111, \"#46039f\"], [0.2222222222222222, \"#7201a8\"], [0.3333333333333333, \"#9c179e\"], [0.4444444444444444, \"#bd3786\"], [0.5555555555555556, \"#d8576b\"], [0.6666666666666666, \"#ed7953\"], [0.7777777777777778, \"#fb9f3a\"], [0.8888888888888888, \"#fdca26\"], [1.0, \"#f0f921\"]], \"type\": \"histogram2dcontour\"}], \"mesh3d\": [{\"colorbar\": {\"outlinewidth\": 0, \"ticks\": \"\"}, \"type\": \"mesh3d\"}], \"parcoords\": [{\"line\": {\"colorbar\": {\"outlinewidth\": 0, \"ticks\": \"\"}}, \"type\": \"parcoords\"}], \"pie\": [{\"automargin\": true, \"type\": \"pie\"}], \"scatter\": [{\"marker\": {\"colorbar\": {\"outlinewidth\": 0, \"ticks\": \"\"}}, \"type\": \"scatter\"}], \"scatter3d\": [{\"line\": {\"colorbar\": {\"outlinewidth\": 0, \"ticks\": \"\"}}, \"marker\": {\"colorbar\": {\"outlinewidth\": 0, \"ticks\": \"\"}}, \"type\": \"scatter3d\"}], \"scattercarpet\": [{\"marker\": {\"colorbar\": {\"outlinewidth\": 0, \"ticks\": \"\"}}, \"type\": \"scattercarpet\"}], \"scattergeo\": [{\"marker\": {\"colorbar\": {\"outlinewidth\": 0, \"ticks\": \"\"}}, \"type\": \"scattergeo\"}], \"scattergl\": [{\"marker\": {\"colorbar\": {\"outlinewidth\": 0, \"ticks\": \"\"}}, \"type\": \"scattergl\"}], \"scattermapbox\": [{\"marker\": {\"colorbar\": {\"outlinewidth\": 0, \"ticks\": \"\"}}, \"type\": \"scattermapbox\"}], \"scatterpolar\": [{\"marker\": {\"colorbar\": {\"outlinewidth\": 0, \"ticks\": \"\"}}, \"type\": \"scatterpolar\"}], \"scatterpolargl\": [{\"marker\": {\"colorbar\": {\"outlinewidth\": 0, \"ticks\": \"\"}}, \"type\": \"scatterpolargl\"}], \"scatterternary\": [{\"marker\": {\"colorbar\": {\"outlinewidth\": 0, \"ticks\": \"\"}}, \"type\": \"scatterternary\"}], \"surface\": [{\"colorbar\": {\"outlinewidth\": 0, \"ticks\": \"\"}, \"colorscale\": [[0.0, \"#0d0887\"], [0.1111111111111111, \"#46039f\"], [0.2222222222222222, \"#7201a8\"], [0.3333333333333333, \"#9c179e\"], [0.4444444444444444, \"#bd3786\"], [0.5555555555555556, \"#d8576b\"], [0.6666666666666666, \"#ed7953\"], [0.7777777777777778, \"#fb9f3a\"], [0.8888888888888888, \"#fdca26\"], [1.0, \"#f0f921\"]], \"type\": \"surface\"}], \"table\": [{\"cells\": {\"fill\": {\"color\": \"#EBF0F8\"}, \"line\": {\"color\": \"white\"}}, \"header\": {\"fill\": {\"color\": \"#C8D4E3\"}, \"line\": {\"color\": \"white\"}}, \"type\": \"table\"}]}, \"layout\": {\"annotationdefaults\": {\"arrowcolor\": \"#2a3f5f\", \"arrowhead\": 0, \"arrowwidth\": 1}, \"coloraxis\": {\"colorbar\": {\"outlinewidth\": 0, \"ticks\": \"\"}}, \"colorscale\": {\"diverging\": [[0, \"#8e0152\"], [0.1, \"#c51b7d\"], [0.2, \"#de77ae\"], [0.3, \"#f1b6da\"], [0.4, \"#fde0ef\"], [0.5, \"#f7f7f7\"], [0.6, \"#e6f5d0\"], [0.7, \"#b8e186\"], [0.8, \"#7fbc41\"], [0.9, \"#4d9221\"], [1, \"#276419\"]], \"sequential\": [[0.0, \"#0d0887\"], [0.1111111111111111, \"#46039f\"], [0.2222222222222222, \"#7201a8\"], [0.3333333333333333, \"#9c179e\"], [0.4444444444444444, \"#bd3786\"], [0.5555555555555556, \"#d8576b\"], [0.6666666666666666, \"#ed7953\"], [0.7777777777777778, \"#fb9f3a\"], [0.8888888888888888, \"#fdca26\"], [1.0, \"#f0f921\"]], \"sequentialminus\": [[0.0, \"#0d0887\"], [0.1111111111111111, \"#46039f\"], [0.2222222222222222, \"#7201a8\"], [0.3333333333333333, \"#9c179e\"], [0.4444444444444444, \"#bd3786\"], [0.5555555555555556, \"#d8576b\"], [0.6666666666666666, \"#ed7953\"], [0.7777777777777778, \"#fb9f3a\"], [0.8888888888888888, \"#fdca26\"], [1.0, \"#f0f921\"]]}, \"colorway\": [\"#636efa\", \"#EF553B\", \"#00cc96\", \"#ab63fa\", \"#FFA15A\", \"#19d3f3\", \"#FF6692\", \"#B6E880\", \"#FF97FF\", \"#FECB52\"], \"font\": {\"color\": \"#2a3f5f\"}, \"geo\": {\"bgcolor\": \"white\", \"lakecolor\": \"white\", \"landcolor\": \"#E5ECF6\", \"showlakes\": true, \"showland\": true, \"subunitcolor\": \"white\"}, \"hoverlabel\": {\"align\": \"left\"}, \"hovermode\": \"closest\", \"mapbox\": {\"style\": \"light\"}, \"paper_bgcolor\": \"white\", \"plot_bgcolor\": \"#E5ECF6\", \"polar\": {\"angularaxis\": {\"gridcolor\": \"white\", \"linecolor\": \"white\", \"ticks\": \"\"}, \"bgcolor\": \"#E5ECF6\", \"radialaxis\": {\"gridcolor\": \"white\", \"linecolor\": \"white\", \"ticks\": \"\"}}, \"scene\": {\"xaxis\": {\"backgroundcolor\": \"#E5ECF6\", \"gridcolor\": \"white\", \"gridwidth\": 2, \"linecolor\": \"white\", \"showbackground\": true, \"ticks\": \"\", \"zerolinecolor\": \"white\"}, \"yaxis\": {\"backgroundcolor\": \"#E5ECF6\", \"gridcolor\": \"white\", \"gridwidth\": 2, \"linecolor\": \"white\", \"showbackground\": true, \"ticks\": \"\", \"zerolinecolor\": \"white\"}, \"zaxis\": {\"backgroundcolor\": \"#E5ECF6\", \"gridcolor\": \"white\", \"gridwidth\": 2, \"linecolor\": \"white\", \"showbackground\": true, \"ticks\": \"\", \"zerolinecolor\": \"white\"}}, \"shapedefaults\": {\"line\": {\"color\": \"#2a3f5f\"}}, \"ternary\": {\"aaxis\": {\"gridcolor\": \"white\", \"linecolor\": \"white\", \"ticks\": \"\"}, \"baxis\": {\"gridcolor\": \"white\", \"linecolor\": \"white\", \"ticks\": \"\"}, \"bgcolor\": \"#E5ECF6\", \"caxis\": {\"gridcolor\": \"white\", \"linecolor\": \"white\", \"ticks\": \"\"}}, \"title\": {\"x\": 0.05}, \"xaxis\": {\"automargin\": true, \"gridcolor\": \"white\", \"linecolor\": \"white\", \"ticks\": \"\", \"title\": {\"standoff\": 15}, \"zerolinecolor\": \"white\", \"zerolinewidth\": 2}, \"yaxis\": {\"automargin\": true, \"gridcolor\": \"white\", \"linecolor\": \"white\", \"ticks\": \"\", \"title\": {\"standoff\": 15}, \"zerolinecolor\": \"white\", \"zerolinewidth\": 2}}}, \"xaxis\": {\"anchor\": \"y\", \"categoryorder\": \"total descending\", \"domain\": [0.0, 1.0], \"tickangle\": -45, \"title\": {\"text\": \"\"}}, \"yaxis\": {\"anchor\": \"x\", \"domain\": [0.0, 1.0], \"showgrid\": false, \"title\": {\"text\": \"Annual mean consumption of opioids<br>(kg per 100,000 population)\"}}},\n",
       "                        {\"responsive\": true}\n",
       "                    ).then(function(){\n",
       "                            \n",
       "var gd = document.getElementById('f5b16deb-2cf0-4783-b605-6e523b803f99');\n",
       "var x = new MutationObserver(function (mutations, observer) {{\n",
       "        var display = window.getComputedStyle(gd).display;\n",
       "        if (!display || display === 'none') {{\n",
       "            console.log([gd, 'removed!']);\n",
       "            Plotly.purge(gd);\n",
       "            observer.disconnect();\n",
       "        }}\n",
       "}});\n",
       "\n",
       "// Listen for the removal of the full notebook cells\n",
       "var notebookContainer = gd.closest('#notebook-container');\n",
       "if (notebookContainer) {{\n",
       "    x.observe(notebookContainer, {childList: true});\n",
       "}}\n",
       "\n",
       "// Listen for the clearing of the current output cell\n",
       "var outputEl = gd.closest('.output');\n",
       "if (outputEl) {{\n",
       "    x.observe(outputEl, {childList: true});\n",
       "}}\n",
       "\n",
       "                        })\n",
       "                };\n",
       "                });\n",
       "            </script>\n",
       "        </div>"
      ]
     },
     "metadata": {},
     "output_type": "display_data"
    }
   ],
   "source": [
    "# visualise data \n",
    "fig1 = px.bar(df, x='Country', y='meanop_pop',\n",
    "             hover_data=['Country', 'meanop_pop'],\n",
    "             color='Region2',\n",
    "             labels={'meanop_pop':'Annual mean consumption of opioids<br>(kg per 100,000 population)',\n",
    "                    'Country': \"\"}\n",
    "             )\n",
    "\n",
    "fig1.update_layout(xaxis=dict(categoryorder='total descending'), \n",
    "                   xaxis_tickangle=-45,\n",
    "                   font=dict(size=10),\n",
    "                   yaxis=dict(showgrid=False))\n",
    "fig1.show()\n",
    "\n",
    "#improve figure by: 1) removing grid lines, 2) updating the label of the legend & \n",
    "# 3) get the descending ordering to work... "
   ]
  },
  {
   "cell_type": "markdown",
   "metadata": {},
   "source": [
    "# Maps"
   ]
  },
  {
   "cell_type": "code",
   "execution_count": 12,
   "metadata": {},
   "outputs": [],
   "source": [
    "#converted deciles into a string so it sees it as discrete categorical data and not floats\n",
    "df['decile_op_pop'] = df['decile_op_pop'].astype(str) "
   ]
  },
  {
   "cell_type": "code",
   "execution_count": 13,
   "metadata": {},
   "outputs": [],
   "source": [
    "df.dropna(inplace=True)"
   ]
  },
  {
   "cell_type": "code",
   "execution_count": 14,
   "metadata": {},
   "outputs": [],
   "source": [
    "df.sort_values(by=\"decile_op_pop\", inplace=True)\n",
    "#this sorts the legend values by playing with the strings"
   ]
  },
  {
   "cell_type": "code",
   "execution_count": 15,
   "metadata": {},
   "outputs": [
    {
     "data": {
      "text/html": [
       "<div>\n",
       "<style scoped>\n",
       "    .dataframe tbody tr th:only-of-type {\n",
       "        vertical-align: middle;\n",
       "    }\n",
       "\n",
       "    .dataframe tbody tr th {\n",
       "        vertical-align: top;\n",
       "    }\n",
       "\n",
       "    .dataframe thead th {\n",
       "        text-align: right;\n",
       "    }\n",
       "</style>\n",
       "<table border=\"1\" class=\"dataframe\">\n",
       "  <thead>\n",
       "    <tr style=\"text-align: right;\">\n",
       "      <th></th>\n",
       "      <th>Country</th>\n",
       "      <th>country_ISO</th>\n",
       "      <th>Pop_2016</th>\n",
       "      <th>meanop_pop</th>\n",
       "      <th>decile_op_pop</th>\n",
       "      <th>Region2</th>\n",
       "    </tr>\n",
       "  </thead>\n",
       "  <tbody>\n",
       "    <tr>\n",
       "      <th>108</th>\n",
       "      <td>Marshall Islands</td>\n",
       "      <td>MHL</td>\n",
       "      <td>53000.0</td>\n",
       "      <td>0.0</td>\n",
       "      <td>1.0</td>\n",
       "      <td>Oceania</td>\n",
       "    </tr>\n",
       "    <tr>\n",
       "      <th>32</th>\n",
       "      <td>Central African Republic</td>\n",
       "      <td>CAF</td>\n",
       "      <td>4595000.0</td>\n",
       "      <td>0.0</td>\n",
       "      <td>1.0</td>\n",
       "      <td>Africa</td>\n",
       "    </tr>\n",
       "    <tr>\n",
       "      <th>63</th>\n",
       "      <td>Gabon</td>\n",
       "      <td>GAB</td>\n",
       "      <td>1980000.0</td>\n",
       "      <td>0.0</td>\n",
       "      <td>1.0</td>\n",
       "      <td>Africa</td>\n",
       "    </tr>\n",
       "    <tr>\n",
       "      <th>30</th>\n",
       "      <td>Cameroon</td>\n",
       "      <td>CMR</td>\n",
       "      <td>23439000.0</td>\n",
       "      <td>0.0</td>\n",
       "      <td>1.0</td>\n",
       "      <td>Africa</td>\n",
       "    </tr>\n",
       "    <tr>\n",
       "      <th>29</th>\n",
       "      <td>Cambodia</td>\n",
       "      <td>KHM</td>\n",
       "      <td>15762000.0</td>\n",
       "      <td>0.0</td>\n",
       "      <td>1.0</td>\n",
       "      <td>Asia</td>\n",
       "    </tr>\n",
       "  </tbody>\n",
       "</table>\n",
       "</div>"
      ],
      "text/plain": [
       "                      Country country_ISO    Pop_2016  meanop_pop  \\\n",
       "108          Marshall Islands         MHL     53000.0         0.0   \n",
       "32   Central African Republic         CAF   4595000.0         0.0   \n",
       "63                      Gabon         GAB   1980000.0         0.0   \n",
       "30                   Cameroon         CMR  23439000.0         0.0   \n",
       "29                   Cambodia         KHM  15762000.0         0.0   \n",
       "\n",
       "    decile_op_pop  Region2  \n",
       "108           1.0  Oceania  \n",
       "32            1.0   Africa  \n",
       "63            1.0   Africa  \n",
       "30            1.0   Africa  \n",
       "29            1.0     Asia  "
      ]
     },
     "execution_count": 15,
     "metadata": {},
     "output_type": "execute_result"
    }
   ],
   "source": [
    "df.head()"
   ]
  },
  {
   "cell_type": "code",
   "execution_count": 17,
   "metadata": {},
   "outputs": [
    {
     "data": {
      "application/vnd.plotly.v1+json": {
       "config": {
        "plotlyServerURL": "https://plot.ly"
       },
       "data": [
        {
         "colorscale": [
          [
           0,
           "#636efa"
          ],
          [
           1,
           "#636efa"
          ]
         ],
         "customdata": [
          [
           0
          ],
          [
           0
          ],
          [
           0
          ],
          [
           0
          ],
          [
           0
          ],
          [
           0
          ],
          [
           0
          ],
          [
           0
          ],
          [
           0
          ],
          [
           0
          ],
          [
           0
          ],
          [
           0
          ],
          [
           0
          ],
          [
           0
          ],
          [
           0
          ],
          [
           0
          ],
          [
           0
          ],
          [
           0
          ],
          [
           0
          ],
          [
           0
          ],
          [
           0
          ],
          [
           0
          ],
          [
           0
          ],
          [
           0
          ],
          [
           0
          ],
          [
           0
          ],
          [
           0
          ],
          [
           0
          ],
          [
           0
          ],
          [
           0
          ]
         ],
         "geo": "geo",
         "hovertemplate": "decile_op_pop=1.0<br>country_ISO=%{location}<br>meanop_pop=%{customdata[0]}<extra></extra>",
         "locations": [
          "MHL",
          "CAF",
          "GAB",
          "CMR",
          "KHM",
          "COG",
          "GNB",
          "IRQ",
          "SSD",
          "SOM",
          "GIN",
          "NER",
          "PRY",
          "NRU",
          "STP",
          "DJI",
          "MLI",
          "YEM",
          "MRT",
          "GMB",
          "ATG",
          "VUT",
          "KNA",
          "GRD",
          "LCA",
          "GNQ",
          "LBR",
          "LSO",
          "WSM",
          "ERI"
         ],
         "name": "1.0",
         "showlegend": true,
         "showscale": false,
         "type": "choropleth",
         "z": [
          1,
          1,
          1,
          1,
          1,
          1,
          1,
          1,
          1,
          1,
          1,
          1,
          1,
          1,
          1,
          1,
          1,
          1,
          1,
          1,
          1,
          1,
          1,
          1,
          1,
          1,
          1,
          1,
          1,
          1
         ]
        },
        {
         "colorscale": [
          [
           0,
           "#EF553B"
          ],
          [
           1,
           "#EF553B"
          ]
         ],
         "customdata": [
          [
           6.445069
          ],
          [
           48.02765
          ],
          [
           19.66481
          ],
          [
           9.792585
          ],
          [
           20.18465
          ],
          [
           33.26712
          ],
          [
           7.081598
          ],
          [
           11.0801
          ],
          [
           11.54363
          ],
          [
           11.997630000000001
          ],
          [
           9.150239
          ],
          [
           18.78293
          ],
          [
           14.93406
          ],
          [
           25.10115
          ],
          [
           8.239208
          ],
          [
           39.7854
          ],
          [
           12.424619999999999
          ],
          [
           42.84424
          ],
          [
           22.28791
          ]
         ],
         "geo": "geo",
         "hovertemplate": "decile_op_pop=10.0<br>country_ISO=%{location}<br>meanop_pop=%{customdata[0]}<extra></extra>",
         "locations": [
          "SVN",
          "DEU",
          "DNK",
          "SWE",
          "CHE",
          "CAN",
          "FRA",
          "NOR",
          "LUX",
          "IRL",
          "ISR",
          "AUS",
          "NZL",
          "AUT",
          "NLD",
          "USA",
          "GBR",
          "ISL",
          "BEL"
         ],
         "name": "10.0",
         "showlegend": true,
         "showscale": false,
         "type": "choropleth",
         "z": [
          1,
          1,
          1,
          1,
          1,
          1,
          1,
          1,
          1,
          1,
          1,
          1,
          1,
          1,
          1,
          1,
          1,
          1,
          1
         ]
        },
        {
         "colorscale": [
          [
           0,
           "#00cc96"
          ],
          [
           1,
           "#00cc96"
          ]
         ],
         "customdata": [
          [
           0.0037254
          ],
          [
           0.00017490000000000002
          ],
          [
           0.000572
          ],
          [
           0.0025991
          ],
          [
           0.00045069999999999995
          ],
          [
           0.0012314
          ],
          [
           0.0049284
          ],
          [
           0.0027649000000000003
          ],
          [
           0.0033466999999999998
          ]
         ],
         "geo": "geo",
         "hovertemplate": "decile_op_pop=2.0<br>country_ISO=%{location}<br>meanop_pop=%{customdata[0]}<extra></extra>",
         "locations": [
          "MDG",
          "AGO",
          "TCD",
          "COD",
          "SLE",
          "NGA",
          "BDI",
          "HTI",
          "PAK"
         ],
         "name": "2.0",
         "showlegend": true,
         "showscale": false,
         "type": "choropleth",
         "z": [
          1,
          1,
          1,
          1,
          1,
          1,
          1,
          1,
          1
         ]
        },
        {
         "colorscale": [
          [
           0,
           "#ab63fa"
          ],
          [
           1,
           "#ab63fa"
          ]
         ],
         "customdata": [
          [
           0.0360427
          ],
          [
           0.045688099999999995
          ],
          [
           0.0150852
          ],
          [
           0.028830400000000003
          ],
          [
           0.0222808
          ],
          [
           0.0377399
          ],
          [
           0.0292617
          ],
          [
           0.0113413
          ],
          [
           0.0053872
          ],
          [
           0.030973
          ],
          [
           0.0302957
          ],
          [
           0.0246868
          ],
          [
           0.0062927
          ],
          [
           0.0236623
          ],
          [
           0.0110702
          ],
          [
           0.0324881
          ],
          [
           0.012923400000000002
          ],
          [
           0.0163644
          ],
          [
           0.024221299999999998
          ]
         ],
         "geo": "geo",
         "hovertemplate": "decile_op_pop=3.0<br>country_ISO=%{location}<br>meanop_pop=%{customdata[0]}<extra></extra>",
         "locations": [
          "PHL",
          "LAO",
          "LBY",
          "KIR",
          "MOZ",
          "EGY",
          "SUR",
          "TJK",
          "BKA",
          "TKM",
          "BOL",
          "BTN",
          "COM",
          "BEN",
          "TGO",
          "UZB",
          "VEN",
          "DZA",
          "SDN"
         ],
         "name": "3.0",
         "showlegend": true,
         "showscale": false,
         "type": "choropleth",
         "z": [
          1,
          1,
          1,
          1,
          1,
          1,
          1,
          1,
          1,
          1,
          1,
          1,
          1,
          1,
          1,
          1,
          1,
          1,
          1
         ]
        },
        {
         "colorscale": [
          [
           0,
           "#FFA15A"
          ],
          [
           1,
           "#FFA15A"
          ]
         ],
         "customdata": [
          [
           0.08255499999999999
          ],
          [
           0.0677404
          ],
          [
           0.1288902
          ],
          [
           0.0734567
          ],
          [
           0.0520576
          ],
          [
           0.0708617
          ],
          [
           0.07633739999999999
          ],
          [
           0.059748300000000004
          ],
          [
           0.055548900000000005
          ],
          [
           0.11592169999999999
          ],
          [
           0.059979899999999996
          ],
          [
           0.07077649999999999
          ],
          [
           0.05271169999999999
          ],
          [
           0.0733806
          ],
          [
           0.0539034
          ],
          [
           0.0859196
          ],
          [
           0.0909627
          ],
          [
           0.1021715
          ],
          [
           0.12414860000000001
          ]
         ],
         "geo": "geo",
         "hovertemplate": "decile_op_pop=4.0<br>country_ISO=%{location}<br>meanop_pop=%{customdata[0]}<extra></extra>",
         "locations": [
          "BGD",
          "NIC",
          "MAR",
          "AZE",
          "NPL",
          "MEX",
          "MDV",
          "RWA",
          "AFG",
          "TZA",
          "CPV",
          "IDN",
          "IND",
          "HND",
          "ETH",
          "ECU",
          "SLB",
          "DOM",
          "SEN"
         ],
         "name": "4.0",
         "showlegend": true,
         "showscale": false,
         "type": "choropleth",
         "z": [
          1,
          1,
          1,
          1,
          1,
          1,
          1,
          1,
          1,
          1,
          1,
          1,
          1,
          1,
          1,
          1,
          1,
          1,
          1
         ]
        },
        {
         "colorscale": [
          [
           0,
           "#19d3f3"
          ],
          [
           1,
           "#19d3f3"
          ]
         ],
         "customdata": [
          [
           0.1612998
          ],
          [
           0.22706679999999996
          ],
          [
           0.23113649999999997
          ],
          [
           0.2033951
          ],
          [
           0.18117139999999998
          ],
          [
           0.31342359999999997
          ],
          [
           0.17817360000000002
          ],
          [
           0.2030303
          ],
          [
           0.1642055
          ],
          [
           0.1534026
          ],
          [
           0.2738932
          ],
          [
           0.24069459999999998
          ],
          [
           0.2672469
          ],
          [
           0.1856345
          ],
          [
           0.14848
          ],
          [
           0.2213842
          ],
          [
           0.15501779999999998
          ],
          [
           0.1927077
          ],
          [
           0.1308873
          ]
         ],
         "geo": "geo",
         "hovertemplate": "decile_op_pop=5.0<br>country_ISO=%{location}<br>meanop_pop=%{customdata[0]}<extra></extra>",
         "locations": [
          "QAT",
          "PER",
          "MDA",
          "UGA",
          "RUS",
          "MNG",
          "PNG",
          "TUV",
          "SYR",
          "ARE",
          "TUN",
          "ZWE",
          "GHA",
          "GTM",
          "MWI",
          "CUB",
          "ZMB",
          "KEN",
          "KAZ"
         ],
         "name": "5.0",
         "showlegend": true,
         "showscale": false,
         "type": "choropleth",
         "z": [
          1,
          1,
          1,
          1,
          1,
          1,
          1,
          1,
          1,
          1,
          1,
          1,
          1,
          1,
          1,
          1,
          1,
          1,
          1
         ]
        },
        {
         "colorscale": [
          [
           0,
           "#FF6692"
          ],
          [
           1,
           "#FF6692"
          ]
         ],
         "customdata": [
          [
           0.3180397
          ],
          [
           0.3144587
          ],
          [
           0.3852545
          ],
          [
           0.3638741
          ],
          [
           0.3325181
          ],
          [
           0.32214590000000004
          ],
          [
           0.4343224
          ],
          [
           0.389805
          ],
          [
           0.4003383
          ],
          [
           0.41225839999999997
          ],
          [
           0.3430114
          ],
          [
           0.365989
          ],
          [
           0.3322697
          ],
          [
           0.3920785
          ],
          [
           0.43306120000000004
          ],
          [
           0.44754099999999997
          ],
          [
           0.3636012
          ],
          [
           0.3277345
          ],
          [
           0.3165317
          ],
          [
           0.397999
          ]
         ],
         "geo": "geo",
         "hovertemplate": "decile_op_pop=6.0<br>country_ISO=%{location}<br>meanop_pop=%{customdata[0]}<extra></extra>",
         "locations": [
          "PAN",
          "SGP",
          "CHN",
          "BRN",
          "IRN",
          "THA",
          "SWZ",
          "CIV",
          "TON",
          "LBN",
          "KWT",
          "NAM",
          "TUR",
          "BIH",
          "BLZ",
          "PRK",
          "ARM",
          "FJI",
          "BWA",
          "JOR"
         ],
         "name": "6.0",
         "showlegend": true,
         "showscale": false,
         "type": "choropleth",
         "z": [
          1,
          1,
          1,
          1,
          1,
          1,
          1,
          1,
          1,
          1,
          1,
          1,
          1,
          1,
          1,
          1,
          1,
          1,
          1,
          1
         ]
        },
        {
         "colorscale": [
          [
           0,
           "#B6E880"
          ],
          [
           1,
           "#B6E880"
          ]
         ],
         "customdata": [
          [
           0.6002957
          ],
          [
           0.6788288
          ],
          [
           0.47463320000000003
          ],
          [
           0.5607843000000001
          ],
          [
           0.7657834
          ],
          [
           0.5662716999999999
          ],
          [
           0.4851543
          ],
          [
           0.7419043000000001
          ],
          [
           0.5056594
          ],
          [
           0.6788349
          ],
          [
           0.4480746
          ],
          [
           0.6358550000000001
          ],
          [
           0.5936095
          ],
          [
           0.7240865
          ],
          [
           0.60005
          ],
          [
           0.5658736
          ],
          [
           0.5833567
          ],
          [
           0.5536939000000001
          ],
          [
           0.8267286
          ]
         ],
         "geo": "geo",
         "hovertemplate": "decile_op_pop=7.0<br>country_ISO=%{location}<br>meanop_pop=%{customdata[0]}<extra></extra>",
         "locations": [
          "LKA",
          "DMA",
          "TLS",
          "COK",
          "COL",
          "BRA",
          "BLR",
          "URY",
          "ALB",
          "CRI",
          "SLV",
          "SAU",
          "KGZ",
          "JAM",
          "NIU",
          "MNE",
          "VCT",
          "FSM",
          "GRC"
         ],
         "name": "7.0",
         "showlegend": true,
         "showscale": false,
         "type": "choropleth",
         "z": [
          1,
          1,
          1,
          1,
          1,
          1,
          1,
          1,
          1,
          1,
          1,
          1,
          1,
          1,
          1,
          1,
          1,
          1,
          1
         ]
        },
        {
         "colorscale": [
          [
           0,
           "#FF97FF"
          ],
          [
           1,
           "#FF97FF"
          ]
         ],
         "customdata": [
          [
           1.08171
          ],
          [
           1.108702
          ],
          [
           1.152083
          ],
          [
           1.253718
          ],
          [
           0.9950699000000001
          ],
          [
           1.553036
          ],
          [
           1.021631
          ],
          [
           1.4821360000000001
          ],
          [
           1.205541
          ],
          [
           1.478524
          ],
          [
           1.637748
          ],
          [
           1.567289
          ],
          [
           1.001343
          ],
          [
           1.4229180000000001
          ],
          [
           1.478999
          ],
          [
           1.432941
          ],
          [
           0.9930191999999999
          ],
          [
           1.045929
          ],
          [
           1.025336
          ]
         ],
         "geo": "geo",
         "hovertemplate": "decile_op_pop=8.0<br>country_ISO=%{location}<br>meanop_pop=%{customdata[0]}<extra></extra>",
         "locations": [
          "JPN",
          "TTO",
          "LVA",
          "CHL",
          "HUN",
          "PLW",
          "GUY",
          "MMR",
          "BHR",
          "HRV",
          "ZAF",
          "BHS",
          "LTU",
          "SVK",
          "GEO",
          "ARG",
          "SRB",
          "ROU",
          "UKR"
         ],
         "name": "8.0",
         "showlegend": true,
         "showscale": false,
         "type": "choropleth",
         "z": [
          1,
          1,
          1,
          1,
          1,
          1,
          1,
          1,
          1,
          1,
          1,
          1,
          1,
          1,
          1,
          1,
          1,
          1,
          1
         ]
        },
        {
         "colorscale": [
          [
           0,
           "#FECB52"
          ],
          [
           1,
           "#FECB52"
          ]
         ],
         "customdata": [
          [
           3.118456
          ],
          [
           1.74537
          ],
          [
           1.7481240000000002
          ],
          [
           5.553447
          ],
          [
           2.6066409999999998
          ],
          [
           1.9291599999999998
          ],
          [
           2.607637
          ],
          [
           2.553382
          ],
          [
           1.7593900000000002
          ],
          [
           5.088083
          ],
          [
           1.793094
          ],
          [
           2.5440419999999997
          ],
          [
           2.158196
          ],
          [
           1.963555
          ],
          [
           2.090855
          ],
          [
           4.214658
          ],
          [
           6.183696
          ],
          [
           5.5174
          ],
          [
           1.6406830000000001
          ]
         ],
         "geo": "geo",
         "hovertemplate": "decile_op_pop=9.0<br>country_ISO=%{location}<br>meanop_pop=%{customdata[0]}<extra></extra>",
         "locations": [
          "BRB",
          "AND",
          "VNM",
          "MUS",
          "EST",
          "OMN",
          "MKD",
          "BGR",
          "POL",
          "ESP",
          "PRT",
          "CYP",
          "CZE",
          "KOR",
          "SYC",
          "MLT",
          "FIN",
          "ITA",
          "MYS"
         ],
         "name": "9.0",
         "showlegend": true,
         "showscale": false,
         "type": "choropleth",
         "z": [
          1,
          1,
          1,
          1,
          1,
          1,
          1,
          1,
          1,
          1,
          1,
          1,
          1,
          1,
          1,
          1,
          1,
          1,
          1
         ]
        }
       ],
       "layout": {
        "geo": {
         "center": {},
         "domain": {
          "x": [
           0,
           1
          ],
          "y": [
           0,
           1
          ]
         }
        },
        "legend": {
         "title": {
          "text": "decile_op_pop"
         },
         "tracegroupgap": 0
        },
        "margin": {
         "t": 60
        },
        "template": {
         "data": {
          "bar": [
           {
            "error_x": {
             "color": "#2a3f5f"
            },
            "error_y": {
             "color": "#2a3f5f"
            },
            "marker": {
             "line": {
              "color": "#E5ECF6",
              "width": 0.5
             }
            },
            "type": "bar"
           }
          ],
          "barpolar": [
           {
            "marker": {
             "line": {
              "color": "#E5ECF6",
              "width": 0.5
             }
            },
            "type": "barpolar"
           }
          ],
          "carpet": [
           {
            "aaxis": {
             "endlinecolor": "#2a3f5f",
             "gridcolor": "white",
             "linecolor": "white",
             "minorgridcolor": "white",
             "startlinecolor": "#2a3f5f"
            },
            "baxis": {
             "endlinecolor": "#2a3f5f",
             "gridcolor": "white",
             "linecolor": "white",
             "minorgridcolor": "white",
             "startlinecolor": "#2a3f5f"
            },
            "type": "carpet"
           }
          ],
          "choropleth": [
           {
            "colorbar": {
             "outlinewidth": 0,
             "ticks": ""
            },
            "type": "choropleth"
           }
          ],
          "contour": [
           {
            "colorbar": {
             "outlinewidth": 0,
             "ticks": ""
            },
            "colorscale": [
             [
              0,
              "#0d0887"
             ],
             [
              0.1111111111111111,
              "#46039f"
             ],
             [
              0.2222222222222222,
              "#7201a8"
             ],
             [
              0.3333333333333333,
              "#9c179e"
             ],
             [
              0.4444444444444444,
              "#bd3786"
             ],
             [
              0.5555555555555556,
              "#d8576b"
             ],
             [
              0.6666666666666666,
              "#ed7953"
             ],
             [
              0.7777777777777778,
              "#fb9f3a"
             ],
             [
              0.8888888888888888,
              "#fdca26"
             ],
             [
              1,
              "#f0f921"
             ]
            ],
            "type": "contour"
           }
          ],
          "contourcarpet": [
           {
            "colorbar": {
             "outlinewidth": 0,
             "ticks": ""
            },
            "type": "contourcarpet"
           }
          ],
          "heatmap": [
           {
            "colorbar": {
             "outlinewidth": 0,
             "ticks": ""
            },
            "colorscale": [
             [
              0,
              "#0d0887"
             ],
             [
              0.1111111111111111,
              "#46039f"
             ],
             [
              0.2222222222222222,
              "#7201a8"
             ],
             [
              0.3333333333333333,
              "#9c179e"
             ],
             [
              0.4444444444444444,
              "#bd3786"
             ],
             [
              0.5555555555555556,
              "#d8576b"
             ],
             [
              0.6666666666666666,
              "#ed7953"
             ],
             [
              0.7777777777777778,
              "#fb9f3a"
             ],
             [
              0.8888888888888888,
              "#fdca26"
             ],
             [
              1,
              "#f0f921"
             ]
            ],
            "type": "heatmap"
           }
          ],
          "heatmapgl": [
           {
            "colorbar": {
             "outlinewidth": 0,
             "ticks": ""
            },
            "colorscale": [
             [
              0,
              "#0d0887"
             ],
             [
              0.1111111111111111,
              "#46039f"
             ],
             [
              0.2222222222222222,
              "#7201a8"
             ],
             [
              0.3333333333333333,
              "#9c179e"
             ],
             [
              0.4444444444444444,
              "#bd3786"
             ],
             [
              0.5555555555555556,
              "#d8576b"
             ],
             [
              0.6666666666666666,
              "#ed7953"
             ],
             [
              0.7777777777777778,
              "#fb9f3a"
             ],
             [
              0.8888888888888888,
              "#fdca26"
             ],
             [
              1,
              "#f0f921"
             ]
            ],
            "type": "heatmapgl"
           }
          ],
          "histogram": [
           {
            "marker": {
             "colorbar": {
              "outlinewidth": 0,
              "ticks": ""
             }
            },
            "type": "histogram"
           }
          ],
          "histogram2d": [
           {
            "colorbar": {
             "outlinewidth": 0,
             "ticks": ""
            },
            "colorscale": [
             [
              0,
              "#0d0887"
             ],
             [
              0.1111111111111111,
              "#46039f"
             ],
             [
              0.2222222222222222,
              "#7201a8"
             ],
             [
              0.3333333333333333,
              "#9c179e"
             ],
             [
              0.4444444444444444,
              "#bd3786"
             ],
             [
              0.5555555555555556,
              "#d8576b"
             ],
             [
              0.6666666666666666,
              "#ed7953"
             ],
             [
              0.7777777777777778,
              "#fb9f3a"
             ],
             [
              0.8888888888888888,
              "#fdca26"
             ],
             [
              1,
              "#f0f921"
             ]
            ],
            "type": "histogram2d"
           }
          ],
          "histogram2dcontour": [
           {
            "colorbar": {
             "outlinewidth": 0,
             "ticks": ""
            },
            "colorscale": [
             [
              0,
              "#0d0887"
             ],
             [
              0.1111111111111111,
              "#46039f"
             ],
             [
              0.2222222222222222,
              "#7201a8"
             ],
             [
              0.3333333333333333,
              "#9c179e"
             ],
             [
              0.4444444444444444,
              "#bd3786"
             ],
             [
              0.5555555555555556,
              "#d8576b"
             ],
             [
              0.6666666666666666,
              "#ed7953"
             ],
             [
              0.7777777777777778,
              "#fb9f3a"
             ],
             [
              0.8888888888888888,
              "#fdca26"
             ],
             [
              1,
              "#f0f921"
             ]
            ],
            "type": "histogram2dcontour"
           }
          ],
          "mesh3d": [
           {
            "colorbar": {
             "outlinewidth": 0,
             "ticks": ""
            },
            "type": "mesh3d"
           }
          ],
          "parcoords": [
           {
            "line": {
             "colorbar": {
              "outlinewidth": 0,
              "ticks": ""
             }
            },
            "type": "parcoords"
           }
          ],
          "pie": [
           {
            "automargin": true,
            "type": "pie"
           }
          ],
          "scatter": [
           {
            "marker": {
             "colorbar": {
              "outlinewidth": 0,
              "ticks": ""
             }
            },
            "type": "scatter"
           }
          ],
          "scatter3d": [
           {
            "line": {
             "colorbar": {
              "outlinewidth": 0,
              "ticks": ""
             }
            },
            "marker": {
             "colorbar": {
              "outlinewidth": 0,
              "ticks": ""
             }
            },
            "type": "scatter3d"
           }
          ],
          "scattercarpet": [
           {
            "marker": {
             "colorbar": {
              "outlinewidth": 0,
              "ticks": ""
             }
            },
            "type": "scattercarpet"
           }
          ],
          "scattergeo": [
           {
            "marker": {
             "colorbar": {
              "outlinewidth": 0,
              "ticks": ""
             }
            },
            "type": "scattergeo"
           }
          ],
          "scattergl": [
           {
            "marker": {
             "colorbar": {
              "outlinewidth": 0,
              "ticks": ""
             }
            },
            "type": "scattergl"
           }
          ],
          "scattermapbox": [
           {
            "marker": {
             "colorbar": {
              "outlinewidth": 0,
              "ticks": ""
             }
            },
            "type": "scattermapbox"
           }
          ],
          "scatterpolar": [
           {
            "marker": {
             "colorbar": {
              "outlinewidth": 0,
              "ticks": ""
             }
            },
            "type": "scatterpolar"
           }
          ],
          "scatterpolargl": [
           {
            "marker": {
             "colorbar": {
              "outlinewidth": 0,
              "ticks": ""
             }
            },
            "type": "scatterpolargl"
           }
          ],
          "scatterternary": [
           {
            "marker": {
             "colorbar": {
              "outlinewidth": 0,
              "ticks": ""
             }
            },
            "type": "scatterternary"
           }
          ],
          "surface": [
           {
            "colorbar": {
             "outlinewidth": 0,
             "ticks": ""
            },
            "colorscale": [
             [
              0,
              "#0d0887"
             ],
             [
              0.1111111111111111,
              "#46039f"
             ],
             [
              0.2222222222222222,
              "#7201a8"
             ],
             [
              0.3333333333333333,
              "#9c179e"
             ],
             [
              0.4444444444444444,
              "#bd3786"
             ],
             [
              0.5555555555555556,
              "#d8576b"
             ],
             [
              0.6666666666666666,
              "#ed7953"
             ],
             [
              0.7777777777777778,
              "#fb9f3a"
             ],
             [
              0.8888888888888888,
              "#fdca26"
             ],
             [
              1,
              "#f0f921"
             ]
            ],
            "type": "surface"
           }
          ],
          "table": [
           {
            "cells": {
             "fill": {
              "color": "#EBF0F8"
             },
             "line": {
              "color": "white"
             }
            },
            "header": {
             "fill": {
              "color": "#C8D4E3"
             },
             "line": {
              "color": "white"
             }
            },
            "type": "table"
           }
          ]
         },
         "layout": {
          "annotationdefaults": {
           "arrowcolor": "#2a3f5f",
           "arrowhead": 0,
           "arrowwidth": 1
          },
          "coloraxis": {
           "colorbar": {
            "outlinewidth": 0,
            "ticks": ""
           }
          },
          "colorscale": {
           "diverging": [
            [
             0,
             "#8e0152"
            ],
            [
             0.1,
             "#c51b7d"
            ],
            [
             0.2,
             "#de77ae"
            ],
            [
             0.3,
             "#f1b6da"
            ],
            [
             0.4,
             "#fde0ef"
            ],
            [
             0.5,
             "#f7f7f7"
            ],
            [
             0.6,
             "#e6f5d0"
            ],
            [
             0.7,
             "#b8e186"
            ],
            [
             0.8,
             "#7fbc41"
            ],
            [
             0.9,
             "#4d9221"
            ],
            [
             1,
             "#276419"
            ]
           ],
           "sequential": [
            [
             0,
             "#0d0887"
            ],
            [
             0.1111111111111111,
             "#46039f"
            ],
            [
             0.2222222222222222,
             "#7201a8"
            ],
            [
             0.3333333333333333,
             "#9c179e"
            ],
            [
             0.4444444444444444,
             "#bd3786"
            ],
            [
             0.5555555555555556,
             "#d8576b"
            ],
            [
             0.6666666666666666,
             "#ed7953"
            ],
            [
             0.7777777777777778,
             "#fb9f3a"
            ],
            [
             0.8888888888888888,
             "#fdca26"
            ],
            [
             1,
             "#f0f921"
            ]
           ],
           "sequentialminus": [
            [
             0,
             "#0d0887"
            ],
            [
             0.1111111111111111,
             "#46039f"
            ],
            [
             0.2222222222222222,
             "#7201a8"
            ],
            [
             0.3333333333333333,
             "#9c179e"
            ],
            [
             0.4444444444444444,
             "#bd3786"
            ],
            [
             0.5555555555555556,
             "#d8576b"
            ],
            [
             0.6666666666666666,
             "#ed7953"
            ],
            [
             0.7777777777777778,
             "#fb9f3a"
            ],
            [
             0.8888888888888888,
             "#fdca26"
            ],
            [
             1,
             "#f0f921"
            ]
           ]
          },
          "colorway": [
           "#636efa",
           "#EF553B",
           "#00cc96",
           "#ab63fa",
           "#FFA15A",
           "#19d3f3",
           "#FF6692",
           "#B6E880",
           "#FF97FF",
           "#FECB52"
          ],
          "font": {
           "color": "#2a3f5f"
          },
          "geo": {
           "bgcolor": "white",
           "lakecolor": "white",
           "landcolor": "#E5ECF6",
           "showlakes": true,
           "showland": true,
           "subunitcolor": "white"
          },
          "hoverlabel": {
           "align": "left"
          },
          "hovermode": "closest",
          "mapbox": {
           "style": "light"
          },
          "paper_bgcolor": "white",
          "plot_bgcolor": "#E5ECF6",
          "polar": {
           "angularaxis": {
            "gridcolor": "white",
            "linecolor": "white",
            "ticks": ""
           },
           "bgcolor": "#E5ECF6",
           "radialaxis": {
            "gridcolor": "white",
            "linecolor": "white",
            "ticks": ""
           }
          },
          "scene": {
           "xaxis": {
            "backgroundcolor": "#E5ECF6",
            "gridcolor": "white",
            "gridwidth": 2,
            "linecolor": "white",
            "showbackground": true,
            "ticks": "",
            "zerolinecolor": "white"
           },
           "yaxis": {
            "backgroundcolor": "#E5ECF6",
            "gridcolor": "white",
            "gridwidth": 2,
            "linecolor": "white",
            "showbackground": true,
            "ticks": "",
            "zerolinecolor": "white"
           },
           "zaxis": {
            "backgroundcolor": "#E5ECF6",
            "gridcolor": "white",
            "gridwidth": 2,
            "linecolor": "white",
            "showbackground": true,
            "ticks": "",
            "zerolinecolor": "white"
           }
          },
          "shapedefaults": {
           "line": {
            "color": "#2a3f5f"
           }
          },
          "ternary": {
           "aaxis": {
            "gridcolor": "white",
            "linecolor": "white",
            "ticks": ""
           },
           "baxis": {
            "gridcolor": "white",
            "linecolor": "white",
            "ticks": ""
           },
           "bgcolor": "#E5ECF6",
           "caxis": {
            "gridcolor": "white",
            "linecolor": "white",
            "ticks": ""
           }
          },
          "title": {
           "x": 0.05
          },
          "xaxis": {
           "automargin": true,
           "gridcolor": "white",
           "linecolor": "white",
           "ticks": "",
           "title": {
            "standoff": 15
           },
           "zerolinecolor": "white",
           "zerolinewidth": 2
          },
          "yaxis": {
           "automargin": true,
           "gridcolor": "white",
           "linecolor": "white",
           "ticks": "",
           "title": {
            "standoff": 15
           },
           "zerolinecolor": "white",
           "zerolinewidth": 2
          }
         }
        }
       }
      },
      "text/html": [
       "<div>\n",
       "        \n",
       "        \n",
       "            <div id=\"e824ac09-e78b-48f1-86c8-59fd95fecc2d\" class=\"plotly-graph-div\" style=\"height:525px; width:100%;\"></div>\n",
       "            <script type=\"text/javascript\">\n",
       "                require([\"plotly\"], function(Plotly) {\n",
       "                    window.PLOTLYENV=window.PLOTLYENV || {};\n",
       "                    \n",
       "                if (document.getElementById(\"e824ac09-e78b-48f1-86c8-59fd95fecc2d\")) {\n",
       "                    Plotly.newPlot(\n",
       "                        'e824ac09-e78b-48f1-86c8-59fd95fecc2d',\n",
       "                        [{\"colorscale\": [[0.0, \"#636efa\"], [1.0, \"#636efa\"]], \"customdata\": [[0.0], [0.0], [0.0], [0.0], [0.0], [0.0], [0.0], [0.0], [0.0], [0.0], [0.0], [0.0], [0.0], [0.0], [0.0], [0.0], [0.0], [0.0], [0.0], [0.0], [0.0], [0.0], [0.0], [0.0], [0.0], [0.0], [0.0], [0.0], [0.0], [0.0]], \"geo\": \"geo\", \"hovertemplate\": \"decile_op_pop=1.0<br>country_ISO=%{location}<br>meanop_pop=%{customdata[0]}<extra></extra>\", \"locations\": [\"MHL\", \"CAF\", \"GAB\", \"CMR\", \"KHM\", \"COG\", \"GNB\", \"IRQ\", \"SSD\", \"SOM\", \"GIN\", \"NER\", \"PRY\", \"NRU\", \"STP\", \"DJI\", \"MLI\", \"YEM\", \"MRT\", \"GMB\", \"ATG\", \"VUT\", \"KNA\", \"GRD\", \"LCA\", \"GNQ\", \"LBR\", \"LSO\", \"WSM\", \"ERI\"], \"name\": \"1.0\", \"showlegend\": true, \"showscale\": false, \"type\": \"choropleth\", \"z\": [1, 1, 1, 1, 1, 1, 1, 1, 1, 1, 1, 1, 1, 1, 1, 1, 1, 1, 1, 1, 1, 1, 1, 1, 1, 1, 1, 1, 1, 1]}, {\"colorscale\": [[0.0, \"#EF553B\"], [1.0, \"#EF553B\"]], \"customdata\": [[6.445069], [48.02765], [19.66481], [9.792585], [20.18465], [33.26712], [7.081598], [11.0801], [11.54363], [11.997630000000001], [9.150239], [18.78293], [14.93406], [25.10115], [8.239208], [39.7854], [12.424619999999999], [42.84424], [22.28791]], \"geo\": \"geo\", \"hovertemplate\": \"decile_op_pop=10.0<br>country_ISO=%{location}<br>meanop_pop=%{customdata[0]}<extra></extra>\", \"locations\": [\"SVN\", \"DEU\", \"DNK\", \"SWE\", \"CHE\", \"CAN\", \"FRA\", \"NOR\", \"LUX\", \"IRL\", \"ISR\", \"AUS\", \"NZL\", \"AUT\", \"NLD\", \"USA\", \"GBR\", \"ISL\", \"BEL\"], \"name\": \"10.0\", \"showlegend\": true, \"showscale\": false, \"type\": \"choropleth\", \"z\": [1, 1, 1, 1, 1, 1, 1, 1, 1, 1, 1, 1, 1, 1, 1, 1, 1, 1, 1]}, {\"colorscale\": [[0.0, \"#00cc96\"], [1.0, \"#00cc96\"]], \"customdata\": [[0.0037254], [0.00017490000000000002], [0.000572], [0.0025991], [0.00045069999999999995], [0.0012314], [0.0049284], [0.0027649000000000003], [0.0033466999999999998]], \"geo\": \"geo\", \"hovertemplate\": \"decile_op_pop=2.0<br>country_ISO=%{location}<br>meanop_pop=%{customdata[0]}<extra></extra>\", \"locations\": [\"MDG\", \"AGO\", \"TCD\", \"COD\", \"SLE\", \"NGA\", \"BDI\", \"HTI\", \"PAK\"], \"name\": \"2.0\", \"showlegend\": true, \"showscale\": false, \"type\": \"choropleth\", \"z\": [1, 1, 1, 1, 1, 1, 1, 1, 1]}, {\"colorscale\": [[0.0, \"#ab63fa\"], [1.0, \"#ab63fa\"]], \"customdata\": [[0.0360427], [0.045688099999999995], [0.0150852], [0.028830400000000003], [0.0222808], [0.0377399], [0.0292617], [0.0113413], [0.0053872], [0.030973], [0.0302957], [0.0246868], [0.0062927], [0.0236623], [0.0110702], [0.0324881], [0.012923400000000002], [0.0163644], [0.024221299999999998]], \"geo\": \"geo\", \"hovertemplate\": \"decile_op_pop=3.0<br>country_ISO=%{location}<br>meanop_pop=%{customdata[0]}<extra></extra>\", \"locations\": [\"PHL\", \"LAO\", \"LBY\", \"KIR\", \"MOZ\", \"EGY\", \"SUR\", \"TJK\", \"BKA\", \"TKM\", \"BOL\", \"BTN\", \"COM\", \"BEN\", \"TGO\", \"UZB\", \"VEN\", \"DZA\", \"SDN\"], \"name\": \"3.0\", \"showlegend\": true, \"showscale\": false, \"type\": \"choropleth\", \"z\": [1, 1, 1, 1, 1, 1, 1, 1, 1, 1, 1, 1, 1, 1, 1, 1, 1, 1, 1]}, {\"colorscale\": [[0.0, \"#FFA15A\"], [1.0, \"#FFA15A\"]], \"customdata\": [[0.08255499999999999], [0.0677404], [0.1288902], [0.0734567], [0.0520576], [0.0708617], [0.07633739999999999], [0.059748300000000004], [0.055548900000000005], [0.11592169999999999], [0.059979899999999996], [0.07077649999999999], [0.05271169999999999], [0.0733806], [0.0539034], [0.0859196], [0.0909627], [0.1021715], [0.12414860000000001]], \"geo\": \"geo\", \"hovertemplate\": \"decile_op_pop=4.0<br>country_ISO=%{location}<br>meanop_pop=%{customdata[0]}<extra></extra>\", \"locations\": [\"BGD\", \"NIC\", \"MAR\", \"AZE\", \"NPL\", \"MEX\", \"MDV\", \"RWA\", \"AFG\", \"TZA\", \"CPV\", \"IDN\", \"IND\", \"HND\", \"ETH\", \"ECU\", \"SLB\", \"DOM\", \"SEN\"], \"name\": \"4.0\", \"showlegend\": true, \"showscale\": false, \"type\": \"choropleth\", \"z\": [1, 1, 1, 1, 1, 1, 1, 1, 1, 1, 1, 1, 1, 1, 1, 1, 1, 1, 1]}, {\"colorscale\": [[0.0, \"#19d3f3\"], [1.0, \"#19d3f3\"]], \"customdata\": [[0.1612998], [0.22706679999999996], [0.23113649999999997], [0.2033951], [0.18117139999999998], [0.31342359999999997], [0.17817360000000002], [0.2030303], [0.1642055], [0.1534026], [0.2738932], [0.24069459999999998], [0.2672469], [0.1856345], [0.14848], [0.2213842], [0.15501779999999998], [0.1927077], [0.1308873]], \"geo\": \"geo\", \"hovertemplate\": \"decile_op_pop=5.0<br>country_ISO=%{location}<br>meanop_pop=%{customdata[0]}<extra></extra>\", \"locations\": [\"QAT\", \"PER\", \"MDA\", \"UGA\", \"RUS\", \"MNG\", \"PNG\", \"TUV\", \"SYR\", \"ARE\", \"TUN\", \"ZWE\", \"GHA\", \"GTM\", \"MWI\", \"CUB\", \"ZMB\", \"KEN\", \"KAZ\"], \"name\": \"5.0\", \"showlegend\": true, \"showscale\": false, \"type\": \"choropleth\", \"z\": [1, 1, 1, 1, 1, 1, 1, 1, 1, 1, 1, 1, 1, 1, 1, 1, 1, 1, 1]}, {\"colorscale\": [[0.0, \"#FF6692\"], [1.0, \"#FF6692\"]], \"customdata\": [[0.3180397], [0.3144587], [0.3852545], [0.3638741], [0.3325181], [0.32214590000000004], [0.4343224], [0.389805], [0.4003383], [0.41225839999999997], [0.3430114], [0.365989], [0.3322697], [0.3920785], [0.43306120000000004], [0.44754099999999997], [0.3636012], [0.3277345], [0.3165317], [0.397999]], \"geo\": \"geo\", \"hovertemplate\": \"decile_op_pop=6.0<br>country_ISO=%{location}<br>meanop_pop=%{customdata[0]}<extra></extra>\", \"locations\": [\"PAN\", \"SGP\", \"CHN\", \"BRN\", \"IRN\", \"THA\", \"SWZ\", \"CIV\", \"TON\", \"LBN\", \"KWT\", \"NAM\", \"TUR\", \"BIH\", \"BLZ\", \"PRK\", \"ARM\", \"FJI\", \"BWA\", \"JOR\"], \"name\": \"6.0\", \"showlegend\": true, \"showscale\": false, \"type\": \"choropleth\", \"z\": [1, 1, 1, 1, 1, 1, 1, 1, 1, 1, 1, 1, 1, 1, 1, 1, 1, 1, 1, 1]}, {\"colorscale\": [[0.0, \"#B6E880\"], [1.0, \"#B6E880\"]], \"customdata\": [[0.6002957], [0.6788288], [0.47463320000000003], [0.5607843000000001], [0.7657834], [0.5662716999999999], [0.4851543], [0.7419043000000001], [0.5056594], [0.6788349], [0.4480746], [0.6358550000000001], [0.5936095], [0.7240865], [0.60005], [0.5658736], [0.5833567], [0.5536939000000001], [0.8267286]], \"geo\": \"geo\", \"hovertemplate\": \"decile_op_pop=7.0<br>country_ISO=%{location}<br>meanop_pop=%{customdata[0]}<extra></extra>\", \"locations\": [\"LKA\", \"DMA\", \"TLS\", \"COK\", \"COL\", \"BRA\", \"BLR\", \"URY\", \"ALB\", \"CRI\", \"SLV\", \"SAU\", \"KGZ\", \"JAM\", \"NIU\", \"MNE\", \"VCT\", \"FSM\", \"GRC\"], \"name\": \"7.0\", \"showlegend\": true, \"showscale\": false, \"type\": \"choropleth\", \"z\": [1, 1, 1, 1, 1, 1, 1, 1, 1, 1, 1, 1, 1, 1, 1, 1, 1, 1, 1]}, {\"colorscale\": [[0.0, \"#FF97FF\"], [1.0, \"#FF97FF\"]], \"customdata\": [[1.08171], [1.108702], [1.152083], [1.253718], [0.9950699000000001], [1.553036], [1.021631], [1.4821360000000001], [1.205541], [1.478524], [1.637748], [1.567289], [1.001343], [1.4229180000000001], [1.478999], [1.432941], [0.9930191999999999], [1.045929], [1.025336]], \"geo\": \"geo\", \"hovertemplate\": \"decile_op_pop=8.0<br>country_ISO=%{location}<br>meanop_pop=%{customdata[0]}<extra></extra>\", \"locations\": [\"JPN\", \"TTO\", \"LVA\", \"CHL\", \"HUN\", \"PLW\", \"GUY\", \"MMR\", \"BHR\", \"HRV\", \"ZAF\", \"BHS\", \"LTU\", \"SVK\", \"GEO\", \"ARG\", \"SRB\", \"ROU\", \"UKR\"], \"name\": \"8.0\", \"showlegend\": true, \"showscale\": false, \"type\": \"choropleth\", \"z\": [1, 1, 1, 1, 1, 1, 1, 1, 1, 1, 1, 1, 1, 1, 1, 1, 1, 1, 1]}, {\"colorscale\": [[0.0, \"#FECB52\"], [1.0, \"#FECB52\"]], \"customdata\": [[3.118456], [1.74537], [1.7481240000000002], [5.553447], [2.6066409999999998], [1.9291599999999998], [2.607637], [2.553382], [1.7593900000000002], [5.088083], [1.793094], [2.5440419999999997], [2.158196], [1.963555], [2.090855], [4.214658], [6.183696], [5.5174], [1.6406830000000001]], \"geo\": \"geo\", \"hovertemplate\": \"decile_op_pop=9.0<br>country_ISO=%{location}<br>meanop_pop=%{customdata[0]}<extra></extra>\", \"locations\": [\"BRB\", \"AND\", \"VNM\", \"MUS\", \"EST\", \"OMN\", \"MKD\", \"BGR\", \"POL\", \"ESP\", \"PRT\", \"CYP\", \"CZE\", \"KOR\", \"SYC\", \"MLT\", \"FIN\", \"ITA\", \"MYS\"], \"name\": \"9.0\", \"showlegend\": true, \"showscale\": false, \"type\": \"choropleth\", \"z\": [1, 1, 1, 1, 1, 1, 1, 1, 1, 1, 1, 1, 1, 1, 1, 1, 1, 1, 1]}],\n",
       "                        {\"geo\": {\"center\": {}, \"domain\": {\"x\": [0.0, 1.0], \"y\": [0.0, 1.0]}}, \"legend\": {\"title\": {\"text\": \"decile_op_pop\"}, \"tracegroupgap\": 0}, \"margin\": {\"t\": 60}, \"template\": {\"data\": {\"bar\": [{\"error_x\": {\"color\": \"#2a3f5f\"}, \"error_y\": {\"color\": \"#2a3f5f\"}, \"marker\": {\"line\": {\"color\": \"#E5ECF6\", \"width\": 0.5}}, \"type\": \"bar\"}], \"barpolar\": [{\"marker\": {\"line\": {\"color\": \"#E5ECF6\", \"width\": 0.5}}, \"type\": \"barpolar\"}], \"carpet\": [{\"aaxis\": {\"endlinecolor\": \"#2a3f5f\", \"gridcolor\": \"white\", \"linecolor\": \"white\", \"minorgridcolor\": \"white\", \"startlinecolor\": \"#2a3f5f\"}, \"baxis\": {\"endlinecolor\": \"#2a3f5f\", \"gridcolor\": \"white\", \"linecolor\": \"white\", \"minorgridcolor\": \"white\", \"startlinecolor\": \"#2a3f5f\"}, \"type\": \"carpet\"}], \"choropleth\": [{\"colorbar\": {\"outlinewidth\": 0, \"ticks\": \"\"}, \"type\": \"choropleth\"}], \"contour\": [{\"colorbar\": {\"outlinewidth\": 0, \"ticks\": \"\"}, \"colorscale\": [[0.0, \"#0d0887\"], [0.1111111111111111, \"#46039f\"], [0.2222222222222222, \"#7201a8\"], [0.3333333333333333, \"#9c179e\"], [0.4444444444444444, \"#bd3786\"], [0.5555555555555556, \"#d8576b\"], [0.6666666666666666, \"#ed7953\"], [0.7777777777777778, \"#fb9f3a\"], [0.8888888888888888, \"#fdca26\"], [1.0, \"#f0f921\"]], \"type\": \"contour\"}], \"contourcarpet\": [{\"colorbar\": {\"outlinewidth\": 0, \"ticks\": \"\"}, \"type\": \"contourcarpet\"}], \"heatmap\": [{\"colorbar\": {\"outlinewidth\": 0, \"ticks\": \"\"}, \"colorscale\": [[0.0, \"#0d0887\"], [0.1111111111111111, \"#46039f\"], [0.2222222222222222, \"#7201a8\"], [0.3333333333333333, \"#9c179e\"], [0.4444444444444444, \"#bd3786\"], [0.5555555555555556, \"#d8576b\"], [0.6666666666666666, \"#ed7953\"], [0.7777777777777778, \"#fb9f3a\"], [0.8888888888888888, \"#fdca26\"], [1.0, \"#f0f921\"]], \"type\": \"heatmap\"}], \"heatmapgl\": [{\"colorbar\": {\"outlinewidth\": 0, \"ticks\": \"\"}, \"colorscale\": [[0.0, \"#0d0887\"], [0.1111111111111111, \"#46039f\"], [0.2222222222222222, \"#7201a8\"], [0.3333333333333333, \"#9c179e\"], [0.4444444444444444, \"#bd3786\"], [0.5555555555555556, \"#d8576b\"], [0.6666666666666666, \"#ed7953\"], [0.7777777777777778, \"#fb9f3a\"], [0.8888888888888888, \"#fdca26\"], [1.0, \"#f0f921\"]], \"type\": \"heatmapgl\"}], \"histogram\": [{\"marker\": {\"colorbar\": {\"outlinewidth\": 0, \"ticks\": \"\"}}, \"type\": \"histogram\"}], \"histogram2d\": [{\"colorbar\": {\"outlinewidth\": 0, \"ticks\": \"\"}, \"colorscale\": [[0.0, \"#0d0887\"], [0.1111111111111111, \"#46039f\"], [0.2222222222222222, \"#7201a8\"], [0.3333333333333333, \"#9c179e\"], [0.4444444444444444, \"#bd3786\"], [0.5555555555555556, \"#d8576b\"], [0.6666666666666666, \"#ed7953\"], [0.7777777777777778, \"#fb9f3a\"], [0.8888888888888888, \"#fdca26\"], [1.0, \"#f0f921\"]], \"type\": \"histogram2d\"}], \"histogram2dcontour\": [{\"colorbar\": {\"outlinewidth\": 0, \"ticks\": \"\"}, \"colorscale\": [[0.0, \"#0d0887\"], [0.1111111111111111, \"#46039f\"], [0.2222222222222222, \"#7201a8\"], [0.3333333333333333, \"#9c179e\"], [0.4444444444444444, \"#bd3786\"], [0.5555555555555556, \"#d8576b\"], [0.6666666666666666, \"#ed7953\"], [0.7777777777777778, \"#fb9f3a\"], [0.8888888888888888, \"#fdca26\"], [1.0, \"#f0f921\"]], \"type\": \"histogram2dcontour\"}], \"mesh3d\": [{\"colorbar\": {\"outlinewidth\": 0, \"ticks\": \"\"}, \"type\": \"mesh3d\"}], \"parcoords\": [{\"line\": {\"colorbar\": {\"outlinewidth\": 0, \"ticks\": \"\"}}, \"type\": \"parcoords\"}], \"pie\": [{\"automargin\": true, \"type\": \"pie\"}], \"scatter\": [{\"marker\": {\"colorbar\": {\"outlinewidth\": 0, \"ticks\": \"\"}}, \"type\": \"scatter\"}], \"scatter3d\": [{\"line\": {\"colorbar\": {\"outlinewidth\": 0, \"ticks\": \"\"}}, \"marker\": {\"colorbar\": {\"outlinewidth\": 0, \"ticks\": \"\"}}, \"type\": \"scatter3d\"}], \"scattercarpet\": [{\"marker\": {\"colorbar\": {\"outlinewidth\": 0, \"ticks\": \"\"}}, \"type\": \"scattercarpet\"}], \"scattergeo\": [{\"marker\": {\"colorbar\": {\"outlinewidth\": 0, \"ticks\": \"\"}}, \"type\": \"scattergeo\"}], \"scattergl\": [{\"marker\": {\"colorbar\": {\"outlinewidth\": 0, \"ticks\": \"\"}}, \"type\": \"scattergl\"}], \"scattermapbox\": [{\"marker\": {\"colorbar\": {\"outlinewidth\": 0, \"ticks\": \"\"}}, \"type\": \"scattermapbox\"}], \"scatterpolar\": [{\"marker\": {\"colorbar\": {\"outlinewidth\": 0, \"ticks\": \"\"}}, \"type\": \"scatterpolar\"}], \"scatterpolargl\": [{\"marker\": {\"colorbar\": {\"outlinewidth\": 0, \"ticks\": \"\"}}, \"type\": \"scatterpolargl\"}], \"scatterternary\": [{\"marker\": {\"colorbar\": {\"outlinewidth\": 0, \"ticks\": \"\"}}, \"type\": \"scatterternary\"}], \"surface\": [{\"colorbar\": {\"outlinewidth\": 0, \"ticks\": \"\"}, \"colorscale\": [[0.0, \"#0d0887\"], [0.1111111111111111, \"#46039f\"], [0.2222222222222222, \"#7201a8\"], [0.3333333333333333, \"#9c179e\"], [0.4444444444444444, \"#bd3786\"], [0.5555555555555556, \"#d8576b\"], [0.6666666666666666, \"#ed7953\"], [0.7777777777777778, \"#fb9f3a\"], [0.8888888888888888, \"#fdca26\"], [1.0, \"#f0f921\"]], \"type\": \"surface\"}], \"table\": [{\"cells\": {\"fill\": {\"color\": \"#EBF0F8\"}, \"line\": {\"color\": \"white\"}}, \"header\": {\"fill\": {\"color\": \"#C8D4E3\"}, \"line\": {\"color\": \"white\"}}, \"type\": \"table\"}]}, \"layout\": {\"annotationdefaults\": {\"arrowcolor\": \"#2a3f5f\", \"arrowhead\": 0, \"arrowwidth\": 1}, \"coloraxis\": {\"colorbar\": {\"outlinewidth\": 0, \"ticks\": \"\"}}, \"colorscale\": {\"diverging\": [[0, \"#8e0152\"], [0.1, \"#c51b7d\"], [0.2, \"#de77ae\"], [0.3, \"#f1b6da\"], [0.4, \"#fde0ef\"], [0.5, \"#f7f7f7\"], [0.6, \"#e6f5d0\"], [0.7, \"#b8e186\"], [0.8, \"#7fbc41\"], [0.9, \"#4d9221\"], [1, \"#276419\"]], \"sequential\": [[0.0, \"#0d0887\"], [0.1111111111111111, \"#46039f\"], [0.2222222222222222, \"#7201a8\"], [0.3333333333333333, \"#9c179e\"], [0.4444444444444444, \"#bd3786\"], [0.5555555555555556, \"#d8576b\"], [0.6666666666666666, \"#ed7953\"], [0.7777777777777778, \"#fb9f3a\"], [0.8888888888888888, \"#fdca26\"], [1.0, \"#f0f921\"]], \"sequentialminus\": [[0.0, \"#0d0887\"], [0.1111111111111111, \"#46039f\"], [0.2222222222222222, \"#7201a8\"], [0.3333333333333333, \"#9c179e\"], [0.4444444444444444, \"#bd3786\"], [0.5555555555555556, \"#d8576b\"], [0.6666666666666666, \"#ed7953\"], [0.7777777777777778, \"#fb9f3a\"], [0.8888888888888888, \"#fdca26\"], [1.0, \"#f0f921\"]]}, \"colorway\": [\"#636efa\", \"#EF553B\", \"#00cc96\", \"#ab63fa\", \"#FFA15A\", \"#19d3f3\", \"#FF6692\", \"#B6E880\", \"#FF97FF\", \"#FECB52\"], \"font\": {\"color\": \"#2a3f5f\"}, \"geo\": {\"bgcolor\": \"white\", \"lakecolor\": \"white\", \"landcolor\": \"#E5ECF6\", \"showlakes\": true, \"showland\": true, \"subunitcolor\": \"white\"}, \"hoverlabel\": {\"align\": \"left\"}, \"hovermode\": \"closest\", \"mapbox\": {\"style\": \"light\"}, \"paper_bgcolor\": \"white\", \"plot_bgcolor\": \"#E5ECF6\", \"polar\": {\"angularaxis\": {\"gridcolor\": \"white\", \"linecolor\": \"white\", \"ticks\": \"\"}, \"bgcolor\": \"#E5ECF6\", \"radialaxis\": {\"gridcolor\": \"white\", \"linecolor\": \"white\", \"ticks\": \"\"}}, \"scene\": {\"xaxis\": {\"backgroundcolor\": \"#E5ECF6\", \"gridcolor\": \"white\", \"gridwidth\": 2, \"linecolor\": \"white\", \"showbackground\": true, \"ticks\": \"\", \"zerolinecolor\": \"white\"}, \"yaxis\": {\"backgroundcolor\": \"#E5ECF6\", \"gridcolor\": \"white\", \"gridwidth\": 2, \"linecolor\": \"white\", \"showbackground\": true, \"ticks\": \"\", \"zerolinecolor\": \"white\"}, \"zaxis\": {\"backgroundcolor\": \"#E5ECF6\", \"gridcolor\": \"white\", \"gridwidth\": 2, \"linecolor\": \"white\", \"showbackground\": true, \"ticks\": \"\", \"zerolinecolor\": \"white\"}}, \"shapedefaults\": {\"line\": {\"color\": \"#2a3f5f\"}}, \"ternary\": {\"aaxis\": {\"gridcolor\": \"white\", \"linecolor\": \"white\", \"ticks\": \"\"}, \"baxis\": {\"gridcolor\": \"white\", \"linecolor\": \"white\", \"ticks\": \"\"}, \"bgcolor\": \"#E5ECF6\", \"caxis\": {\"gridcolor\": \"white\", \"linecolor\": \"white\", \"ticks\": \"\"}}, \"title\": {\"x\": 0.05}, \"xaxis\": {\"automargin\": true, \"gridcolor\": \"white\", \"linecolor\": \"white\", \"ticks\": \"\", \"title\": {\"standoff\": 15}, \"zerolinecolor\": \"white\", \"zerolinewidth\": 2}, \"yaxis\": {\"automargin\": true, \"gridcolor\": \"white\", \"linecolor\": \"white\", \"ticks\": \"\", \"title\": {\"standoff\": 15}, \"zerolinecolor\": \"white\", \"zerolinewidth\": 2}}}},\n",
       "                        {\"responsive\": true}\n",
       "                    ).then(function(){\n",
       "                            \n",
       "var gd = document.getElementById('e824ac09-e78b-48f1-86c8-59fd95fecc2d');\n",
       "var x = new MutationObserver(function (mutations, observer) {{\n",
       "        var display = window.getComputedStyle(gd).display;\n",
       "        if (!display || display === 'none') {{\n",
       "            console.log([gd, 'removed!']);\n",
       "            Plotly.purge(gd);\n",
       "            observer.disconnect();\n",
       "        }}\n",
       "}});\n",
       "\n",
       "// Listen for the removal of the full notebook cells\n",
       "var notebookContainer = gd.closest('#notebook-container');\n",
       "if (notebookContainer) {{\n",
       "    x.observe(notebookContainer, {childList: true});\n",
       "}}\n",
       "\n",
       "// Listen for the clearing of the current output cell\n",
       "var outputEl = gd.closest('.output');\n",
       "if (outputEl) {{\n",
       "    x.observe(outputEl, {childList: true});\n",
       "}}\n",
       "\n",
       "                        })\n",
       "                };\n",
       "                });\n",
       "            </script>\n",
       "        </div>"
      ]
     },
     "metadata": {},
     "output_type": "display_data"
    }
   ],
   "source": [
    "fig = px.choropleth(df, color=\"decile_op_pop\",\n",
    "                    locations=\"country_ISO\",\n",
    "                    hover_data=[\"meanop_pop\"]\n",
    "                   )\n",
    "fig.show()"
   ]
  },
  {
   "cell_type": "code",
   "execution_count": 18,
   "metadata": {},
   "outputs": [
    {
     "data": {
      "application/vnd.plotly.v1+json": {
       "config": {
        "plotlyServerURL": "https://plot.ly"
       },
       "data": [
        {
         "autocolorscale": false,
         "colorbar": {
          "thickness": 20,
          "ticks": "outside",
          "ticktext": [
           "0",
           ".0002-.003",
           ".004-.05",
           ".05-0.15",
           ".16-.328",
           ".332-.51",
           ".55-1.02",
           "1.03-1.76",
           "1.8-5.6",
           "6.2-48"
          ],
          "tickvals": [
           1,
           2,
           3,
           4,
           5,
           6,
           7,
           8,
           9,
           10
          ],
          "title": {
           "text": "kg per 100,000<br> "
          }
         },
         "colorscale": [
          [
           0,
           "rgb(165,0,38)"
          ],
          [
           0.1111111111111111,
           "rgb(215,48,39)"
          ],
          [
           0.2222222222222222,
           "rgb(244,109,67)"
          ],
          [
           0.3333333333333333,
           "rgb(253,174,97)"
          ],
          [
           0.4444444444444444,
           "rgb(254,224,144)"
          ],
          [
           0.5555555555555556,
           "rgb(224,243,248)"
          ],
          [
           0.6666666666666666,
           "rgb(171,217,233)"
          ],
          [
           0.7777777777777778,
           "rgb(116,173,209)"
          ],
          [
           0.8888888888888888,
           "rgb(69,117,180)"
          ],
          [
           1,
           "rgb(49,54,149)"
          ]
         ],
         "hoverinfo": "text",
         "locations": [
          "MHL",
          "CAF",
          "GAB",
          "CMR",
          "KHM",
          "COG",
          "GNB",
          "IRQ",
          "SSD",
          "SOM",
          "GIN",
          "NER",
          "PRY",
          "NRU",
          "STP",
          "DJI",
          "MLI",
          "YEM",
          "MRT",
          "GMB",
          "ATG",
          "VUT",
          "KNA",
          "GRD",
          "LCA",
          "GNQ",
          "LBR",
          "LSO",
          "WSM",
          "ERI",
          "SVN",
          "DEU",
          "DNK",
          "SWE",
          "CHE",
          "CAN",
          "FRA",
          "NOR",
          "LUX",
          "IRL",
          "ISR",
          "AUS",
          "NZL",
          "AUT",
          "NLD",
          "USA",
          "GBR",
          "ISL",
          "BEL",
          "MDG",
          "AGO",
          "TCD",
          "COD",
          "SLE",
          "NGA",
          "BDI",
          "HTI",
          "PAK",
          "PHL",
          "LAO",
          "LBY",
          "KIR",
          "MOZ",
          "EGY",
          "SUR",
          "TJK",
          "BKA",
          "TKM",
          "BOL",
          "BTN",
          "COM",
          "BEN",
          "TGO",
          "UZB",
          "VEN",
          "DZA",
          "SDN",
          "BGD",
          "NIC",
          "MAR",
          "AZE",
          "NPL",
          "MEX",
          "MDV",
          "RWA",
          "AFG",
          "TZA",
          "CPV",
          "IDN",
          "IND",
          "HND",
          "ETH",
          "ECU",
          "SLB",
          "DOM",
          "SEN",
          "QAT",
          "PER",
          "MDA",
          "UGA",
          "RUS",
          "MNG",
          "PNG",
          "TUV",
          "SYR",
          "ARE",
          "TUN",
          "ZWE",
          "GHA",
          "GTM",
          "MWI",
          "CUB",
          "ZMB",
          "KEN",
          "KAZ",
          "PAN",
          "SGP",
          "CHN",
          "BRN",
          "IRN",
          "THA",
          "SWZ",
          "CIV",
          "TON",
          "LBN",
          "KWT",
          "NAM",
          "TUR",
          "BIH",
          "BLZ",
          "PRK",
          "ARM",
          "FJI",
          "BWA",
          "JOR",
          "LKA",
          "DMA",
          "TLS",
          "COK",
          "COL",
          "BRA",
          "BLR",
          "URY",
          "ALB",
          "CRI",
          "SLV",
          "SAU",
          "KGZ",
          "JAM",
          "NIU",
          "MNE",
          "VCT",
          "FSM",
          "GRC",
          "JPN",
          "TTO",
          "LVA",
          "CHL",
          "HUN",
          "PLW",
          "GUY",
          "MMR",
          "BHR",
          "HRV",
          "ZAF",
          "BHS",
          "LTU",
          "SVK",
          "GEO",
          "ARG",
          "SRB",
          "ROU",
          "UKR",
          "BRB",
          "AND",
          "VNM",
          "MUS",
          "EST",
          "OMN",
          "MKD",
          "BGR",
          "POL",
          "ESP",
          "PRT",
          "CYP",
          "CZE",
          "KOR",
          "SYC",
          "MLT",
          "FIN",
          "ITA",
          "MYS"
         ],
         "marker": {
          "line": {
           "color": "darkgray",
           "width": 0.5
          }
         },
         "reversescale": true,
         "text": [
          "Marshall Islands",
          "Central African Republic",
          "Gabon",
          "Cameroon",
          "Cambodia",
          "Congo",
          "Guinea-Bissau",
          "Iraq",
          "South Sudan",
          "Somalia",
          "Guinea",
          "Niger",
          "Paraguay",
          "Nauru",
          "Sao Tome & Principe",
          "Djibouti",
          "Mali",
          "Yemen",
          "Mauritania",
          "Gambia",
          "Antigua & Barbuda",
          "Vanuatu",
          "Saint Kitts & Nevis",
          "Grenada",
          "Saint Lucia",
          "Equatorial Guinea",
          "Liberia",
          "Lesotho",
          "Samoa",
          "Eritrea",
          "Slovenia",
          "Germany",
          "Denmark",
          "Sweden",
          "Switzerland",
          "Canada",
          "France",
          "Norway",
          "Luxembourg",
          "Ireland",
          "Israel",
          "Australia",
          "New Zealand",
          "Austria",
          "Netherlands",
          "USA",
          "UK",
          "Iceland",
          "Belgium",
          "Madagascar",
          "Angola",
          "Chad",
          "Democratic Republic of the Congo",
          "Sierra Leone",
          "Nigeria",
          "Burundi",
          "Haiti",
          "Pakistan",
          "Philippines",
          "Lao People's Democratic Republic",
          "Libya",
          "Kiribati",
          "Mozambique",
          "Egypt",
          "Suriname",
          "Tajikistan",
          "Burkina Faso",
          "Turkmenistan",
          "Bolivia (Plurinational State of)",
          "Bhutan",
          "Comoros",
          "Benin",
          "Togo",
          "Uzbekistan",
          "Venezuela (Bolivarian Rep. of)",
          "Algeria",
          "Sudan",
          "Bangladesh",
          "Nicaragua",
          "Morocco",
          "Azerbaijan",
          "Nepal",
          "Mexico",
          "Maldives",
          "Rwanda",
          "Afghanistan",
          "Tanzania (United Republic of)",
          "Cabo Verde",
          "Indonesia",
          "India",
          "Honduras",
          "Ethiopia",
          "Ecuador",
          "Solomon Islands",
          "Dominican Republic",
          "Senegal",
          "Qatar",
          "Peru",
          "Micronesia (Federated States of)",
          "Uganda",
          "Russian Federation",
          "Mongolia",
          "Papua New Guinea",
          "Tuvalu",
          "Syrian Arab Republic",
          "United Arab Emirates",
          "Tunisia",
          "Zimbabwe",
          "Ghana",
          "Guatemala",
          "Malawi",
          "Cuba",
          "Zambia",
          "Kenya",
          "Kazakhstan",
          "Panama",
          "Singapore",
          "China",
          "Brunei Darussalam",
          "Iran (Islamic Republic of)",
          "Thailand",
          "Eswatini",
          "Côte d'Ivoire",
          "Tonga",
          "Lebanon",
          "Kuwait",
          "Namibia",
          "Turkey",
          "Bosnia & Herzegovina",
          "Belize",
          "Democratic People's Republic of Korea",
          "Armenia",
          "Fiji",
          "Botswana",
          "Jordan",
          "Sri Lanka",
          "Dominica",
          "Timor-Leste",
          "Cook Islands",
          "Colombia",
          "Brazil",
          "Belarus",
          "Uruguay",
          "Albania",
          "Costa Rica",
          "El Salvador",
          "Saudi Arabia",
          "Kyrgyzstan",
          "Jamaica",
          "Niue",
          "Montenegro",
          "Saint Vincent & the Grenadines",
          "Moldova (the Republic of)",
          "Greece",
          "Japan",
          "Trinidad & Tobago",
          "Latvia",
          "Chile",
          "Hungary",
          "Palau",
          "Guyana",
          "Myanmar",
          "Bahrain",
          "Croatia",
          "South Africa",
          "Bahamas",
          "Lithuania",
          "Slovakia",
          "Georgia",
          "Argentina",
          "Serbia",
          "Romania",
          "Ukraine",
          "Barbados",
          "Andorra",
          "Viet Nam",
          "Mauritius",
          "Estonia",
          "Oman",
          "North Macedonia",
          "Bulgaria",
          "Poland",
          "Spain",
          "Portugal",
          "Cyprus",
          "Czechia",
          "Republic of Korea",
          "Seychelles",
          "Malta",
          "Finland",
          "Italy",
          "Malaysia"
         ],
         "type": "choropleth",
         "z": [
          "1.0",
          "1.0",
          "1.0",
          "1.0",
          "1.0",
          "1.0",
          "1.0",
          "1.0",
          "1.0",
          "1.0",
          "1.0",
          "1.0",
          "1.0",
          "1.0",
          "1.0",
          "1.0",
          "1.0",
          "1.0",
          "1.0",
          "1.0",
          "1.0",
          "1.0",
          "1.0",
          "1.0",
          "1.0",
          "1.0",
          "1.0",
          "1.0",
          "1.0",
          "1.0",
          "10.0",
          "10.0",
          "10.0",
          "10.0",
          "10.0",
          "10.0",
          "10.0",
          "10.0",
          "10.0",
          "10.0",
          "10.0",
          "10.0",
          "10.0",
          "10.0",
          "10.0",
          "10.0",
          "10.0",
          "10.0",
          "10.0",
          "2.0",
          "2.0",
          "2.0",
          "2.0",
          "2.0",
          "2.0",
          "2.0",
          "2.0",
          "2.0",
          "3.0",
          "3.0",
          "3.0",
          "3.0",
          "3.0",
          "3.0",
          "3.0",
          "3.0",
          "3.0",
          "3.0",
          "3.0",
          "3.0",
          "3.0",
          "3.0",
          "3.0",
          "3.0",
          "3.0",
          "3.0",
          "3.0",
          "4.0",
          "4.0",
          "4.0",
          "4.0",
          "4.0",
          "4.0",
          "4.0",
          "4.0",
          "4.0",
          "4.0",
          "4.0",
          "4.0",
          "4.0",
          "4.0",
          "4.0",
          "4.0",
          "4.0",
          "4.0",
          "4.0",
          "5.0",
          "5.0",
          "5.0",
          "5.0",
          "5.0",
          "5.0",
          "5.0",
          "5.0",
          "5.0",
          "5.0",
          "5.0",
          "5.0",
          "5.0",
          "5.0",
          "5.0",
          "5.0",
          "5.0",
          "5.0",
          "5.0",
          "6.0",
          "6.0",
          "6.0",
          "6.0",
          "6.0",
          "6.0",
          "6.0",
          "6.0",
          "6.0",
          "6.0",
          "6.0",
          "6.0",
          "6.0",
          "6.0",
          "6.0",
          "6.0",
          "6.0",
          "6.0",
          "6.0",
          "6.0",
          "7.0",
          "7.0",
          "7.0",
          "7.0",
          "7.0",
          "7.0",
          "7.0",
          "7.0",
          "7.0",
          "7.0",
          "7.0",
          "7.0",
          "7.0",
          "7.0",
          "7.0",
          "7.0",
          "7.0",
          "7.0",
          "7.0",
          "8.0",
          "8.0",
          "8.0",
          "8.0",
          "8.0",
          "8.0",
          "8.0",
          "8.0",
          "8.0",
          "8.0",
          "8.0",
          "8.0",
          "8.0",
          "8.0",
          "8.0",
          "8.0",
          "8.0",
          "8.0",
          "8.0",
          "9.0",
          "9.0",
          "9.0",
          "9.0",
          "9.0",
          "9.0",
          "9.0",
          "9.0",
          "9.0",
          "9.0",
          "9.0",
          "9.0",
          "9.0",
          "9.0",
          "9.0",
          "9.0",
          "9.0",
          "9.0",
          "9.0"
         ]
        }
       ],
       "layout": {
        "geo": {
         "projection": {
          "type": "equirectangular"
         },
         "showcoastlines": false,
         "showframe": false
        },
        "template": {
         "data": {
          "bar": [
           {
            "error_x": {
             "color": "#2a3f5f"
            },
            "error_y": {
             "color": "#2a3f5f"
            },
            "marker": {
             "line": {
              "color": "#E5ECF6",
              "width": 0.5
             }
            },
            "type": "bar"
           }
          ],
          "barpolar": [
           {
            "marker": {
             "line": {
              "color": "#E5ECF6",
              "width": 0.5
             }
            },
            "type": "barpolar"
           }
          ],
          "carpet": [
           {
            "aaxis": {
             "endlinecolor": "#2a3f5f",
             "gridcolor": "white",
             "linecolor": "white",
             "minorgridcolor": "white",
             "startlinecolor": "#2a3f5f"
            },
            "baxis": {
             "endlinecolor": "#2a3f5f",
             "gridcolor": "white",
             "linecolor": "white",
             "minorgridcolor": "white",
             "startlinecolor": "#2a3f5f"
            },
            "type": "carpet"
           }
          ],
          "choropleth": [
           {
            "colorbar": {
             "outlinewidth": 0,
             "ticks": ""
            },
            "type": "choropleth"
           }
          ],
          "contour": [
           {
            "colorbar": {
             "outlinewidth": 0,
             "ticks": ""
            },
            "colorscale": [
             [
              0,
              "#0d0887"
             ],
             [
              0.1111111111111111,
              "#46039f"
             ],
             [
              0.2222222222222222,
              "#7201a8"
             ],
             [
              0.3333333333333333,
              "#9c179e"
             ],
             [
              0.4444444444444444,
              "#bd3786"
             ],
             [
              0.5555555555555556,
              "#d8576b"
             ],
             [
              0.6666666666666666,
              "#ed7953"
             ],
             [
              0.7777777777777778,
              "#fb9f3a"
             ],
             [
              0.8888888888888888,
              "#fdca26"
             ],
             [
              1,
              "#f0f921"
             ]
            ],
            "type": "contour"
           }
          ],
          "contourcarpet": [
           {
            "colorbar": {
             "outlinewidth": 0,
             "ticks": ""
            },
            "type": "contourcarpet"
           }
          ],
          "heatmap": [
           {
            "colorbar": {
             "outlinewidth": 0,
             "ticks": ""
            },
            "colorscale": [
             [
              0,
              "#0d0887"
             ],
             [
              0.1111111111111111,
              "#46039f"
             ],
             [
              0.2222222222222222,
              "#7201a8"
             ],
             [
              0.3333333333333333,
              "#9c179e"
             ],
             [
              0.4444444444444444,
              "#bd3786"
             ],
             [
              0.5555555555555556,
              "#d8576b"
             ],
             [
              0.6666666666666666,
              "#ed7953"
             ],
             [
              0.7777777777777778,
              "#fb9f3a"
             ],
             [
              0.8888888888888888,
              "#fdca26"
             ],
             [
              1,
              "#f0f921"
             ]
            ],
            "type": "heatmap"
           }
          ],
          "heatmapgl": [
           {
            "colorbar": {
             "outlinewidth": 0,
             "ticks": ""
            },
            "colorscale": [
             [
              0,
              "#0d0887"
             ],
             [
              0.1111111111111111,
              "#46039f"
             ],
             [
              0.2222222222222222,
              "#7201a8"
             ],
             [
              0.3333333333333333,
              "#9c179e"
             ],
             [
              0.4444444444444444,
              "#bd3786"
             ],
             [
              0.5555555555555556,
              "#d8576b"
             ],
             [
              0.6666666666666666,
              "#ed7953"
             ],
             [
              0.7777777777777778,
              "#fb9f3a"
             ],
             [
              0.8888888888888888,
              "#fdca26"
             ],
             [
              1,
              "#f0f921"
             ]
            ],
            "type": "heatmapgl"
           }
          ],
          "histogram": [
           {
            "marker": {
             "colorbar": {
              "outlinewidth": 0,
              "ticks": ""
             }
            },
            "type": "histogram"
           }
          ],
          "histogram2d": [
           {
            "colorbar": {
             "outlinewidth": 0,
             "ticks": ""
            },
            "colorscale": [
             [
              0,
              "#0d0887"
             ],
             [
              0.1111111111111111,
              "#46039f"
             ],
             [
              0.2222222222222222,
              "#7201a8"
             ],
             [
              0.3333333333333333,
              "#9c179e"
             ],
             [
              0.4444444444444444,
              "#bd3786"
             ],
             [
              0.5555555555555556,
              "#d8576b"
             ],
             [
              0.6666666666666666,
              "#ed7953"
             ],
             [
              0.7777777777777778,
              "#fb9f3a"
             ],
             [
              0.8888888888888888,
              "#fdca26"
             ],
             [
              1,
              "#f0f921"
             ]
            ],
            "type": "histogram2d"
           }
          ],
          "histogram2dcontour": [
           {
            "colorbar": {
             "outlinewidth": 0,
             "ticks": ""
            },
            "colorscale": [
             [
              0,
              "#0d0887"
             ],
             [
              0.1111111111111111,
              "#46039f"
             ],
             [
              0.2222222222222222,
              "#7201a8"
             ],
             [
              0.3333333333333333,
              "#9c179e"
             ],
             [
              0.4444444444444444,
              "#bd3786"
             ],
             [
              0.5555555555555556,
              "#d8576b"
             ],
             [
              0.6666666666666666,
              "#ed7953"
             ],
             [
              0.7777777777777778,
              "#fb9f3a"
             ],
             [
              0.8888888888888888,
              "#fdca26"
             ],
             [
              1,
              "#f0f921"
             ]
            ],
            "type": "histogram2dcontour"
           }
          ],
          "mesh3d": [
           {
            "colorbar": {
             "outlinewidth": 0,
             "ticks": ""
            },
            "type": "mesh3d"
           }
          ],
          "parcoords": [
           {
            "line": {
             "colorbar": {
              "outlinewidth": 0,
              "ticks": ""
             }
            },
            "type": "parcoords"
           }
          ],
          "pie": [
           {
            "automargin": true,
            "type": "pie"
           }
          ],
          "scatter": [
           {
            "marker": {
             "colorbar": {
              "outlinewidth": 0,
              "ticks": ""
             }
            },
            "type": "scatter"
           }
          ],
          "scatter3d": [
           {
            "line": {
             "colorbar": {
              "outlinewidth": 0,
              "ticks": ""
             }
            },
            "marker": {
             "colorbar": {
              "outlinewidth": 0,
              "ticks": ""
             }
            },
            "type": "scatter3d"
           }
          ],
          "scattercarpet": [
           {
            "marker": {
             "colorbar": {
              "outlinewidth": 0,
              "ticks": ""
             }
            },
            "type": "scattercarpet"
           }
          ],
          "scattergeo": [
           {
            "marker": {
             "colorbar": {
              "outlinewidth": 0,
              "ticks": ""
             }
            },
            "type": "scattergeo"
           }
          ],
          "scattergl": [
           {
            "marker": {
             "colorbar": {
              "outlinewidth": 0,
              "ticks": ""
             }
            },
            "type": "scattergl"
           }
          ],
          "scattermapbox": [
           {
            "marker": {
             "colorbar": {
              "outlinewidth": 0,
              "ticks": ""
             }
            },
            "type": "scattermapbox"
           }
          ],
          "scatterpolar": [
           {
            "marker": {
             "colorbar": {
              "outlinewidth": 0,
              "ticks": ""
             }
            },
            "type": "scatterpolar"
           }
          ],
          "scatterpolargl": [
           {
            "marker": {
             "colorbar": {
              "outlinewidth": 0,
              "ticks": ""
             }
            },
            "type": "scatterpolargl"
           }
          ],
          "scatterternary": [
           {
            "marker": {
             "colorbar": {
              "outlinewidth": 0,
              "ticks": ""
             }
            },
            "type": "scatterternary"
           }
          ],
          "surface": [
           {
            "colorbar": {
             "outlinewidth": 0,
             "ticks": ""
            },
            "colorscale": [
             [
              0,
              "#0d0887"
             ],
             [
              0.1111111111111111,
              "#46039f"
             ],
             [
              0.2222222222222222,
              "#7201a8"
             ],
             [
              0.3333333333333333,
              "#9c179e"
             ],
             [
              0.4444444444444444,
              "#bd3786"
             ],
             [
              0.5555555555555556,
              "#d8576b"
             ],
             [
              0.6666666666666666,
              "#ed7953"
             ],
             [
              0.7777777777777778,
              "#fb9f3a"
             ],
             [
              0.8888888888888888,
              "#fdca26"
             ],
             [
              1,
              "#f0f921"
             ]
            ],
            "type": "surface"
           }
          ],
          "table": [
           {
            "cells": {
             "fill": {
              "color": "#EBF0F8"
             },
             "line": {
              "color": "white"
             }
            },
            "header": {
             "fill": {
              "color": "#C8D4E3"
             },
             "line": {
              "color": "white"
             }
            },
            "type": "table"
           }
          ]
         },
         "layout": {
          "annotationdefaults": {
           "arrowcolor": "#2a3f5f",
           "arrowhead": 0,
           "arrowwidth": 1
          },
          "coloraxis": {
           "colorbar": {
            "outlinewidth": 0,
            "ticks": ""
           }
          },
          "colorscale": {
           "diverging": [
            [
             0,
             "#8e0152"
            ],
            [
             0.1,
             "#c51b7d"
            ],
            [
             0.2,
             "#de77ae"
            ],
            [
             0.3,
             "#f1b6da"
            ],
            [
             0.4,
             "#fde0ef"
            ],
            [
             0.5,
             "#f7f7f7"
            ],
            [
             0.6,
             "#e6f5d0"
            ],
            [
             0.7,
             "#b8e186"
            ],
            [
             0.8,
             "#7fbc41"
            ],
            [
             0.9,
             "#4d9221"
            ],
            [
             1,
             "#276419"
            ]
           ],
           "sequential": [
            [
             0,
             "#0d0887"
            ],
            [
             0.1111111111111111,
             "#46039f"
            ],
            [
             0.2222222222222222,
             "#7201a8"
            ],
            [
             0.3333333333333333,
             "#9c179e"
            ],
            [
             0.4444444444444444,
             "#bd3786"
            ],
            [
             0.5555555555555556,
             "#d8576b"
            ],
            [
             0.6666666666666666,
             "#ed7953"
            ],
            [
             0.7777777777777778,
             "#fb9f3a"
            ],
            [
             0.8888888888888888,
             "#fdca26"
            ],
            [
             1,
             "#f0f921"
            ]
           ],
           "sequentialminus": [
            [
             0,
             "#0d0887"
            ],
            [
             0.1111111111111111,
             "#46039f"
            ],
            [
             0.2222222222222222,
             "#7201a8"
            ],
            [
             0.3333333333333333,
             "#9c179e"
            ],
            [
             0.4444444444444444,
             "#bd3786"
            ],
            [
             0.5555555555555556,
             "#d8576b"
            ],
            [
             0.6666666666666666,
             "#ed7953"
            ],
            [
             0.7777777777777778,
             "#fb9f3a"
            ],
            [
             0.8888888888888888,
             "#fdca26"
            ],
            [
             1,
             "#f0f921"
            ]
           ]
          },
          "colorway": [
           "#636efa",
           "#EF553B",
           "#00cc96",
           "#ab63fa",
           "#FFA15A",
           "#19d3f3",
           "#FF6692",
           "#B6E880",
           "#FF97FF",
           "#FECB52"
          ],
          "font": {
           "color": "#2a3f5f"
          },
          "geo": {
           "bgcolor": "white",
           "lakecolor": "white",
           "landcolor": "#E5ECF6",
           "showlakes": true,
           "showland": true,
           "subunitcolor": "white"
          },
          "hoverlabel": {
           "align": "left"
          },
          "hovermode": "closest",
          "mapbox": {
           "style": "light"
          },
          "paper_bgcolor": "white",
          "plot_bgcolor": "#E5ECF6",
          "polar": {
           "angularaxis": {
            "gridcolor": "white",
            "linecolor": "white",
            "ticks": ""
           },
           "bgcolor": "#E5ECF6",
           "radialaxis": {
            "gridcolor": "white",
            "linecolor": "white",
            "ticks": ""
           }
          },
          "scene": {
           "xaxis": {
            "backgroundcolor": "#E5ECF6",
            "gridcolor": "white",
            "gridwidth": 2,
            "linecolor": "white",
            "showbackground": true,
            "ticks": "",
            "zerolinecolor": "white"
           },
           "yaxis": {
            "backgroundcolor": "#E5ECF6",
            "gridcolor": "white",
            "gridwidth": 2,
            "linecolor": "white",
            "showbackground": true,
            "ticks": "",
            "zerolinecolor": "white"
           },
           "zaxis": {
            "backgroundcolor": "#E5ECF6",
            "gridcolor": "white",
            "gridwidth": 2,
            "linecolor": "white",
            "showbackground": true,
            "ticks": "",
            "zerolinecolor": "white"
           }
          },
          "shapedefaults": {
           "line": {
            "color": "#2a3f5f"
           }
          },
          "ternary": {
           "aaxis": {
            "gridcolor": "white",
            "linecolor": "white",
            "ticks": ""
           },
           "baxis": {
            "gridcolor": "white",
            "linecolor": "white",
            "ticks": ""
           },
           "bgcolor": "#E5ECF6",
           "caxis": {
            "gridcolor": "white",
            "linecolor": "white",
            "ticks": ""
           }
          },
          "title": {
           "x": 0.05
          },
          "xaxis": {
           "automargin": true,
           "gridcolor": "white",
           "linecolor": "white",
           "ticks": "",
           "title": {
            "standoff": 15
           },
           "zerolinecolor": "white",
           "zerolinewidth": 2
          },
          "yaxis": {
           "automargin": true,
           "gridcolor": "white",
           "linecolor": "white",
           "ticks": "",
           "title": {
            "standoff": 15
           },
           "zerolinecolor": "white",
           "zerolinewidth": 2
          }
         }
        }
       }
      },
      "text/html": [
       "<div>\n",
       "        \n",
       "        \n",
       "            <div id=\"a8d70c72-ec70-4e8a-a31e-bbfbb81c4c68\" class=\"plotly-graph-div\" style=\"height:525px; width:100%;\"></div>\n",
       "            <script type=\"text/javascript\">\n",
       "                require([\"plotly\"], function(Plotly) {\n",
       "                    window.PLOTLYENV=window.PLOTLYENV || {};\n",
       "                    \n",
       "                if (document.getElementById(\"a8d70c72-ec70-4e8a-a31e-bbfbb81c4c68\")) {\n",
       "                    Plotly.newPlot(\n",
       "                        'a8d70c72-ec70-4e8a-a31e-bbfbb81c4c68',\n",
       "                        [{\"autocolorscale\": false, \"colorbar\": {\"thickness\": 20, \"ticks\": \"outside\", \"ticktext\": [\"0\", \".0002-.003\", \".004-.05\", \".05-0.15\", \".16-.328\", \".332-.51\", \".55-1.02\", \"1.03-1.76\", \"1.8-5.6\", \"6.2-48\"], \"tickvals\": [1, 2, 3, 4, 5, 6, 7, 8, 9, 10], \"title\": {\"text\": \"kg per 100,000<br> \"}}, \"colorscale\": [[0.0, \"rgb(165,0,38)\"], [0.1111111111111111, \"rgb(215,48,39)\"], [0.2222222222222222, \"rgb(244,109,67)\"], [0.3333333333333333, \"rgb(253,174,97)\"], [0.4444444444444444, \"rgb(254,224,144)\"], [0.5555555555555556, \"rgb(224,243,248)\"], [0.6666666666666666, \"rgb(171,217,233)\"], [0.7777777777777778, \"rgb(116,173,209)\"], [0.8888888888888888, \"rgb(69,117,180)\"], [1.0, \"rgb(49,54,149)\"]], \"hoverinfo\": \"text\", \"locations\": [\"MHL\", \"CAF\", \"GAB\", \"CMR\", \"KHM\", \"COG\", \"GNB\", \"IRQ\", \"SSD\", \"SOM\", \"GIN\", \"NER\", \"PRY\", \"NRU\", \"STP\", \"DJI\", \"MLI\", \"YEM\", \"MRT\", \"GMB\", \"ATG\", \"VUT\", \"KNA\", \"GRD\", \"LCA\", \"GNQ\", \"LBR\", \"LSO\", \"WSM\", \"ERI\", \"SVN\", \"DEU\", \"DNK\", \"SWE\", \"CHE\", \"CAN\", \"FRA\", \"NOR\", \"LUX\", \"IRL\", \"ISR\", \"AUS\", \"NZL\", \"AUT\", \"NLD\", \"USA\", \"GBR\", \"ISL\", \"BEL\", \"MDG\", \"AGO\", \"TCD\", \"COD\", \"SLE\", \"NGA\", \"BDI\", \"HTI\", \"PAK\", \"PHL\", \"LAO\", \"LBY\", \"KIR\", \"MOZ\", \"EGY\", \"SUR\", \"TJK\", \"BKA\", \"TKM\", \"BOL\", \"BTN\", \"COM\", \"BEN\", \"TGO\", \"UZB\", \"VEN\", \"DZA\", \"SDN\", \"BGD\", \"NIC\", \"MAR\", \"AZE\", \"NPL\", \"MEX\", \"MDV\", \"RWA\", \"AFG\", \"TZA\", \"CPV\", \"IDN\", \"IND\", \"HND\", \"ETH\", \"ECU\", \"SLB\", \"DOM\", \"SEN\", \"QAT\", \"PER\", \"MDA\", \"UGA\", \"RUS\", \"MNG\", \"PNG\", \"TUV\", \"SYR\", \"ARE\", \"TUN\", \"ZWE\", \"GHA\", \"GTM\", \"MWI\", \"CUB\", \"ZMB\", \"KEN\", \"KAZ\", \"PAN\", \"SGP\", \"CHN\", \"BRN\", \"IRN\", \"THA\", \"SWZ\", \"CIV\", \"TON\", \"LBN\", \"KWT\", \"NAM\", \"TUR\", \"BIH\", \"BLZ\", \"PRK\", \"ARM\", \"FJI\", \"BWA\", \"JOR\", \"LKA\", \"DMA\", \"TLS\", \"COK\", \"COL\", \"BRA\", \"BLR\", \"URY\", \"ALB\", \"CRI\", \"SLV\", \"SAU\", \"KGZ\", \"JAM\", \"NIU\", \"MNE\", \"VCT\", \"FSM\", \"GRC\", \"JPN\", \"TTO\", \"LVA\", \"CHL\", \"HUN\", \"PLW\", \"GUY\", \"MMR\", \"BHR\", \"HRV\", \"ZAF\", \"BHS\", \"LTU\", \"SVK\", \"GEO\", \"ARG\", \"SRB\", \"ROU\", \"UKR\", \"BRB\", \"AND\", \"VNM\", \"MUS\", \"EST\", \"OMN\", \"MKD\", \"BGR\", \"POL\", \"ESP\", \"PRT\", \"CYP\", \"CZE\", \"KOR\", \"SYC\", \"MLT\", \"FIN\", \"ITA\", \"MYS\"], \"marker\": {\"line\": {\"color\": \"darkgray\", \"width\": 0.5}}, \"reversescale\": true, \"text\": [\"Marshall Islands\", \"Central African Republic\", \"Gabon\", \"Cameroon\", \"Cambodia\", \"Congo\", \"Guinea-Bissau\", \"Iraq\", \"South Sudan\", \"Somalia\", \"Guinea\", \"Niger\", \"Paraguay\", \"Nauru\", \"Sao Tome & Principe\", \"Djibouti\", \"Mali\", \"Yemen\", \"Mauritania\", \"Gambia\", \"Antigua & Barbuda\", \"Vanuatu\", \"Saint Kitts & Nevis\", \"Grenada\", \"Saint Lucia\", \"Equatorial Guinea\", \"Liberia\", \"Lesotho\", \"Samoa\", \"Eritrea\", \"Slovenia\", \"Germany\", \"Denmark\", \"Sweden\", \"Switzerland\", \"Canada\", \"France\", \"Norway\", \"Luxembourg\", \"Ireland\", \"Israel\", \"Australia\", \"New Zealand\", \"Austria\", \"Netherlands\", \"USA\", \"UK\", \"Iceland\", \"Belgium\", \"Madagascar\", \"Angola\", \"Chad\", \"Democratic Republic of the Congo\", \"Sierra Leone\", \"Nigeria\", \"Burundi\", \"Haiti\", \"Pakistan\", \"Philippines\", \"Lao People's Democratic Republic\", \"Libya\", \"Kiribati\", \"Mozambique\", \"Egypt\", \"Suriname\", \"Tajikistan\", \"Burkina Faso\", \"Turkmenistan\", \"Bolivia (Plurinational State of)\", \"Bhutan\", \"Comoros\", \"Benin\", \"Togo\", \"Uzbekistan\", \"Venezuela (Bolivarian Rep. of)\", \"Algeria\", \"Sudan\", \"Bangladesh\", \"Nicaragua\", \"Morocco\", \"Azerbaijan\", \"Nepal\", \"Mexico\", \"Maldives\", \"Rwanda\", \"Afghanistan\", \"Tanzania (United Republic of)\", \"Cabo Verde\", \"Indonesia\", \"India\", \"Honduras\", \"Ethiopia\", \"Ecuador\", \"Solomon Islands\", \"Dominican Republic\", \"Senegal\", \"Qatar\", \"Peru\", \"Micronesia (Federated States of)\", \"Uganda\", \"Russian Federation\", \"Mongolia\", \"Papua New Guinea\", \"Tuvalu\", \"Syrian Arab Republic\", \"United Arab Emirates\", \"Tunisia\", \"Zimbabwe\", \"Ghana\", \"Guatemala\", \"Malawi\", \"Cuba\", \"Zambia\", \"Kenya\", \"Kazakhstan\", \"Panama\", \"Singapore\", \"China\", \"Brunei Darussalam\", \"Iran (Islamic Republic of)\", \"Thailand\", \"Eswatini\", \"C\\u00f4te d'Ivoire\", \"Tonga\", \"Lebanon\", \"Kuwait\", \"Namibia\", \"Turkey\", \"Bosnia & Herzegovina\", \"Belize\", \"Democratic People's Republic of Korea\", \"Armenia\", \"Fiji\", \"Botswana\", \"Jordan\", \"Sri Lanka\", \"Dominica\", \"Timor-Leste\", \"Cook Islands\", \"Colombia\", \"Brazil\", \"Belarus\", \"Uruguay\", \"Albania\", \"Costa Rica\", \"El Salvador\", \"Saudi Arabia\", \"Kyrgyzstan\", \"Jamaica\", \"Niue\", \"Montenegro\", \"Saint Vincent & the Grenadines\", \"Moldova (the Republic of)\", \"Greece\", \"Japan\", \"Trinidad & Tobago\", \"Latvia\", \"Chile\", \"Hungary\", \"Palau\", \"Guyana\", \"Myanmar\", \"Bahrain\", \"Croatia\", \"South Africa\", \"Bahamas\", \"Lithuania\", \"Slovakia\", \"Georgia\", \"Argentina\", \"Serbia\", \"Romania\", \"Ukraine\", \"Barbados\", \"Andorra\", \"Viet Nam\", \"Mauritius\", \"Estonia\", \"Oman\", \"North Macedonia\", \"Bulgaria\", \"Poland\", \"Spain\", \"Portugal\", \"Cyprus\", \"Czechia\", \"Republic of Korea\", \"Seychelles\", \"Malta\", \"Finland\", \"Italy\", \"Malaysia\"], \"type\": \"choropleth\", \"z\": [\"1.0\", \"1.0\", \"1.0\", \"1.0\", \"1.0\", \"1.0\", \"1.0\", \"1.0\", \"1.0\", \"1.0\", \"1.0\", \"1.0\", \"1.0\", \"1.0\", \"1.0\", \"1.0\", \"1.0\", \"1.0\", \"1.0\", \"1.0\", \"1.0\", \"1.0\", \"1.0\", \"1.0\", \"1.0\", \"1.0\", \"1.0\", \"1.0\", \"1.0\", \"1.0\", \"10.0\", \"10.0\", \"10.0\", \"10.0\", \"10.0\", \"10.0\", \"10.0\", \"10.0\", \"10.0\", \"10.0\", \"10.0\", \"10.0\", \"10.0\", \"10.0\", \"10.0\", \"10.0\", \"10.0\", \"10.0\", \"10.0\", \"2.0\", \"2.0\", \"2.0\", \"2.0\", \"2.0\", \"2.0\", \"2.0\", \"2.0\", \"2.0\", \"3.0\", \"3.0\", \"3.0\", \"3.0\", \"3.0\", \"3.0\", \"3.0\", \"3.0\", \"3.0\", \"3.0\", \"3.0\", \"3.0\", \"3.0\", \"3.0\", \"3.0\", \"3.0\", \"3.0\", \"3.0\", \"3.0\", \"4.0\", \"4.0\", \"4.0\", \"4.0\", \"4.0\", \"4.0\", \"4.0\", \"4.0\", \"4.0\", \"4.0\", \"4.0\", \"4.0\", \"4.0\", \"4.0\", \"4.0\", \"4.0\", \"4.0\", \"4.0\", \"4.0\", \"5.0\", \"5.0\", \"5.0\", \"5.0\", \"5.0\", \"5.0\", \"5.0\", \"5.0\", \"5.0\", \"5.0\", \"5.0\", \"5.0\", \"5.0\", \"5.0\", \"5.0\", \"5.0\", \"5.0\", \"5.0\", \"5.0\", \"6.0\", \"6.0\", \"6.0\", \"6.0\", \"6.0\", \"6.0\", \"6.0\", \"6.0\", \"6.0\", \"6.0\", \"6.0\", \"6.0\", \"6.0\", \"6.0\", \"6.0\", \"6.0\", \"6.0\", \"6.0\", \"6.0\", \"6.0\", \"7.0\", \"7.0\", \"7.0\", \"7.0\", \"7.0\", \"7.0\", \"7.0\", \"7.0\", \"7.0\", \"7.0\", \"7.0\", \"7.0\", \"7.0\", \"7.0\", \"7.0\", \"7.0\", \"7.0\", \"7.0\", \"7.0\", \"8.0\", \"8.0\", \"8.0\", \"8.0\", \"8.0\", \"8.0\", \"8.0\", \"8.0\", \"8.0\", \"8.0\", \"8.0\", \"8.0\", \"8.0\", \"8.0\", \"8.0\", \"8.0\", \"8.0\", \"8.0\", \"8.0\", \"9.0\", \"9.0\", \"9.0\", \"9.0\", \"9.0\", \"9.0\", \"9.0\", \"9.0\", \"9.0\", \"9.0\", \"9.0\", \"9.0\", \"9.0\", \"9.0\", \"9.0\", \"9.0\", \"9.0\", \"9.0\", \"9.0\"]}],\n",
       "                        {\"geo\": {\"projection\": {\"type\": \"equirectangular\"}, \"showcoastlines\": false, \"showframe\": false}, \"template\": {\"data\": {\"bar\": [{\"error_x\": {\"color\": \"#2a3f5f\"}, \"error_y\": {\"color\": \"#2a3f5f\"}, \"marker\": {\"line\": {\"color\": \"#E5ECF6\", \"width\": 0.5}}, \"type\": \"bar\"}], \"barpolar\": [{\"marker\": {\"line\": {\"color\": \"#E5ECF6\", \"width\": 0.5}}, \"type\": \"barpolar\"}], \"carpet\": [{\"aaxis\": {\"endlinecolor\": \"#2a3f5f\", \"gridcolor\": \"white\", \"linecolor\": \"white\", \"minorgridcolor\": \"white\", \"startlinecolor\": \"#2a3f5f\"}, \"baxis\": {\"endlinecolor\": \"#2a3f5f\", \"gridcolor\": \"white\", \"linecolor\": \"white\", \"minorgridcolor\": \"white\", \"startlinecolor\": \"#2a3f5f\"}, \"type\": \"carpet\"}], \"choropleth\": [{\"colorbar\": {\"outlinewidth\": 0, \"ticks\": \"\"}, \"type\": \"choropleth\"}], \"contour\": [{\"colorbar\": {\"outlinewidth\": 0, \"ticks\": \"\"}, \"colorscale\": [[0.0, \"#0d0887\"], [0.1111111111111111, \"#46039f\"], [0.2222222222222222, \"#7201a8\"], [0.3333333333333333, \"#9c179e\"], [0.4444444444444444, \"#bd3786\"], [0.5555555555555556, \"#d8576b\"], [0.6666666666666666, \"#ed7953\"], [0.7777777777777778, \"#fb9f3a\"], [0.8888888888888888, \"#fdca26\"], [1.0, \"#f0f921\"]], \"type\": \"contour\"}], \"contourcarpet\": [{\"colorbar\": {\"outlinewidth\": 0, \"ticks\": \"\"}, \"type\": \"contourcarpet\"}], \"heatmap\": [{\"colorbar\": {\"outlinewidth\": 0, \"ticks\": \"\"}, \"colorscale\": [[0.0, \"#0d0887\"], [0.1111111111111111, \"#46039f\"], [0.2222222222222222, \"#7201a8\"], [0.3333333333333333, \"#9c179e\"], [0.4444444444444444, \"#bd3786\"], [0.5555555555555556, \"#d8576b\"], [0.6666666666666666, \"#ed7953\"], [0.7777777777777778, \"#fb9f3a\"], [0.8888888888888888, \"#fdca26\"], [1.0, \"#f0f921\"]], \"type\": \"heatmap\"}], \"heatmapgl\": [{\"colorbar\": {\"outlinewidth\": 0, \"ticks\": \"\"}, \"colorscale\": [[0.0, \"#0d0887\"], [0.1111111111111111, \"#46039f\"], [0.2222222222222222, \"#7201a8\"], [0.3333333333333333, \"#9c179e\"], [0.4444444444444444, \"#bd3786\"], [0.5555555555555556, \"#d8576b\"], [0.6666666666666666, \"#ed7953\"], [0.7777777777777778, \"#fb9f3a\"], [0.8888888888888888, \"#fdca26\"], [1.0, \"#f0f921\"]], \"type\": \"heatmapgl\"}], \"histogram\": [{\"marker\": {\"colorbar\": {\"outlinewidth\": 0, \"ticks\": \"\"}}, \"type\": \"histogram\"}], \"histogram2d\": [{\"colorbar\": {\"outlinewidth\": 0, \"ticks\": \"\"}, \"colorscale\": [[0.0, \"#0d0887\"], [0.1111111111111111, \"#46039f\"], [0.2222222222222222, \"#7201a8\"], [0.3333333333333333, \"#9c179e\"], [0.4444444444444444, \"#bd3786\"], [0.5555555555555556, \"#d8576b\"], [0.6666666666666666, \"#ed7953\"], [0.7777777777777778, \"#fb9f3a\"], [0.8888888888888888, \"#fdca26\"], [1.0, \"#f0f921\"]], \"type\": \"histogram2d\"}], \"histogram2dcontour\": [{\"colorbar\": {\"outlinewidth\": 0, \"ticks\": \"\"}, \"colorscale\": [[0.0, \"#0d0887\"], [0.1111111111111111, \"#46039f\"], [0.2222222222222222, \"#7201a8\"], [0.3333333333333333, \"#9c179e\"], [0.4444444444444444, \"#bd3786\"], [0.5555555555555556, \"#d8576b\"], [0.6666666666666666, \"#ed7953\"], [0.7777777777777778, \"#fb9f3a\"], [0.8888888888888888, \"#fdca26\"], [1.0, \"#f0f921\"]], \"type\": \"histogram2dcontour\"}], \"mesh3d\": [{\"colorbar\": {\"outlinewidth\": 0, \"ticks\": \"\"}, \"type\": \"mesh3d\"}], \"parcoords\": [{\"line\": {\"colorbar\": {\"outlinewidth\": 0, \"ticks\": \"\"}}, \"type\": \"parcoords\"}], \"pie\": [{\"automargin\": true, \"type\": \"pie\"}], \"scatter\": [{\"marker\": {\"colorbar\": {\"outlinewidth\": 0, \"ticks\": \"\"}}, \"type\": \"scatter\"}], \"scatter3d\": [{\"line\": {\"colorbar\": {\"outlinewidth\": 0, \"ticks\": \"\"}}, \"marker\": {\"colorbar\": {\"outlinewidth\": 0, \"ticks\": \"\"}}, \"type\": \"scatter3d\"}], \"scattercarpet\": [{\"marker\": {\"colorbar\": {\"outlinewidth\": 0, \"ticks\": \"\"}}, \"type\": \"scattercarpet\"}], \"scattergeo\": [{\"marker\": {\"colorbar\": {\"outlinewidth\": 0, \"ticks\": \"\"}}, \"type\": \"scattergeo\"}], \"scattergl\": [{\"marker\": {\"colorbar\": {\"outlinewidth\": 0, \"ticks\": \"\"}}, \"type\": \"scattergl\"}], \"scattermapbox\": [{\"marker\": {\"colorbar\": {\"outlinewidth\": 0, \"ticks\": \"\"}}, \"type\": \"scattermapbox\"}], \"scatterpolar\": [{\"marker\": {\"colorbar\": {\"outlinewidth\": 0, \"ticks\": \"\"}}, \"type\": \"scatterpolar\"}], \"scatterpolargl\": [{\"marker\": {\"colorbar\": {\"outlinewidth\": 0, \"ticks\": \"\"}}, \"type\": \"scatterpolargl\"}], \"scatterternary\": [{\"marker\": {\"colorbar\": {\"outlinewidth\": 0, \"ticks\": \"\"}}, \"type\": \"scatterternary\"}], \"surface\": [{\"colorbar\": {\"outlinewidth\": 0, \"ticks\": \"\"}, \"colorscale\": [[0.0, \"#0d0887\"], [0.1111111111111111, \"#46039f\"], [0.2222222222222222, \"#7201a8\"], [0.3333333333333333, \"#9c179e\"], [0.4444444444444444, \"#bd3786\"], [0.5555555555555556, \"#d8576b\"], [0.6666666666666666, \"#ed7953\"], [0.7777777777777778, \"#fb9f3a\"], [0.8888888888888888, \"#fdca26\"], [1.0, \"#f0f921\"]], \"type\": \"surface\"}], \"table\": [{\"cells\": {\"fill\": {\"color\": \"#EBF0F8\"}, \"line\": {\"color\": \"white\"}}, \"header\": {\"fill\": {\"color\": \"#C8D4E3\"}, \"line\": {\"color\": \"white\"}}, \"type\": \"table\"}]}, \"layout\": {\"annotationdefaults\": {\"arrowcolor\": \"#2a3f5f\", \"arrowhead\": 0, \"arrowwidth\": 1}, \"coloraxis\": {\"colorbar\": {\"outlinewidth\": 0, \"ticks\": \"\"}}, \"colorscale\": {\"diverging\": [[0, \"#8e0152\"], [0.1, \"#c51b7d\"], [0.2, \"#de77ae\"], [0.3, \"#f1b6da\"], [0.4, \"#fde0ef\"], [0.5, \"#f7f7f7\"], [0.6, \"#e6f5d0\"], [0.7, \"#b8e186\"], [0.8, \"#7fbc41\"], [0.9, \"#4d9221\"], [1, \"#276419\"]], \"sequential\": [[0.0, \"#0d0887\"], [0.1111111111111111, \"#46039f\"], [0.2222222222222222, \"#7201a8\"], [0.3333333333333333, \"#9c179e\"], [0.4444444444444444, \"#bd3786\"], [0.5555555555555556, \"#d8576b\"], [0.6666666666666666, \"#ed7953\"], [0.7777777777777778, \"#fb9f3a\"], [0.8888888888888888, \"#fdca26\"], [1.0, \"#f0f921\"]], \"sequentialminus\": [[0.0, \"#0d0887\"], [0.1111111111111111, \"#46039f\"], [0.2222222222222222, \"#7201a8\"], [0.3333333333333333, \"#9c179e\"], [0.4444444444444444, \"#bd3786\"], [0.5555555555555556, \"#d8576b\"], [0.6666666666666666, \"#ed7953\"], [0.7777777777777778, \"#fb9f3a\"], [0.8888888888888888, \"#fdca26\"], [1.0, \"#f0f921\"]]}, \"colorway\": [\"#636efa\", \"#EF553B\", \"#00cc96\", \"#ab63fa\", \"#FFA15A\", \"#19d3f3\", \"#FF6692\", \"#B6E880\", \"#FF97FF\", \"#FECB52\"], \"font\": {\"color\": \"#2a3f5f\"}, \"geo\": {\"bgcolor\": \"white\", \"lakecolor\": \"white\", \"landcolor\": \"#E5ECF6\", \"showlakes\": true, \"showland\": true, \"subunitcolor\": \"white\"}, \"hoverlabel\": {\"align\": \"left\"}, \"hovermode\": \"closest\", \"mapbox\": {\"style\": \"light\"}, \"paper_bgcolor\": \"white\", \"plot_bgcolor\": \"#E5ECF6\", \"polar\": {\"angularaxis\": {\"gridcolor\": \"white\", \"linecolor\": \"white\", \"ticks\": \"\"}, \"bgcolor\": \"#E5ECF6\", \"radialaxis\": {\"gridcolor\": \"white\", \"linecolor\": \"white\", \"ticks\": \"\"}}, \"scene\": {\"xaxis\": {\"backgroundcolor\": \"#E5ECF6\", \"gridcolor\": \"white\", \"gridwidth\": 2, \"linecolor\": \"white\", \"showbackground\": true, \"ticks\": \"\", \"zerolinecolor\": \"white\"}, \"yaxis\": {\"backgroundcolor\": \"#E5ECF6\", \"gridcolor\": \"white\", \"gridwidth\": 2, \"linecolor\": \"white\", \"showbackground\": true, \"ticks\": \"\", \"zerolinecolor\": \"white\"}, \"zaxis\": {\"backgroundcolor\": \"#E5ECF6\", \"gridcolor\": \"white\", \"gridwidth\": 2, \"linecolor\": \"white\", \"showbackground\": true, \"ticks\": \"\", \"zerolinecolor\": \"white\"}}, \"shapedefaults\": {\"line\": {\"color\": \"#2a3f5f\"}}, \"ternary\": {\"aaxis\": {\"gridcolor\": \"white\", \"linecolor\": \"white\", \"ticks\": \"\"}, \"baxis\": {\"gridcolor\": \"white\", \"linecolor\": \"white\", \"ticks\": \"\"}, \"bgcolor\": \"#E5ECF6\", \"caxis\": {\"gridcolor\": \"white\", \"linecolor\": \"white\", \"ticks\": \"\"}}, \"title\": {\"x\": 0.05}, \"xaxis\": {\"automargin\": true, \"gridcolor\": \"white\", \"linecolor\": \"white\", \"ticks\": \"\", \"title\": {\"standoff\": 15}, \"zerolinecolor\": \"white\", \"zerolinewidth\": 2}, \"yaxis\": {\"automargin\": true, \"gridcolor\": \"white\", \"linecolor\": \"white\", \"ticks\": \"\", \"title\": {\"standoff\": 15}, \"zerolinecolor\": \"white\", \"zerolinewidth\": 2}}}},\n",
       "                        {\"responsive\": true}\n",
       "                    ).then(function(){\n",
       "                            \n",
       "var gd = document.getElementById('a8d70c72-ec70-4e8a-a31e-bbfbb81c4c68');\n",
       "var x = new MutationObserver(function (mutations, observer) {{\n",
       "        var display = window.getComputedStyle(gd).display;\n",
       "        if (!display || display === 'none') {{\n",
       "            console.log([gd, 'removed!']);\n",
       "            Plotly.purge(gd);\n",
       "            observer.disconnect();\n",
       "        }}\n",
       "}});\n",
       "\n",
       "// Listen for the removal of the full notebook cells\n",
       "var notebookContainer = gd.closest('#notebook-container');\n",
       "if (notebookContainer) {{\n",
       "    x.observe(notebookContainer, {childList: true});\n",
       "}}\n",
       "\n",
       "// Listen for the clearing of the current output cell\n",
       "var outputEl = gd.closest('.output');\n",
       "if (outputEl) {{\n",
       "    x.observe(outputEl, {childList: true});\n",
       "}}\n",
       "\n",
       "                        })\n",
       "                };\n",
       "                });\n",
       "            </script>\n",
       "        </div>"
      ]
     },
     "metadata": {},
     "output_type": "display_data"
    }
   ],
   "source": [
    "data2 = [go.Choropleth(\n",
    "    z = df['decile_op_pop'],\n",
    "    locations = df['country_ISO'],\n",
    "    text = df['Country'],\n",
    "    hoverinfo = \"text\",\n",
    "    marker_line_color='darkgray',\n",
    "    marker_line_width=0.5,\n",
    "    autocolorscale = False, \n",
    "    reversescale=True,\n",
    "    colorscale = [[0.0, \"rgb(165,0,38)\"],\n",
    "                [0.1111111111111111, \"rgb(215,48,39)\"],\n",
    "                [0.2222222222222222, \"rgb(244,109,67)\"],\n",
    "                [0.3333333333333333, \"rgb(253,174,97)\"],\n",
    "                [0.4444444444444444, \"rgb(254,224,144)\"],\n",
    "                [0.5555555555555556, \"rgb(224,243,248)\"],\n",
    "                [0.6666666666666666, \"rgb(171,217,233)\"],\n",
    "                [0.7777777777777778, \"rgb(116,173,209)\"],\n",
    "                [0.8888888888888888, \"rgb(69,117,180)\"],\n",
    "                [1.0, \"rgb(49,54,149)\"]],\n",
    "    colorbar = dict(\n",
    "        title=\"kg per 100,000<br> \",\n",
    "        tickvals=[1, 2, 3, 4, 5, 6, 7, 8, 9, 10],\n",
    "        ticktext=[\"0\", \".0002-.003\", \".004-.05\", \".05-0.15\", \".16-.328\", \".332-.51\", \".55-1.02\", \"1.03-1.76\", \"1.8-5.6\", \"6.2-48\"],\n",
    "        ticks=\"outside\",\n",
    "        thickness=20,),\n",
    ")]\n",
    "\n",
    "layout2 = go.Layout(\n",
    "    geo = go.layout.Geo(\n",
    "        showframe=False,\n",
    "        showcoastlines=False,\n",
    "        projection_type='equirectangular'),\n",
    "    )\n",
    "\n",
    "fig2 = go.Figure(data = data2, layout = layout2)\n",
    "\n",
    "fig2.show()"
   ]
  },
  {
   "cell_type": "code",
   "execution_count": 19,
   "metadata": {},
   "outputs": [
    {
     "data": {
      "application/vnd.plotly.v1+json": {
       "config": {
        "plotlyServerURL": "https://plot.ly"
       },
       "data": [
        {
         "autocolorscale": false,
         "colorbar": {
          "thickness": 20,
          "ticks": "outside",
          "ticktext": [
           "0",
           ".0002-.003",
           ".004-.05",
           ".05-0.15",
           ".16-.328",
           ".332-.51",
           ".55-1.02",
           "1.03-1.76",
           "1.8-5.6",
           "6.2-48"
          ],
          "tickvals": [
           1,
           2,
           3,
           4,
           5,
           6,
           7,
           8,
           9,
           10
          ],
          "title": {
           "text": "kg per 100,000<br> "
          }
         },
         "colorscale": [
          [
           0,
           "rgb(255,245,240)"
          ],
          [
           0.125,
           "rgb(254,224,210)"
          ],
          [
           0.25,
           "rgb(252,187,161)"
          ],
          [
           0.375,
           "rgb(252,146,114)"
          ],
          [
           0.5,
           "rgb(251,106,74)"
          ],
          [
           0.625,
           "rgb(239,59,44)"
          ],
          [
           0.75,
           "rgb(203,24,29)"
          ],
          [
           0.875,
           "rgb(165,15,21)"
          ],
          [
           1,
           "rgb(103,0,13)"
          ]
         ],
         "hoverinfo": "text",
         "locations": [
          "MHL",
          "CAF",
          "GAB",
          "CMR",
          "KHM",
          "COG",
          "GNB",
          "IRQ",
          "SSD",
          "SOM",
          "GIN",
          "NER",
          "PRY",
          "NRU",
          "STP",
          "DJI",
          "MLI",
          "YEM",
          "MRT",
          "GMB",
          "ATG",
          "VUT",
          "KNA",
          "GRD",
          "LCA",
          "GNQ",
          "LBR",
          "LSO",
          "WSM",
          "ERI",
          "SVN",
          "DEU",
          "DNK",
          "SWE",
          "CHE",
          "CAN",
          "FRA",
          "NOR",
          "LUX",
          "IRL",
          "ISR",
          "AUS",
          "NZL",
          "AUT",
          "NLD",
          "USA",
          "GBR",
          "ISL",
          "BEL",
          "MDG",
          "AGO",
          "TCD",
          "COD",
          "SLE",
          "NGA",
          "BDI",
          "HTI",
          "PAK",
          "PHL",
          "LAO",
          "LBY",
          "KIR",
          "MOZ",
          "EGY",
          "SUR",
          "TJK",
          "BKA",
          "TKM",
          "BOL",
          "BTN",
          "COM",
          "BEN",
          "TGO",
          "UZB",
          "VEN",
          "DZA",
          "SDN",
          "BGD",
          "NIC",
          "MAR",
          "AZE",
          "NPL",
          "MEX",
          "MDV",
          "RWA",
          "AFG",
          "TZA",
          "CPV",
          "IDN",
          "IND",
          "HND",
          "ETH",
          "ECU",
          "SLB",
          "DOM",
          "SEN",
          "QAT",
          "PER",
          "MDA",
          "UGA",
          "RUS",
          "MNG",
          "PNG",
          "TUV",
          "SYR",
          "ARE",
          "TUN",
          "ZWE",
          "GHA",
          "GTM",
          "MWI",
          "CUB",
          "ZMB",
          "KEN",
          "KAZ",
          "PAN",
          "SGP",
          "CHN",
          "BRN",
          "IRN",
          "THA",
          "SWZ",
          "CIV",
          "TON",
          "LBN",
          "KWT",
          "NAM",
          "TUR",
          "BIH",
          "BLZ",
          "PRK",
          "ARM",
          "FJI",
          "BWA",
          "JOR",
          "LKA",
          "DMA",
          "TLS",
          "COK",
          "COL",
          "BRA",
          "BLR",
          "URY",
          "ALB",
          "CRI",
          "SLV",
          "SAU",
          "KGZ",
          "JAM",
          "NIU",
          "MNE",
          "VCT",
          "FSM",
          "GRC",
          "JPN",
          "TTO",
          "LVA",
          "CHL",
          "HUN",
          "PLW",
          "GUY",
          "MMR",
          "BHR",
          "HRV",
          "ZAF",
          "BHS",
          "LTU",
          "SVK",
          "GEO",
          "ARG",
          "SRB",
          "ROU",
          "UKR",
          "BRB",
          "AND",
          "VNM",
          "MUS",
          "EST",
          "OMN",
          "MKD",
          "BGR",
          "POL",
          "ESP",
          "PRT",
          "CYP",
          "CZE",
          "KOR",
          "SYC",
          "MLT",
          "FIN",
          "ITA",
          "MYS"
         ],
         "marker": {
          "line": {
           "color": "darkgray",
           "width": 0.5
          }
         },
         "reversescale": false,
         "text": [
          "Marshall Islands",
          "Central African Republic",
          "Gabon",
          "Cameroon",
          "Cambodia",
          "Congo",
          "Guinea-Bissau",
          "Iraq",
          "South Sudan",
          "Somalia",
          "Guinea",
          "Niger",
          "Paraguay",
          "Nauru",
          "Sao Tome & Principe",
          "Djibouti",
          "Mali",
          "Yemen",
          "Mauritania",
          "Gambia",
          "Antigua & Barbuda",
          "Vanuatu",
          "Saint Kitts & Nevis",
          "Grenada",
          "Saint Lucia",
          "Equatorial Guinea",
          "Liberia",
          "Lesotho",
          "Samoa",
          "Eritrea",
          "Slovenia",
          "Germany",
          "Denmark",
          "Sweden",
          "Switzerland",
          "Canada",
          "France",
          "Norway",
          "Luxembourg",
          "Ireland",
          "Israel",
          "Australia",
          "New Zealand",
          "Austria",
          "Netherlands",
          "USA",
          "UK",
          "Iceland",
          "Belgium",
          "Madagascar",
          "Angola",
          "Chad",
          "Democratic Republic of the Congo",
          "Sierra Leone",
          "Nigeria",
          "Burundi",
          "Haiti",
          "Pakistan",
          "Philippines",
          "Lao People's Democratic Republic",
          "Libya",
          "Kiribati",
          "Mozambique",
          "Egypt",
          "Suriname",
          "Tajikistan",
          "Burkina Faso",
          "Turkmenistan",
          "Bolivia (Plurinational State of)",
          "Bhutan",
          "Comoros",
          "Benin",
          "Togo",
          "Uzbekistan",
          "Venezuela (Bolivarian Rep. of)",
          "Algeria",
          "Sudan",
          "Bangladesh",
          "Nicaragua",
          "Morocco",
          "Azerbaijan",
          "Nepal",
          "Mexico",
          "Maldives",
          "Rwanda",
          "Afghanistan",
          "Tanzania (United Republic of)",
          "Cabo Verde",
          "Indonesia",
          "India",
          "Honduras",
          "Ethiopia",
          "Ecuador",
          "Solomon Islands",
          "Dominican Republic",
          "Senegal",
          "Qatar",
          "Peru",
          "Micronesia (Federated States of)",
          "Uganda",
          "Russian Federation",
          "Mongolia",
          "Papua New Guinea",
          "Tuvalu",
          "Syrian Arab Republic",
          "United Arab Emirates",
          "Tunisia",
          "Zimbabwe",
          "Ghana",
          "Guatemala",
          "Malawi",
          "Cuba",
          "Zambia",
          "Kenya",
          "Kazakhstan",
          "Panama",
          "Singapore",
          "China",
          "Brunei Darussalam",
          "Iran (Islamic Republic of)",
          "Thailand",
          "Eswatini",
          "Côte d'Ivoire",
          "Tonga",
          "Lebanon",
          "Kuwait",
          "Namibia",
          "Turkey",
          "Bosnia & Herzegovina",
          "Belize",
          "Democratic People's Republic of Korea",
          "Armenia",
          "Fiji",
          "Botswana",
          "Jordan",
          "Sri Lanka",
          "Dominica",
          "Timor-Leste",
          "Cook Islands",
          "Colombia",
          "Brazil",
          "Belarus",
          "Uruguay",
          "Albania",
          "Costa Rica",
          "El Salvador",
          "Saudi Arabia",
          "Kyrgyzstan",
          "Jamaica",
          "Niue",
          "Montenegro",
          "Saint Vincent & the Grenadines",
          "Moldova (the Republic of)",
          "Greece",
          "Japan",
          "Trinidad & Tobago",
          "Latvia",
          "Chile",
          "Hungary",
          "Palau",
          "Guyana",
          "Myanmar",
          "Bahrain",
          "Croatia",
          "South Africa",
          "Bahamas",
          "Lithuania",
          "Slovakia",
          "Georgia",
          "Argentina",
          "Serbia",
          "Romania",
          "Ukraine",
          "Barbados",
          "Andorra",
          "Viet Nam",
          "Mauritius",
          "Estonia",
          "Oman",
          "North Macedonia",
          "Bulgaria",
          "Poland",
          "Spain",
          "Portugal",
          "Cyprus",
          "Czechia",
          "Republic of Korea",
          "Seychelles",
          "Malta",
          "Finland",
          "Italy",
          "Malaysia"
         ],
         "type": "choropleth",
         "z": [
          "1.0",
          "1.0",
          "1.0",
          "1.0",
          "1.0",
          "1.0",
          "1.0",
          "1.0",
          "1.0",
          "1.0",
          "1.0",
          "1.0",
          "1.0",
          "1.0",
          "1.0",
          "1.0",
          "1.0",
          "1.0",
          "1.0",
          "1.0",
          "1.0",
          "1.0",
          "1.0",
          "1.0",
          "1.0",
          "1.0",
          "1.0",
          "1.0",
          "1.0",
          "1.0",
          "10.0",
          "10.0",
          "10.0",
          "10.0",
          "10.0",
          "10.0",
          "10.0",
          "10.0",
          "10.0",
          "10.0",
          "10.0",
          "10.0",
          "10.0",
          "10.0",
          "10.0",
          "10.0",
          "10.0",
          "10.0",
          "10.0",
          "2.0",
          "2.0",
          "2.0",
          "2.0",
          "2.0",
          "2.0",
          "2.0",
          "2.0",
          "2.0",
          "3.0",
          "3.0",
          "3.0",
          "3.0",
          "3.0",
          "3.0",
          "3.0",
          "3.0",
          "3.0",
          "3.0",
          "3.0",
          "3.0",
          "3.0",
          "3.0",
          "3.0",
          "3.0",
          "3.0",
          "3.0",
          "3.0",
          "4.0",
          "4.0",
          "4.0",
          "4.0",
          "4.0",
          "4.0",
          "4.0",
          "4.0",
          "4.0",
          "4.0",
          "4.0",
          "4.0",
          "4.0",
          "4.0",
          "4.0",
          "4.0",
          "4.0",
          "4.0",
          "4.0",
          "5.0",
          "5.0",
          "5.0",
          "5.0",
          "5.0",
          "5.0",
          "5.0",
          "5.0",
          "5.0",
          "5.0",
          "5.0",
          "5.0",
          "5.0",
          "5.0",
          "5.0",
          "5.0",
          "5.0",
          "5.0",
          "5.0",
          "6.0",
          "6.0",
          "6.0",
          "6.0",
          "6.0",
          "6.0",
          "6.0",
          "6.0",
          "6.0",
          "6.0",
          "6.0",
          "6.0",
          "6.0",
          "6.0",
          "6.0",
          "6.0",
          "6.0",
          "6.0",
          "6.0",
          "6.0",
          "7.0",
          "7.0",
          "7.0",
          "7.0",
          "7.0",
          "7.0",
          "7.0",
          "7.0",
          "7.0",
          "7.0",
          "7.0",
          "7.0",
          "7.0",
          "7.0",
          "7.0",
          "7.0",
          "7.0",
          "7.0",
          "7.0",
          "8.0",
          "8.0",
          "8.0",
          "8.0",
          "8.0",
          "8.0",
          "8.0",
          "8.0",
          "8.0",
          "8.0",
          "8.0",
          "8.0",
          "8.0",
          "8.0",
          "8.0",
          "8.0",
          "8.0",
          "8.0",
          "8.0",
          "9.0",
          "9.0",
          "9.0",
          "9.0",
          "9.0",
          "9.0",
          "9.0",
          "9.0",
          "9.0",
          "9.0",
          "9.0",
          "9.0",
          "9.0",
          "9.0",
          "9.0",
          "9.0",
          "9.0",
          "9.0",
          "9.0"
         ]
        }
       ],
       "layout": {
        "geo": {
         "projection": {
          "type": "equirectangular"
         },
         "showcoastlines": false,
         "showframe": false
        },
        "template": {
         "data": {
          "bar": [
           {
            "error_x": {
             "color": "#2a3f5f"
            },
            "error_y": {
             "color": "#2a3f5f"
            },
            "marker": {
             "line": {
              "color": "#E5ECF6",
              "width": 0.5
             }
            },
            "type": "bar"
           }
          ],
          "barpolar": [
           {
            "marker": {
             "line": {
              "color": "#E5ECF6",
              "width": 0.5
             }
            },
            "type": "barpolar"
           }
          ],
          "carpet": [
           {
            "aaxis": {
             "endlinecolor": "#2a3f5f",
             "gridcolor": "white",
             "linecolor": "white",
             "minorgridcolor": "white",
             "startlinecolor": "#2a3f5f"
            },
            "baxis": {
             "endlinecolor": "#2a3f5f",
             "gridcolor": "white",
             "linecolor": "white",
             "minorgridcolor": "white",
             "startlinecolor": "#2a3f5f"
            },
            "type": "carpet"
           }
          ],
          "choropleth": [
           {
            "colorbar": {
             "outlinewidth": 0,
             "ticks": ""
            },
            "type": "choropleth"
           }
          ],
          "contour": [
           {
            "colorbar": {
             "outlinewidth": 0,
             "ticks": ""
            },
            "colorscale": [
             [
              0,
              "#0d0887"
             ],
             [
              0.1111111111111111,
              "#46039f"
             ],
             [
              0.2222222222222222,
              "#7201a8"
             ],
             [
              0.3333333333333333,
              "#9c179e"
             ],
             [
              0.4444444444444444,
              "#bd3786"
             ],
             [
              0.5555555555555556,
              "#d8576b"
             ],
             [
              0.6666666666666666,
              "#ed7953"
             ],
             [
              0.7777777777777778,
              "#fb9f3a"
             ],
             [
              0.8888888888888888,
              "#fdca26"
             ],
             [
              1,
              "#f0f921"
             ]
            ],
            "type": "contour"
           }
          ],
          "contourcarpet": [
           {
            "colorbar": {
             "outlinewidth": 0,
             "ticks": ""
            },
            "type": "contourcarpet"
           }
          ],
          "heatmap": [
           {
            "colorbar": {
             "outlinewidth": 0,
             "ticks": ""
            },
            "colorscale": [
             [
              0,
              "#0d0887"
             ],
             [
              0.1111111111111111,
              "#46039f"
             ],
             [
              0.2222222222222222,
              "#7201a8"
             ],
             [
              0.3333333333333333,
              "#9c179e"
             ],
             [
              0.4444444444444444,
              "#bd3786"
             ],
             [
              0.5555555555555556,
              "#d8576b"
             ],
             [
              0.6666666666666666,
              "#ed7953"
             ],
             [
              0.7777777777777778,
              "#fb9f3a"
             ],
             [
              0.8888888888888888,
              "#fdca26"
             ],
             [
              1,
              "#f0f921"
             ]
            ],
            "type": "heatmap"
           }
          ],
          "heatmapgl": [
           {
            "colorbar": {
             "outlinewidth": 0,
             "ticks": ""
            },
            "colorscale": [
             [
              0,
              "#0d0887"
             ],
             [
              0.1111111111111111,
              "#46039f"
             ],
             [
              0.2222222222222222,
              "#7201a8"
             ],
             [
              0.3333333333333333,
              "#9c179e"
             ],
             [
              0.4444444444444444,
              "#bd3786"
             ],
             [
              0.5555555555555556,
              "#d8576b"
             ],
             [
              0.6666666666666666,
              "#ed7953"
             ],
             [
              0.7777777777777778,
              "#fb9f3a"
             ],
             [
              0.8888888888888888,
              "#fdca26"
             ],
             [
              1,
              "#f0f921"
             ]
            ],
            "type": "heatmapgl"
           }
          ],
          "histogram": [
           {
            "marker": {
             "colorbar": {
              "outlinewidth": 0,
              "ticks": ""
             }
            },
            "type": "histogram"
           }
          ],
          "histogram2d": [
           {
            "colorbar": {
             "outlinewidth": 0,
             "ticks": ""
            },
            "colorscale": [
             [
              0,
              "#0d0887"
             ],
             [
              0.1111111111111111,
              "#46039f"
             ],
             [
              0.2222222222222222,
              "#7201a8"
             ],
             [
              0.3333333333333333,
              "#9c179e"
             ],
             [
              0.4444444444444444,
              "#bd3786"
             ],
             [
              0.5555555555555556,
              "#d8576b"
             ],
             [
              0.6666666666666666,
              "#ed7953"
             ],
             [
              0.7777777777777778,
              "#fb9f3a"
             ],
             [
              0.8888888888888888,
              "#fdca26"
             ],
             [
              1,
              "#f0f921"
             ]
            ],
            "type": "histogram2d"
           }
          ],
          "histogram2dcontour": [
           {
            "colorbar": {
             "outlinewidth": 0,
             "ticks": ""
            },
            "colorscale": [
             [
              0,
              "#0d0887"
             ],
             [
              0.1111111111111111,
              "#46039f"
             ],
             [
              0.2222222222222222,
              "#7201a8"
             ],
             [
              0.3333333333333333,
              "#9c179e"
             ],
             [
              0.4444444444444444,
              "#bd3786"
             ],
             [
              0.5555555555555556,
              "#d8576b"
             ],
             [
              0.6666666666666666,
              "#ed7953"
             ],
             [
              0.7777777777777778,
              "#fb9f3a"
             ],
             [
              0.8888888888888888,
              "#fdca26"
             ],
             [
              1,
              "#f0f921"
             ]
            ],
            "type": "histogram2dcontour"
           }
          ],
          "mesh3d": [
           {
            "colorbar": {
             "outlinewidth": 0,
             "ticks": ""
            },
            "type": "mesh3d"
           }
          ],
          "parcoords": [
           {
            "line": {
             "colorbar": {
              "outlinewidth": 0,
              "ticks": ""
             }
            },
            "type": "parcoords"
           }
          ],
          "pie": [
           {
            "automargin": true,
            "type": "pie"
           }
          ],
          "scatter": [
           {
            "marker": {
             "colorbar": {
              "outlinewidth": 0,
              "ticks": ""
             }
            },
            "type": "scatter"
           }
          ],
          "scatter3d": [
           {
            "line": {
             "colorbar": {
              "outlinewidth": 0,
              "ticks": ""
             }
            },
            "marker": {
             "colorbar": {
              "outlinewidth": 0,
              "ticks": ""
             }
            },
            "type": "scatter3d"
           }
          ],
          "scattercarpet": [
           {
            "marker": {
             "colorbar": {
              "outlinewidth": 0,
              "ticks": ""
             }
            },
            "type": "scattercarpet"
           }
          ],
          "scattergeo": [
           {
            "marker": {
             "colorbar": {
              "outlinewidth": 0,
              "ticks": ""
             }
            },
            "type": "scattergeo"
           }
          ],
          "scattergl": [
           {
            "marker": {
             "colorbar": {
              "outlinewidth": 0,
              "ticks": ""
             }
            },
            "type": "scattergl"
           }
          ],
          "scattermapbox": [
           {
            "marker": {
             "colorbar": {
              "outlinewidth": 0,
              "ticks": ""
             }
            },
            "type": "scattermapbox"
           }
          ],
          "scatterpolar": [
           {
            "marker": {
             "colorbar": {
              "outlinewidth": 0,
              "ticks": ""
             }
            },
            "type": "scatterpolar"
           }
          ],
          "scatterpolargl": [
           {
            "marker": {
             "colorbar": {
              "outlinewidth": 0,
              "ticks": ""
             }
            },
            "type": "scatterpolargl"
           }
          ],
          "scatterternary": [
           {
            "marker": {
             "colorbar": {
              "outlinewidth": 0,
              "ticks": ""
             }
            },
            "type": "scatterternary"
           }
          ],
          "surface": [
           {
            "colorbar": {
             "outlinewidth": 0,
             "ticks": ""
            },
            "colorscale": [
             [
              0,
              "#0d0887"
             ],
             [
              0.1111111111111111,
              "#46039f"
             ],
             [
              0.2222222222222222,
              "#7201a8"
             ],
             [
              0.3333333333333333,
              "#9c179e"
             ],
             [
              0.4444444444444444,
              "#bd3786"
             ],
             [
              0.5555555555555556,
              "#d8576b"
             ],
             [
              0.6666666666666666,
              "#ed7953"
             ],
             [
              0.7777777777777778,
              "#fb9f3a"
             ],
             [
              0.8888888888888888,
              "#fdca26"
             ],
             [
              1,
              "#f0f921"
             ]
            ],
            "type": "surface"
           }
          ],
          "table": [
           {
            "cells": {
             "fill": {
              "color": "#EBF0F8"
             },
             "line": {
              "color": "white"
             }
            },
            "header": {
             "fill": {
              "color": "#C8D4E3"
             },
             "line": {
              "color": "white"
             }
            },
            "type": "table"
           }
          ]
         },
         "layout": {
          "annotationdefaults": {
           "arrowcolor": "#2a3f5f",
           "arrowhead": 0,
           "arrowwidth": 1
          },
          "coloraxis": {
           "colorbar": {
            "outlinewidth": 0,
            "ticks": ""
           }
          },
          "colorscale": {
           "diverging": [
            [
             0,
             "#8e0152"
            ],
            [
             0.1,
             "#c51b7d"
            ],
            [
             0.2,
             "#de77ae"
            ],
            [
             0.3,
             "#f1b6da"
            ],
            [
             0.4,
             "#fde0ef"
            ],
            [
             0.5,
             "#f7f7f7"
            ],
            [
             0.6,
             "#e6f5d0"
            ],
            [
             0.7,
             "#b8e186"
            ],
            [
             0.8,
             "#7fbc41"
            ],
            [
             0.9,
             "#4d9221"
            ],
            [
             1,
             "#276419"
            ]
           ],
           "sequential": [
            [
             0,
             "#0d0887"
            ],
            [
             0.1111111111111111,
             "#46039f"
            ],
            [
             0.2222222222222222,
             "#7201a8"
            ],
            [
             0.3333333333333333,
             "#9c179e"
            ],
            [
             0.4444444444444444,
             "#bd3786"
            ],
            [
             0.5555555555555556,
             "#d8576b"
            ],
            [
             0.6666666666666666,
             "#ed7953"
            ],
            [
             0.7777777777777778,
             "#fb9f3a"
            ],
            [
             0.8888888888888888,
             "#fdca26"
            ],
            [
             1,
             "#f0f921"
            ]
           ],
           "sequentialminus": [
            [
             0,
             "#0d0887"
            ],
            [
             0.1111111111111111,
             "#46039f"
            ],
            [
             0.2222222222222222,
             "#7201a8"
            ],
            [
             0.3333333333333333,
             "#9c179e"
            ],
            [
             0.4444444444444444,
             "#bd3786"
            ],
            [
             0.5555555555555556,
             "#d8576b"
            ],
            [
             0.6666666666666666,
             "#ed7953"
            ],
            [
             0.7777777777777778,
             "#fb9f3a"
            ],
            [
             0.8888888888888888,
             "#fdca26"
            ],
            [
             1,
             "#f0f921"
            ]
           ]
          },
          "colorway": [
           "#636efa",
           "#EF553B",
           "#00cc96",
           "#ab63fa",
           "#FFA15A",
           "#19d3f3",
           "#FF6692",
           "#B6E880",
           "#FF97FF",
           "#FECB52"
          ],
          "font": {
           "color": "#2a3f5f"
          },
          "geo": {
           "bgcolor": "white",
           "lakecolor": "white",
           "landcolor": "#E5ECF6",
           "showlakes": true,
           "showland": true,
           "subunitcolor": "white"
          },
          "hoverlabel": {
           "align": "left"
          },
          "hovermode": "closest",
          "mapbox": {
           "style": "light"
          },
          "paper_bgcolor": "white",
          "plot_bgcolor": "#E5ECF6",
          "polar": {
           "angularaxis": {
            "gridcolor": "white",
            "linecolor": "white",
            "ticks": ""
           },
           "bgcolor": "#E5ECF6",
           "radialaxis": {
            "gridcolor": "white",
            "linecolor": "white",
            "ticks": ""
           }
          },
          "scene": {
           "xaxis": {
            "backgroundcolor": "#E5ECF6",
            "gridcolor": "white",
            "gridwidth": 2,
            "linecolor": "white",
            "showbackground": true,
            "ticks": "",
            "zerolinecolor": "white"
           },
           "yaxis": {
            "backgroundcolor": "#E5ECF6",
            "gridcolor": "white",
            "gridwidth": 2,
            "linecolor": "white",
            "showbackground": true,
            "ticks": "",
            "zerolinecolor": "white"
           },
           "zaxis": {
            "backgroundcolor": "#E5ECF6",
            "gridcolor": "white",
            "gridwidth": 2,
            "linecolor": "white",
            "showbackground": true,
            "ticks": "",
            "zerolinecolor": "white"
           }
          },
          "shapedefaults": {
           "line": {
            "color": "#2a3f5f"
           }
          },
          "ternary": {
           "aaxis": {
            "gridcolor": "white",
            "linecolor": "white",
            "ticks": ""
           },
           "baxis": {
            "gridcolor": "white",
            "linecolor": "white",
            "ticks": ""
           },
           "bgcolor": "#E5ECF6",
           "caxis": {
            "gridcolor": "white",
            "linecolor": "white",
            "ticks": ""
           }
          },
          "title": {
           "x": 0.05
          },
          "xaxis": {
           "automargin": true,
           "gridcolor": "white",
           "linecolor": "white",
           "ticks": "",
           "title": {
            "standoff": 15
           },
           "zerolinecolor": "white",
           "zerolinewidth": 2
          },
          "yaxis": {
           "automargin": true,
           "gridcolor": "white",
           "linecolor": "white",
           "ticks": "",
           "title": {
            "standoff": 15
           },
           "zerolinecolor": "white",
           "zerolinewidth": 2
          }
         }
        }
       }
      },
      "text/html": [
       "<div>\n",
       "        \n",
       "        \n",
       "            <div id=\"fed08800-06d4-4968-8806-e37a96e23a7c\" class=\"plotly-graph-div\" style=\"height:525px; width:100%;\"></div>\n",
       "            <script type=\"text/javascript\">\n",
       "                require([\"plotly\"], function(Plotly) {\n",
       "                    window.PLOTLYENV=window.PLOTLYENV || {};\n",
       "                    \n",
       "                if (document.getElementById(\"fed08800-06d4-4968-8806-e37a96e23a7c\")) {\n",
       "                    Plotly.newPlot(\n",
       "                        'fed08800-06d4-4968-8806-e37a96e23a7c',\n",
       "                        [{\"autocolorscale\": false, \"colorbar\": {\"thickness\": 20, \"ticks\": \"outside\", \"ticktext\": [\"0\", \".0002-.003\", \".004-.05\", \".05-0.15\", \".16-.328\", \".332-.51\", \".55-1.02\", \"1.03-1.76\", \"1.8-5.6\", \"6.2-48\"], \"tickvals\": [1, 2, 3, 4, 5, 6, 7, 8, 9, 10], \"title\": {\"text\": \"kg per 100,000<br> \"}}, \"colorscale\": [[0.0, \"rgb(255,245,240)\"], [0.125, \"rgb(254,224,210)\"], [0.25, \"rgb(252,187,161)\"], [0.375, \"rgb(252,146,114)\"], [0.5, \"rgb(251,106,74)\"], [0.625, \"rgb(239,59,44)\"], [0.75, \"rgb(203,24,29)\"], [0.875, \"rgb(165,15,21)\"], [1.0, \"rgb(103,0,13)\"]], \"hoverinfo\": \"text\", \"locations\": [\"MHL\", \"CAF\", \"GAB\", \"CMR\", \"KHM\", \"COG\", \"GNB\", \"IRQ\", \"SSD\", \"SOM\", \"GIN\", \"NER\", \"PRY\", \"NRU\", \"STP\", \"DJI\", \"MLI\", \"YEM\", \"MRT\", \"GMB\", \"ATG\", \"VUT\", \"KNA\", \"GRD\", \"LCA\", \"GNQ\", \"LBR\", \"LSO\", \"WSM\", \"ERI\", \"SVN\", \"DEU\", \"DNK\", \"SWE\", \"CHE\", \"CAN\", \"FRA\", \"NOR\", \"LUX\", \"IRL\", \"ISR\", \"AUS\", \"NZL\", \"AUT\", \"NLD\", \"USA\", \"GBR\", \"ISL\", \"BEL\", \"MDG\", \"AGO\", \"TCD\", \"COD\", \"SLE\", \"NGA\", \"BDI\", \"HTI\", \"PAK\", \"PHL\", \"LAO\", \"LBY\", \"KIR\", \"MOZ\", \"EGY\", \"SUR\", \"TJK\", \"BKA\", \"TKM\", \"BOL\", \"BTN\", \"COM\", \"BEN\", \"TGO\", \"UZB\", \"VEN\", \"DZA\", \"SDN\", \"BGD\", \"NIC\", \"MAR\", \"AZE\", \"NPL\", \"MEX\", \"MDV\", \"RWA\", \"AFG\", \"TZA\", \"CPV\", \"IDN\", \"IND\", \"HND\", \"ETH\", \"ECU\", \"SLB\", \"DOM\", \"SEN\", \"QAT\", \"PER\", \"MDA\", \"UGA\", \"RUS\", \"MNG\", \"PNG\", \"TUV\", \"SYR\", \"ARE\", \"TUN\", \"ZWE\", \"GHA\", \"GTM\", \"MWI\", \"CUB\", \"ZMB\", \"KEN\", \"KAZ\", \"PAN\", \"SGP\", \"CHN\", \"BRN\", \"IRN\", \"THA\", \"SWZ\", \"CIV\", \"TON\", \"LBN\", \"KWT\", \"NAM\", \"TUR\", \"BIH\", \"BLZ\", \"PRK\", \"ARM\", \"FJI\", \"BWA\", \"JOR\", \"LKA\", \"DMA\", \"TLS\", \"COK\", \"COL\", \"BRA\", \"BLR\", \"URY\", \"ALB\", \"CRI\", \"SLV\", \"SAU\", \"KGZ\", \"JAM\", \"NIU\", \"MNE\", \"VCT\", \"FSM\", \"GRC\", \"JPN\", \"TTO\", \"LVA\", \"CHL\", \"HUN\", \"PLW\", \"GUY\", \"MMR\", \"BHR\", \"HRV\", \"ZAF\", \"BHS\", \"LTU\", \"SVK\", \"GEO\", \"ARG\", \"SRB\", \"ROU\", \"UKR\", \"BRB\", \"AND\", \"VNM\", \"MUS\", \"EST\", \"OMN\", \"MKD\", \"BGR\", \"POL\", \"ESP\", \"PRT\", \"CYP\", \"CZE\", \"KOR\", \"SYC\", \"MLT\", \"FIN\", \"ITA\", \"MYS\"], \"marker\": {\"line\": {\"color\": \"darkgray\", \"width\": 0.5}}, \"reversescale\": false, \"text\": [\"Marshall Islands\", \"Central African Republic\", \"Gabon\", \"Cameroon\", \"Cambodia\", \"Congo\", \"Guinea-Bissau\", \"Iraq\", \"South Sudan\", \"Somalia\", \"Guinea\", \"Niger\", \"Paraguay\", \"Nauru\", \"Sao Tome & Principe\", \"Djibouti\", \"Mali\", \"Yemen\", \"Mauritania\", \"Gambia\", \"Antigua & Barbuda\", \"Vanuatu\", \"Saint Kitts & Nevis\", \"Grenada\", \"Saint Lucia\", \"Equatorial Guinea\", \"Liberia\", \"Lesotho\", \"Samoa\", \"Eritrea\", \"Slovenia\", \"Germany\", \"Denmark\", \"Sweden\", \"Switzerland\", \"Canada\", \"France\", \"Norway\", \"Luxembourg\", \"Ireland\", \"Israel\", \"Australia\", \"New Zealand\", \"Austria\", \"Netherlands\", \"USA\", \"UK\", \"Iceland\", \"Belgium\", \"Madagascar\", \"Angola\", \"Chad\", \"Democratic Republic of the Congo\", \"Sierra Leone\", \"Nigeria\", \"Burundi\", \"Haiti\", \"Pakistan\", \"Philippines\", \"Lao People's Democratic Republic\", \"Libya\", \"Kiribati\", \"Mozambique\", \"Egypt\", \"Suriname\", \"Tajikistan\", \"Burkina Faso\", \"Turkmenistan\", \"Bolivia (Plurinational State of)\", \"Bhutan\", \"Comoros\", \"Benin\", \"Togo\", \"Uzbekistan\", \"Venezuela (Bolivarian Rep. of)\", \"Algeria\", \"Sudan\", \"Bangladesh\", \"Nicaragua\", \"Morocco\", \"Azerbaijan\", \"Nepal\", \"Mexico\", \"Maldives\", \"Rwanda\", \"Afghanistan\", \"Tanzania (United Republic of)\", \"Cabo Verde\", \"Indonesia\", \"India\", \"Honduras\", \"Ethiopia\", \"Ecuador\", \"Solomon Islands\", \"Dominican Republic\", \"Senegal\", \"Qatar\", \"Peru\", \"Micronesia (Federated States of)\", \"Uganda\", \"Russian Federation\", \"Mongolia\", \"Papua New Guinea\", \"Tuvalu\", \"Syrian Arab Republic\", \"United Arab Emirates\", \"Tunisia\", \"Zimbabwe\", \"Ghana\", \"Guatemala\", \"Malawi\", \"Cuba\", \"Zambia\", \"Kenya\", \"Kazakhstan\", \"Panama\", \"Singapore\", \"China\", \"Brunei Darussalam\", \"Iran (Islamic Republic of)\", \"Thailand\", \"Eswatini\", \"C\\u00f4te d'Ivoire\", \"Tonga\", \"Lebanon\", \"Kuwait\", \"Namibia\", \"Turkey\", \"Bosnia & Herzegovina\", \"Belize\", \"Democratic People's Republic of Korea\", \"Armenia\", \"Fiji\", \"Botswana\", \"Jordan\", \"Sri Lanka\", \"Dominica\", \"Timor-Leste\", \"Cook Islands\", \"Colombia\", \"Brazil\", \"Belarus\", \"Uruguay\", \"Albania\", \"Costa Rica\", \"El Salvador\", \"Saudi Arabia\", \"Kyrgyzstan\", \"Jamaica\", \"Niue\", \"Montenegro\", \"Saint Vincent & the Grenadines\", \"Moldova (the Republic of)\", \"Greece\", \"Japan\", \"Trinidad & Tobago\", \"Latvia\", \"Chile\", \"Hungary\", \"Palau\", \"Guyana\", \"Myanmar\", \"Bahrain\", \"Croatia\", \"South Africa\", \"Bahamas\", \"Lithuania\", \"Slovakia\", \"Georgia\", \"Argentina\", \"Serbia\", \"Romania\", \"Ukraine\", \"Barbados\", \"Andorra\", \"Viet Nam\", \"Mauritius\", \"Estonia\", \"Oman\", \"North Macedonia\", \"Bulgaria\", \"Poland\", \"Spain\", \"Portugal\", \"Cyprus\", \"Czechia\", \"Republic of Korea\", \"Seychelles\", \"Malta\", \"Finland\", \"Italy\", \"Malaysia\"], \"type\": \"choropleth\", \"z\": [\"1.0\", \"1.0\", \"1.0\", \"1.0\", \"1.0\", \"1.0\", \"1.0\", \"1.0\", \"1.0\", \"1.0\", \"1.0\", \"1.0\", \"1.0\", \"1.0\", \"1.0\", \"1.0\", \"1.0\", \"1.0\", \"1.0\", \"1.0\", \"1.0\", \"1.0\", \"1.0\", \"1.0\", \"1.0\", \"1.0\", \"1.0\", \"1.0\", \"1.0\", \"1.0\", \"10.0\", \"10.0\", \"10.0\", \"10.0\", \"10.0\", \"10.0\", \"10.0\", \"10.0\", \"10.0\", \"10.0\", \"10.0\", \"10.0\", \"10.0\", \"10.0\", \"10.0\", \"10.0\", \"10.0\", \"10.0\", \"10.0\", \"2.0\", \"2.0\", \"2.0\", \"2.0\", \"2.0\", \"2.0\", \"2.0\", \"2.0\", \"2.0\", \"3.0\", \"3.0\", \"3.0\", \"3.0\", \"3.0\", \"3.0\", \"3.0\", \"3.0\", \"3.0\", \"3.0\", \"3.0\", \"3.0\", \"3.0\", \"3.0\", \"3.0\", \"3.0\", \"3.0\", \"3.0\", \"3.0\", \"4.0\", \"4.0\", \"4.0\", \"4.0\", \"4.0\", \"4.0\", \"4.0\", \"4.0\", \"4.0\", \"4.0\", \"4.0\", \"4.0\", \"4.0\", \"4.0\", \"4.0\", \"4.0\", \"4.0\", \"4.0\", \"4.0\", \"5.0\", \"5.0\", \"5.0\", \"5.0\", \"5.0\", \"5.0\", \"5.0\", \"5.0\", \"5.0\", \"5.0\", \"5.0\", \"5.0\", \"5.0\", \"5.0\", \"5.0\", \"5.0\", \"5.0\", \"5.0\", \"5.0\", \"6.0\", \"6.0\", \"6.0\", \"6.0\", \"6.0\", \"6.0\", \"6.0\", \"6.0\", \"6.0\", \"6.0\", \"6.0\", \"6.0\", \"6.0\", \"6.0\", \"6.0\", \"6.0\", \"6.0\", \"6.0\", \"6.0\", \"6.0\", \"7.0\", \"7.0\", \"7.0\", \"7.0\", \"7.0\", \"7.0\", \"7.0\", \"7.0\", \"7.0\", \"7.0\", \"7.0\", \"7.0\", \"7.0\", \"7.0\", \"7.0\", \"7.0\", \"7.0\", \"7.0\", \"7.0\", \"8.0\", \"8.0\", \"8.0\", \"8.0\", \"8.0\", \"8.0\", \"8.0\", \"8.0\", \"8.0\", \"8.0\", \"8.0\", \"8.0\", \"8.0\", \"8.0\", \"8.0\", \"8.0\", \"8.0\", \"8.0\", \"8.0\", \"9.0\", \"9.0\", \"9.0\", \"9.0\", \"9.0\", \"9.0\", \"9.0\", \"9.0\", \"9.0\", \"9.0\", \"9.0\", \"9.0\", \"9.0\", \"9.0\", \"9.0\", \"9.0\", \"9.0\", \"9.0\", \"9.0\"]}],\n",
       "                        {\"geo\": {\"projection\": {\"type\": \"equirectangular\"}, \"showcoastlines\": false, \"showframe\": false}, \"template\": {\"data\": {\"bar\": [{\"error_x\": {\"color\": \"#2a3f5f\"}, \"error_y\": {\"color\": \"#2a3f5f\"}, \"marker\": {\"line\": {\"color\": \"#E5ECF6\", \"width\": 0.5}}, \"type\": \"bar\"}], \"barpolar\": [{\"marker\": {\"line\": {\"color\": \"#E5ECF6\", \"width\": 0.5}}, \"type\": \"barpolar\"}], \"carpet\": [{\"aaxis\": {\"endlinecolor\": \"#2a3f5f\", \"gridcolor\": \"white\", \"linecolor\": \"white\", \"minorgridcolor\": \"white\", \"startlinecolor\": \"#2a3f5f\"}, \"baxis\": {\"endlinecolor\": \"#2a3f5f\", \"gridcolor\": \"white\", \"linecolor\": \"white\", \"minorgridcolor\": \"white\", \"startlinecolor\": \"#2a3f5f\"}, \"type\": \"carpet\"}], \"choropleth\": [{\"colorbar\": {\"outlinewidth\": 0, \"ticks\": \"\"}, \"type\": \"choropleth\"}], \"contour\": [{\"colorbar\": {\"outlinewidth\": 0, \"ticks\": \"\"}, \"colorscale\": [[0.0, \"#0d0887\"], [0.1111111111111111, \"#46039f\"], [0.2222222222222222, \"#7201a8\"], [0.3333333333333333, \"#9c179e\"], [0.4444444444444444, \"#bd3786\"], [0.5555555555555556, \"#d8576b\"], [0.6666666666666666, \"#ed7953\"], [0.7777777777777778, \"#fb9f3a\"], [0.8888888888888888, \"#fdca26\"], [1.0, \"#f0f921\"]], \"type\": \"contour\"}], \"contourcarpet\": [{\"colorbar\": {\"outlinewidth\": 0, \"ticks\": \"\"}, \"type\": \"contourcarpet\"}], \"heatmap\": [{\"colorbar\": {\"outlinewidth\": 0, \"ticks\": \"\"}, \"colorscale\": [[0.0, \"#0d0887\"], [0.1111111111111111, \"#46039f\"], [0.2222222222222222, \"#7201a8\"], [0.3333333333333333, \"#9c179e\"], [0.4444444444444444, \"#bd3786\"], [0.5555555555555556, \"#d8576b\"], [0.6666666666666666, \"#ed7953\"], [0.7777777777777778, \"#fb9f3a\"], [0.8888888888888888, \"#fdca26\"], [1.0, \"#f0f921\"]], \"type\": \"heatmap\"}], \"heatmapgl\": [{\"colorbar\": {\"outlinewidth\": 0, \"ticks\": \"\"}, \"colorscale\": [[0.0, \"#0d0887\"], [0.1111111111111111, \"#46039f\"], [0.2222222222222222, \"#7201a8\"], [0.3333333333333333, \"#9c179e\"], [0.4444444444444444, \"#bd3786\"], [0.5555555555555556, \"#d8576b\"], [0.6666666666666666, \"#ed7953\"], [0.7777777777777778, \"#fb9f3a\"], [0.8888888888888888, \"#fdca26\"], [1.0, \"#f0f921\"]], \"type\": \"heatmapgl\"}], \"histogram\": [{\"marker\": {\"colorbar\": {\"outlinewidth\": 0, \"ticks\": \"\"}}, \"type\": \"histogram\"}], \"histogram2d\": [{\"colorbar\": {\"outlinewidth\": 0, \"ticks\": \"\"}, \"colorscale\": [[0.0, \"#0d0887\"], [0.1111111111111111, \"#46039f\"], [0.2222222222222222, \"#7201a8\"], [0.3333333333333333, \"#9c179e\"], [0.4444444444444444, \"#bd3786\"], [0.5555555555555556, \"#d8576b\"], [0.6666666666666666, \"#ed7953\"], [0.7777777777777778, \"#fb9f3a\"], [0.8888888888888888, \"#fdca26\"], [1.0, \"#f0f921\"]], \"type\": \"histogram2d\"}], \"histogram2dcontour\": [{\"colorbar\": {\"outlinewidth\": 0, \"ticks\": \"\"}, \"colorscale\": [[0.0, \"#0d0887\"], [0.1111111111111111, \"#46039f\"], [0.2222222222222222, \"#7201a8\"], [0.3333333333333333, \"#9c179e\"], [0.4444444444444444, \"#bd3786\"], [0.5555555555555556, \"#d8576b\"], [0.6666666666666666, \"#ed7953\"], [0.7777777777777778, \"#fb9f3a\"], [0.8888888888888888, \"#fdca26\"], [1.0, \"#f0f921\"]], \"type\": \"histogram2dcontour\"}], \"mesh3d\": [{\"colorbar\": {\"outlinewidth\": 0, \"ticks\": \"\"}, \"type\": \"mesh3d\"}], \"parcoords\": [{\"line\": {\"colorbar\": {\"outlinewidth\": 0, \"ticks\": \"\"}}, \"type\": \"parcoords\"}], \"pie\": [{\"automargin\": true, \"type\": \"pie\"}], \"scatter\": [{\"marker\": {\"colorbar\": {\"outlinewidth\": 0, \"ticks\": \"\"}}, \"type\": \"scatter\"}], \"scatter3d\": [{\"line\": {\"colorbar\": {\"outlinewidth\": 0, \"ticks\": \"\"}}, \"marker\": {\"colorbar\": {\"outlinewidth\": 0, \"ticks\": \"\"}}, \"type\": \"scatter3d\"}], \"scattercarpet\": [{\"marker\": {\"colorbar\": {\"outlinewidth\": 0, \"ticks\": \"\"}}, \"type\": \"scattercarpet\"}], \"scattergeo\": [{\"marker\": {\"colorbar\": {\"outlinewidth\": 0, \"ticks\": \"\"}}, \"type\": \"scattergeo\"}], \"scattergl\": [{\"marker\": {\"colorbar\": {\"outlinewidth\": 0, \"ticks\": \"\"}}, \"type\": \"scattergl\"}], \"scattermapbox\": [{\"marker\": {\"colorbar\": {\"outlinewidth\": 0, \"ticks\": \"\"}}, \"type\": \"scattermapbox\"}], \"scatterpolar\": [{\"marker\": {\"colorbar\": {\"outlinewidth\": 0, \"ticks\": \"\"}}, \"type\": \"scatterpolar\"}], \"scatterpolargl\": [{\"marker\": {\"colorbar\": {\"outlinewidth\": 0, \"ticks\": \"\"}}, \"type\": \"scatterpolargl\"}], \"scatterternary\": [{\"marker\": {\"colorbar\": {\"outlinewidth\": 0, \"ticks\": \"\"}}, \"type\": \"scatterternary\"}], \"surface\": [{\"colorbar\": {\"outlinewidth\": 0, \"ticks\": \"\"}, \"colorscale\": [[0.0, \"#0d0887\"], [0.1111111111111111, \"#46039f\"], [0.2222222222222222, \"#7201a8\"], [0.3333333333333333, \"#9c179e\"], [0.4444444444444444, \"#bd3786\"], [0.5555555555555556, \"#d8576b\"], [0.6666666666666666, \"#ed7953\"], [0.7777777777777778, \"#fb9f3a\"], [0.8888888888888888, \"#fdca26\"], [1.0, \"#f0f921\"]], \"type\": \"surface\"}], \"table\": [{\"cells\": {\"fill\": {\"color\": \"#EBF0F8\"}, \"line\": {\"color\": \"white\"}}, \"header\": {\"fill\": {\"color\": \"#C8D4E3\"}, \"line\": {\"color\": \"white\"}}, \"type\": \"table\"}]}, \"layout\": {\"annotationdefaults\": {\"arrowcolor\": \"#2a3f5f\", \"arrowhead\": 0, \"arrowwidth\": 1}, \"coloraxis\": {\"colorbar\": {\"outlinewidth\": 0, \"ticks\": \"\"}}, \"colorscale\": {\"diverging\": [[0, \"#8e0152\"], [0.1, \"#c51b7d\"], [0.2, \"#de77ae\"], [0.3, \"#f1b6da\"], [0.4, \"#fde0ef\"], [0.5, \"#f7f7f7\"], [0.6, \"#e6f5d0\"], [0.7, \"#b8e186\"], [0.8, \"#7fbc41\"], [0.9, \"#4d9221\"], [1, \"#276419\"]], \"sequential\": [[0.0, \"#0d0887\"], [0.1111111111111111, \"#46039f\"], [0.2222222222222222, \"#7201a8\"], [0.3333333333333333, \"#9c179e\"], [0.4444444444444444, \"#bd3786\"], [0.5555555555555556, \"#d8576b\"], [0.6666666666666666, \"#ed7953\"], [0.7777777777777778, \"#fb9f3a\"], [0.8888888888888888, \"#fdca26\"], [1.0, \"#f0f921\"]], \"sequentialminus\": [[0.0, \"#0d0887\"], [0.1111111111111111, \"#46039f\"], [0.2222222222222222, \"#7201a8\"], [0.3333333333333333, \"#9c179e\"], [0.4444444444444444, \"#bd3786\"], [0.5555555555555556, \"#d8576b\"], [0.6666666666666666, \"#ed7953\"], [0.7777777777777778, \"#fb9f3a\"], [0.8888888888888888, \"#fdca26\"], [1.0, \"#f0f921\"]]}, \"colorway\": [\"#636efa\", \"#EF553B\", \"#00cc96\", \"#ab63fa\", \"#FFA15A\", \"#19d3f3\", \"#FF6692\", \"#B6E880\", \"#FF97FF\", \"#FECB52\"], \"font\": {\"color\": \"#2a3f5f\"}, \"geo\": {\"bgcolor\": \"white\", \"lakecolor\": \"white\", \"landcolor\": \"#E5ECF6\", \"showlakes\": true, \"showland\": true, \"subunitcolor\": \"white\"}, \"hoverlabel\": {\"align\": \"left\"}, \"hovermode\": \"closest\", \"mapbox\": {\"style\": \"light\"}, \"paper_bgcolor\": \"white\", \"plot_bgcolor\": \"#E5ECF6\", \"polar\": {\"angularaxis\": {\"gridcolor\": \"white\", \"linecolor\": \"white\", \"ticks\": \"\"}, \"bgcolor\": \"#E5ECF6\", \"radialaxis\": {\"gridcolor\": \"white\", \"linecolor\": \"white\", \"ticks\": \"\"}}, \"scene\": {\"xaxis\": {\"backgroundcolor\": \"#E5ECF6\", \"gridcolor\": \"white\", \"gridwidth\": 2, \"linecolor\": \"white\", \"showbackground\": true, \"ticks\": \"\", \"zerolinecolor\": \"white\"}, \"yaxis\": {\"backgroundcolor\": \"#E5ECF6\", \"gridcolor\": \"white\", \"gridwidth\": 2, \"linecolor\": \"white\", \"showbackground\": true, \"ticks\": \"\", \"zerolinecolor\": \"white\"}, \"zaxis\": {\"backgroundcolor\": \"#E5ECF6\", \"gridcolor\": \"white\", \"gridwidth\": 2, \"linecolor\": \"white\", \"showbackground\": true, \"ticks\": \"\", \"zerolinecolor\": \"white\"}}, \"shapedefaults\": {\"line\": {\"color\": \"#2a3f5f\"}}, \"ternary\": {\"aaxis\": {\"gridcolor\": \"white\", \"linecolor\": \"white\", \"ticks\": \"\"}, \"baxis\": {\"gridcolor\": \"white\", \"linecolor\": \"white\", \"ticks\": \"\"}, \"bgcolor\": \"#E5ECF6\", \"caxis\": {\"gridcolor\": \"white\", \"linecolor\": \"white\", \"ticks\": \"\"}}, \"title\": {\"x\": 0.05}, \"xaxis\": {\"automargin\": true, \"gridcolor\": \"white\", \"linecolor\": \"white\", \"ticks\": \"\", \"title\": {\"standoff\": 15}, \"zerolinecolor\": \"white\", \"zerolinewidth\": 2}, \"yaxis\": {\"automargin\": true, \"gridcolor\": \"white\", \"linecolor\": \"white\", \"ticks\": \"\", \"title\": {\"standoff\": 15}, \"zerolinecolor\": \"white\", \"zerolinewidth\": 2}}}},\n",
       "                        {\"responsive\": true}\n",
       "                    ).then(function(){\n",
       "                            \n",
       "var gd = document.getElementById('fed08800-06d4-4968-8806-e37a96e23a7c');\n",
       "var x = new MutationObserver(function (mutations, observer) {{\n",
       "        var display = window.getComputedStyle(gd).display;\n",
       "        if (!display || display === 'none') {{\n",
       "            console.log([gd, 'removed!']);\n",
       "            Plotly.purge(gd);\n",
       "            observer.disconnect();\n",
       "        }}\n",
       "}});\n",
       "\n",
       "// Listen for the removal of the full notebook cells\n",
       "var notebookContainer = gd.closest('#notebook-container');\n",
       "if (notebookContainer) {{\n",
       "    x.observe(notebookContainer, {childList: true});\n",
       "}}\n",
       "\n",
       "// Listen for the clearing of the current output cell\n",
       "var outputEl = gd.closest('.output');\n",
       "if (outputEl) {{\n",
       "    x.observe(outputEl, {childList: true});\n",
       "}}\n",
       "\n",
       "                        })\n",
       "                };\n",
       "                });\n",
       "            </script>\n",
       "        </div>"
      ]
     },
     "metadata": {},
     "output_type": "display_data"
    }
   ],
   "source": [
    "# same map as above but with different color \n",
    "data2 = [go.Choropleth(\n",
    "    z = df['decile_op_pop'],\n",
    "    locations = df['country_ISO'],\n",
    "    text = df['Country'],\n",
    "    hoverinfo = \"text\",\n",
    "    marker_line_color='darkgray',\n",
    "    marker_line_width=0.5,\n",
    "    autocolorscale = False, \n",
    "    reversescale=False,\n",
    "    colorscale = 'Reds',\n",
    "    colorbar = dict(\n",
    "        title=\"kg per 100,000<br> \",\n",
    "        tickvals=[1, 2, 3, 4, 5, 6, 7, 8, 9, 10],\n",
    "        ticktext=[\"0\", \".0002-.003\", \".004-.05\", \".05-0.15\", \".16-.328\", \".332-.51\", \".55-1.02\", \"1.03-1.76\", \"1.8-5.6\", \"6.2-48\"],\n",
    "        ticks=\"outside\",\n",
    "        thickness=20),\n",
    ")]\n",
    "\n",
    "layout2 = go.Layout(\n",
    "    geo = go.layout.Geo(\n",
    "        showframe=False,\n",
    "        showcoastlines=False,\n",
    "        projection_type='equirectangular'),\n",
    "    )\n",
    "\n",
    "fig2 = go.Figure(data = data2, layout = layout2)\n",
    "\n",
    "fig2.show()"
   ]
  },
  {
   "cell_type": "code",
   "execution_count": null,
   "metadata": {},
   "outputs": [],
   "source": []
  }
 ],
 "metadata": {
  "jupytext": {
   "formats": "ipynb,py:light"
  },
  "kernelspec": {
   "display_name": "Python 2",
   "language": "python",
   "name": "python2"
  },
  "language_info": {
   "codemirror_mode": {
    "name": "ipython",
    "version": 2
   },
   "file_extension": ".py",
   "mimetype": "text/x-python",
   "name": "python",
   "nbconvert_exporter": "python",
   "pygments_lexer": "ipython2",
   "version": "2.7.16"
  }
 },
 "nbformat": 4,
 "nbformat_minor": 2
}
