{
 "cells": [
  {
   "cell_type": "markdown",
   "metadata": {},
   "source": [
    "# Opioids listed on national essential medicines lists\n"
   ]
  },
  {
   "cell_type": "markdown",
   "metadata": {},
   "source": [
    "The aim of our study is to determine the value and utility of national essential medicines lists (EMLs) in promoting global access to opioids. Our objectives are: \n",
    "1. to measure the variation in global opioid consumption,\n",
    "2. to compare opioids listed in the 2017 WHO Model EML with the opioids listed in the 137 national EMLs,\n",
    "3. to assess the association between national opioid consumption and listings in EMLs, and\n",
    "4. to assess whether certain country characteristics explain the variations in opioid consumption and the listings of opioids in EMLs. \n",
    "\n",
    "This Notebook addresses part of the second aim. \n",
    "\n",
    "Methods<br>\n",
    "We extracted data from the Global Essential Medicines List (EML) repository for national EMLs developed for this study: https://www.who.int/bulletin/volumes/97/6/18-222448/en/, available here: https://figshare.com/articles/GlobalEssentialMedicinesDatabase_xlsx/7814246/1 and used in this webpage: https://global.essentialmeds.org/dashboard/countries\n",
    "\n",
    "Two authors (GCR, JKA) independently searched the WHO’s Anatomical Therapeutic Classification (ATC) index using ‘opioid’ and ‘opium’ keywords to extract chemical substance codes for opioids. Lists of opioid codes were compared and discrepancies were discussed and agreed to form a master list of opioid codes. We used this master list of opioid codes to search for opioids in the repository of EMLs. We extract all identified opioids from the repository into an Excel spreadsheet that we later converted to a csv file. We calculated the total number of opioids and type of opioids listed by each of the 137 countries with an EML and the WHO Model List. \n",
    "\n",
    "This Notebook will graph the number of opioids listed by countries and the number of differences between national lists of essential medicines and the 2017 WHO Model List. "
   ]
  },
  {
   "cell_type": "markdown",
   "metadata": {},
   "source": [
    "# Import packages for graphs"
   ]
  },
  {
   "cell_type": "code",
   "execution_count": 16,
   "metadata": {},
   "outputs": [],
   "source": [
    "# import module for handling datasets/dataframes and manipulating data\n",
    "import pandas as pd\n",
    "\n",
    "# import module for the numeric python library\n",
    "import numpy as np\n",
    "\n",
    "# import module for graphing & visualising data\n",
    "import plotly.express as px\n",
    "import plotly.graph_objects as go"
   ]
  },
  {
   "cell_type": "markdown",
   "metadata": {},
   "source": [
    "# Import data for graphs"
   ]
  },
  {
   "cell_type": "code",
   "execution_count": 31,
   "metadata": {},
   "outputs": [],
   "source": [
    "# import my data \n",
    "df=pd.read_csv(filepath_or_buffer=\"EMLopioid_maps.csv\")"
   ]
  },
  {
   "cell_type": "code",
   "execution_count": 32,
   "metadata": {},
   "outputs": [
    {
     "data": {
      "text/html": [
       "<div>\n",
       "<style scoped>\n",
       "    .dataframe tbody tr th:only-of-type {\n",
       "        vertical-align: middle;\n",
       "    }\n",
       "\n",
       "    .dataframe tbody tr th {\n",
       "        vertical-align: top;\n",
       "    }\n",
       "\n",
       "    .dataframe thead th {\n",
       "        text-align: right;\n",
       "    }\n",
       "</style>\n",
       "<table border=\"1\" class=\"dataframe\">\n",
       "  <thead>\n",
       "    <tr style=\"text-align: right;\">\n",
       "      <th></th>\n",
       "      <th>Country</th>\n",
       "      <th>Country_IOS2</th>\n",
       "      <th>OpioidEML</th>\n",
       "      <th>9 quantiles of OpioidEML</th>\n",
       "      <th>Region</th>\n",
       "      <th>Sub_region</th>\n",
       "      <th>RateOpEML</th>\n",
       "      <th>10 quantiles of RateOpEML</th>\n",
       "      <th>who_opioids</th>\n",
       "      <th>simScore</th>\n",
       "    </tr>\n",
       "  </thead>\n",
       "  <tbody>\n",
       "    <tr>\n",
       "      <th>0</th>\n",
       "      <td>Brazil</td>\n",
       "      <td>BRA</td>\n",
       "      <td>3</td>\n",
       "      <td>1</td>\n",
       "      <td>America</td>\n",
       "      <td>America (south)</td>\n",
       "      <td>1</td>\n",
       "      <td>1</td>\n",
       "      <td>3</td>\n",
       "      <td>1</td>\n",
       "    </tr>\n",
       "    <tr>\n",
       "      <th>1</th>\n",
       "      <td>Cambodia</td>\n",
       "      <td>KHM</td>\n",
       "      <td>0</td>\n",
       "      <td>1</td>\n",
       "      <td>Asia</td>\n",
       "      <td>Asia (East &amp; South East)</td>\n",
       "      <td>0</td>\n",
       "      <td>1</td>\n",
       "      <td>0</td>\n",
       "      <td>0</td>\n",
       "    </tr>\n",
       "    <tr>\n",
       "      <th>2</th>\n",
       "      <td>Bulgaria</td>\n",
       "      <td>BGR</td>\n",
       "      <td>1</td>\n",
       "      <td>1</td>\n",
       "      <td>Europe</td>\n",
       "      <td>Europe (south eastern)</td>\n",
       "      <td>0</td>\n",
       "      <td>1</td>\n",
       "      <td>1</td>\n",
       "      <td>0</td>\n",
       "    </tr>\n",
       "    <tr>\n",
       "      <th>3</th>\n",
       "      <td>Vanuatu</td>\n",
       "      <td>VUT</td>\n",
       "      <td>3</td>\n",
       "      <td>1</td>\n",
       "      <td>Oceania</td>\n",
       "      <td>Oceania</td>\n",
       "      <td>2</td>\n",
       "      <td>4</td>\n",
       "      <td>3</td>\n",
       "      <td>1</td>\n",
       "    </tr>\n",
       "    <tr>\n",
       "      <th>4</th>\n",
       "      <td>Pakistan</td>\n",
       "      <td>PAK</td>\n",
       "      <td>3</td>\n",
       "      <td>1</td>\n",
       "      <td>Asia</td>\n",
       "      <td>Asia (west)</td>\n",
       "      <td>1</td>\n",
       "      <td>1</td>\n",
       "      <td>3</td>\n",
       "      <td>1</td>\n",
       "    </tr>\n",
       "  </tbody>\n",
       "</table>\n",
       "</div>"
      ],
      "text/plain": [
       "    Country Country_IOS2  OpioidEML  9 quantiles of OpioidEML   Region  \\\n",
       "0    Brazil          BRA          3                         1  America   \n",
       "1  Cambodia          KHM          0                         1     Asia   \n",
       "2  Bulgaria          BGR          1                         1   Europe   \n",
       "3   Vanuatu          VUT          3                         1  Oceania   \n",
       "4  Pakistan          PAK          3                         1     Asia   \n",
       "\n",
       "                 Sub_region  RateOpEML  10 quantiles of RateOpEML  \\\n",
       "0           America (south)          1                          1   \n",
       "1  Asia (East & South East)          0                          1   \n",
       "2    Europe (south eastern)          0                          1   \n",
       "3                   Oceania          2                          4   \n",
       "4               Asia (west)          1                          1   \n",
       "\n",
       "   who_opioids  simScore  \n",
       "0            3         1  \n",
       "1            0         0  \n",
       "2            1         0  \n",
       "3            3         1  \n",
       "4            3         1  "
      ]
     },
     "execution_count": 32,
     "metadata": {},
     "output_type": "execute_result"
    }
   ],
   "source": [
    "df.head()"
   ]
  },
  {
   "cell_type": "code",
   "execution_count": 33,
   "metadata": {
    "scrolled": true
   },
   "outputs": [
    {
     "name": "stdout",
     "output_type": "stream",
     "text": [
      "<class 'pandas.core.frame.DataFrame'>\n",
      "RangeIndex: 137 entries, 0 to 136\n",
      "Data columns (total 10 columns):\n",
      "Country                      137 non-null object\n",
      "Country_IOS2                 137 non-null object\n",
      "OpioidEML                    137 non-null int64\n",
      "9 quantiles of OpioidEML     137 non-null int64\n",
      "Region                       137 non-null object\n",
      "Sub_region                   137 non-null object\n",
      "RateOpEML                    137 non-null int64\n",
      "10 quantiles of RateOpEML    137 non-null int64\n",
      "who_opioids                  137 non-null int64\n",
      "simScore                     137 non-null int64\n",
      "dtypes: int64(6), object(4)\n",
      "memory usage: 10.8+ KB\n"
     ]
    }
   ],
   "source": [
    "# to see what data is in the dataset (column names)\n",
    "df.info()"
   ]
  },
  {
   "cell_type": "code",
   "execution_count": 34,
   "metadata": {},
   "outputs": [
    {
     "data": {
      "text/html": [
       "<div>\n",
       "<style scoped>\n",
       "    .dataframe tbody tr th:only-of-type {\n",
       "        vertical-align: middle;\n",
       "    }\n",
       "\n",
       "    .dataframe tbody tr th {\n",
       "        vertical-align: top;\n",
       "    }\n",
       "\n",
       "    .dataframe thead th {\n",
       "        text-align: right;\n",
       "    }\n",
       "</style>\n",
       "<table border=\"1\" class=\"dataframe\">\n",
       "  <thead>\n",
       "    <tr style=\"text-align: right;\">\n",
       "      <th></th>\n",
       "      <th>OpioidEML</th>\n",
       "      <th>9 quantiles of OpioidEML</th>\n",
       "      <th>RateOpEML</th>\n",
       "      <th>10 quantiles of RateOpEML</th>\n",
       "      <th>who_opioids</th>\n",
       "      <th>simScore</th>\n",
       "    </tr>\n",
       "  </thead>\n",
       "  <tbody>\n",
       "    <tr>\n",
       "      <th>count</th>\n",
       "      <td>137.000000</td>\n",
       "      <td>137.000000</td>\n",
       "      <td>137.000000</td>\n",
       "      <td>137.000000</td>\n",
       "      <td>137.000000</td>\n",
       "      <td>137.000000</td>\n",
       "    </tr>\n",
       "    <tr>\n",
       "      <th>mean</th>\n",
       "      <td>6.854015</td>\n",
       "      <td>4.656934</td>\n",
       "      <td>1.934307</td>\n",
       "      <td>5.496350</td>\n",
       "      <td>3.474453</td>\n",
       "      <td>0.839416</td>\n",
       "    </tr>\n",
       "    <tr>\n",
       "      <th>std</th>\n",
       "      <td>3.261947</td>\n",
       "      <td>2.501288</td>\n",
       "      <td>0.620773</td>\n",
       "      <td>2.872599</td>\n",
       "      <td>1.098664</td>\n",
       "      <td>0.368494</td>\n",
       "    </tr>\n",
       "    <tr>\n",
       "      <th>min</th>\n",
       "      <td>0.000000</td>\n",
       "      <td>1.000000</td>\n",
       "      <td>0.000000</td>\n",
       "      <td>1.000000</td>\n",
       "      <td>0.000000</td>\n",
       "      <td>0.000000</td>\n",
       "    </tr>\n",
       "    <tr>\n",
       "      <th>25%</th>\n",
       "      <td>5.000000</td>\n",
       "      <td>3.000000</td>\n",
       "      <td>2.000000</td>\n",
       "      <td>3.000000</td>\n",
       "      <td>3.000000</td>\n",
       "      <td>1.000000</td>\n",
       "    </tr>\n",
       "    <tr>\n",
       "      <th>50%</th>\n",
       "      <td>6.000000</td>\n",
       "      <td>4.000000</td>\n",
       "      <td>2.000000</td>\n",
       "      <td>6.000000</td>\n",
       "      <td>4.000000</td>\n",
       "      <td>1.000000</td>\n",
       "    </tr>\n",
       "    <tr>\n",
       "      <th>75%</th>\n",
       "      <td>9.000000</td>\n",
       "      <td>7.000000</td>\n",
       "      <td>2.000000</td>\n",
       "      <td>8.000000</td>\n",
       "      <td>4.000000</td>\n",
       "      <td>1.000000</td>\n",
       "    </tr>\n",
       "    <tr>\n",
       "      <th>max</th>\n",
       "      <td>19.000000</td>\n",
       "      <td>9.000000</td>\n",
       "      <td>3.000000</td>\n",
       "      <td>10.000000</td>\n",
       "      <td>5.000000</td>\n",
       "      <td>1.000000</td>\n",
       "    </tr>\n",
       "  </tbody>\n",
       "</table>\n",
       "</div>"
      ],
      "text/plain": [
       "        OpioidEML  9 quantiles of OpioidEML   RateOpEML  \\\n",
       "count  137.000000                137.000000  137.000000   \n",
       "mean     6.854015                  4.656934    1.934307   \n",
       "std      3.261947                  2.501288    0.620773   \n",
       "min      0.000000                  1.000000    0.000000   \n",
       "25%      5.000000                  3.000000    2.000000   \n",
       "50%      6.000000                  4.000000    2.000000   \n",
       "75%      9.000000                  7.000000    2.000000   \n",
       "max     19.000000                  9.000000    3.000000   \n",
       "\n",
       "       10 quantiles of RateOpEML  who_opioids    simScore  \n",
       "count                 137.000000   137.000000  137.000000  \n",
       "mean                    5.496350     3.474453    0.839416  \n",
       "std                     2.872599     1.098664    0.368494  \n",
       "min                     1.000000     0.000000    0.000000  \n",
       "25%                     3.000000     3.000000    1.000000  \n",
       "50%                     6.000000     4.000000    1.000000  \n",
       "75%                     8.000000     4.000000    1.000000  \n",
       "max                    10.000000     5.000000    1.000000  "
      ]
     },
     "execution_count": 34,
     "metadata": {},
     "output_type": "execute_result"
    }
   ],
   "source": [
    "# summary stats for each column \n",
    "df.describe()"
   ]
  },
  {
   "cell_type": "markdown",
   "metadata": {},
   "source": [
    "# Visualise spread of data"
   ]
  },
  {
   "cell_type": "code",
   "execution_count": 35,
   "metadata": {},
   "outputs": [
    {
     "data": {
      "application/vnd.plotly.v1+json": {
       "config": {
        "plotlyServerURL": "https://plot.ly"
       },
       "data": [
        {
         "alignmentgroup": "True",
         "customdata": [
          [
           "Brazil",
           3
          ],
          [
           "Nicaragua",
           2
          ],
          [
           "Haiti",
           2
          ],
          [
           "Saint Vincent & the Grenadines",
           5
          ],
          [
           "Guyana",
           6
          ],
          [
           "Suriname",
           5
          ],
          [
           "Antigua & Barbuda",
           6
          ],
          [
           "Saint Kitts & Nevis",
           5
          ],
          [
           "Grenada",
           5
          ],
          [
           "Dominican Republic",
           6
          ],
          [
           "Costa Rica",
           7
          ],
          [
           "Dominica",
           5
          ],
          [
           "Saint Lucia",
           5
          ],
          [
           "El Salvador",
           6
          ],
          [
           "Paraguay",
           6
          ],
          [
           "Bolivia (Plurinational State of)",
           8
          ],
          [
           "Uruguay",
           8
          ],
          [
           "Chile",
           8
          ],
          [
           "Colombia",
           8
          ],
          [
           "Venezuela (Bolivarian Rep. of)",
           7
          ],
          [
           "Trinidad & Tobago",
           9
          ],
          [
           "Honduras",
           8
          ],
          [
           "Cuba",
           7
          ],
          [
           "Belize",
           9
          ],
          [
           "Argentina",
           8
          ],
          [
           "Peru",
           7
          ],
          [
           "Ecuador",
           10
          ],
          [
           "Jamaica",
           12
          ],
          [
           "Mexico",
           12
          ],
          [
           "Barbados",
           12
          ]
         ],
         "hoverlabel": {
          "namelength": 0
         },
         "hovertemplate": "Region=America<br>=%{customdata[0]}<br>Number of opioids listed on<br>national essential medicines lists=%{customdata[1]}",
         "legendgroup": "Region=America",
         "marker": {
          "color": "#636efa"
         },
         "name": "America",
         "offsetgroup": "Region=America",
         "orientation": "v",
         "showlegend": true,
         "textposition": "auto",
         "type": "bar",
         "x": [
          "Brazil",
          "Nicaragua",
          "Haiti",
          "Saint Vincent & the Grenadines",
          "Guyana",
          "Suriname",
          "Antigua & Barbuda",
          "Saint Kitts & Nevis",
          "Grenada",
          "Dominican Republic",
          "Costa Rica",
          "Dominica",
          "Saint Lucia",
          "El Salvador",
          "Paraguay",
          "Bolivia (Plurinational State of)",
          "Uruguay",
          "Chile",
          "Colombia",
          "Venezuela (Bolivarian Rep. of)",
          "Trinidad & Tobago",
          "Honduras",
          "Cuba",
          "Belize",
          "Argentina",
          "Peru",
          "Ecuador",
          "Jamaica",
          "Mexico",
          "Barbados"
         ],
         "xaxis": "x",
         "y": [
          3,
          2,
          2,
          5,
          6,
          5,
          6,
          5,
          5,
          6,
          7,
          5,
          5,
          6,
          6,
          8,
          8,
          8,
          8,
          7,
          9,
          8,
          7,
          9,
          8,
          7,
          10,
          12,
          12,
          12
         ],
         "yaxis": "y"
        },
        {
         "alignmentgroup": "True",
         "customdata": [
          [
           "Cambodia",
           0
          ],
          [
           "Pakistan",
           3
          ],
          [
           "Georgia",
           4
          ],
          [
           "Mongolia",
           4
          ],
          [
           "Sri Lanka",
           4
          ],
          [
           "Bangladesh",
           2
          ],
          [
           "Timor-Leste",
           4
          ],
          [
           "Yemen",
           3
          ],
          [
           "Armenia",
           4
          ],
          [
           "China",
           5
          ],
          [
           "Tajikistan",
           6
          ],
          [
           "Nepal",
           4
          ],
          [
           "Kyrgyzstan",
           5
          ],
          [
           "Myanmar",
           6
          ],
          [
           "India",
           4
          ],
          [
           "Bahrain",
           6
          ],
          [
           "Bhutan",
           5
          ],
          [
           "Lebanon",
           6
          ],
          [
           "Malaysia",
           6
          ],
          [
           "Korea (Democratic People's Republic of)",
           6
          ],
          [
           "Indonesia",
           7
          ],
          [
           "Afghanistan",
           6
          ],
          [
           "Viet Nam",
           9
          ],
          [
           "Jordan",
           10
          ],
          [
           "Oman",
           10
          ],
          [
           "Maldives",
           9
          ],
          [
           "Philippines",
           10
          ],
          [
           "Thailand",
           11
          ],
          [
           "Iraq",
           12
          ],
          [
           "Iran (Islamic Republic of)",
           16
          ],
          [
           "Syrian Arab Republic",
           15
          ]
         ],
         "hoverlabel": {
          "namelength": 0
         },
         "hovertemplate": "Region=Asia<br>=%{customdata[0]}<br>Number of opioids listed on<br>national essential medicines lists=%{customdata[1]}",
         "legendgroup": "Region=Asia",
         "marker": {
          "color": "#EF553B"
         },
         "name": "Asia",
         "offsetgroup": "Region=Asia",
         "orientation": "v",
         "showlegend": true,
         "textposition": "auto",
         "type": "bar",
         "x": [
          "Cambodia",
          "Pakistan",
          "Georgia",
          "Mongolia",
          "Sri Lanka",
          "Bangladesh",
          "Timor-Leste",
          "Yemen",
          "Armenia",
          "China",
          "Tajikistan",
          "Nepal",
          "Kyrgyzstan",
          "Myanmar",
          "India",
          "Bahrain",
          "Bhutan",
          "Lebanon",
          "Malaysia",
          "Korea (Democratic People's Republic of)",
          "Indonesia",
          "Afghanistan",
          "Viet Nam",
          "Jordan",
          "Oman",
          "Maldives",
          "Philippines",
          "Thailand",
          "Iraq",
          "Iran (Islamic Republic of)",
          "Syrian Arab Republic"
         ],
         "xaxis": "x",
         "y": [
          0,
          3,
          4,
          4,
          4,
          2,
          4,
          3,
          4,
          5,
          6,
          4,
          5,
          6,
          4,
          6,
          5,
          6,
          6,
          6,
          7,
          6,
          9,
          10,
          10,
          9,
          10,
          11,
          12,
          16,
          15
         ],
         "yaxis": "y"
        },
        {
         "alignmentgroup": "True",
         "customdata": [
          [
           "Bulgaria",
           1
          ],
          [
           "Ukraine",
           3
          ],
          [
           "Lithuania",
           3
          ],
          [
           "Albania",
           3
          ],
          [
           "Russian Federation",
           5
          ],
          [
           "Bosnia & Herzegovina",
           6
          ],
          [
           "Moldova (the Republic of)",
           8
          ],
          [
           "Sweden",
           7
          ],
          [
           "Estonia",
           8
          ],
          [
           "Montenegro",
           8
          ],
          [
           "Latvia",
           6
          ],
          [
           "Macedonia (The former Yugoslav Rep. of )",
           9
          ],
          [
           "Poland",
           9
          ],
          [
           "Belarus",
           9
          ],
          [
           "Serbia",
           10
          ],
          [
           "Portugal",
           11
          ],
          [
           "Romania",
           11
          ],
          [
           "Malta",
           13
          ],
          [
           "Croatia",
           12
          ],
          [
           "Slovenia",
           15
          ],
          [
           "Czechia",
           15
          ],
          [
           "Slovakia",
           19
          ]
         ],
         "hoverlabel": {
          "namelength": 0
         },
         "hovertemplate": "Region=Europe<br>=%{customdata[0]}<br>Number of opioids listed on<br>national essential medicines lists=%{customdata[1]}",
         "legendgroup": "Region=Europe",
         "marker": {
          "color": "#00cc96"
         },
         "name": "Europe",
         "offsetgroup": "Region=Europe",
         "orientation": "v",
         "showlegend": true,
         "textposition": "auto",
         "type": "bar",
         "x": [
          "Bulgaria",
          "Ukraine",
          "Lithuania",
          "Albania",
          "Russian Federation",
          "Bosnia & Herzegovina",
          "Moldova (the Republic of)",
          "Sweden",
          "Estonia",
          "Montenegro",
          "Latvia",
          "Macedonia (The former Yugoslav Rep. of )",
          "Poland",
          "Belarus",
          "Serbia",
          "Portugal",
          "Romania",
          "Malta",
          "Croatia",
          "Slovenia",
          "Czechia",
          "Slovakia"
         ],
         "xaxis": "x",
         "y": [
          1,
          3,
          3,
          3,
          5,
          6,
          8,
          7,
          8,
          8,
          6,
          9,
          9,
          9,
          10,
          11,
          11,
          13,
          12,
          15,
          15,
          19
         ],
         "yaxis": "y"
        },
        {
         "alignmentgroup": "True",
         "customdata": [
          [
           "Vanuatu",
           3
          ],
          [
           "Kiribati",
           5
          ],
          [
           "Papua New Guinea",
           4
          ],
          [
           "Niue",
           4
          ],
          [
           "Tuvalu",
           4
          ],
          [
           "Fiji",
           6
          ],
          [
           "Solomon Islands",
           5
          ],
          [
           "Marshall Islands",
           7
          ],
          [
           "Nauru",
           7
          ],
          [
           "Tonga",
           7
          ],
          [
           "Palau",
           7
          ],
          [
           "Cook Islands",
           6
          ]
         ],
         "hoverlabel": {
          "namelength": 0
         },
         "hovertemplate": "Region=Oceania<br>=%{customdata[0]}<br>Number of opioids listed on<br>national essential medicines lists=%{customdata[1]}",
         "legendgroup": "Region=Oceania",
         "marker": {
          "color": "#ab63fa"
         },
         "name": "Oceania",
         "offsetgroup": "Region=Oceania",
         "orientation": "v",
         "showlegend": true,
         "textposition": "auto",
         "type": "bar",
         "x": [
          "Vanuatu",
          "Kiribati",
          "Papua New Guinea",
          "Niue",
          "Tuvalu",
          "Fiji",
          "Solomon Islands",
          "Marshall Islands",
          "Nauru",
          "Tonga",
          "Palau",
          "Cook Islands"
         ],
         "xaxis": "x",
         "y": [
          3,
          5,
          4,
          4,
          4,
          6,
          5,
          7,
          7,
          7,
          7,
          6
         ],
         "yaxis": "y"
        },
        {
         "alignmentgroup": "True",
         "customdata": [
          [
           "Angola",
           1
          ],
          [
           "Chad",
           3
          ],
          [
           "Somalia",
           1
          ],
          [
           "Kenya",
           6
          ],
          [
           "Mauritania",
           3
          ],
          [
           "Mozambique",
           5
          ],
          [
           "Djibouti",
           4
          ],
          [
           "Burundi",
           4
          ],
          [
           "Guinea",
           5
          ],
          [
           "Zambia",
           5
          ],
          [
           "Liberia",
           4
          ],
          [
           "Mali",
           6
          ],
          [
           "Gambia",
           5
          ],
          [
           "South Africa",
           4
          ],
          [
           "Ghana",
           5
          ],
          [
           "Tanzania (United Republic of)",
           6
          ],
          [
           "Lesotho",
           3
          ],
          [
           "Seychelles",
           5
          ],
          [
           "Cabo Verde",
           8
          ],
          [
           "Malawi",
           7
          ],
          [
           "Eritrea",
           6
          ],
          [
           "Uganda",
           7
          ],
          [
           "Rwanda",
           6
          ],
          [
           "Sudan",
           5
          ],
          [
           "Botswana",
           7
          ],
          [
           "Zimbabwe",
           7
          ],
          [
           "Egypt",
           6
          ],
          [
           "Namibia",
           9
          ],
          [
           "Central African Republic",
           7
          ],
          [
           "Madagascar",
           7
          ],
          [
           "Burkina Faso",
           9
          ],
          [
           "Congo (the)",
           9
          ],
          [
           "Togo",
           9
          ],
          [
           "Nigeria",
           10
          ],
          [
           "Morocco",
           10
          ],
          [
           "Senegal",
           9
          ],
          [
           "Algeria",
           7
          ],
          [
           "Congo (Democratic Republic of the)",
           9
          ],
          [
           "Côte d'Ivoire",
           10
          ],
          [
           "Cameroon",
           10
          ],
          [
           "Ethiopia",
           11
          ],
          [
           "Tunisia",
           14
          ]
         ],
         "hoverlabel": {
          "namelength": 0
         },
         "hovertemplate": "Region=Africa<br>=%{customdata[0]}<br>Number of opioids listed on<br>national essential medicines lists=%{customdata[1]}",
         "legendgroup": "Region=Africa",
         "marker": {
          "color": "#FFA15A"
         },
         "name": "Africa",
         "offsetgroup": "Region=Africa",
         "orientation": "v",
         "showlegend": true,
         "textposition": "auto",
         "type": "bar",
         "x": [
          "Angola",
          "Chad",
          "Somalia",
          "Kenya",
          "Mauritania",
          "Mozambique",
          "Djibouti",
          "Burundi",
          "Guinea",
          "Zambia",
          "Liberia",
          "Mali",
          "Gambia",
          "South Africa",
          "Ghana",
          "Tanzania (United Republic of)",
          "Lesotho",
          "Seychelles",
          "Cabo Verde",
          "Malawi",
          "Eritrea",
          "Uganda",
          "Rwanda",
          "Sudan",
          "Botswana",
          "Zimbabwe",
          "Egypt",
          "Namibia",
          "Central African Republic",
          "Madagascar",
          "Burkina Faso",
          "Congo (the)",
          "Togo",
          "Nigeria",
          "Morocco",
          "Senegal",
          "Algeria",
          "Congo (Democratic Republic of the)",
          "Côte d'Ivoire",
          "Cameroon",
          "Ethiopia",
          "Tunisia"
         ],
         "xaxis": "x",
         "y": [
          1,
          3,
          1,
          6,
          3,
          5,
          4,
          4,
          5,
          5,
          4,
          6,
          5,
          4,
          5,
          6,
          3,
          5,
          8,
          7,
          6,
          7,
          6,
          5,
          7,
          7,
          6,
          9,
          7,
          7,
          9,
          9,
          9,
          10,
          10,
          9,
          7,
          9,
          10,
          10,
          11,
          14
         ],
         "yaxis": "y"
        }
       ],
       "layout": {
        "barmode": "relative",
        "font": {
         "size": 10
        },
        "legend": {
         "tracegroupgap": 0
        },
        "margin": {
         "t": 60
        },
        "template": {
         "data": {
          "bar": [
           {
            "error_x": {
             "color": "#2a3f5f"
            },
            "error_y": {
             "color": "#2a3f5f"
            },
            "marker": {
             "line": {
              "color": "#E5ECF6",
              "width": 0.5
             }
            },
            "type": "bar"
           }
          ],
          "barpolar": [
           {
            "marker": {
             "line": {
              "color": "#E5ECF6",
              "width": 0.5
             }
            },
            "type": "barpolar"
           }
          ],
          "carpet": [
           {
            "aaxis": {
             "endlinecolor": "#2a3f5f",
             "gridcolor": "white",
             "linecolor": "white",
             "minorgridcolor": "white",
             "startlinecolor": "#2a3f5f"
            },
            "baxis": {
             "endlinecolor": "#2a3f5f",
             "gridcolor": "white",
             "linecolor": "white",
             "minorgridcolor": "white",
             "startlinecolor": "#2a3f5f"
            },
            "type": "carpet"
           }
          ],
          "choropleth": [
           {
            "colorbar": {
             "outlinewidth": 0,
             "ticks": ""
            },
            "type": "choropleth"
           }
          ],
          "contour": [
           {
            "colorbar": {
             "outlinewidth": 0,
             "ticks": ""
            },
            "colorscale": [
             [
              0,
              "#0d0887"
             ],
             [
              0.1111111111111111,
              "#46039f"
             ],
             [
              0.2222222222222222,
              "#7201a8"
             ],
             [
              0.3333333333333333,
              "#9c179e"
             ],
             [
              0.4444444444444444,
              "#bd3786"
             ],
             [
              0.5555555555555556,
              "#d8576b"
             ],
             [
              0.6666666666666666,
              "#ed7953"
             ],
             [
              0.7777777777777778,
              "#fb9f3a"
             ],
             [
              0.8888888888888888,
              "#fdca26"
             ],
             [
              1,
              "#f0f921"
             ]
            ],
            "type": "contour"
           }
          ],
          "contourcarpet": [
           {
            "colorbar": {
             "outlinewidth": 0,
             "ticks": ""
            },
            "type": "contourcarpet"
           }
          ],
          "heatmap": [
           {
            "colorbar": {
             "outlinewidth": 0,
             "ticks": ""
            },
            "colorscale": [
             [
              0,
              "#0d0887"
             ],
             [
              0.1111111111111111,
              "#46039f"
             ],
             [
              0.2222222222222222,
              "#7201a8"
             ],
             [
              0.3333333333333333,
              "#9c179e"
             ],
             [
              0.4444444444444444,
              "#bd3786"
             ],
             [
              0.5555555555555556,
              "#d8576b"
             ],
             [
              0.6666666666666666,
              "#ed7953"
             ],
             [
              0.7777777777777778,
              "#fb9f3a"
             ],
             [
              0.8888888888888888,
              "#fdca26"
             ],
             [
              1,
              "#f0f921"
             ]
            ],
            "type": "heatmap"
           }
          ],
          "heatmapgl": [
           {
            "colorbar": {
             "outlinewidth": 0,
             "ticks": ""
            },
            "colorscale": [
             [
              0,
              "#0d0887"
             ],
             [
              0.1111111111111111,
              "#46039f"
             ],
             [
              0.2222222222222222,
              "#7201a8"
             ],
             [
              0.3333333333333333,
              "#9c179e"
             ],
             [
              0.4444444444444444,
              "#bd3786"
             ],
             [
              0.5555555555555556,
              "#d8576b"
             ],
             [
              0.6666666666666666,
              "#ed7953"
             ],
             [
              0.7777777777777778,
              "#fb9f3a"
             ],
             [
              0.8888888888888888,
              "#fdca26"
             ],
             [
              1,
              "#f0f921"
             ]
            ],
            "type": "heatmapgl"
           }
          ],
          "histogram": [
           {
            "marker": {
             "colorbar": {
              "outlinewidth": 0,
              "ticks": ""
             }
            },
            "type": "histogram"
           }
          ],
          "histogram2d": [
           {
            "colorbar": {
             "outlinewidth": 0,
             "ticks": ""
            },
            "colorscale": [
             [
              0,
              "#0d0887"
             ],
             [
              0.1111111111111111,
              "#46039f"
             ],
             [
              0.2222222222222222,
              "#7201a8"
             ],
             [
              0.3333333333333333,
              "#9c179e"
             ],
             [
              0.4444444444444444,
              "#bd3786"
             ],
             [
              0.5555555555555556,
              "#d8576b"
             ],
             [
              0.6666666666666666,
              "#ed7953"
             ],
             [
              0.7777777777777778,
              "#fb9f3a"
             ],
             [
              0.8888888888888888,
              "#fdca26"
             ],
             [
              1,
              "#f0f921"
             ]
            ],
            "type": "histogram2d"
           }
          ],
          "histogram2dcontour": [
           {
            "colorbar": {
             "outlinewidth": 0,
             "ticks": ""
            },
            "colorscale": [
             [
              0,
              "#0d0887"
             ],
             [
              0.1111111111111111,
              "#46039f"
             ],
             [
              0.2222222222222222,
              "#7201a8"
             ],
             [
              0.3333333333333333,
              "#9c179e"
             ],
             [
              0.4444444444444444,
              "#bd3786"
             ],
             [
              0.5555555555555556,
              "#d8576b"
             ],
             [
              0.6666666666666666,
              "#ed7953"
             ],
             [
              0.7777777777777778,
              "#fb9f3a"
             ],
             [
              0.8888888888888888,
              "#fdca26"
             ],
             [
              1,
              "#f0f921"
             ]
            ],
            "type": "histogram2dcontour"
           }
          ],
          "mesh3d": [
           {
            "colorbar": {
             "outlinewidth": 0,
             "ticks": ""
            },
            "type": "mesh3d"
           }
          ],
          "parcoords": [
           {
            "line": {
             "colorbar": {
              "outlinewidth": 0,
              "ticks": ""
             }
            },
            "type": "parcoords"
           }
          ],
          "pie": [
           {
            "automargin": true,
            "type": "pie"
           }
          ],
          "scatter": [
           {
            "marker": {
             "colorbar": {
              "outlinewidth": 0,
              "ticks": ""
             }
            },
            "type": "scatter"
           }
          ],
          "scatter3d": [
           {
            "line": {
             "colorbar": {
              "outlinewidth": 0,
              "ticks": ""
             }
            },
            "marker": {
             "colorbar": {
              "outlinewidth": 0,
              "ticks": ""
             }
            },
            "type": "scatter3d"
           }
          ],
          "scattercarpet": [
           {
            "marker": {
             "colorbar": {
              "outlinewidth": 0,
              "ticks": ""
             }
            },
            "type": "scattercarpet"
           }
          ],
          "scattergeo": [
           {
            "marker": {
             "colorbar": {
              "outlinewidth": 0,
              "ticks": ""
             }
            },
            "type": "scattergeo"
           }
          ],
          "scattergl": [
           {
            "marker": {
             "colorbar": {
              "outlinewidth": 0,
              "ticks": ""
             }
            },
            "type": "scattergl"
           }
          ],
          "scattermapbox": [
           {
            "marker": {
             "colorbar": {
              "outlinewidth": 0,
              "ticks": ""
             }
            },
            "type": "scattermapbox"
           }
          ],
          "scatterpolar": [
           {
            "marker": {
             "colorbar": {
              "outlinewidth": 0,
              "ticks": ""
             }
            },
            "type": "scatterpolar"
           }
          ],
          "scatterpolargl": [
           {
            "marker": {
             "colorbar": {
              "outlinewidth": 0,
              "ticks": ""
             }
            },
            "type": "scatterpolargl"
           }
          ],
          "scatterternary": [
           {
            "marker": {
             "colorbar": {
              "outlinewidth": 0,
              "ticks": ""
             }
            },
            "type": "scatterternary"
           }
          ],
          "surface": [
           {
            "colorbar": {
             "outlinewidth": 0,
             "ticks": ""
            },
            "colorscale": [
             [
              0,
              "#0d0887"
             ],
             [
              0.1111111111111111,
              "#46039f"
             ],
             [
              0.2222222222222222,
              "#7201a8"
             ],
             [
              0.3333333333333333,
              "#9c179e"
             ],
             [
              0.4444444444444444,
              "#bd3786"
             ],
             [
              0.5555555555555556,
              "#d8576b"
             ],
             [
              0.6666666666666666,
              "#ed7953"
             ],
             [
              0.7777777777777778,
              "#fb9f3a"
             ],
             [
              0.8888888888888888,
              "#fdca26"
             ],
             [
              1,
              "#f0f921"
             ]
            ],
            "type": "surface"
           }
          ],
          "table": [
           {
            "cells": {
             "fill": {
              "color": "#EBF0F8"
             },
             "line": {
              "color": "white"
             }
            },
            "header": {
             "fill": {
              "color": "#C8D4E3"
             },
             "line": {
              "color": "white"
             }
            },
            "type": "table"
           }
          ]
         },
         "layout": {
          "annotationdefaults": {
           "arrowcolor": "#2a3f5f",
           "arrowhead": 0,
           "arrowwidth": 1
          },
          "coloraxis": {
           "colorbar": {
            "outlinewidth": 0,
            "ticks": ""
           }
          },
          "colorscale": {
           "diverging": [
            [
             0,
             "#8e0152"
            ],
            [
             0.1,
             "#c51b7d"
            ],
            [
             0.2,
             "#de77ae"
            ],
            [
             0.3,
             "#f1b6da"
            ],
            [
             0.4,
             "#fde0ef"
            ],
            [
             0.5,
             "#f7f7f7"
            ],
            [
             0.6,
             "#e6f5d0"
            ],
            [
             0.7,
             "#b8e186"
            ],
            [
             0.8,
             "#7fbc41"
            ],
            [
             0.9,
             "#4d9221"
            ],
            [
             1,
             "#276419"
            ]
           ],
           "sequential": [
            [
             0,
             "#0d0887"
            ],
            [
             0.1111111111111111,
             "#46039f"
            ],
            [
             0.2222222222222222,
             "#7201a8"
            ],
            [
             0.3333333333333333,
             "#9c179e"
            ],
            [
             0.4444444444444444,
             "#bd3786"
            ],
            [
             0.5555555555555556,
             "#d8576b"
            ],
            [
             0.6666666666666666,
             "#ed7953"
            ],
            [
             0.7777777777777778,
             "#fb9f3a"
            ],
            [
             0.8888888888888888,
             "#fdca26"
            ],
            [
             1,
             "#f0f921"
            ]
           ],
           "sequentialminus": [
            [
             0,
             "#0d0887"
            ],
            [
             0.1111111111111111,
             "#46039f"
            ],
            [
             0.2222222222222222,
             "#7201a8"
            ],
            [
             0.3333333333333333,
             "#9c179e"
            ],
            [
             0.4444444444444444,
             "#bd3786"
            ],
            [
             0.5555555555555556,
             "#d8576b"
            ],
            [
             0.6666666666666666,
             "#ed7953"
            ],
            [
             0.7777777777777778,
             "#fb9f3a"
            ],
            [
             0.8888888888888888,
             "#fdca26"
            ],
            [
             1,
             "#f0f921"
            ]
           ]
          },
          "colorway": [
           "#636efa",
           "#EF553B",
           "#00cc96",
           "#ab63fa",
           "#FFA15A",
           "#19d3f3",
           "#FF6692",
           "#B6E880",
           "#FF97FF",
           "#FECB52"
          ],
          "font": {
           "color": "#2a3f5f"
          },
          "geo": {
           "bgcolor": "white",
           "lakecolor": "white",
           "landcolor": "#E5ECF6",
           "showlakes": true,
           "showland": true,
           "subunitcolor": "white"
          },
          "hoverlabel": {
           "align": "left"
          },
          "hovermode": "closest",
          "mapbox": {
           "style": "light"
          },
          "paper_bgcolor": "white",
          "plot_bgcolor": "#E5ECF6",
          "polar": {
           "angularaxis": {
            "gridcolor": "white",
            "linecolor": "white",
            "ticks": ""
           },
           "bgcolor": "#E5ECF6",
           "radialaxis": {
            "gridcolor": "white",
            "linecolor": "white",
            "ticks": ""
           }
          },
          "scene": {
           "xaxis": {
            "backgroundcolor": "#E5ECF6",
            "gridcolor": "white",
            "gridwidth": 2,
            "linecolor": "white",
            "showbackground": true,
            "ticks": "",
            "zerolinecolor": "white"
           },
           "yaxis": {
            "backgroundcolor": "#E5ECF6",
            "gridcolor": "white",
            "gridwidth": 2,
            "linecolor": "white",
            "showbackground": true,
            "ticks": "",
            "zerolinecolor": "white"
           },
           "zaxis": {
            "backgroundcolor": "#E5ECF6",
            "gridcolor": "white",
            "gridwidth": 2,
            "linecolor": "white",
            "showbackground": true,
            "ticks": "",
            "zerolinecolor": "white"
           }
          },
          "shapedefaults": {
           "line": {
            "color": "#2a3f5f"
           }
          },
          "ternary": {
           "aaxis": {
            "gridcolor": "white",
            "linecolor": "white",
            "ticks": ""
           },
           "baxis": {
            "gridcolor": "white",
            "linecolor": "white",
            "ticks": ""
           },
           "bgcolor": "#E5ECF6",
           "caxis": {
            "gridcolor": "white",
            "linecolor": "white",
            "ticks": ""
           }
          },
          "title": {
           "x": 0.05
          },
          "xaxis": {
           "automargin": true,
           "gridcolor": "white",
           "linecolor": "white",
           "ticks": "",
           "title": {
            "standoff": 15
           },
           "zerolinecolor": "white",
           "zerolinewidth": 2
          },
          "yaxis": {
           "automargin": true,
           "gridcolor": "white",
           "linecolor": "white",
           "ticks": "",
           "title": {
            "standoff": 15
           },
           "zerolinecolor": "white",
           "zerolinewidth": 2
          }
         }
        },
        "xaxis": {
         "anchor": "y",
         "categoryorder": "total descending",
         "domain": [
          0,
          1
         ],
         "tickangle": -45,
         "title": {
          "text": ""
         }
        },
        "yaxis": {
         "anchor": "x",
         "domain": [
          0,
          1
         ],
         "showgrid": false,
         "title": {
          "text": "Number of opioids listed on<br>national essential medicines lists"
         }
        }
       }
      },
      "text/html": [
       "<div>\n",
       "        \n",
       "        \n",
       "            <div id=\"8ebea650-b0dc-4cb6-92ae-db7171d02fa9\" class=\"plotly-graph-div\" style=\"height:525px; width:100%;\"></div>\n",
       "            <script type=\"text/javascript\">\n",
       "                require([\"plotly\"], function(Plotly) {\n",
       "                    window.PLOTLYENV=window.PLOTLYENV || {};\n",
       "                    \n",
       "                if (document.getElementById(\"8ebea650-b0dc-4cb6-92ae-db7171d02fa9\")) {\n",
       "                    Plotly.newPlot(\n",
       "                        '8ebea650-b0dc-4cb6-92ae-db7171d02fa9',\n",
       "                        [{\"alignmentgroup\": \"True\", \"customdata\": [[\"Brazil\", 3], [\"Nicaragua\", 2], [\"Haiti\", 2], [\"Saint Vincent & the Grenadines\", 5], [\"Guyana\", 6], [\"Suriname\", 5], [\"Antigua & Barbuda\", 6], [\"Saint Kitts & Nevis\", 5], [\"Grenada\", 5], [\"Dominican Republic\", 6], [\"Costa Rica\", 7], [\"Dominica\", 5], [\"Saint Lucia\", 5], [\"El Salvador\", 6], [\"Paraguay\", 6], [\"Bolivia (Plurinational State of)\", 8], [\"Uruguay\", 8], [\"Chile\", 8], [\"Colombia\", 8], [\"Venezuela (Bolivarian Rep. of)\", 7], [\"Trinidad & Tobago\", 9], [\"Honduras\", 8], [\"Cuba\", 7], [\"Belize\", 9], [\"Argentina\", 8], [\"Peru\", 7], [\"Ecuador\", 10], [\"Jamaica\", 12], [\"Mexico\", 12], [\"Barbados\", 12]], \"hoverlabel\": {\"namelength\": 0}, \"hovertemplate\": \"Region=America<br>=%{customdata[0]}<br>Number of opioids listed on<br>national essential medicines lists=%{customdata[1]}\", \"legendgroup\": \"Region=America\", \"marker\": {\"color\": \"#636efa\"}, \"name\": \"America\", \"offsetgroup\": \"Region=America\", \"orientation\": \"v\", \"showlegend\": true, \"textposition\": \"auto\", \"type\": \"bar\", \"x\": [\"Brazil\", \"Nicaragua\", \"Haiti\", \"Saint Vincent & the Grenadines\", \"Guyana\", \"Suriname\", \"Antigua & Barbuda\", \"Saint Kitts & Nevis\", \"Grenada\", \"Dominican Republic\", \"Costa Rica\", \"Dominica\", \"Saint Lucia\", \"El Salvador\", \"Paraguay\", \"Bolivia (Plurinational State of)\", \"Uruguay\", \"Chile\", \"Colombia\", \"Venezuela (Bolivarian Rep. of)\", \"Trinidad & Tobago\", \"Honduras\", \"Cuba\", \"Belize\", \"Argentina\", \"Peru\", \"Ecuador\", \"Jamaica\", \"Mexico\", \"Barbados\"], \"xaxis\": \"x\", \"y\": [3, 2, 2, 5, 6, 5, 6, 5, 5, 6, 7, 5, 5, 6, 6, 8, 8, 8, 8, 7, 9, 8, 7, 9, 8, 7, 10, 12, 12, 12], \"yaxis\": \"y\"}, {\"alignmentgroup\": \"True\", \"customdata\": [[\"Cambodia\", 0], [\"Pakistan\", 3], [\"Georgia\", 4], [\"Mongolia\", 4], [\"Sri Lanka\", 4], [\"Bangladesh\", 2], [\"Timor-Leste\", 4], [\"Yemen\", 3], [\"Armenia\", 4], [\"China\", 5], [\"Tajikistan\", 6], [\"Nepal\", 4], [\"Kyrgyzstan\", 5], [\"Myanmar\", 6], [\"India\", 4], [\"Bahrain\", 6], [\"Bhutan\", 5], [\"Lebanon\", 6], [\"Malaysia\", 6], [\"Korea (Democratic People's Republic of)\", 6], [\"Indonesia\", 7], [\"Afghanistan\", 6], [\"Viet Nam\", 9], [\"Jordan\", 10], [\"Oman\", 10], [\"Maldives\", 9], [\"Philippines\", 10], [\"Thailand\", 11], [\"Iraq\", 12], [\"Iran (Islamic Republic of)\", 16], [\"Syrian Arab Republic\", 15]], \"hoverlabel\": {\"namelength\": 0}, \"hovertemplate\": \"Region=Asia<br>=%{customdata[0]}<br>Number of opioids listed on<br>national essential medicines lists=%{customdata[1]}\", \"legendgroup\": \"Region=Asia\", \"marker\": {\"color\": \"#EF553B\"}, \"name\": \"Asia\", \"offsetgroup\": \"Region=Asia\", \"orientation\": \"v\", \"showlegend\": true, \"textposition\": \"auto\", \"type\": \"bar\", \"x\": [\"Cambodia\", \"Pakistan\", \"Georgia\", \"Mongolia\", \"Sri Lanka\", \"Bangladesh\", \"Timor-Leste\", \"Yemen\", \"Armenia\", \"China\", \"Tajikistan\", \"Nepal\", \"Kyrgyzstan\", \"Myanmar\", \"India\", \"Bahrain\", \"Bhutan\", \"Lebanon\", \"Malaysia\", \"Korea (Democratic People's Republic of)\", \"Indonesia\", \"Afghanistan\", \"Viet Nam\", \"Jordan\", \"Oman\", \"Maldives\", \"Philippines\", \"Thailand\", \"Iraq\", \"Iran (Islamic Republic of)\", \"Syrian Arab Republic\"], \"xaxis\": \"x\", \"y\": [0, 3, 4, 4, 4, 2, 4, 3, 4, 5, 6, 4, 5, 6, 4, 6, 5, 6, 6, 6, 7, 6, 9, 10, 10, 9, 10, 11, 12, 16, 15], \"yaxis\": \"y\"}, {\"alignmentgroup\": \"True\", \"customdata\": [[\"Bulgaria\", 1], [\"Ukraine\", 3], [\"Lithuania\", 3], [\"Albania\", 3], [\"Russian Federation\", 5], [\"Bosnia & Herzegovina\", 6], [\"Moldova (the Republic of)\", 8], [\"Sweden\", 7], [\"Estonia\", 8], [\"Montenegro\", 8], [\"Latvia\", 6], [\"Macedonia (The former Yugoslav Rep. of )\", 9], [\"Poland\", 9], [\"Belarus\", 9], [\"Serbia\", 10], [\"Portugal\", 11], [\"Romania\", 11], [\"Malta\", 13], [\"Croatia\", 12], [\"Slovenia\", 15], [\"Czechia\", 15], [\"Slovakia\", 19]], \"hoverlabel\": {\"namelength\": 0}, \"hovertemplate\": \"Region=Europe<br>=%{customdata[0]}<br>Number of opioids listed on<br>national essential medicines lists=%{customdata[1]}\", \"legendgroup\": \"Region=Europe\", \"marker\": {\"color\": \"#00cc96\"}, \"name\": \"Europe\", \"offsetgroup\": \"Region=Europe\", \"orientation\": \"v\", \"showlegend\": true, \"textposition\": \"auto\", \"type\": \"bar\", \"x\": [\"Bulgaria\", \"Ukraine\", \"Lithuania\", \"Albania\", \"Russian Federation\", \"Bosnia & Herzegovina\", \"Moldova (the Republic of)\", \"Sweden\", \"Estonia\", \"Montenegro\", \"Latvia\", \"Macedonia (The former Yugoslav Rep. of )\", \"Poland\", \"Belarus\", \"Serbia\", \"Portugal\", \"Romania\", \"Malta\", \"Croatia\", \"Slovenia\", \"Czechia\", \"Slovakia\"], \"xaxis\": \"x\", \"y\": [1, 3, 3, 3, 5, 6, 8, 7, 8, 8, 6, 9, 9, 9, 10, 11, 11, 13, 12, 15, 15, 19], \"yaxis\": \"y\"}, {\"alignmentgroup\": \"True\", \"customdata\": [[\"Vanuatu\", 3], [\"Kiribati\", 5], [\"Papua New Guinea\", 4], [\"Niue\", 4], [\"Tuvalu\", 4], [\"Fiji\", 6], [\"Solomon Islands\", 5], [\"Marshall Islands\", 7], [\"Nauru\", 7], [\"Tonga\", 7], [\"Palau\", 7], [\"Cook Islands\", 6]], \"hoverlabel\": {\"namelength\": 0}, \"hovertemplate\": \"Region=Oceania<br>=%{customdata[0]}<br>Number of opioids listed on<br>national essential medicines lists=%{customdata[1]}\", \"legendgroup\": \"Region=Oceania\", \"marker\": {\"color\": \"#ab63fa\"}, \"name\": \"Oceania\", \"offsetgroup\": \"Region=Oceania\", \"orientation\": \"v\", \"showlegend\": true, \"textposition\": \"auto\", \"type\": \"bar\", \"x\": [\"Vanuatu\", \"Kiribati\", \"Papua New Guinea\", \"Niue\", \"Tuvalu\", \"Fiji\", \"Solomon Islands\", \"Marshall Islands\", \"Nauru\", \"Tonga\", \"Palau\", \"Cook Islands\"], \"xaxis\": \"x\", \"y\": [3, 5, 4, 4, 4, 6, 5, 7, 7, 7, 7, 6], \"yaxis\": \"y\"}, {\"alignmentgroup\": \"True\", \"customdata\": [[\"Angola\", 1], [\"Chad\", 3], [\"Somalia\", 1], [\"Kenya\", 6], [\"Mauritania\", 3], [\"Mozambique\", 5], [\"Djibouti\", 4], [\"Burundi\", 4], [\"Guinea\", 5], [\"Zambia\", 5], [\"Liberia\", 4], [\"Mali\", 6], [\"Gambia\", 5], [\"South Africa\", 4], [\"Ghana\", 5], [\"Tanzania (United Republic of)\", 6], [\"Lesotho\", 3], [\"Seychelles\", 5], [\"Cabo Verde\", 8], [\"Malawi\", 7], [\"Eritrea\", 6], [\"Uganda\", 7], [\"Rwanda\", 6], [\"Sudan\", 5], [\"Botswana\", 7], [\"Zimbabwe\", 7], [\"Egypt\", 6], [\"Namibia\", 9], [\"Central African Republic\", 7], [\"Madagascar\", 7], [\"Burkina Faso\", 9], [\"Congo (the)\", 9], [\"Togo\", 9], [\"Nigeria\", 10], [\"Morocco\", 10], [\"Senegal\", 9], [\"Algeria\", 7], [\"Congo (Democratic Republic of the)\", 9], [\"C\\u00f4te d'Ivoire\", 10], [\"Cameroon\", 10], [\"Ethiopia\", 11], [\"Tunisia\", 14]], \"hoverlabel\": {\"namelength\": 0}, \"hovertemplate\": \"Region=Africa<br>=%{customdata[0]}<br>Number of opioids listed on<br>national essential medicines lists=%{customdata[1]}\", \"legendgroup\": \"Region=Africa\", \"marker\": {\"color\": \"#FFA15A\"}, \"name\": \"Africa\", \"offsetgroup\": \"Region=Africa\", \"orientation\": \"v\", \"showlegend\": true, \"textposition\": \"auto\", \"type\": \"bar\", \"x\": [\"Angola\", \"Chad\", \"Somalia\", \"Kenya\", \"Mauritania\", \"Mozambique\", \"Djibouti\", \"Burundi\", \"Guinea\", \"Zambia\", \"Liberia\", \"Mali\", \"Gambia\", \"South Africa\", \"Ghana\", \"Tanzania (United Republic of)\", \"Lesotho\", \"Seychelles\", \"Cabo Verde\", \"Malawi\", \"Eritrea\", \"Uganda\", \"Rwanda\", \"Sudan\", \"Botswana\", \"Zimbabwe\", \"Egypt\", \"Namibia\", \"Central African Republic\", \"Madagascar\", \"Burkina Faso\", \"Congo (the)\", \"Togo\", \"Nigeria\", \"Morocco\", \"Senegal\", \"Algeria\", \"Congo (Democratic Republic of the)\", \"C\\u00f4te d'Ivoire\", \"Cameroon\", \"Ethiopia\", \"Tunisia\"], \"xaxis\": \"x\", \"y\": [1, 3, 1, 6, 3, 5, 4, 4, 5, 5, 4, 6, 5, 4, 5, 6, 3, 5, 8, 7, 6, 7, 6, 5, 7, 7, 6, 9, 7, 7, 9, 9, 9, 10, 10, 9, 7, 9, 10, 10, 11, 14], \"yaxis\": \"y\"}],\n",
       "                        {\"barmode\": \"relative\", \"font\": {\"size\": 10}, \"legend\": {\"tracegroupgap\": 0}, \"margin\": {\"t\": 60}, \"template\": {\"data\": {\"bar\": [{\"error_x\": {\"color\": \"#2a3f5f\"}, \"error_y\": {\"color\": \"#2a3f5f\"}, \"marker\": {\"line\": {\"color\": \"#E5ECF6\", \"width\": 0.5}}, \"type\": \"bar\"}], \"barpolar\": [{\"marker\": {\"line\": {\"color\": \"#E5ECF6\", \"width\": 0.5}}, \"type\": \"barpolar\"}], \"carpet\": [{\"aaxis\": {\"endlinecolor\": \"#2a3f5f\", \"gridcolor\": \"white\", \"linecolor\": \"white\", \"minorgridcolor\": \"white\", \"startlinecolor\": \"#2a3f5f\"}, \"baxis\": {\"endlinecolor\": \"#2a3f5f\", \"gridcolor\": \"white\", \"linecolor\": \"white\", \"minorgridcolor\": \"white\", \"startlinecolor\": \"#2a3f5f\"}, \"type\": \"carpet\"}], \"choropleth\": [{\"colorbar\": {\"outlinewidth\": 0, \"ticks\": \"\"}, \"type\": \"choropleth\"}], \"contour\": [{\"colorbar\": {\"outlinewidth\": 0, \"ticks\": \"\"}, \"colorscale\": [[0.0, \"#0d0887\"], [0.1111111111111111, \"#46039f\"], [0.2222222222222222, \"#7201a8\"], [0.3333333333333333, \"#9c179e\"], [0.4444444444444444, \"#bd3786\"], [0.5555555555555556, \"#d8576b\"], [0.6666666666666666, \"#ed7953\"], [0.7777777777777778, \"#fb9f3a\"], [0.8888888888888888, \"#fdca26\"], [1.0, \"#f0f921\"]], \"type\": \"contour\"}], \"contourcarpet\": [{\"colorbar\": {\"outlinewidth\": 0, \"ticks\": \"\"}, \"type\": \"contourcarpet\"}], \"heatmap\": [{\"colorbar\": {\"outlinewidth\": 0, \"ticks\": \"\"}, \"colorscale\": [[0.0, \"#0d0887\"], [0.1111111111111111, \"#46039f\"], [0.2222222222222222, \"#7201a8\"], [0.3333333333333333, \"#9c179e\"], [0.4444444444444444, \"#bd3786\"], [0.5555555555555556, \"#d8576b\"], [0.6666666666666666, \"#ed7953\"], [0.7777777777777778, \"#fb9f3a\"], [0.8888888888888888, \"#fdca26\"], [1.0, \"#f0f921\"]], \"type\": \"heatmap\"}], \"heatmapgl\": [{\"colorbar\": {\"outlinewidth\": 0, \"ticks\": \"\"}, \"colorscale\": [[0.0, \"#0d0887\"], [0.1111111111111111, \"#46039f\"], [0.2222222222222222, \"#7201a8\"], [0.3333333333333333, \"#9c179e\"], [0.4444444444444444, \"#bd3786\"], [0.5555555555555556, \"#d8576b\"], [0.6666666666666666, \"#ed7953\"], [0.7777777777777778, \"#fb9f3a\"], [0.8888888888888888, \"#fdca26\"], [1.0, \"#f0f921\"]], \"type\": \"heatmapgl\"}], \"histogram\": [{\"marker\": {\"colorbar\": {\"outlinewidth\": 0, \"ticks\": \"\"}}, \"type\": \"histogram\"}], \"histogram2d\": [{\"colorbar\": {\"outlinewidth\": 0, \"ticks\": \"\"}, \"colorscale\": [[0.0, \"#0d0887\"], [0.1111111111111111, \"#46039f\"], [0.2222222222222222, \"#7201a8\"], [0.3333333333333333, \"#9c179e\"], [0.4444444444444444, \"#bd3786\"], [0.5555555555555556, \"#d8576b\"], [0.6666666666666666, \"#ed7953\"], [0.7777777777777778, \"#fb9f3a\"], [0.8888888888888888, \"#fdca26\"], [1.0, \"#f0f921\"]], \"type\": \"histogram2d\"}], \"histogram2dcontour\": [{\"colorbar\": {\"outlinewidth\": 0, \"ticks\": \"\"}, \"colorscale\": [[0.0, \"#0d0887\"], [0.1111111111111111, \"#46039f\"], [0.2222222222222222, \"#7201a8\"], [0.3333333333333333, \"#9c179e\"], [0.4444444444444444, \"#bd3786\"], [0.5555555555555556, \"#d8576b\"], [0.6666666666666666, \"#ed7953\"], [0.7777777777777778, \"#fb9f3a\"], [0.8888888888888888, \"#fdca26\"], [1.0, \"#f0f921\"]], \"type\": \"histogram2dcontour\"}], \"mesh3d\": [{\"colorbar\": {\"outlinewidth\": 0, \"ticks\": \"\"}, \"type\": \"mesh3d\"}], \"parcoords\": [{\"line\": {\"colorbar\": {\"outlinewidth\": 0, \"ticks\": \"\"}}, \"type\": \"parcoords\"}], \"pie\": [{\"automargin\": true, \"type\": \"pie\"}], \"scatter\": [{\"marker\": {\"colorbar\": {\"outlinewidth\": 0, \"ticks\": \"\"}}, \"type\": \"scatter\"}], \"scatter3d\": [{\"line\": {\"colorbar\": {\"outlinewidth\": 0, \"ticks\": \"\"}}, \"marker\": {\"colorbar\": {\"outlinewidth\": 0, \"ticks\": \"\"}}, \"type\": \"scatter3d\"}], \"scattercarpet\": [{\"marker\": {\"colorbar\": {\"outlinewidth\": 0, \"ticks\": \"\"}}, \"type\": \"scattercarpet\"}], \"scattergeo\": [{\"marker\": {\"colorbar\": {\"outlinewidth\": 0, \"ticks\": \"\"}}, \"type\": \"scattergeo\"}], \"scattergl\": [{\"marker\": {\"colorbar\": {\"outlinewidth\": 0, \"ticks\": \"\"}}, \"type\": \"scattergl\"}], \"scattermapbox\": [{\"marker\": {\"colorbar\": {\"outlinewidth\": 0, \"ticks\": \"\"}}, \"type\": \"scattermapbox\"}], \"scatterpolar\": [{\"marker\": {\"colorbar\": {\"outlinewidth\": 0, \"ticks\": \"\"}}, \"type\": \"scatterpolar\"}], \"scatterpolargl\": [{\"marker\": {\"colorbar\": {\"outlinewidth\": 0, \"ticks\": \"\"}}, \"type\": \"scatterpolargl\"}], \"scatterternary\": [{\"marker\": {\"colorbar\": {\"outlinewidth\": 0, \"ticks\": \"\"}}, \"type\": \"scatterternary\"}], \"surface\": [{\"colorbar\": {\"outlinewidth\": 0, \"ticks\": \"\"}, \"colorscale\": [[0.0, \"#0d0887\"], [0.1111111111111111, \"#46039f\"], [0.2222222222222222, \"#7201a8\"], [0.3333333333333333, \"#9c179e\"], [0.4444444444444444, \"#bd3786\"], [0.5555555555555556, \"#d8576b\"], [0.6666666666666666, \"#ed7953\"], [0.7777777777777778, \"#fb9f3a\"], [0.8888888888888888, \"#fdca26\"], [1.0, \"#f0f921\"]], \"type\": \"surface\"}], \"table\": [{\"cells\": {\"fill\": {\"color\": \"#EBF0F8\"}, \"line\": {\"color\": \"white\"}}, \"header\": {\"fill\": {\"color\": \"#C8D4E3\"}, \"line\": {\"color\": \"white\"}}, \"type\": \"table\"}]}, \"layout\": {\"annotationdefaults\": {\"arrowcolor\": \"#2a3f5f\", \"arrowhead\": 0, \"arrowwidth\": 1}, \"coloraxis\": {\"colorbar\": {\"outlinewidth\": 0, \"ticks\": \"\"}}, \"colorscale\": {\"diverging\": [[0, \"#8e0152\"], [0.1, \"#c51b7d\"], [0.2, \"#de77ae\"], [0.3, \"#f1b6da\"], [0.4, \"#fde0ef\"], [0.5, \"#f7f7f7\"], [0.6, \"#e6f5d0\"], [0.7, \"#b8e186\"], [0.8, \"#7fbc41\"], [0.9, \"#4d9221\"], [1, \"#276419\"]], \"sequential\": [[0.0, \"#0d0887\"], [0.1111111111111111, \"#46039f\"], [0.2222222222222222, \"#7201a8\"], [0.3333333333333333, \"#9c179e\"], [0.4444444444444444, \"#bd3786\"], [0.5555555555555556, \"#d8576b\"], [0.6666666666666666, \"#ed7953\"], [0.7777777777777778, \"#fb9f3a\"], [0.8888888888888888, \"#fdca26\"], [1.0, \"#f0f921\"]], \"sequentialminus\": [[0.0, \"#0d0887\"], [0.1111111111111111, \"#46039f\"], [0.2222222222222222, \"#7201a8\"], [0.3333333333333333, \"#9c179e\"], [0.4444444444444444, \"#bd3786\"], [0.5555555555555556, \"#d8576b\"], [0.6666666666666666, \"#ed7953\"], [0.7777777777777778, \"#fb9f3a\"], [0.8888888888888888, \"#fdca26\"], [1.0, \"#f0f921\"]]}, \"colorway\": [\"#636efa\", \"#EF553B\", \"#00cc96\", \"#ab63fa\", \"#FFA15A\", \"#19d3f3\", \"#FF6692\", \"#B6E880\", \"#FF97FF\", \"#FECB52\"], \"font\": {\"color\": \"#2a3f5f\"}, \"geo\": {\"bgcolor\": \"white\", \"lakecolor\": \"white\", \"landcolor\": \"#E5ECF6\", \"showlakes\": true, \"showland\": true, \"subunitcolor\": \"white\"}, \"hoverlabel\": {\"align\": \"left\"}, \"hovermode\": \"closest\", \"mapbox\": {\"style\": \"light\"}, \"paper_bgcolor\": \"white\", \"plot_bgcolor\": \"#E5ECF6\", \"polar\": {\"angularaxis\": {\"gridcolor\": \"white\", \"linecolor\": \"white\", \"ticks\": \"\"}, \"bgcolor\": \"#E5ECF6\", \"radialaxis\": {\"gridcolor\": \"white\", \"linecolor\": \"white\", \"ticks\": \"\"}}, \"scene\": {\"xaxis\": {\"backgroundcolor\": \"#E5ECF6\", \"gridcolor\": \"white\", \"gridwidth\": 2, \"linecolor\": \"white\", \"showbackground\": true, \"ticks\": \"\", \"zerolinecolor\": \"white\"}, \"yaxis\": {\"backgroundcolor\": \"#E5ECF6\", \"gridcolor\": \"white\", \"gridwidth\": 2, \"linecolor\": \"white\", \"showbackground\": true, \"ticks\": \"\", \"zerolinecolor\": \"white\"}, \"zaxis\": {\"backgroundcolor\": \"#E5ECF6\", \"gridcolor\": \"white\", \"gridwidth\": 2, \"linecolor\": \"white\", \"showbackground\": true, \"ticks\": \"\", \"zerolinecolor\": \"white\"}}, \"shapedefaults\": {\"line\": {\"color\": \"#2a3f5f\"}}, \"ternary\": {\"aaxis\": {\"gridcolor\": \"white\", \"linecolor\": \"white\", \"ticks\": \"\"}, \"baxis\": {\"gridcolor\": \"white\", \"linecolor\": \"white\", \"ticks\": \"\"}, \"bgcolor\": \"#E5ECF6\", \"caxis\": {\"gridcolor\": \"white\", \"linecolor\": \"white\", \"ticks\": \"\"}}, \"title\": {\"x\": 0.05}, \"xaxis\": {\"automargin\": true, \"gridcolor\": \"white\", \"linecolor\": \"white\", \"ticks\": \"\", \"title\": {\"standoff\": 15}, \"zerolinecolor\": \"white\", \"zerolinewidth\": 2}, \"yaxis\": {\"automargin\": true, \"gridcolor\": \"white\", \"linecolor\": \"white\", \"ticks\": \"\", \"title\": {\"standoff\": 15}, \"zerolinecolor\": \"white\", \"zerolinewidth\": 2}}}, \"xaxis\": {\"anchor\": \"y\", \"categoryorder\": \"total descending\", \"domain\": [0.0, 1.0], \"tickangle\": -45, \"title\": {\"text\": \"\"}}, \"yaxis\": {\"anchor\": \"x\", \"domain\": [0.0, 1.0], \"showgrid\": false, \"title\": {\"text\": \"Number of opioids listed on<br>national essential medicines lists\"}}},\n",
       "                        {\"responsive\": true}\n",
       "                    ).then(function(){\n",
       "                            \n",
       "var gd = document.getElementById('8ebea650-b0dc-4cb6-92ae-db7171d02fa9');\n",
       "var x = new MutationObserver(function (mutations, observer) {{\n",
       "        var display = window.getComputedStyle(gd).display;\n",
       "        if (!display || display === 'none') {{\n",
       "            console.log([gd, 'removed!']);\n",
       "            Plotly.purge(gd);\n",
       "            observer.disconnect();\n",
       "        }}\n",
       "}});\n",
       "\n",
       "// Listen for the removal of the full notebook cells\n",
       "var notebookContainer = gd.closest('#notebook-container');\n",
       "if (notebookContainer) {{\n",
       "    x.observe(notebookContainer, {childList: true});\n",
       "}}\n",
       "\n",
       "// Listen for the clearing of the current output cell\n",
       "var outputEl = gd.closest('.output');\n",
       "if (outputEl) {{\n",
       "    x.observe(outputEl, {childList: true});\n",
       "}}\n",
       "\n",
       "                        })\n",
       "                };\n",
       "                });\n",
       "            </script>\n",
       "        </div>"
      ]
     },
     "metadata": {},
     "output_type": "display_data"
    }
   ],
   "source": [
    "fig1 = px.bar(df, x='Country', y='OpioidEML',\n",
    "              hover_data=['Country', 'OpioidEML'],\n",
    "              color='Region',\n",
    "              labels={'OpioidEML':'Number of opioids listed on<br>national essential medicines lists',\n",
    "                      'Country' : \"\"}\n",
    "              )\n",
    "\n",
    "fig1.update_layout(xaxis=dict(categoryorder='total descending'), \n",
    "                   xaxis_tickangle=-45,\n",
    "                   font=dict(size=10),\n",
    "                   yaxis=dict(showgrid=False))\n",
    "\n",
    "for trace in fig1.data:\n",
    "    trace.name = trace.name.split('=')[1]\n",
    "\n",
    "fig1.show()\n",
    "\n",
    "# Questions to ask Caroline: \n",
    "# 1. remove 'Country' from x-axsis \n",
    "# 2. reduce font size for countries? or how else could I fit? (i.e. every second Country name?)\n",
    "# 3. How to get legend to just have 'Asia' and not have 'Region'\n",
    "# 4. remove grid "
   ]
  },
  {
   "cell_type": "markdown",
   "metadata": {},
   "source": [
    "# Mapping the number of opioids listed by the 137 countires "
   ]
  },
  {
   "cell_type": "code",
   "execution_count": 45,
   "metadata": {},
   "outputs": [],
   "source": [
    "df['quantiles'] = df['9 quantiles of OpioidEML'].apply(str) + \"d\""
   ]
  },
  {
   "cell_type": "code",
   "execution_count": 23,
   "metadata": {},
   "outputs": [
    {
     "data": {
      "text/html": [
       "<div>\n",
       "<style scoped>\n",
       "    .dataframe tbody tr th:only-of-type {\n",
       "        vertical-align: middle;\n",
       "    }\n",
       "\n",
       "    .dataframe tbody tr th {\n",
       "        vertical-align: top;\n",
       "    }\n",
       "\n",
       "    .dataframe thead th {\n",
       "        text-align: right;\n",
       "    }\n",
       "</style>\n",
       "<table border=\"1\" class=\"dataframe\">\n",
       "  <thead>\n",
       "    <tr style=\"text-align: right;\">\n",
       "      <th></th>\n",
       "      <th>Country</th>\n",
       "      <th>Country_IOS2</th>\n",
       "      <th>OpioidEML</th>\n",
       "      <th>9 quantiles of OpioidEML</th>\n",
       "      <th>Region</th>\n",
       "      <th>Sub_region</th>\n",
       "      <th>RateOpEML</th>\n",
       "      <th>10 quantiles of RateOpEML</th>\n",
       "      <th>who_opioids</th>\n",
       "      <th>simScore</th>\n",
       "      <th>quantiles</th>\n",
       "    </tr>\n",
       "  </thead>\n",
       "  <tbody>\n",
       "    <tr>\n",
       "      <th>0</th>\n",
       "      <td>Brazil</td>\n",
       "      <td>BRA</td>\n",
       "      <td>3</td>\n",
       "      <td>1</td>\n",
       "      <td>America</td>\n",
       "      <td>America (south)</td>\n",
       "      <td>1</td>\n",
       "      <td>1</td>\n",
       "      <td>3</td>\n",
       "      <td>1</td>\n",
       "      <td>1d</td>\n",
       "    </tr>\n",
       "    <tr>\n",
       "      <th>1</th>\n",
       "      <td>Cambodia</td>\n",
       "      <td>KHM</td>\n",
       "      <td>0</td>\n",
       "      <td>1</td>\n",
       "      <td>Asia</td>\n",
       "      <td>Asia (East &amp; South East)</td>\n",
       "      <td>0</td>\n",
       "      <td>1</td>\n",
       "      <td>0</td>\n",
       "      <td>0</td>\n",
       "      <td>1d</td>\n",
       "    </tr>\n",
       "    <tr>\n",
       "      <th>2</th>\n",
       "      <td>Bulgaria</td>\n",
       "      <td>BGR</td>\n",
       "      <td>1</td>\n",
       "      <td>1</td>\n",
       "      <td>Europe</td>\n",
       "      <td>Europe (south eastern)</td>\n",
       "      <td>0</td>\n",
       "      <td>1</td>\n",
       "      <td>1</td>\n",
       "      <td>0</td>\n",
       "      <td>1d</td>\n",
       "    </tr>\n",
       "    <tr>\n",
       "      <th>3</th>\n",
       "      <td>Vanuatu</td>\n",
       "      <td>VUT</td>\n",
       "      <td>3</td>\n",
       "      <td>1</td>\n",
       "      <td>Oceania</td>\n",
       "      <td>Oceania</td>\n",
       "      <td>2</td>\n",
       "      <td>4</td>\n",
       "      <td>3</td>\n",
       "      <td>1</td>\n",
       "      <td>1d</td>\n",
       "    </tr>\n",
       "    <tr>\n",
       "      <th>4</th>\n",
       "      <td>Pakistan</td>\n",
       "      <td>PAK</td>\n",
       "      <td>3</td>\n",
       "      <td>1</td>\n",
       "      <td>Asia</td>\n",
       "      <td>Asia (west)</td>\n",
       "      <td>1</td>\n",
       "      <td>1</td>\n",
       "      <td>3</td>\n",
       "      <td>1</td>\n",
       "      <td>1d</td>\n",
       "    </tr>\n",
       "  </tbody>\n",
       "</table>\n",
       "</div>"
      ],
      "text/plain": [
       "    Country Country_IOS2  OpioidEML  9 quantiles of OpioidEML   Region  \\\n",
       "0    Brazil          BRA          3                         1  America   \n",
       "1  Cambodia          KHM          0                         1     Asia   \n",
       "2  Bulgaria          BGR          1                         1   Europe   \n",
       "3   Vanuatu          VUT          3                         1  Oceania   \n",
       "4  Pakistan          PAK          3                         1     Asia   \n",
       "\n",
       "                 Sub_region  RateOpEML  10 quantiles of RateOpEML  \\\n",
       "0           America (south)          1                          1   \n",
       "1  Asia (East & South East)          0                          1   \n",
       "2    Europe (south eastern)          0                          1   \n",
       "3                   Oceania          2                          4   \n",
       "4               Asia (west)          1                          1   \n",
       "\n",
       "   who_opioids  simScore quantiles  \n",
       "0            3         1        1d  \n",
       "1            0         0        1d  \n",
       "2            1         0        1d  \n",
       "3            3         1        1d  \n",
       "4            3         1        1d  "
      ]
     },
     "execution_count": 23,
     "metadata": {},
     "output_type": "execute_result"
    }
   ],
   "source": [
    "df.head()"
   ]
  },
  {
   "cell_type": "code",
   "execution_count": 24,
   "metadata": {},
   "outputs": [
    {
     "data": {
      "text/plain": [
       "count     137\n",
       "unique      9\n",
       "top        4d\n",
       "freq       22\n",
       "Name: quantiles, dtype: object"
      ]
     },
     "execution_count": 24,
     "metadata": {},
     "output_type": "execute_result"
    }
   ],
   "source": [
    "df['quantiles'].describe()"
   ]
  },
  {
   "cell_type": "code",
   "execution_count": 27,
   "metadata": {},
   "outputs": [],
   "source": [
    "fig2 = px.choropleth(df,\n",
    "                    locations=\"Country_IOS2\",\n",
    "                    color=\"9 quantiles of OpioidEML\",\n",
    "                    hover_name=\"Country\")"
   ]
  },
  {
   "cell_type": "code",
   "execution_count": 28,
   "metadata": {},
   "outputs": [
    {
     "data": {
      "application/vnd.plotly.v1+json": {
       "config": {
        "plotlyServerURL": "https://plot.ly"
       },
       "data": [
        {
         "coloraxis": "coloraxis",
         "geo": "geo",
         "hoverlabel": {
          "namelength": 0
         },
         "hovertemplate": "<b>%{hovertext}</b><br><br>Country_IOS2=%{location}<br>9 quantiles of OpioidEML=%{z}",
         "hovertext": [
          "Brazil",
          "Cambodia",
          "Bulgaria",
          "Vanuatu",
          "Pakistan",
          "Nicaragua",
          "Angola",
          "Haiti",
          "Chad",
          "Kiribati",
          "Papua New Guinea",
          "Georgia",
          "Mongolia",
          "Ukraine",
          "Niue",
          "Lithuania",
          "Sri Lanka",
          "Saint Vincent & the Grenadines",
          "Somalia",
          "Tuvalu",
          "Guyana",
          "Kenya",
          "Mauritania",
          "Bangladesh",
          "Mozambique",
          "Albania",
          "Suriname",
          "Timor-Leste",
          "Yemen",
          "Djibouti",
          "Burundi",
          "Armenia",
          "China",
          "Guinea",
          "Russian Federation",
          "Tajikistan",
          "Antigua & Barbuda",
          "Zambia",
          "Liberia",
          "Nepal",
          "Mali",
          "Saint Kitts & Nevis",
          "Kyrgyzstan",
          "Gambia",
          "South Africa",
          "Grenada",
          "Dominican Republic",
          "Fiji",
          "Ghana",
          "Myanmar",
          "India",
          "Bahrain",
          "Solomon Islands",
          "Tanzania (United Republic of)",
          "Costa Rica",
          "Dominica",
          "Lesotho",
          "Bhutan",
          "Seychelles",
          "Saint Lucia",
          "Lebanon",
          "Bosnia & Herzegovina",
          "El Salvador",
          "Cabo Verde",
          "Paraguay",
          "Malaysia",
          "Marshall Islands",
          "Moldova (the Republic of)",
          "Malawi",
          "Nauru",
          "Bolivia (Plurinational State of)",
          "Eritrea",
          "Uganda",
          "Korea (Democratic People's Republic of)",
          "Rwanda",
          "Sudan",
          "Uruguay",
          "Tonga",
          "Sweden",
          "Chile",
          "Estonia",
          "Indonesia",
          "Botswana",
          "Palau",
          "Zimbabwe",
          "Egypt",
          "Namibia",
          "Colombia",
          "Venezuela (Bolivarian Rep. of)",
          "Trinidad & Tobago",
          "Central African Republic",
          "Madagascar",
          "Honduras",
          "Cuba",
          "Belize",
          "Argentina",
          "Peru",
          "Cook Islands",
          "Montenegro",
          "Burkina Faso",
          "Latvia",
          "Afghanistan",
          "Viet Nam",
          "Jordan",
          "Congo (the)",
          "Togo",
          "Nigeria",
          "Morocco",
          "Oman",
          "Senegal",
          "Algeria",
          "Maldives",
          "Ecuador",
          "Macedonia (The former Yugoslav Rep. of )",
          "Congo (Democratic Republic of the)",
          "Poland",
          "Philippines",
          "Côte d'Ivoire",
          "Cameroon",
          "Ethiopia",
          "Belarus",
          "Thailand",
          "Serbia",
          "Portugal",
          "Romania",
          "Jamaica",
          "Iraq",
          "Malta",
          "Mexico",
          "Croatia",
          "Barbados",
          "Tunisia",
          "Slovenia",
          "Iran (Islamic Republic of)",
          "Czechia",
          "Syrian Arab Republic",
          "Slovakia"
         ],
         "locations": [
          "BRA",
          "KHM",
          "BGR",
          "VUT",
          "PAK",
          "NIC",
          "AGO",
          "HTI",
          "TCD",
          "KIR",
          "PNG",
          "GEO",
          "MNG",
          "UKR",
          "NIU",
          "LTU",
          "LKA",
          "VCT",
          "SOM",
          "TUV",
          "GUY",
          "KEN",
          "MRT",
          "BGD",
          "MOZ",
          "ALB",
          "SUR",
          "TLS",
          "YEM",
          "DJI",
          "BDI",
          "ARM",
          "CHN",
          "GIN",
          "RUS",
          "TJK",
          "ATG",
          "ZMB",
          "LBR",
          "NPL",
          "MLI",
          "KNA",
          "KGZ",
          "GMB",
          "ZAF",
          "GRD",
          "DOM",
          "FJI",
          "GHA",
          "MMR",
          "IND",
          "BHR",
          "SLB",
          "TZA",
          "CRI",
          "DMA",
          "LSO",
          "BTN",
          "SYC",
          "LCA",
          "LBN",
          "BIH",
          "SLV",
          "CPV",
          "PRY",
          "MYS",
          "MHL",
          "MDA",
          "MWI",
          "NRU",
          "BOL",
          "ERI",
          "UGA",
          "PRK",
          "RWA",
          "SDN",
          "URY",
          "TON",
          "SWE",
          "CHL",
          "EST",
          "IDN",
          "BWA",
          "PLW",
          "ZWE",
          "EGY",
          "NAM",
          "COL",
          "VEN",
          "TTO",
          "CAF",
          "MDG",
          "HND",
          "CUB",
          "BLZ",
          "ARG",
          "PER",
          "COK",
          "MNE",
          "BKA",
          "LVA",
          "AFG",
          "VNM",
          "JOR",
          "COG",
          "TGO",
          "NGA",
          "MAR",
          "OMN",
          "SEN",
          "DZA",
          "MDV",
          "ECU",
          "MKD",
          "COD",
          "POL",
          "PHL",
          "CIV",
          "CMR",
          "ETH",
          "BLR",
          "THA",
          "SRB",
          "PRT",
          "ROU",
          "JAM",
          "IRQ",
          "MLT",
          "MEX",
          "HRV",
          "BRB",
          "TUN",
          "SVN",
          "IRN",
          "CZE",
          "SYR",
          "SVK"
         ],
         "name": "",
         "type": "choropleth",
         "z": [
          1,
          1,
          1,
          1,
          1,
          1,
          1,
          1,
          1,
          3,
          2,
          2,
          2,
          1,
          2,
          1,
          2,
          3,
          1,
          2,
          4,
          4,
          1,
          1,
          3,
          1,
          3,
          2,
          1,
          2,
          2,
          2,
          3,
          3,
          3,
          4,
          4,
          3,
          2,
          2,
          4,
          3,
          3,
          3,
          2,
          3,
          4,
          4,
          3,
          4,
          2,
          4,
          3,
          4,
          5,
          3,
          1,
          3,
          3,
          3,
          4,
          4,
          4,
          6,
          4,
          4,
          5,
          6,
          5,
          5,
          6,
          4,
          5,
          4,
          4,
          3,
          6,
          5,
          5,
          6,
          6,
          5,
          5,
          5,
          5,
          4,
          7,
          6,
          5,
          7,
          5,
          5,
          6,
          5,
          7,
          6,
          5,
          4,
          6,
          7,
          4,
          4,
          7,
          8,
          7,
          7,
          8,
          8,
          8,
          7,
          5,
          7,
          8,
          7,
          7,
          7,
          8,
          8,
          8,
          8,
          7,
          8,
          8,
          8,
          8,
          9,
          9,
          9,
          9,
          9,
          9,
          9,
          9,
          9,
          9,
          9,
          9
         ]
        }
       ],
       "layout": {
        "coloraxis": {
         "colorbar": {
          "title": {
           "text": "9 quantiles of OpioidEML"
          }
         },
         "colorscale": [
          [
           0,
           "#0d0887"
          ],
          [
           0.1111111111111111,
           "#46039f"
          ],
          [
           0.2222222222222222,
           "#7201a8"
          ],
          [
           0.3333333333333333,
           "#9c179e"
          ],
          [
           0.4444444444444444,
           "#bd3786"
          ],
          [
           0.5555555555555556,
           "#d8576b"
          ],
          [
           0.6666666666666666,
           "#ed7953"
          ],
          [
           0.7777777777777778,
           "#fb9f3a"
          ],
          [
           0.8888888888888888,
           "#fdca26"
          ],
          [
           1,
           "#f0f921"
          ]
         ]
        },
        "geo": {
         "center": {},
         "domain": {
          "x": [
           0,
           1
          ],
          "y": [
           0,
           1
          ]
         }
        },
        "legend": {
         "tracegroupgap": 0
        },
        "margin": {
         "t": 60
        },
        "template": {
         "data": {
          "bar": [
           {
            "error_x": {
             "color": "#2a3f5f"
            },
            "error_y": {
             "color": "#2a3f5f"
            },
            "marker": {
             "line": {
              "color": "#E5ECF6",
              "width": 0.5
             }
            },
            "type": "bar"
           }
          ],
          "barpolar": [
           {
            "marker": {
             "line": {
              "color": "#E5ECF6",
              "width": 0.5
             }
            },
            "type": "barpolar"
           }
          ],
          "carpet": [
           {
            "aaxis": {
             "endlinecolor": "#2a3f5f",
             "gridcolor": "white",
             "linecolor": "white",
             "minorgridcolor": "white",
             "startlinecolor": "#2a3f5f"
            },
            "baxis": {
             "endlinecolor": "#2a3f5f",
             "gridcolor": "white",
             "linecolor": "white",
             "minorgridcolor": "white",
             "startlinecolor": "#2a3f5f"
            },
            "type": "carpet"
           }
          ],
          "choropleth": [
           {
            "colorbar": {
             "outlinewidth": 0,
             "ticks": ""
            },
            "type": "choropleth"
           }
          ],
          "contour": [
           {
            "colorbar": {
             "outlinewidth": 0,
             "ticks": ""
            },
            "colorscale": [
             [
              0,
              "#0d0887"
             ],
             [
              0.1111111111111111,
              "#46039f"
             ],
             [
              0.2222222222222222,
              "#7201a8"
             ],
             [
              0.3333333333333333,
              "#9c179e"
             ],
             [
              0.4444444444444444,
              "#bd3786"
             ],
             [
              0.5555555555555556,
              "#d8576b"
             ],
             [
              0.6666666666666666,
              "#ed7953"
             ],
             [
              0.7777777777777778,
              "#fb9f3a"
             ],
             [
              0.8888888888888888,
              "#fdca26"
             ],
             [
              1,
              "#f0f921"
             ]
            ],
            "type": "contour"
           }
          ],
          "contourcarpet": [
           {
            "colorbar": {
             "outlinewidth": 0,
             "ticks": ""
            },
            "type": "contourcarpet"
           }
          ],
          "heatmap": [
           {
            "colorbar": {
             "outlinewidth": 0,
             "ticks": ""
            },
            "colorscale": [
             [
              0,
              "#0d0887"
             ],
             [
              0.1111111111111111,
              "#46039f"
             ],
             [
              0.2222222222222222,
              "#7201a8"
             ],
             [
              0.3333333333333333,
              "#9c179e"
             ],
             [
              0.4444444444444444,
              "#bd3786"
             ],
             [
              0.5555555555555556,
              "#d8576b"
             ],
             [
              0.6666666666666666,
              "#ed7953"
             ],
             [
              0.7777777777777778,
              "#fb9f3a"
             ],
             [
              0.8888888888888888,
              "#fdca26"
             ],
             [
              1,
              "#f0f921"
             ]
            ],
            "type": "heatmap"
           }
          ],
          "heatmapgl": [
           {
            "colorbar": {
             "outlinewidth": 0,
             "ticks": ""
            },
            "colorscale": [
             [
              0,
              "#0d0887"
             ],
             [
              0.1111111111111111,
              "#46039f"
             ],
             [
              0.2222222222222222,
              "#7201a8"
             ],
             [
              0.3333333333333333,
              "#9c179e"
             ],
             [
              0.4444444444444444,
              "#bd3786"
             ],
             [
              0.5555555555555556,
              "#d8576b"
             ],
             [
              0.6666666666666666,
              "#ed7953"
             ],
             [
              0.7777777777777778,
              "#fb9f3a"
             ],
             [
              0.8888888888888888,
              "#fdca26"
             ],
             [
              1,
              "#f0f921"
             ]
            ],
            "type": "heatmapgl"
           }
          ],
          "histogram": [
           {
            "marker": {
             "colorbar": {
              "outlinewidth": 0,
              "ticks": ""
             }
            },
            "type": "histogram"
           }
          ],
          "histogram2d": [
           {
            "colorbar": {
             "outlinewidth": 0,
             "ticks": ""
            },
            "colorscale": [
             [
              0,
              "#0d0887"
             ],
             [
              0.1111111111111111,
              "#46039f"
             ],
             [
              0.2222222222222222,
              "#7201a8"
             ],
             [
              0.3333333333333333,
              "#9c179e"
             ],
             [
              0.4444444444444444,
              "#bd3786"
             ],
             [
              0.5555555555555556,
              "#d8576b"
             ],
             [
              0.6666666666666666,
              "#ed7953"
             ],
             [
              0.7777777777777778,
              "#fb9f3a"
             ],
             [
              0.8888888888888888,
              "#fdca26"
             ],
             [
              1,
              "#f0f921"
             ]
            ],
            "type": "histogram2d"
           }
          ],
          "histogram2dcontour": [
           {
            "colorbar": {
             "outlinewidth": 0,
             "ticks": ""
            },
            "colorscale": [
             [
              0,
              "#0d0887"
             ],
             [
              0.1111111111111111,
              "#46039f"
             ],
             [
              0.2222222222222222,
              "#7201a8"
             ],
             [
              0.3333333333333333,
              "#9c179e"
             ],
             [
              0.4444444444444444,
              "#bd3786"
             ],
             [
              0.5555555555555556,
              "#d8576b"
             ],
             [
              0.6666666666666666,
              "#ed7953"
             ],
             [
              0.7777777777777778,
              "#fb9f3a"
             ],
             [
              0.8888888888888888,
              "#fdca26"
             ],
             [
              1,
              "#f0f921"
             ]
            ],
            "type": "histogram2dcontour"
           }
          ],
          "mesh3d": [
           {
            "colorbar": {
             "outlinewidth": 0,
             "ticks": ""
            },
            "type": "mesh3d"
           }
          ],
          "parcoords": [
           {
            "line": {
             "colorbar": {
              "outlinewidth": 0,
              "ticks": ""
             }
            },
            "type": "parcoords"
           }
          ],
          "pie": [
           {
            "automargin": true,
            "type": "pie"
           }
          ],
          "scatter": [
           {
            "marker": {
             "colorbar": {
              "outlinewidth": 0,
              "ticks": ""
             }
            },
            "type": "scatter"
           }
          ],
          "scatter3d": [
           {
            "line": {
             "colorbar": {
              "outlinewidth": 0,
              "ticks": ""
             }
            },
            "marker": {
             "colorbar": {
              "outlinewidth": 0,
              "ticks": ""
             }
            },
            "type": "scatter3d"
           }
          ],
          "scattercarpet": [
           {
            "marker": {
             "colorbar": {
              "outlinewidth": 0,
              "ticks": ""
             }
            },
            "type": "scattercarpet"
           }
          ],
          "scattergeo": [
           {
            "marker": {
             "colorbar": {
              "outlinewidth": 0,
              "ticks": ""
             }
            },
            "type": "scattergeo"
           }
          ],
          "scattergl": [
           {
            "marker": {
             "colorbar": {
              "outlinewidth": 0,
              "ticks": ""
             }
            },
            "type": "scattergl"
           }
          ],
          "scattermapbox": [
           {
            "marker": {
             "colorbar": {
              "outlinewidth": 0,
              "ticks": ""
             }
            },
            "type": "scattermapbox"
           }
          ],
          "scatterpolar": [
           {
            "marker": {
             "colorbar": {
              "outlinewidth": 0,
              "ticks": ""
             }
            },
            "type": "scatterpolar"
           }
          ],
          "scatterpolargl": [
           {
            "marker": {
             "colorbar": {
              "outlinewidth": 0,
              "ticks": ""
             }
            },
            "type": "scatterpolargl"
           }
          ],
          "scatterternary": [
           {
            "marker": {
             "colorbar": {
              "outlinewidth": 0,
              "ticks": ""
             }
            },
            "type": "scatterternary"
           }
          ],
          "surface": [
           {
            "colorbar": {
             "outlinewidth": 0,
             "ticks": ""
            },
            "colorscale": [
             [
              0,
              "#0d0887"
             ],
             [
              0.1111111111111111,
              "#46039f"
             ],
             [
              0.2222222222222222,
              "#7201a8"
             ],
             [
              0.3333333333333333,
              "#9c179e"
             ],
             [
              0.4444444444444444,
              "#bd3786"
             ],
             [
              0.5555555555555556,
              "#d8576b"
             ],
             [
              0.6666666666666666,
              "#ed7953"
             ],
             [
              0.7777777777777778,
              "#fb9f3a"
             ],
             [
              0.8888888888888888,
              "#fdca26"
             ],
             [
              1,
              "#f0f921"
             ]
            ],
            "type": "surface"
           }
          ],
          "table": [
           {
            "cells": {
             "fill": {
              "color": "#EBF0F8"
             },
             "line": {
              "color": "white"
             }
            },
            "header": {
             "fill": {
              "color": "#C8D4E3"
             },
             "line": {
              "color": "white"
             }
            },
            "type": "table"
           }
          ]
         },
         "layout": {
          "annotationdefaults": {
           "arrowcolor": "#2a3f5f",
           "arrowhead": 0,
           "arrowwidth": 1
          },
          "coloraxis": {
           "colorbar": {
            "outlinewidth": 0,
            "ticks": ""
           }
          },
          "colorscale": {
           "diverging": [
            [
             0,
             "#8e0152"
            ],
            [
             0.1,
             "#c51b7d"
            ],
            [
             0.2,
             "#de77ae"
            ],
            [
             0.3,
             "#f1b6da"
            ],
            [
             0.4,
             "#fde0ef"
            ],
            [
             0.5,
             "#f7f7f7"
            ],
            [
             0.6,
             "#e6f5d0"
            ],
            [
             0.7,
             "#b8e186"
            ],
            [
             0.8,
             "#7fbc41"
            ],
            [
             0.9,
             "#4d9221"
            ],
            [
             1,
             "#276419"
            ]
           ],
           "sequential": [
            [
             0,
             "#0d0887"
            ],
            [
             0.1111111111111111,
             "#46039f"
            ],
            [
             0.2222222222222222,
             "#7201a8"
            ],
            [
             0.3333333333333333,
             "#9c179e"
            ],
            [
             0.4444444444444444,
             "#bd3786"
            ],
            [
             0.5555555555555556,
             "#d8576b"
            ],
            [
             0.6666666666666666,
             "#ed7953"
            ],
            [
             0.7777777777777778,
             "#fb9f3a"
            ],
            [
             0.8888888888888888,
             "#fdca26"
            ],
            [
             1,
             "#f0f921"
            ]
           ],
           "sequentialminus": [
            [
             0,
             "#0d0887"
            ],
            [
             0.1111111111111111,
             "#46039f"
            ],
            [
             0.2222222222222222,
             "#7201a8"
            ],
            [
             0.3333333333333333,
             "#9c179e"
            ],
            [
             0.4444444444444444,
             "#bd3786"
            ],
            [
             0.5555555555555556,
             "#d8576b"
            ],
            [
             0.6666666666666666,
             "#ed7953"
            ],
            [
             0.7777777777777778,
             "#fb9f3a"
            ],
            [
             0.8888888888888888,
             "#fdca26"
            ],
            [
             1,
             "#f0f921"
            ]
           ]
          },
          "colorway": [
           "#636efa",
           "#EF553B",
           "#00cc96",
           "#ab63fa",
           "#FFA15A",
           "#19d3f3",
           "#FF6692",
           "#B6E880",
           "#FF97FF",
           "#FECB52"
          ],
          "font": {
           "color": "#2a3f5f"
          },
          "geo": {
           "bgcolor": "white",
           "lakecolor": "white",
           "landcolor": "#E5ECF6",
           "showlakes": true,
           "showland": true,
           "subunitcolor": "white"
          },
          "hoverlabel": {
           "align": "left"
          },
          "hovermode": "closest",
          "mapbox": {
           "style": "light"
          },
          "paper_bgcolor": "white",
          "plot_bgcolor": "#E5ECF6",
          "polar": {
           "angularaxis": {
            "gridcolor": "white",
            "linecolor": "white",
            "ticks": ""
           },
           "bgcolor": "#E5ECF6",
           "radialaxis": {
            "gridcolor": "white",
            "linecolor": "white",
            "ticks": ""
           }
          },
          "scene": {
           "xaxis": {
            "backgroundcolor": "#E5ECF6",
            "gridcolor": "white",
            "gridwidth": 2,
            "linecolor": "white",
            "showbackground": true,
            "ticks": "",
            "zerolinecolor": "white"
           },
           "yaxis": {
            "backgroundcolor": "#E5ECF6",
            "gridcolor": "white",
            "gridwidth": 2,
            "linecolor": "white",
            "showbackground": true,
            "ticks": "",
            "zerolinecolor": "white"
           },
           "zaxis": {
            "backgroundcolor": "#E5ECF6",
            "gridcolor": "white",
            "gridwidth": 2,
            "linecolor": "white",
            "showbackground": true,
            "ticks": "",
            "zerolinecolor": "white"
           }
          },
          "shapedefaults": {
           "line": {
            "color": "#2a3f5f"
           }
          },
          "ternary": {
           "aaxis": {
            "gridcolor": "white",
            "linecolor": "white",
            "ticks": ""
           },
           "baxis": {
            "gridcolor": "white",
            "linecolor": "white",
            "ticks": ""
           },
           "bgcolor": "#E5ECF6",
           "caxis": {
            "gridcolor": "white",
            "linecolor": "white",
            "ticks": ""
           }
          },
          "title": {
           "x": 0.05
          },
          "xaxis": {
           "automargin": true,
           "gridcolor": "white",
           "linecolor": "white",
           "ticks": "",
           "title": {
            "standoff": 15
           },
           "zerolinecolor": "white",
           "zerolinewidth": 2
          },
          "yaxis": {
           "automargin": true,
           "gridcolor": "white",
           "linecolor": "white",
           "ticks": "",
           "title": {
            "standoff": 15
           },
           "zerolinecolor": "white",
           "zerolinewidth": 2
          }
         }
        }
       }
      },
      "text/html": [
       "<div>\n",
       "        \n",
       "        \n",
       "            <div id=\"2d7908ec-1e60-48f0-ad3a-cfeb3bdc3cf3\" class=\"plotly-graph-div\" style=\"height:525px; width:100%;\"></div>\n",
       "            <script type=\"text/javascript\">\n",
       "                require([\"plotly\"], function(Plotly) {\n",
       "                    window.PLOTLYENV=window.PLOTLYENV || {};\n",
       "                    \n",
       "                if (document.getElementById(\"2d7908ec-1e60-48f0-ad3a-cfeb3bdc3cf3\")) {\n",
       "                    Plotly.newPlot(\n",
       "                        '2d7908ec-1e60-48f0-ad3a-cfeb3bdc3cf3',\n",
       "                        [{\"coloraxis\": \"coloraxis\", \"geo\": \"geo\", \"hoverlabel\": {\"namelength\": 0}, \"hovertemplate\": \"<b>%{hovertext}</b><br><br>Country_IOS2=%{location}<br>9 quantiles of OpioidEML=%{z}\", \"hovertext\": [\"Brazil\", \"Cambodia\", \"Bulgaria\", \"Vanuatu\", \"Pakistan\", \"Nicaragua\", \"Angola\", \"Haiti\", \"Chad\", \"Kiribati\", \"Papua New Guinea\", \"Georgia\", \"Mongolia\", \"Ukraine\", \"Niue\", \"Lithuania\", \"Sri Lanka\", \"Saint Vincent & the Grenadines\", \"Somalia\", \"Tuvalu\", \"Guyana\", \"Kenya\", \"Mauritania\", \"Bangladesh\", \"Mozambique\", \"Albania\", \"Suriname\", \"Timor-Leste\", \"Yemen\", \"Djibouti\", \"Burundi\", \"Armenia\", \"China\", \"Guinea\", \"Russian Federation\", \"Tajikistan\", \"Antigua & Barbuda\", \"Zambia\", \"Liberia\", \"Nepal\", \"Mali\", \"Saint Kitts & Nevis\", \"Kyrgyzstan\", \"Gambia\", \"South Africa\", \"Grenada\", \"Dominican Republic\", \"Fiji\", \"Ghana\", \"Myanmar\", \"India\", \"Bahrain\", \"Solomon Islands\", \"Tanzania (United Republic of)\", \"Costa Rica\", \"Dominica\", \"Lesotho\", \"Bhutan\", \"Seychelles\", \"Saint Lucia\", \"Lebanon\", \"Bosnia & Herzegovina\", \"El Salvador\", \"Cabo Verde\", \"Paraguay\", \"Malaysia\", \"Marshall Islands\", \"Moldova (the Republic of)\", \"Malawi\", \"Nauru\", \"Bolivia (Plurinational State of)\", \"Eritrea\", \"Uganda\", \"Korea (Democratic People's Republic of)\", \"Rwanda\", \"Sudan\", \"Uruguay\", \"Tonga\", \"Sweden\", \"Chile\", \"Estonia\", \"Indonesia\", \"Botswana\", \"Palau\", \"Zimbabwe\", \"Egypt\", \"Namibia\", \"Colombia\", \"Venezuela (Bolivarian Rep. of)\", \"Trinidad & Tobago\", \"Central African Republic\", \"Madagascar\", \"Honduras\", \"Cuba\", \"Belize\", \"Argentina\", \"Peru\", \"Cook Islands\", \"Montenegro\", \"Burkina Faso\", \"Latvia\", \"Afghanistan\", \"Viet Nam\", \"Jordan\", \"Congo (the)\", \"Togo\", \"Nigeria\", \"Morocco\", \"Oman\", \"Senegal\", \"Algeria\", \"Maldives\", \"Ecuador\", \"Macedonia (The former Yugoslav Rep. of )\", \"Congo (Democratic Republic of the)\", \"Poland\", \"Philippines\", \"C\\u00f4te d'Ivoire\", \"Cameroon\", \"Ethiopia\", \"Belarus\", \"Thailand\", \"Serbia\", \"Portugal\", \"Romania\", \"Jamaica\", \"Iraq\", \"Malta\", \"Mexico\", \"Croatia\", \"Barbados\", \"Tunisia\", \"Slovenia\", \"Iran (Islamic Republic of)\", \"Czechia\", \"Syrian Arab Republic\", \"Slovakia\"], \"locations\": [\"BRA\", \"KHM\", \"BGR\", \"VUT\", \"PAK\", \"NIC\", \"AGO\", \"HTI\", \"TCD\", \"KIR\", \"PNG\", \"GEO\", \"MNG\", \"UKR\", \"NIU\", \"LTU\", \"LKA\", \"VCT\", \"SOM\", \"TUV\", \"GUY\", \"KEN\", \"MRT\", \"BGD\", \"MOZ\", \"ALB\", \"SUR\", \"TLS\", \"YEM\", \"DJI\", \"BDI\", \"ARM\", \"CHN\", \"GIN\", \"RUS\", \"TJK\", \"ATG\", \"ZMB\", \"LBR\", \"NPL\", \"MLI\", \"KNA\", \"KGZ\", \"GMB\", \"ZAF\", \"GRD\", \"DOM\", \"FJI\", \"GHA\", \"MMR\", \"IND\", \"BHR\", \"SLB\", \"TZA\", \"CRI\", \"DMA\", \"LSO\", \"BTN\", \"SYC\", \"LCA\", \"LBN\", \"BIH\", \"SLV\", \"CPV\", \"PRY\", \"MYS\", \"MHL\", \"MDA\", \"MWI\", \"NRU\", \"BOL\", \"ERI\", \"UGA\", \"PRK\", \"RWA\", \"SDN\", \"URY\", \"TON\", \"SWE\", \"CHL\", \"EST\", \"IDN\", \"BWA\", \"PLW\", \"ZWE\", \"EGY\", \"NAM\", \"COL\", \"VEN\", \"TTO\", \"CAF\", \"MDG\", \"HND\", \"CUB\", \"BLZ\", \"ARG\", \"PER\", \"COK\", \"MNE\", \"BKA\", \"LVA\", \"AFG\", \"VNM\", \"JOR\", \"COG\", \"TGO\", \"NGA\", \"MAR\", \"OMN\", \"SEN\", \"DZA\", \"MDV\", \"ECU\", \"MKD\", \"COD\", \"POL\", \"PHL\", \"CIV\", \"CMR\", \"ETH\", \"BLR\", \"THA\", \"SRB\", \"PRT\", \"ROU\", \"JAM\", \"IRQ\", \"MLT\", \"MEX\", \"HRV\", \"BRB\", \"TUN\", \"SVN\", \"IRN\", \"CZE\", \"SYR\", \"SVK\"], \"name\": \"\", \"type\": \"choropleth\", \"z\": [1, 1, 1, 1, 1, 1, 1, 1, 1, 3, 2, 2, 2, 1, 2, 1, 2, 3, 1, 2, 4, 4, 1, 1, 3, 1, 3, 2, 1, 2, 2, 2, 3, 3, 3, 4, 4, 3, 2, 2, 4, 3, 3, 3, 2, 3, 4, 4, 3, 4, 2, 4, 3, 4, 5, 3, 1, 3, 3, 3, 4, 4, 4, 6, 4, 4, 5, 6, 5, 5, 6, 4, 5, 4, 4, 3, 6, 5, 5, 6, 6, 5, 5, 5, 5, 4, 7, 6, 5, 7, 5, 5, 6, 5, 7, 6, 5, 4, 6, 7, 4, 4, 7, 8, 7, 7, 8, 8, 8, 7, 5, 7, 8, 7, 7, 7, 8, 8, 8, 8, 7, 8, 8, 8, 8, 9, 9, 9, 9, 9, 9, 9, 9, 9, 9, 9, 9]}],\n",
       "                        {\"coloraxis\": {\"colorbar\": {\"title\": {\"text\": \"9 quantiles of OpioidEML\"}}, \"colorscale\": [[0.0, \"#0d0887\"], [0.1111111111111111, \"#46039f\"], [0.2222222222222222, \"#7201a8\"], [0.3333333333333333, \"#9c179e\"], [0.4444444444444444, \"#bd3786\"], [0.5555555555555556, \"#d8576b\"], [0.6666666666666666, \"#ed7953\"], [0.7777777777777778, \"#fb9f3a\"], [0.8888888888888888, \"#fdca26\"], [1.0, \"#f0f921\"]]}, \"geo\": {\"center\": {}, \"domain\": {\"x\": [0.0, 1.0], \"y\": [0.0, 1.0]}}, \"legend\": {\"tracegroupgap\": 0}, \"margin\": {\"t\": 60}, \"template\": {\"data\": {\"bar\": [{\"error_x\": {\"color\": \"#2a3f5f\"}, \"error_y\": {\"color\": \"#2a3f5f\"}, \"marker\": {\"line\": {\"color\": \"#E5ECF6\", \"width\": 0.5}}, \"type\": \"bar\"}], \"barpolar\": [{\"marker\": {\"line\": {\"color\": \"#E5ECF6\", \"width\": 0.5}}, \"type\": \"barpolar\"}], \"carpet\": [{\"aaxis\": {\"endlinecolor\": \"#2a3f5f\", \"gridcolor\": \"white\", \"linecolor\": \"white\", \"minorgridcolor\": \"white\", \"startlinecolor\": \"#2a3f5f\"}, \"baxis\": {\"endlinecolor\": \"#2a3f5f\", \"gridcolor\": \"white\", \"linecolor\": \"white\", \"minorgridcolor\": \"white\", \"startlinecolor\": \"#2a3f5f\"}, \"type\": \"carpet\"}], \"choropleth\": [{\"colorbar\": {\"outlinewidth\": 0, \"ticks\": \"\"}, \"type\": \"choropleth\"}], \"contour\": [{\"colorbar\": {\"outlinewidth\": 0, \"ticks\": \"\"}, \"colorscale\": [[0.0, \"#0d0887\"], [0.1111111111111111, \"#46039f\"], [0.2222222222222222, \"#7201a8\"], [0.3333333333333333, \"#9c179e\"], [0.4444444444444444, \"#bd3786\"], [0.5555555555555556, \"#d8576b\"], [0.6666666666666666, \"#ed7953\"], [0.7777777777777778, \"#fb9f3a\"], [0.8888888888888888, \"#fdca26\"], [1.0, \"#f0f921\"]], \"type\": \"contour\"}], \"contourcarpet\": [{\"colorbar\": {\"outlinewidth\": 0, \"ticks\": \"\"}, \"type\": \"contourcarpet\"}], \"heatmap\": [{\"colorbar\": {\"outlinewidth\": 0, \"ticks\": \"\"}, \"colorscale\": [[0.0, \"#0d0887\"], [0.1111111111111111, \"#46039f\"], [0.2222222222222222, \"#7201a8\"], [0.3333333333333333, \"#9c179e\"], [0.4444444444444444, \"#bd3786\"], [0.5555555555555556, \"#d8576b\"], [0.6666666666666666, \"#ed7953\"], [0.7777777777777778, \"#fb9f3a\"], [0.8888888888888888, \"#fdca26\"], [1.0, \"#f0f921\"]], \"type\": \"heatmap\"}], \"heatmapgl\": [{\"colorbar\": {\"outlinewidth\": 0, \"ticks\": \"\"}, \"colorscale\": [[0.0, \"#0d0887\"], [0.1111111111111111, \"#46039f\"], [0.2222222222222222, \"#7201a8\"], [0.3333333333333333, \"#9c179e\"], [0.4444444444444444, \"#bd3786\"], [0.5555555555555556, \"#d8576b\"], [0.6666666666666666, \"#ed7953\"], [0.7777777777777778, \"#fb9f3a\"], [0.8888888888888888, \"#fdca26\"], [1.0, \"#f0f921\"]], \"type\": \"heatmapgl\"}], \"histogram\": [{\"marker\": {\"colorbar\": {\"outlinewidth\": 0, \"ticks\": \"\"}}, \"type\": \"histogram\"}], \"histogram2d\": [{\"colorbar\": {\"outlinewidth\": 0, \"ticks\": \"\"}, \"colorscale\": [[0.0, \"#0d0887\"], [0.1111111111111111, \"#46039f\"], [0.2222222222222222, \"#7201a8\"], [0.3333333333333333, \"#9c179e\"], [0.4444444444444444, \"#bd3786\"], [0.5555555555555556, \"#d8576b\"], [0.6666666666666666, \"#ed7953\"], [0.7777777777777778, \"#fb9f3a\"], [0.8888888888888888, \"#fdca26\"], [1.0, \"#f0f921\"]], \"type\": \"histogram2d\"}], \"histogram2dcontour\": [{\"colorbar\": {\"outlinewidth\": 0, \"ticks\": \"\"}, \"colorscale\": [[0.0, \"#0d0887\"], [0.1111111111111111, \"#46039f\"], [0.2222222222222222, \"#7201a8\"], [0.3333333333333333, \"#9c179e\"], [0.4444444444444444, \"#bd3786\"], [0.5555555555555556, \"#d8576b\"], [0.6666666666666666, \"#ed7953\"], [0.7777777777777778, \"#fb9f3a\"], [0.8888888888888888, \"#fdca26\"], [1.0, \"#f0f921\"]], \"type\": \"histogram2dcontour\"}], \"mesh3d\": [{\"colorbar\": {\"outlinewidth\": 0, \"ticks\": \"\"}, \"type\": \"mesh3d\"}], \"parcoords\": [{\"line\": {\"colorbar\": {\"outlinewidth\": 0, \"ticks\": \"\"}}, \"type\": \"parcoords\"}], \"pie\": [{\"automargin\": true, \"type\": \"pie\"}], \"scatter\": [{\"marker\": {\"colorbar\": {\"outlinewidth\": 0, \"ticks\": \"\"}}, \"type\": \"scatter\"}], \"scatter3d\": [{\"line\": {\"colorbar\": {\"outlinewidth\": 0, \"ticks\": \"\"}}, \"marker\": {\"colorbar\": {\"outlinewidth\": 0, \"ticks\": \"\"}}, \"type\": \"scatter3d\"}], \"scattercarpet\": [{\"marker\": {\"colorbar\": {\"outlinewidth\": 0, \"ticks\": \"\"}}, \"type\": \"scattercarpet\"}], \"scattergeo\": [{\"marker\": {\"colorbar\": {\"outlinewidth\": 0, \"ticks\": \"\"}}, \"type\": \"scattergeo\"}], \"scattergl\": [{\"marker\": {\"colorbar\": {\"outlinewidth\": 0, \"ticks\": \"\"}}, \"type\": \"scattergl\"}], \"scattermapbox\": [{\"marker\": {\"colorbar\": {\"outlinewidth\": 0, \"ticks\": \"\"}}, \"type\": \"scattermapbox\"}], \"scatterpolar\": [{\"marker\": {\"colorbar\": {\"outlinewidth\": 0, \"ticks\": \"\"}}, \"type\": \"scatterpolar\"}], \"scatterpolargl\": [{\"marker\": {\"colorbar\": {\"outlinewidth\": 0, \"ticks\": \"\"}}, \"type\": \"scatterpolargl\"}], \"scatterternary\": [{\"marker\": {\"colorbar\": {\"outlinewidth\": 0, \"ticks\": \"\"}}, \"type\": \"scatterternary\"}], \"surface\": [{\"colorbar\": {\"outlinewidth\": 0, \"ticks\": \"\"}, \"colorscale\": [[0.0, \"#0d0887\"], [0.1111111111111111, \"#46039f\"], [0.2222222222222222, \"#7201a8\"], [0.3333333333333333, \"#9c179e\"], [0.4444444444444444, \"#bd3786\"], [0.5555555555555556, \"#d8576b\"], [0.6666666666666666, \"#ed7953\"], [0.7777777777777778, \"#fb9f3a\"], [0.8888888888888888, \"#fdca26\"], [1.0, \"#f0f921\"]], \"type\": \"surface\"}], \"table\": [{\"cells\": {\"fill\": {\"color\": \"#EBF0F8\"}, \"line\": {\"color\": \"white\"}}, \"header\": {\"fill\": {\"color\": \"#C8D4E3\"}, \"line\": {\"color\": \"white\"}}, \"type\": \"table\"}]}, \"layout\": {\"annotationdefaults\": {\"arrowcolor\": \"#2a3f5f\", \"arrowhead\": 0, \"arrowwidth\": 1}, \"coloraxis\": {\"colorbar\": {\"outlinewidth\": 0, \"ticks\": \"\"}}, \"colorscale\": {\"diverging\": [[0, \"#8e0152\"], [0.1, \"#c51b7d\"], [0.2, \"#de77ae\"], [0.3, \"#f1b6da\"], [0.4, \"#fde0ef\"], [0.5, \"#f7f7f7\"], [0.6, \"#e6f5d0\"], [0.7, \"#b8e186\"], [0.8, \"#7fbc41\"], [0.9, \"#4d9221\"], [1, \"#276419\"]], \"sequential\": [[0.0, \"#0d0887\"], [0.1111111111111111, \"#46039f\"], [0.2222222222222222, \"#7201a8\"], [0.3333333333333333, \"#9c179e\"], [0.4444444444444444, \"#bd3786\"], [0.5555555555555556, \"#d8576b\"], [0.6666666666666666, \"#ed7953\"], [0.7777777777777778, \"#fb9f3a\"], [0.8888888888888888, \"#fdca26\"], [1.0, \"#f0f921\"]], \"sequentialminus\": [[0.0, \"#0d0887\"], [0.1111111111111111, \"#46039f\"], [0.2222222222222222, \"#7201a8\"], [0.3333333333333333, \"#9c179e\"], [0.4444444444444444, \"#bd3786\"], [0.5555555555555556, \"#d8576b\"], [0.6666666666666666, \"#ed7953\"], [0.7777777777777778, \"#fb9f3a\"], [0.8888888888888888, \"#fdca26\"], [1.0, \"#f0f921\"]]}, \"colorway\": [\"#636efa\", \"#EF553B\", \"#00cc96\", \"#ab63fa\", \"#FFA15A\", \"#19d3f3\", \"#FF6692\", \"#B6E880\", \"#FF97FF\", \"#FECB52\"], \"font\": {\"color\": \"#2a3f5f\"}, \"geo\": {\"bgcolor\": \"white\", \"lakecolor\": \"white\", \"landcolor\": \"#E5ECF6\", \"showlakes\": true, \"showland\": true, \"subunitcolor\": \"white\"}, \"hoverlabel\": {\"align\": \"left\"}, \"hovermode\": \"closest\", \"mapbox\": {\"style\": \"light\"}, \"paper_bgcolor\": \"white\", \"plot_bgcolor\": \"#E5ECF6\", \"polar\": {\"angularaxis\": {\"gridcolor\": \"white\", \"linecolor\": \"white\", \"ticks\": \"\"}, \"bgcolor\": \"#E5ECF6\", \"radialaxis\": {\"gridcolor\": \"white\", \"linecolor\": \"white\", \"ticks\": \"\"}}, \"scene\": {\"xaxis\": {\"backgroundcolor\": \"#E5ECF6\", \"gridcolor\": \"white\", \"gridwidth\": 2, \"linecolor\": \"white\", \"showbackground\": true, \"ticks\": \"\", \"zerolinecolor\": \"white\"}, \"yaxis\": {\"backgroundcolor\": \"#E5ECF6\", \"gridcolor\": \"white\", \"gridwidth\": 2, \"linecolor\": \"white\", \"showbackground\": true, \"ticks\": \"\", \"zerolinecolor\": \"white\"}, \"zaxis\": {\"backgroundcolor\": \"#E5ECF6\", \"gridcolor\": \"white\", \"gridwidth\": 2, \"linecolor\": \"white\", \"showbackground\": true, \"ticks\": \"\", \"zerolinecolor\": \"white\"}}, \"shapedefaults\": {\"line\": {\"color\": \"#2a3f5f\"}}, \"ternary\": {\"aaxis\": {\"gridcolor\": \"white\", \"linecolor\": \"white\", \"ticks\": \"\"}, \"baxis\": {\"gridcolor\": \"white\", \"linecolor\": \"white\", \"ticks\": \"\"}, \"bgcolor\": \"#E5ECF6\", \"caxis\": {\"gridcolor\": \"white\", \"linecolor\": \"white\", \"ticks\": \"\"}}, \"title\": {\"x\": 0.05}, \"xaxis\": {\"automargin\": true, \"gridcolor\": \"white\", \"linecolor\": \"white\", \"ticks\": \"\", \"title\": {\"standoff\": 15}, \"zerolinecolor\": \"white\", \"zerolinewidth\": 2}, \"yaxis\": {\"automargin\": true, \"gridcolor\": \"white\", \"linecolor\": \"white\", \"ticks\": \"\", \"title\": {\"standoff\": 15}, \"zerolinecolor\": \"white\", \"zerolinewidth\": 2}}}},\n",
       "                        {\"responsive\": true}\n",
       "                    ).then(function(){\n",
       "                            \n",
       "var gd = document.getElementById('2d7908ec-1e60-48f0-ad3a-cfeb3bdc3cf3');\n",
       "var x = new MutationObserver(function (mutations, observer) {{\n",
       "        var display = window.getComputedStyle(gd).display;\n",
       "        if (!display || display === 'none') {{\n",
       "            console.log([gd, 'removed!']);\n",
       "            Plotly.purge(gd);\n",
       "            observer.disconnect();\n",
       "        }}\n",
       "}});\n",
       "\n",
       "// Listen for the removal of the full notebook cells\n",
       "var notebookContainer = gd.closest('#notebook-container');\n",
       "if (notebookContainer) {{\n",
       "    x.observe(notebookContainer, {childList: true});\n",
       "}}\n",
       "\n",
       "// Listen for the clearing of the current output cell\n",
       "var outputEl = gd.closest('.output');\n",
       "if (outputEl) {{\n",
       "    x.observe(outputEl, {childList: true});\n",
       "}}\n",
       "\n",
       "                        })\n",
       "                };\n",
       "                });\n",
       "            </script>\n",
       "        </div>"
      ]
     },
     "metadata": {},
     "output_type": "display_data"
    }
   ],
   "source": [
    "fig2.show()"
   ]
  },
  {
   "cell_type": "code",
   "execution_count": 52,
   "metadata": {},
   "outputs": [
    {
     "data": {
      "text/plain": [
       "['__class__',\n",
       " '__delattr__',\n",
       " '__delete__',\n",
       " '__dir__',\n",
       " '__doc__',\n",
       " '__eq__',\n",
       " '__format__',\n",
       " '__ge__',\n",
       " '__get__',\n",
       " '__getattribute__',\n",
       " '__gt__',\n",
       " '__hash__',\n",
       " '__init__',\n",
       " '__init_subclass__',\n",
       " '__isabstractmethod__',\n",
       " '__le__',\n",
       " '__lt__',\n",
       " '__ne__',\n",
       " '__new__',\n",
       " '__reduce__',\n",
       " '__reduce_ex__',\n",
       " '__repr__',\n",
       " '__set__',\n",
       " '__setattr__',\n",
       " '__sizeof__',\n",
       " '__str__',\n",
       " '__subclasshook__',\n",
       " 'deleter',\n",
       " 'fdel',\n",
       " 'fget',\n",
       " 'fset',\n",
       " 'getter',\n",
       " 'setter']"
      ]
     },
     "execution_count": 52,
     "metadata": {},
     "output_type": "execute_result"
    }
   ],
   "source": [
    "dir(go.Choropleth.colorscale)"
   ]
  },
  {
   "cell_type": "code",
   "execution_count": 69,
   "metadata": {},
   "outputs": [],
   "source": [
    "df[\"9 quantiles of OpioidEML\"] = df[\"9 quantiles of OpioidEML\"].astype(str)"
   ]
  },
  {
   "cell_type": "code",
   "execution_count": 73,
   "metadata": {},
   "outputs": [
    {
     "ename": "AttributeError",
     "evalue": "module 'plotly.graph_objects' has no attribute 'choropleth_mapbox'",
     "output_type": "error",
     "traceback": [
      "\u001b[0;31m---------------------------------------------------------------------------\u001b[0m",
      "\u001b[0;31mAttributeError\u001b[0m                            Traceback (most recent call last)",
      "\u001b[0;32m<ipython-input-73-d596b80c496b>\u001b[0m in \u001b[0;36m<module>\u001b[0;34m()\u001b[0m\n\u001b[0;32m----> 1\u001b[0;31m fig = go.Figure(data=go.choropleth_mapbox(\n\u001b[0m\u001b[1;32m      2\u001b[0m     \u001b[0mlocations\u001b[0m \u001b[0;34m=\u001b[0m \u001b[0mdf\u001b[0m\u001b[0;34m[\u001b[0m\u001b[0;34m'Country_IOS2'\u001b[0m\u001b[0;34m]\u001b[0m\u001b[0;34m,\u001b[0m\u001b[0;34m\u001b[0m\u001b[0;34m\u001b[0m\u001b[0m\n\u001b[1;32m      3\u001b[0m     \u001b[0mz\u001b[0m \u001b[0;34m=\u001b[0m \u001b[0mdf\u001b[0m\u001b[0;34m[\u001b[0m\u001b[0;34m'9 quantiles of OpioidEML'\u001b[0m\u001b[0;34m]\u001b[0m\u001b[0;34m,\u001b[0m\u001b[0;34m\u001b[0m\u001b[0;34m\u001b[0m\u001b[0m\n\u001b[1;32m      4\u001b[0m     \u001b[0mtext\u001b[0m \u001b[0;34m=\u001b[0m \u001b[0mdf\u001b[0m\u001b[0;34m[\u001b[0m\u001b[0;34m'Country'\u001b[0m\u001b[0;34m]\u001b[0m\u001b[0;34m,\u001b[0m\u001b[0;34m\u001b[0m\u001b[0;34m\u001b[0m\u001b[0m\n\u001b[1;32m      5\u001b[0m     \u001b[0mmarker_line_color\u001b[0m\u001b[0;34m=\u001b[0m\u001b[0;34m'darkgray'\u001b[0m\u001b[0;34m,\u001b[0m\u001b[0;34m\u001b[0m\u001b[0;34m\u001b[0m\u001b[0m\n",
      "\u001b[0;31mAttributeError\u001b[0m: module 'plotly.graph_objects' has no attribute 'choropleth_mapbox'"
     ]
    }
   ],
   "source": [
    "fig = go.Figure(data=go.choropleth_mapbox(\n",
    "    locations = df['Country_IOS2'],\n",
    "    z = df['9 quantiles of OpioidEML'],\n",
    "    text = df['Country'],\n",
    "    marker_line_color='darkgray',\n",
    "    marker_line_width=0.5\n",
    "))"
   ]
  },
  {
   "cell_type": "code",
   "execution_count": 71,
   "metadata": {},
   "outputs": [
    {
     "data": {
      "application/vnd.plotly.v1+json": {
       "config": {
        "plotlyServerURL": "https://plot.ly"
       },
       "data": [
        {
         "locations": [
          "BRA",
          "KHM",
          "BGR",
          "VUT",
          "PAK",
          "NIC",
          "AGO",
          "HTI",
          "TCD",
          "KIR",
          "PNG",
          "GEO",
          "MNG",
          "UKR",
          "NIU",
          "LTU",
          "LKA",
          "VCT",
          "SOM",
          "TUV",
          "GUY",
          "KEN",
          "MRT",
          "BGD",
          "MOZ",
          "ALB",
          "SUR",
          "TLS",
          "YEM",
          "DJI",
          "BDI",
          "ARM",
          "CHN",
          "GIN",
          "RUS",
          "TJK",
          "ATG",
          "ZMB",
          "LBR",
          "NPL",
          "MLI",
          "KNA",
          "KGZ",
          "GMB",
          "ZAF",
          "GRD",
          "DOM",
          "FJI",
          "GHA",
          "MMR",
          "IND",
          "BHR",
          "SLB",
          "TZA",
          "CRI",
          "DMA",
          "LSO",
          "BTN",
          "SYC",
          "LCA",
          "LBN",
          "BIH",
          "SLV",
          "CPV",
          "PRY",
          "MYS",
          "MHL",
          "MDA",
          "MWI",
          "NRU",
          "BOL",
          "ERI",
          "UGA",
          "PRK",
          "RWA",
          "SDN",
          "URY",
          "TON",
          "SWE",
          "CHL",
          "EST",
          "IDN",
          "BWA",
          "PLW",
          "ZWE",
          "EGY",
          "NAM",
          "COL",
          "VEN",
          "TTO",
          "CAF",
          "MDG",
          "HND",
          "CUB",
          "BLZ",
          "ARG",
          "PER",
          "COK",
          "MNE",
          "BKA",
          "LVA",
          "AFG",
          "VNM",
          "JOR",
          "COG",
          "TGO",
          "NGA",
          "MAR",
          "OMN",
          "SEN",
          "DZA",
          "MDV",
          "ECU",
          "MKD",
          "COD",
          "POL",
          "PHL",
          "CIV",
          "CMR",
          "ETH",
          "BLR",
          "THA",
          "SRB",
          "PRT",
          "ROU",
          "JAM",
          "IRQ",
          "MLT",
          "MEX",
          "HRV",
          "BRB",
          "TUN",
          "SVN",
          "IRN",
          "CZE",
          "SYR",
          "SVK"
         ],
         "marker": {
          "line": {
           "color": "darkgray",
           "width": 0.5
          }
         },
         "text": [
          "Brazil",
          "Cambodia",
          "Bulgaria",
          "Vanuatu",
          "Pakistan",
          "Nicaragua",
          "Angola",
          "Haiti",
          "Chad",
          "Kiribati",
          "Papua New Guinea",
          "Georgia",
          "Mongolia",
          "Ukraine",
          "Niue",
          "Lithuania",
          "Sri Lanka",
          "Saint Vincent & the Grenadines",
          "Somalia",
          "Tuvalu",
          "Guyana",
          "Kenya",
          "Mauritania",
          "Bangladesh",
          "Mozambique",
          "Albania",
          "Suriname",
          "Timor-Leste",
          "Yemen",
          "Djibouti",
          "Burundi",
          "Armenia",
          "China",
          "Guinea",
          "Russian Federation",
          "Tajikistan",
          "Antigua & Barbuda",
          "Zambia",
          "Liberia",
          "Nepal",
          "Mali",
          "Saint Kitts & Nevis",
          "Kyrgyzstan",
          "Gambia",
          "South Africa",
          "Grenada",
          "Dominican Republic",
          "Fiji",
          "Ghana",
          "Myanmar",
          "India",
          "Bahrain",
          "Solomon Islands",
          "Tanzania (United Republic of)",
          "Costa Rica",
          "Dominica",
          "Lesotho",
          "Bhutan",
          "Seychelles",
          "Saint Lucia",
          "Lebanon",
          "Bosnia & Herzegovina",
          "El Salvador",
          "Cabo Verde",
          "Paraguay",
          "Malaysia",
          "Marshall Islands",
          "Moldova (the Republic of)",
          "Malawi",
          "Nauru",
          "Bolivia (Plurinational State of)",
          "Eritrea",
          "Uganda",
          "Korea (Democratic People's Republic of)",
          "Rwanda",
          "Sudan",
          "Uruguay",
          "Tonga",
          "Sweden",
          "Chile",
          "Estonia",
          "Indonesia",
          "Botswana",
          "Palau",
          "Zimbabwe",
          "Egypt",
          "Namibia",
          "Colombia",
          "Venezuela (Bolivarian Rep. of)",
          "Trinidad & Tobago",
          "Central African Republic",
          "Madagascar",
          "Honduras",
          "Cuba",
          "Belize",
          "Argentina",
          "Peru",
          "Cook Islands",
          "Montenegro",
          "Burkina Faso",
          "Latvia",
          "Afghanistan",
          "Viet Nam",
          "Jordan",
          "Congo (the)",
          "Togo",
          "Nigeria",
          "Morocco",
          "Oman",
          "Senegal",
          "Algeria",
          "Maldives",
          "Ecuador",
          "Macedonia (The former Yugoslav Rep. of )",
          "Congo (Democratic Republic of the)",
          "Poland",
          "Philippines",
          "Côte d'Ivoire",
          "Cameroon",
          "Ethiopia",
          "Belarus",
          "Thailand",
          "Serbia",
          "Portugal",
          "Romania",
          "Jamaica",
          "Iraq",
          "Malta",
          "Mexico",
          "Croatia",
          "Barbados",
          "Tunisia",
          "Slovenia",
          "Iran (Islamic Republic of)",
          "Czechia",
          "Syrian Arab Republic",
          "Slovakia"
         ],
         "type": "choropleth",
         "z": [
          "1",
          "1",
          "1",
          "1",
          "1",
          "1",
          "1",
          "1",
          "1",
          "3",
          "2",
          "2",
          "2",
          "1",
          "2",
          "1",
          "2",
          "3",
          "1",
          "2",
          "4",
          "4",
          "1",
          "1",
          "3",
          "1",
          "3",
          "2",
          "1",
          "2",
          "2",
          "2",
          "3",
          "3",
          "3",
          "4",
          "4",
          "3",
          "2",
          "2",
          "4",
          "3",
          "3",
          "3",
          "2",
          "3",
          "4",
          "4",
          "3",
          "4",
          "2",
          "4",
          "3",
          "4",
          "5",
          "3",
          "1",
          "3",
          "3",
          "3",
          "4",
          "4",
          "4",
          "6",
          "4",
          "4",
          "5",
          "6",
          "5",
          "5",
          "6",
          "4",
          "5",
          "4",
          "4",
          "3",
          "6",
          "5",
          "5",
          "6",
          "6",
          "5",
          "5",
          "5",
          "5",
          "4",
          "7",
          "6",
          "5",
          "7",
          "5",
          "5",
          "6",
          "5",
          "7",
          "6",
          "5",
          "4",
          "6",
          "7",
          "4",
          "4",
          "7",
          "8",
          "7",
          "7",
          "8",
          "8",
          "8",
          "7",
          "5",
          "7",
          "8",
          "7",
          "7",
          "7",
          "8",
          "8",
          "8",
          "8",
          "7",
          "8",
          "8",
          "8",
          "8",
          "9",
          "9",
          "9",
          "9",
          "9",
          "9",
          "9",
          "9",
          "9",
          "9",
          "9",
          "9"
         ]
        }
       ],
       "layout": {
        "template": {
         "data": {
          "bar": [
           {
            "error_x": {
             "color": "#2a3f5f"
            },
            "error_y": {
             "color": "#2a3f5f"
            },
            "marker": {
             "line": {
              "color": "#E5ECF6",
              "width": 0.5
             }
            },
            "type": "bar"
           }
          ],
          "barpolar": [
           {
            "marker": {
             "line": {
              "color": "#E5ECF6",
              "width": 0.5
             }
            },
            "type": "barpolar"
           }
          ],
          "carpet": [
           {
            "aaxis": {
             "endlinecolor": "#2a3f5f",
             "gridcolor": "white",
             "linecolor": "white",
             "minorgridcolor": "white",
             "startlinecolor": "#2a3f5f"
            },
            "baxis": {
             "endlinecolor": "#2a3f5f",
             "gridcolor": "white",
             "linecolor": "white",
             "minorgridcolor": "white",
             "startlinecolor": "#2a3f5f"
            },
            "type": "carpet"
           }
          ],
          "choropleth": [
           {
            "colorbar": {
             "outlinewidth": 0,
             "ticks": ""
            },
            "type": "choropleth"
           }
          ],
          "contour": [
           {
            "colorbar": {
             "outlinewidth": 0,
             "ticks": ""
            },
            "colorscale": [
             [
              0,
              "#0d0887"
             ],
             [
              0.1111111111111111,
              "#46039f"
             ],
             [
              0.2222222222222222,
              "#7201a8"
             ],
             [
              0.3333333333333333,
              "#9c179e"
             ],
             [
              0.4444444444444444,
              "#bd3786"
             ],
             [
              0.5555555555555556,
              "#d8576b"
             ],
             [
              0.6666666666666666,
              "#ed7953"
             ],
             [
              0.7777777777777778,
              "#fb9f3a"
             ],
             [
              0.8888888888888888,
              "#fdca26"
             ],
             [
              1,
              "#f0f921"
             ]
            ],
            "type": "contour"
           }
          ],
          "contourcarpet": [
           {
            "colorbar": {
             "outlinewidth": 0,
             "ticks": ""
            },
            "type": "contourcarpet"
           }
          ],
          "heatmap": [
           {
            "colorbar": {
             "outlinewidth": 0,
             "ticks": ""
            },
            "colorscale": [
             [
              0,
              "#0d0887"
             ],
             [
              0.1111111111111111,
              "#46039f"
             ],
             [
              0.2222222222222222,
              "#7201a8"
             ],
             [
              0.3333333333333333,
              "#9c179e"
             ],
             [
              0.4444444444444444,
              "#bd3786"
             ],
             [
              0.5555555555555556,
              "#d8576b"
             ],
             [
              0.6666666666666666,
              "#ed7953"
             ],
             [
              0.7777777777777778,
              "#fb9f3a"
             ],
             [
              0.8888888888888888,
              "#fdca26"
             ],
             [
              1,
              "#f0f921"
             ]
            ],
            "type": "heatmap"
           }
          ],
          "heatmapgl": [
           {
            "colorbar": {
             "outlinewidth": 0,
             "ticks": ""
            },
            "colorscale": [
             [
              0,
              "#0d0887"
             ],
             [
              0.1111111111111111,
              "#46039f"
             ],
             [
              0.2222222222222222,
              "#7201a8"
             ],
             [
              0.3333333333333333,
              "#9c179e"
             ],
             [
              0.4444444444444444,
              "#bd3786"
             ],
             [
              0.5555555555555556,
              "#d8576b"
             ],
             [
              0.6666666666666666,
              "#ed7953"
             ],
             [
              0.7777777777777778,
              "#fb9f3a"
             ],
             [
              0.8888888888888888,
              "#fdca26"
             ],
             [
              1,
              "#f0f921"
             ]
            ],
            "type": "heatmapgl"
           }
          ],
          "histogram": [
           {
            "marker": {
             "colorbar": {
              "outlinewidth": 0,
              "ticks": ""
             }
            },
            "type": "histogram"
           }
          ],
          "histogram2d": [
           {
            "colorbar": {
             "outlinewidth": 0,
             "ticks": ""
            },
            "colorscale": [
             [
              0,
              "#0d0887"
             ],
             [
              0.1111111111111111,
              "#46039f"
             ],
             [
              0.2222222222222222,
              "#7201a8"
             ],
             [
              0.3333333333333333,
              "#9c179e"
             ],
             [
              0.4444444444444444,
              "#bd3786"
             ],
             [
              0.5555555555555556,
              "#d8576b"
             ],
             [
              0.6666666666666666,
              "#ed7953"
             ],
             [
              0.7777777777777778,
              "#fb9f3a"
             ],
             [
              0.8888888888888888,
              "#fdca26"
             ],
             [
              1,
              "#f0f921"
             ]
            ],
            "type": "histogram2d"
           }
          ],
          "histogram2dcontour": [
           {
            "colorbar": {
             "outlinewidth": 0,
             "ticks": ""
            },
            "colorscale": [
             [
              0,
              "#0d0887"
             ],
             [
              0.1111111111111111,
              "#46039f"
             ],
             [
              0.2222222222222222,
              "#7201a8"
             ],
             [
              0.3333333333333333,
              "#9c179e"
             ],
             [
              0.4444444444444444,
              "#bd3786"
             ],
             [
              0.5555555555555556,
              "#d8576b"
             ],
             [
              0.6666666666666666,
              "#ed7953"
             ],
             [
              0.7777777777777778,
              "#fb9f3a"
             ],
             [
              0.8888888888888888,
              "#fdca26"
             ],
             [
              1,
              "#f0f921"
             ]
            ],
            "type": "histogram2dcontour"
           }
          ],
          "mesh3d": [
           {
            "colorbar": {
             "outlinewidth": 0,
             "ticks": ""
            },
            "type": "mesh3d"
           }
          ],
          "parcoords": [
           {
            "line": {
             "colorbar": {
              "outlinewidth": 0,
              "ticks": ""
             }
            },
            "type": "parcoords"
           }
          ],
          "pie": [
           {
            "automargin": true,
            "type": "pie"
           }
          ],
          "scatter": [
           {
            "marker": {
             "colorbar": {
              "outlinewidth": 0,
              "ticks": ""
             }
            },
            "type": "scatter"
           }
          ],
          "scatter3d": [
           {
            "line": {
             "colorbar": {
              "outlinewidth": 0,
              "ticks": ""
             }
            },
            "marker": {
             "colorbar": {
              "outlinewidth": 0,
              "ticks": ""
             }
            },
            "type": "scatter3d"
           }
          ],
          "scattercarpet": [
           {
            "marker": {
             "colorbar": {
              "outlinewidth": 0,
              "ticks": ""
             }
            },
            "type": "scattercarpet"
           }
          ],
          "scattergeo": [
           {
            "marker": {
             "colorbar": {
              "outlinewidth": 0,
              "ticks": ""
             }
            },
            "type": "scattergeo"
           }
          ],
          "scattergl": [
           {
            "marker": {
             "colorbar": {
              "outlinewidth": 0,
              "ticks": ""
             }
            },
            "type": "scattergl"
           }
          ],
          "scattermapbox": [
           {
            "marker": {
             "colorbar": {
              "outlinewidth": 0,
              "ticks": ""
             }
            },
            "type": "scattermapbox"
           }
          ],
          "scatterpolar": [
           {
            "marker": {
             "colorbar": {
              "outlinewidth": 0,
              "ticks": ""
             }
            },
            "type": "scatterpolar"
           }
          ],
          "scatterpolargl": [
           {
            "marker": {
             "colorbar": {
              "outlinewidth": 0,
              "ticks": ""
             }
            },
            "type": "scatterpolargl"
           }
          ],
          "scatterternary": [
           {
            "marker": {
             "colorbar": {
              "outlinewidth": 0,
              "ticks": ""
             }
            },
            "type": "scatterternary"
           }
          ],
          "surface": [
           {
            "colorbar": {
             "outlinewidth": 0,
             "ticks": ""
            },
            "colorscale": [
             [
              0,
              "#0d0887"
             ],
             [
              0.1111111111111111,
              "#46039f"
             ],
             [
              0.2222222222222222,
              "#7201a8"
             ],
             [
              0.3333333333333333,
              "#9c179e"
             ],
             [
              0.4444444444444444,
              "#bd3786"
             ],
             [
              0.5555555555555556,
              "#d8576b"
             ],
             [
              0.6666666666666666,
              "#ed7953"
             ],
             [
              0.7777777777777778,
              "#fb9f3a"
             ],
             [
              0.8888888888888888,
              "#fdca26"
             ],
             [
              1,
              "#f0f921"
             ]
            ],
            "type": "surface"
           }
          ],
          "table": [
           {
            "cells": {
             "fill": {
              "color": "#EBF0F8"
             },
             "line": {
              "color": "white"
             }
            },
            "header": {
             "fill": {
              "color": "#C8D4E3"
             },
             "line": {
              "color": "white"
             }
            },
            "type": "table"
           }
          ]
         },
         "layout": {
          "annotationdefaults": {
           "arrowcolor": "#2a3f5f",
           "arrowhead": 0,
           "arrowwidth": 1
          },
          "coloraxis": {
           "colorbar": {
            "outlinewidth": 0,
            "ticks": ""
           }
          },
          "colorscale": {
           "diverging": [
            [
             0,
             "#8e0152"
            ],
            [
             0.1,
             "#c51b7d"
            ],
            [
             0.2,
             "#de77ae"
            ],
            [
             0.3,
             "#f1b6da"
            ],
            [
             0.4,
             "#fde0ef"
            ],
            [
             0.5,
             "#f7f7f7"
            ],
            [
             0.6,
             "#e6f5d0"
            ],
            [
             0.7,
             "#b8e186"
            ],
            [
             0.8,
             "#7fbc41"
            ],
            [
             0.9,
             "#4d9221"
            ],
            [
             1,
             "#276419"
            ]
           ],
           "sequential": [
            [
             0,
             "#0d0887"
            ],
            [
             0.1111111111111111,
             "#46039f"
            ],
            [
             0.2222222222222222,
             "#7201a8"
            ],
            [
             0.3333333333333333,
             "#9c179e"
            ],
            [
             0.4444444444444444,
             "#bd3786"
            ],
            [
             0.5555555555555556,
             "#d8576b"
            ],
            [
             0.6666666666666666,
             "#ed7953"
            ],
            [
             0.7777777777777778,
             "#fb9f3a"
            ],
            [
             0.8888888888888888,
             "#fdca26"
            ],
            [
             1,
             "#f0f921"
            ]
           ],
           "sequentialminus": [
            [
             0,
             "#0d0887"
            ],
            [
             0.1111111111111111,
             "#46039f"
            ],
            [
             0.2222222222222222,
             "#7201a8"
            ],
            [
             0.3333333333333333,
             "#9c179e"
            ],
            [
             0.4444444444444444,
             "#bd3786"
            ],
            [
             0.5555555555555556,
             "#d8576b"
            ],
            [
             0.6666666666666666,
             "#ed7953"
            ],
            [
             0.7777777777777778,
             "#fb9f3a"
            ],
            [
             0.8888888888888888,
             "#fdca26"
            ],
            [
             1,
             "#f0f921"
            ]
           ]
          },
          "colorway": [
           "#636efa",
           "#EF553B",
           "#00cc96",
           "#ab63fa",
           "#FFA15A",
           "#19d3f3",
           "#FF6692",
           "#B6E880",
           "#FF97FF",
           "#FECB52"
          ],
          "font": {
           "color": "#2a3f5f"
          },
          "geo": {
           "bgcolor": "white",
           "lakecolor": "white",
           "landcolor": "#E5ECF6",
           "showlakes": true,
           "showland": true,
           "subunitcolor": "white"
          },
          "hoverlabel": {
           "align": "left"
          },
          "hovermode": "closest",
          "mapbox": {
           "style": "light"
          },
          "paper_bgcolor": "white",
          "plot_bgcolor": "#E5ECF6",
          "polar": {
           "angularaxis": {
            "gridcolor": "white",
            "linecolor": "white",
            "ticks": ""
           },
           "bgcolor": "#E5ECF6",
           "radialaxis": {
            "gridcolor": "white",
            "linecolor": "white",
            "ticks": ""
           }
          },
          "scene": {
           "xaxis": {
            "backgroundcolor": "#E5ECF6",
            "gridcolor": "white",
            "gridwidth": 2,
            "linecolor": "white",
            "showbackground": true,
            "ticks": "",
            "zerolinecolor": "white"
           },
           "yaxis": {
            "backgroundcolor": "#E5ECF6",
            "gridcolor": "white",
            "gridwidth": 2,
            "linecolor": "white",
            "showbackground": true,
            "ticks": "",
            "zerolinecolor": "white"
           },
           "zaxis": {
            "backgroundcolor": "#E5ECF6",
            "gridcolor": "white",
            "gridwidth": 2,
            "linecolor": "white",
            "showbackground": true,
            "ticks": "",
            "zerolinecolor": "white"
           }
          },
          "shapedefaults": {
           "line": {
            "color": "#2a3f5f"
           }
          },
          "ternary": {
           "aaxis": {
            "gridcolor": "white",
            "linecolor": "white",
            "ticks": ""
           },
           "baxis": {
            "gridcolor": "white",
            "linecolor": "white",
            "ticks": ""
           },
           "bgcolor": "#E5ECF6",
           "caxis": {
            "gridcolor": "white",
            "linecolor": "white",
            "ticks": ""
           }
          },
          "title": {
           "x": 0.05
          },
          "xaxis": {
           "automargin": true,
           "gridcolor": "white",
           "linecolor": "white",
           "ticks": "",
           "title": {
            "standoff": 15
           },
           "zerolinecolor": "white",
           "zerolinewidth": 2
          },
          "yaxis": {
           "automargin": true,
           "gridcolor": "white",
           "linecolor": "white",
           "ticks": "",
           "title": {
            "standoff": 15
           },
           "zerolinecolor": "white",
           "zerolinewidth": 2
          }
         }
        }
       }
      },
      "text/html": [
       "<div>\n",
       "        \n",
       "        \n",
       "            <div id=\"7eef6a60-babd-44d4-91e0-8fc1dd508a70\" class=\"plotly-graph-div\" style=\"height:525px; width:100%;\"></div>\n",
       "            <script type=\"text/javascript\">\n",
       "                require([\"plotly\"], function(Plotly) {\n",
       "                    window.PLOTLYENV=window.PLOTLYENV || {};\n",
       "                    \n",
       "                if (document.getElementById(\"7eef6a60-babd-44d4-91e0-8fc1dd508a70\")) {\n",
       "                    Plotly.newPlot(\n",
       "                        '7eef6a60-babd-44d4-91e0-8fc1dd508a70',\n",
       "                        [{\"locations\": [\"BRA\", \"KHM\", \"BGR\", \"VUT\", \"PAK\", \"NIC\", \"AGO\", \"HTI\", \"TCD\", \"KIR\", \"PNG\", \"GEO\", \"MNG\", \"UKR\", \"NIU\", \"LTU\", \"LKA\", \"VCT\", \"SOM\", \"TUV\", \"GUY\", \"KEN\", \"MRT\", \"BGD\", \"MOZ\", \"ALB\", \"SUR\", \"TLS\", \"YEM\", \"DJI\", \"BDI\", \"ARM\", \"CHN\", \"GIN\", \"RUS\", \"TJK\", \"ATG\", \"ZMB\", \"LBR\", \"NPL\", \"MLI\", \"KNA\", \"KGZ\", \"GMB\", \"ZAF\", \"GRD\", \"DOM\", \"FJI\", \"GHA\", \"MMR\", \"IND\", \"BHR\", \"SLB\", \"TZA\", \"CRI\", \"DMA\", \"LSO\", \"BTN\", \"SYC\", \"LCA\", \"LBN\", \"BIH\", \"SLV\", \"CPV\", \"PRY\", \"MYS\", \"MHL\", \"MDA\", \"MWI\", \"NRU\", \"BOL\", \"ERI\", \"UGA\", \"PRK\", \"RWA\", \"SDN\", \"URY\", \"TON\", \"SWE\", \"CHL\", \"EST\", \"IDN\", \"BWA\", \"PLW\", \"ZWE\", \"EGY\", \"NAM\", \"COL\", \"VEN\", \"TTO\", \"CAF\", \"MDG\", \"HND\", \"CUB\", \"BLZ\", \"ARG\", \"PER\", \"COK\", \"MNE\", \"BKA\", \"LVA\", \"AFG\", \"VNM\", \"JOR\", \"COG\", \"TGO\", \"NGA\", \"MAR\", \"OMN\", \"SEN\", \"DZA\", \"MDV\", \"ECU\", \"MKD\", \"COD\", \"POL\", \"PHL\", \"CIV\", \"CMR\", \"ETH\", \"BLR\", \"THA\", \"SRB\", \"PRT\", \"ROU\", \"JAM\", \"IRQ\", \"MLT\", \"MEX\", \"HRV\", \"BRB\", \"TUN\", \"SVN\", \"IRN\", \"CZE\", \"SYR\", \"SVK\"], \"marker\": {\"line\": {\"color\": \"darkgray\", \"width\": 0.5}}, \"text\": [\"Brazil\", \"Cambodia\", \"Bulgaria\", \"Vanuatu\", \"Pakistan\", \"Nicaragua\", \"Angola\", \"Haiti\", \"Chad\", \"Kiribati\", \"Papua New Guinea\", \"Georgia\", \"Mongolia\", \"Ukraine\", \"Niue\", \"Lithuania\", \"Sri Lanka\", \"Saint Vincent & the Grenadines\", \"Somalia\", \"Tuvalu\", \"Guyana\", \"Kenya\", \"Mauritania\", \"Bangladesh\", \"Mozambique\", \"Albania\", \"Suriname\", \"Timor-Leste\", \"Yemen\", \"Djibouti\", \"Burundi\", \"Armenia\", \"China\", \"Guinea\", \"Russian Federation\", \"Tajikistan\", \"Antigua & Barbuda\", \"Zambia\", \"Liberia\", \"Nepal\", \"Mali\", \"Saint Kitts & Nevis\", \"Kyrgyzstan\", \"Gambia\", \"South Africa\", \"Grenada\", \"Dominican Republic\", \"Fiji\", \"Ghana\", \"Myanmar\", \"India\", \"Bahrain\", \"Solomon Islands\", \"Tanzania (United Republic of)\", \"Costa Rica\", \"Dominica\", \"Lesotho\", \"Bhutan\", \"Seychelles\", \"Saint Lucia\", \"Lebanon\", \"Bosnia & Herzegovina\", \"El Salvador\", \"Cabo Verde\", \"Paraguay\", \"Malaysia\", \"Marshall Islands\", \"Moldova (the Republic of)\", \"Malawi\", \"Nauru\", \"Bolivia (Plurinational State of)\", \"Eritrea\", \"Uganda\", \"Korea (Democratic People's Republic of)\", \"Rwanda\", \"Sudan\", \"Uruguay\", \"Tonga\", \"Sweden\", \"Chile\", \"Estonia\", \"Indonesia\", \"Botswana\", \"Palau\", \"Zimbabwe\", \"Egypt\", \"Namibia\", \"Colombia\", \"Venezuela (Bolivarian Rep. of)\", \"Trinidad & Tobago\", \"Central African Republic\", \"Madagascar\", \"Honduras\", \"Cuba\", \"Belize\", \"Argentina\", \"Peru\", \"Cook Islands\", \"Montenegro\", \"Burkina Faso\", \"Latvia\", \"Afghanistan\", \"Viet Nam\", \"Jordan\", \"Congo (the)\", \"Togo\", \"Nigeria\", \"Morocco\", \"Oman\", \"Senegal\", \"Algeria\", \"Maldives\", \"Ecuador\", \"Macedonia (The former Yugoslav Rep. of )\", \"Congo (Democratic Republic of the)\", \"Poland\", \"Philippines\", \"C\\u00f4te d'Ivoire\", \"Cameroon\", \"Ethiopia\", \"Belarus\", \"Thailand\", \"Serbia\", \"Portugal\", \"Romania\", \"Jamaica\", \"Iraq\", \"Malta\", \"Mexico\", \"Croatia\", \"Barbados\", \"Tunisia\", \"Slovenia\", \"Iran (Islamic Republic of)\", \"Czechia\", \"Syrian Arab Republic\", \"Slovakia\"], \"type\": \"choropleth\", \"z\": [\"1\", \"1\", \"1\", \"1\", \"1\", \"1\", \"1\", \"1\", \"1\", \"3\", \"2\", \"2\", \"2\", \"1\", \"2\", \"1\", \"2\", \"3\", \"1\", \"2\", \"4\", \"4\", \"1\", \"1\", \"3\", \"1\", \"3\", \"2\", \"1\", \"2\", \"2\", \"2\", \"3\", \"3\", \"3\", \"4\", \"4\", \"3\", \"2\", \"2\", \"4\", \"3\", \"3\", \"3\", \"2\", \"3\", \"4\", \"4\", \"3\", \"4\", \"2\", \"4\", \"3\", \"4\", \"5\", \"3\", \"1\", \"3\", \"3\", \"3\", \"4\", \"4\", \"4\", \"6\", \"4\", \"4\", \"5\", \"6\", \"5\", \"5\", \"6\", \"4\", \"5\", \"4\", \"4\", \"3\", \"6\", \"5\", \"5\", \"6\", \"6\", \"5\", \"5\", \"5\", \"5\", \"4\", \"7\", \"6\", \"5\", \"7\", \"5\", \"5\", \"6\", \"5\", \"7\", \"6\", \"5\", \"4\", \"6\", \"7\", \"4\", \"4\", \"7\", \"8\", \"7\", \"7\", \"8\", \"8\", \"8\", \"7\", \"5\", \"7\", \"8\", \"7\", \"7\", \"7\", \"8\", \"8\", \"8\", \"8\", \"7\", \"8\", \"8\", \"8\", \"8\", \"9\", \"9\", \"9\", \"9\", \"9\", \"9\", \"9\", \"9\", \"9\", \"9\", \"9\", \"9\"]}],\n",
       "                        {\"template\": {\"data\": {\"bar\": [{\"error_x\": {\"color\": \"#2a3f5f\"}, \"error_y\": {\"color\": \"#2a3f5f\"}, \"marker\": {\"line\": {\"color\": \"#E5ECF6\", \"width\": 0.5}}, \"type\": \"bar\"}], \"barpolar\": [{\"marker\": {\"line\": {\"color\": \"#E5ECF6\", \"width\": 0.5}}, \"type\": \"barpolar\"}], \"carpet\": [{\"aaxis\": {\"endlinecolor\": \"#2a3f5f\", \"gridcolor\": \"white\", \"linecolor\": \"white\", \"minorgridcolor\": \"white\", \"startlinecolor\": \"#2a3f5f\"}, \"baxis\": {\"endlinecolor\": \"#2a3f5f\", \"gridcolor\": \"white\", \"linecolor\": \"white\", \"minorgridcolor\": \"white\", \"startlinecolor\": \"#2a3f5f\"}, \"type\": \"carpet\"}], \"choropleth\": [{\"colorbar\": {\"outlinewidth\": 0, \"ticks\": \"\"}, \"type\": \"choropleth\"}], \"contour\": [{\"colorbar\": {\"outlinewidth\": 0, \"ticks\": \"\"}, \"colorscale\": [[0.0, \"#0d0887\"], [0.1111111111111111, \"#46039f\"], [0.2222222222222222, \"#7201a8\"], [0.3333333333333333, \"#9c179e\"], [0.4444444444444444, \"#bd3786\"], [0.5555555555555556, \"#d8576b\"], [0.6666666666666666, \"#ed7953\"], [0.7777777777777778, \"#fb9f3a\"], [0.8888888888888888, \"#fdca26\"], [1.0, \"#f0f921\"]], \"type\": \"contour\"}], \"contourcarpet\": [{\"colorbar\": {\"outlinewidth\": 0, \"ticks\": \"\"}, \"type\": \"contourcarpet\"}], \"heatmap\": [{\"colorbar\": {\"outlinewidth\": 0, \"ticks\": \"\"}, \"colorscale\": [[0.0, \"#0d0887\"], [0.1111111111111111, \"#46039f\"], [0.2222222222222222, \"#7201a8\"], [0.3333333333333333, \"#9c179e\"], [0.4444444444444444, \"#bd3786\"], [0.5555555555555556, \"#d8576b\"], [0.6666666666666666, \"#ed7953\"], [0.7777777777777778, \"#fb9f3a\"], [0.8888888888888888, \"#fdca26\"], [1.0, \"#f0f921\"]], \"type\": \"heatmap\"}], \"heatmapgl\": [{\"colorbar\": {\"outlinewidth\": 0, \"ticks\": \"\"}, \"colorscale\": [[0.0, \"#0d0887\"], [0.1111111111111111, \"#46039f\"], [0.2222222222222222, \"#7201a8\"], [0.3333333333333333, \"#9c179e\"], [0.4444444444444444, \"#bd3786\"], [0.5555555555555556, \"#d8576b\"], [0.6666666666666666, \"#ed7953\"], [0.7777777777777778, \"#fb9f3a\"], [0.8888888888888888, \"#fdca26\"], [1.0, \"#f0f921\"]], \"type\": \"heatmapgl\"}], \"histogram\": [{\"marker\": {\"colorbar\": {\"outlinewidth\": 0, \"ticks\": \"\"}}, \"type\": \"histogram\"}], \"histogram2d\": [{\"colorbar\": {\"outlinewidth\": 0, \"ticks\": \"\"}, \"colorscale\": [[0.0, \"#0d0887\"], [0.1111111111111111, \"#46039f\"], [0.2222222222222222, \"#7201a8\"], [0.3333333333333333, \"#9c179e\"], [0.4444444444444444, \"#bd3786\"], [0.5555555555555556, \"#d8576b\"], [0.6666666666666666, \"#ed7953\"], [0.7777777777777778, \"#fb9f3a\"], [0.8888888888888888, \"#fdca26\"], [1.0, \"#f0f921\"]], \"type\": \"histogram2d\"}], \"histogram2dcontour\": [{\"colorbar\": {\"outlinewidth\": 0, \"ticks\": \"\"}, \"colorscale\": [[0.0, \"#0d0887\"], [0.1111111111111111, \"#46039f\"], [0.2222222222222222, \"#7201a8\"], [0.3333333333333333, \"#9c179e\"], [0.4444444444444444, \"#bd3786\"], [0.5555555555555556, \"#d8576b\"], [0.6666666666666666, \"#ed7953\"], [0.7777777777777778, \"#fb9f3a\"], [0.8888888888888888, \"#fdca26\"], [1.0, \"#f0f921\"]], \"type\": \"histogram2dcontour\"}], \"mesh3d\": [{\"colorbar\": {\"outlinewidth\": 0, \"ticks\": \"\"}, \"type\": \"mesh3d\"}], \"parcoords\": [{\"line\": {\"colorbar\": {\"outlinewidth\": 0, \"ticks\": \"\"}}, \"type\": \"parcoords\"}], \"pie\": [{\"automargin\": true, \"type\": \"pie\"}], \"scatter\": [{\"marker\": {\"colorbar\": {\"outlinewidth\": 0, \"ticks\": \"\"}}, \"type\": \"scatter\"}], \"scatter3d\": [{\"line\": {\"colorbar\": {\"outlinewidth\": 0, \"ticks\": \"\"}}, \"marker\": {\"colorbar\": {\"outlinewidth\": 0, \"ticks\": \"\"}}, \"type\": \"scatter3d\"}], \"scattercarpet\": [{\"marker\": {\"colorbar\": {\"outlinewidth\": 0, \"ticks\": \"\"}}, \"type\": \"scattercarpet\"}], \"scattergeo\": [{\"marker\": {\"colorbar\": {\"outlinewidth\": 0, \"ticks\": \"\"}}, \"type\": \"scattergeo\"}], \"scattergl\": [{\"marker\": {\"colorbar\": {\"outlinewidth\": 0, \"ticks\": \"\"}}, \"type\": \"scattergl\"}], \"scattermapbox\": [{\"marker\": {\"colorbar\": {\"outlinewidth\": 0, \"ticks\": \"\"}}, \"type\": \"scattermapbox\"}], \"scatterpolar\": [{\"marker\": {\"colorbar\": {\"outlinewidth\": 0, \"ticks\": \"\"}}, \"type\": \"scatterpolar\"}], \"scatterpolargl\": [{\"marker\": {\"colorbar\": {\"outlinewidth\": 0, \"ticks\": \"\"}}, \"type\": \"scatterpolargl\"}], \"scatterternary\": [{\"marker\": {\"colorbar\": {\"outlinewidth\": 0, \"ticks\": \"\"}}, \"type\": \"scatterternary\"}], \"surface\": [{\"colorbar\": {\"outlinewidth\": 0, \"ticks\": \"\"}, \"colorscale\": [[0.0, \"#0d0887\"], [0.1111111111111111, \"#46039f\"], [0.2222222222222222, \"#7201a8\"], [0.3333333333333333, \"#9c179e\"], [0.4444444444444444, \"#bd3786\"], [0.5555555555555556, \"#d8576b\"], [0.6666666666666666, \"#ed7953\"], [0.7777777777777778, \"#fb9f3a\"], [0.8888888888888888, \"#fdca26\"], [1.0, \"#f0f921\"]], \"type\": \"surface\"}], \"table\": [{\"cells\": {\"fill\": {\"color\": \"#EBF0F8\"}, \"line\": {\"color\": \"white\"}}, \"header\": {\"fill\": {\"color\": \"#C8D4E3\"}, \"line\": {\"color\": \"white\"}}, \"type\": \"table\"}]}, \"layout\": {\"annotationdefaults\": {\"arrowcolor\": \"#2a3f5f\", \"arrowhead\": 0, \"arrowwidth\": 1}, \"coloraxis\": {\"colorbar\": {\"outlinewidth\": 0, \"ticks\": \"\"}}, \"colorscale\": {\"diverging\": [[0, \"#8e0152\"], [0.1, \"#c51b7d\"], [0.2, \"#de77ae\"], [0.3, \"#f1b6da\"], [0.4, \"#fde0ef\"], [0.5, \"#f7f7f7\"], [0.6, \"#e6f5d0\"], [0.7, \"#b8e186\"], [0.8, \"#7fbc41\"], [0.9, \"#4d9221\"], [1, \"#276419\"]], \"sequential\": [[0.0, \"#0d0887\"], [0.1111111111111111, \"#46039f\"], [0.2222222222222222, \"#7201a8\"], [0.3333333333333333, \"#9c179e\"], [0.4444444444444444, \"#bd3786\"], [0.5555555555555556, \"#d8576b\"], [0.6666666666666666, \"#ed7953\"], [0.7777777777777778, \"#fb9f3a\"], [0.8888888888888888, \"#fdca26\"], [1.0, \"#f0f921\"]], \"sequentialminus\": [[0.0, \"#0d0887\"], [0.1111111111111111, \"#46039f\"], [0.2222222222222222, \"#7201a8\"], [0.3333333333333333, \"#9c179e\"], [0.4444444444444444, \"#bd3786\"], [0.5555555555555556, \"#d8576b\"], [0.6666666666666666, \"#ed7953\"], [0.7777777777777778, \"#fb9f3a\"], [0.8888888888888888, \"#fdca26\"], [1.0, \"#f0f921\"]]}, \"colorway\": [\"#636efa\", \"#EF553B\", \"#00cc96\", \"#ab63fa\", \"#FFA15A\", \"#19d3f3\", \"#FF6692\", \"#B6E880\", \"#FF97FF\", \"#FECB52\"], \"font\": {\"color\": \"#2a3f5f\"}, \"geo\": {\"bgcolor\": \"white\", \"lakecolor\": \"white\", \"landcolor\": \"#E5ECF6\", \"showlakes\": true, \"showland\": true, \"subunitcolor\": \"white\"}, \"hoverlabel\": {\"align\": \"left\"}, \"hovermode\": \"closest\", \"mapbox\": {\"style\": \"light\"}, \"paper_bgcolor\": \"white\", \"plot_bgcolor\": \"#E5ECF6\", \"polar\": {\"angularaxis\": {\"gridcolor\": \"white\", \"linecolor\": \"white\", \"ticks\": \"\"}, \"bgcolor\": \"#E5ECF6\", \"radialaxis\": {\"gridcolor\": \"white\", \"linecolor\": \"white\", \"ticks\": \"\"}}, \"scene\": {\"xaxis\": {\"backgroundcolor\": \"#E5ECF6\", \"gridcolor\": \"white\", \"gridwidth\": 2, \"linecolor\": \"white\", \"showbackground\": true, \"ticks\": \"\", \"zerolinecolor\": \"white\"}, \"yaxis\": {\"backgroundcolor\": \"#E5ECF6\", \"gridcolor\": \"white\", \"gridwidth\": 2, \"linecolor\": \"white\", \"showbackground\": true, \"ticks\": \"\", \"zerolinecolor\": \"white\"}, \"zaxis\": {\"backgroundcolor\": \"#E5ECF6\", \"gridcolor\": \"white\", \"gridwidth\": 2, \"linecolor\": \"white\", \"showbackground\": true, \"ticks\": \"\", \"zerolinecolor\": \"white\"}}, \"shapedefaults\": {\"line\": {\"color\": \"#2a3f5f\"}}, \"ternary\": {\"aaxis\": {\"gridcolor\": \"white\", \"linecolor\": \"white\", \"ticks\": \"\"}, \"baxis\": {\"gridcolor\": \"white\", \"linecolor\": \"white\", \"ticks\": \"\"}, \"bgcolor\": \"#E5ECF6\", \"caxis\": {\"gridcolor\": \"white\", \"linecolor\": \"white\", \"ticks\": \"\"}}, \"title\": {\"x\": 0.05}, \"xaxis\": {\"automargin\": true, \"gridcolor\": \"white\", \"linecolor\": \"white\", \"ticks\": \"\", \"title\": {\"standoff\": 15}, \"zerolinecolor\": \"white\", \"zerolinewidth\": 2}, \"yaxis\": {\"automargin\": true, \"gridcolor\": \"white\", \"linecolor\": \"white\", \"ticks\": \"\", \"title\": {\"standoff\": 15}, \"zerolinecolor\": \"white\", \"zerolinewidth\": 2}}}},\n",
       "                        {\"responsive\": true}\n",
       "                    ).then(function(){\n",
       "                            \n",
       "var gd = document.getElementById('7eef6a60-babd-44d4-91e0-8fc1dd508a70');\n",
       "var x = new MutationObserver(function (mutations, observer) {{\n",
       "        var display = window.getComputedStyle(gd).display;\n",
       "        if (!display || display === 'none') {{\n",
       "            console.log([gd, 'removed!']);\n",
       "            Plotly.purge(gd);\n",
       "            observer.disconnect();\n",
       "        }}\n",
       "}});\n",
       "\n",
       "// Listen for the removal of the full notebook cells\n",
       "var notebookContainer = gd.closest('#notebook-container');\n",
       "if (notebookContainer) {{\n",
       "    x.observe(notebookContainer, {childList: true});\n",
       "}}\n",
       "\n",
       "// Listen for the clearing of the current output cell\n",
       "var outputEl = gd.closest('.output');\n",
       "if (outputEl) {{\n",
       "    x.observe(outputEl, {childList: true});\n",
       "}}\n",
       "\n",
       "                        })\n",
       "                };\n",
       "                });\n",
       "            </script>\n",
       "        </div>"
      ]
     },
     "metadata": {},
     "output_type": "display_data"
    }
   ],
   "source": [
    "fig.show()"
   ]
  },
  {
   "cell_type": "code",
   "execution_count": null,
   "metadata": {},
   "outputs": [],
   "source": [
    "layout2 = go.Layout(\n",
    "    geo = go.layout.Geo(\n",
    "        showframe=False,\n",
    "        showcoastlines=False,\n",
    "        projection_type='equirectangular'),\n",
    "    )\n",
    "\n",
    "fig2 = go.Figure(data = data2, layout = layout2)\n",
    "\n",
    "z = '9 quantiles of OpioidEML',\n",
    "    locations = 'Country_IOS2',\n",
    "    colour = \"OpioidEML\",\n",
    "    marker_line_color = 'darkgray',\n",
    "    marker_line_width = 0.5,\n",
    "    autocolorscale = False, \n",
    "    reversescale=False,\n",
    "    colorbar=dict(\n",
    "        title=\"No. of opioids on EML\",\n",
    "        tickvals=[1, 2, 3, 4, 5, 6, 7, 8, 9],\n",
    "        ticktext=[\"0-3\", \"4\", \"5\", \"6\", \"7\", \"8\", \"9\", \"10-11\", \"12-19\"],\n",
    "        ticks=\"outside\"),\n",
    ")\n",
    "layout2 = go.Layout(\n",
    "    geo = go.layout.Geo(\n",
    "        showframe=False,\n",
    "        showcoastlines=False,\n",
    "        projection_type='equirectangular'),\n",
    "    )\n",
    "\n",
    "fig2 = go.Figure(data = data2, layout = layout2)"
   ]
  },
  {
   "cell_type": "code",
   "execution_count": 8,
   "metadata": {},
   "outputs": [
    {
     "data": {
      "text/plain": [
       "['__call__',\n",
       " '__class__',\n",
       " '__delattr__',\n",
       " '__dir__',\n",
       " '__doc__',\n",
       " '__eq__',\n",
       " '__format__',\n",
       " '__func__',\n",
       " '__ge__',\n",
       " '__get__',\n",
       " '__getattribute__',\n",
       " '__gt__',\n",
       " '__hash__',\n",
       " '__init__',\n",
       " '__init_subclass__',\n",
       " '__le__',\n",
       " '__lt__',\n",
       " '__ne__',\n",
       " '__new__',\n",
       " '__reduce__',\n",
       " '__reduce_ex__',\n",
       " '__repr__',\n",
       " '__self__',\n",
       " '__setattr__',\n",
       " '__sizeof__',\n",
       " '__str__',\n",
       " '__subclasshook__']"
      ]
     },
     "execution_count": 8,
     "metadata": {},
     "output_type": "execute_result"
    }
   ],
   "source": [
    "dir(fig2.write_image)"
   ]
  },
  {
   "cell_type": "markdown",
   "metadata": {},
   "source": [
    "# Mapping the number of differences between national lists of essential medicines and the 2017 WHO Model List"
   ]
  },
  {
   "cell_type": "code",
   "execution_count": 9,
   "metadata": {},
   "outputs": [
    {
     "data": {
      "application/vnd.plotly.v1+json": {
       "config": {
        "plotlyServerURL": "https://plot.ly"
       },
       "data": [
        {
         "autocolorscale": false,
         "colorbar": {
          "ticks": "outside",
          "ticktext": [
           "0-1",
           "2",
           "3",
           "4",
           "5"
          ],
          "tickvals": [
           1,
           2,
           3,
           4,
           5,
           6
          ],
          "title": {
           "text": "WHO opioids on EML"
          }
         },
         "colorscale": [
          [
           0,
           "#440154"
          ],
          [
           0.1111111111111111,
           "#482878"
          ],
          [
           0.2222222222222222,
           "#3e4989"
          ],
          [
           0.3333333333333333,
           "#31688e"
          ],
          [
           0.4444444444444444,
           "#26828e"
          ],
          [
           0.5555555555555556,
           "#1f9e89"
          ],
          [
           0.6666666666666666,
           "#35b779"
          ],
          [
           0.7777777777777778,
           "#6ece58"
          ],
          [
           0.8888888888888888,
           "#b5de2b"
          ],
          [
           1,
           "#fde725"
          ]
         ],
         "locations": [
          "BRA",
          "KHM",
          "BGR",
          "VUT",
          "PAK",
          "NIC",
          "AGO",
          "HTI",
          "TCD",
          "KIR",
          "PNG",
          "GEO",
          "MNG",
          "UKR",
          "NIU",
          "LTU",
          "LKA",
          "VCT",
          "SOM",
          "TUV",
          "GUY",
          "KEN",
          "MRT",
          "BGD",
          "MOZ",
          "ALB",
          "SUR",
          "TLS",
          "YEM",
          "DJI",
          "BDI",
          "ARM",
          "CHN",
          "GIN",
          "RUS",
          "TJK",
          "ATG",
          "ZMB",
          "LBR",
          "NPL",
          "MLI",
          "KNA",
          "KGZ",
          "GMB",
          "ZAF",
          "GRD",
          "DOM",
          "FJI",
          "GHA",
          "MMR",
          "IND",
          "BHR",
          "SLB",
          "TZA",
          "CRI",
          "DMA",
          "LSO",
          "BTN",
          "SYC",
          "LCA",
          "LBN",
          "BIH",
          "SLV",
          "CPV",
          "PRY",
          "MYS",
          "MHL",
          "MDA",
          "MWI",
          "NRU",
          "BOL",
          "ERI",
          "UGA",
          "PRK",
          "RWA",
          "SDN",
          "URY",
          "TON",
          "SWE",
          "CHL",
          "EST",
          "IDN",
          "BWA",
          "PLW",
          "ZWE",
          "EGY",
          "NAM",
          "COL",
          "VEN",
          "TTO",
          "CAF",
          "MDG",
          "HND",
          "CUB",
          "BLZ",
          "ARG",
          "PER",
          "COK",
          "MNE",
          "BKA",
          "LVA",
          "AFG",
          "VNM",
          "JOR",
          "COG",
          "TGO",
          "NGA",
          "MAR",
          "OMN",
          "SEN",
          "DZA",
          "MDV",
          "ECU",
          "MKD",
          "COD",
          "POL",
          "PHL",
          "CIV",
          "CMR",
          "ETH",
          "BLR",
          "THA",
          "SRB",
          "PRT",
          "ROU",
          "JAM",
          "IRQ",
          "MLT",
          "MEX",
          "HRV",
          "BRB",
          "TUN",
          "SVN",
          "IRN",
          "CZE",
          "SYR",
          "SVK"
         ],
         "marker": {
          "line": {
           "color": "darkgray",
           "width": 0.5
          }
         },
         "reversescale": false,
         "text": [
          "Brazil",
          "Cambodia",
          "Bulgaria",
          "Vanuatu",
          "Pakistan",
          "Nicaragua",
          "Angola",
          "Haiti",
          "Chad",
          "Kiribati",
          "Papua New Guinea",
          "Georgia",
          "Mongolia",
          "Ukraine",
          "Niue",
          "Lithuania",
          "Sri Lanka",
          "Saint Vincent & the Grenadines",
          "Somalia",
          "Tuvalu",
          "Guyana",
          "Kenya",
          "Mauritania",
          "Bangladesh",
          "Mozambique",
          "Albania",
          "Suriname",
          "Timor-Leste",
          "Yemen",
          "Djibouti",
          "Burundi",
          "Armenia",
          "China",
          "Guinea",
          "Russian Federation",
          "Tajikistan",
          "Antigua & Barbuda",
          "Zambia",
          "Liberia",
          "Nepal",
          "Mali",
          "Saint Kitts & Nevis",
          "Kyrgyzstan",
          "Gambia",
          "South Africa",
          "Grenada",
          "Dominican Republic",
          "Fiji",
          "Ghana",
          "Myanmar",
          "India",
          "Bahrain",
          "Solomon Islands",
          "Tanzania (United Republic of)",
          "Costa Rica",
          "Dominica",
          "Lesotho",
          "Bhutan",
          "Seychelles",
          "Saint Lucia",
          "Lebanon",
          "Bosnia & Herzegovina",
          "El Salvador",
          "Cabo Verde",
          "Paraguay",
          "Malaysia",
          "Marshall Islands",
          "Moldova (the Republic of)",
          "Malawi",
          "Nauru",
          "Bolivia (Plurinational State of)",
          "Eritrea",
          "Uganda",
          "Korea (Democratic People's Republic of)",
          "Rwanda",
          "Sudan",
          "Uruguay",
          "Tonga",
          "Sweden",
          "Chile",
          "Estonia",
          "Indonesia",
          "Botswana",
          "Palau",
          "Zimbabwe",
          "Egypt",
          "Namibia",
          "Colombia",
          "Venezuela (Bolivarian Rep. of)",
          "Trinidad & Tobago",
          "Central African Republic",
          "Madagascar",
          "Honduras",
          "Cuba",
          "Belize",
          "Argentina",
          "Peru",
          "Cook Islands",
          "Montenegro",
          "Burkina Faso",
          "Latvia",
          "Afghanistan",
          "Viet Nam",
          "Jordan",
          "Congo (the)",
          "Togo",
          "Nigeria",
          "Morocco",
          "Oman",
          "Senegal",
          "Algeria",
          "Maldives",
          "Ecuador",
          "Macedonia (The former Yugoslav Rep. of )",
          "Congo (Democratic Republic of the)",
          "Poland",
          "Philippines",
          "Côte d'Ivoire",
          "Cameroon",
          "Ethiopia",
          "Belarus",
          "Thailand",
          "Serbia",
          "Portugal",
          "Romania",
          "Jamaica",
          "Iraq",
          "Malta",
          "Mexico",
          "Croatia",
          "Barbados",
          "Tunisia",
          "Slovenia",
          "Iran (Islamic Republic of)",
          "Czechia",
          "Syrian Arab Republic",
          "Slovakia"
         ],
         "type": "choropleth",
         "z": [
          3,
          0,
          1,
          3,
          3,
          2,
          1,
          2,
          3,
          4,
          3,
          3,
          3,
          2,
          3,
          2,
          3,
          4,
          0,
          3,
          5,
          5,
          2,
          1,
          4,
          2,
          4,
          3,
          2,
          3,
          3,
          3,
          3,
          3,
          3,
          4,
          4,
          3,
          2,
          2,
          4,
          3,
          3,
          3,
          2,
          3,
          4,
          4,
          3,
          4,
          2,
          4,
          3,
          4,
          5,
          3,
          1,
          3,
          3,
          3,
          3,
          3,
          3,
          5,
          3,
          3,
          4,
          5,
          4,
          4,
          5,
          3,
          4,
          3,
          3,
          2,
          5,
          4,
          4,
          5,
          5,
          4,
          4,
          4,
          4,
          3,
          5,
          4,
          3,
          5,
          3,
          3,
          4,
          3,
          5,
          4,
          3,
          2,
          4,
          5,
          2,
          2,
          4,
          5,
          4,
          4,
          5,
          5,
          5,
          4,
          2,
          4,
          5,
          4,
          4,
          4,
          4,
          4,
          4,
          5,
          3,
          5,
          4,
          5,
          4,
          5,
          4,
          5,
          4,
          4,
          4,
          4,
          5,
          5,
          3,
          3,
          4
         ]
        }
       ],
       "layout": {
        "geo": {
         "projection": {
          "type": "equirectangular"
         },
         "showcoastlines": false,
         "showframe": false
        },
        "template": {
         "data": {
          "bar": [
           {
            "error_x": {
             "color": "#2a3f5f"
            },
            "error_y": {
             "color": "#2a3f5f"
            },
            "marker": {
             "line": {
              "color": "#E5ECF6",
              "width": 0.5
             }
            },
            "type": "bar"
           }
          ],
          "barpolar": [
           {
            "marker": {
             "line": {
              "color": "#E5ECF6",
              "width": 0.5
             }
            },
            "type": "barpolar"
           }
          ],
          "carpet": [
           {
            "aaxis": {
             "endlinecolor": "#2a3f5f",
             "gridcolor": "white",
             "linecolor": "white",
             "minorgridcolor": "white",
             "startlinecolor": "#2a3f5f"
            },
            "baxis": {
             "endlinecolor": "#2a3f5f",
             "gridcolor": "white",
             "linecolor": "white",
             "minorgridcolor": "white",
             "startlinecolor": "#2a3f5f"
            },
            "type": "carpet"
           }
          ],
          "choropleth": [
           {
            "colorbar": {
             "outlinewidth": 0,
             "ticks": ""
            },
            "type": "choropleth"
           }
          ],
          "contour": [
           {
            "colorbar": {
             "outlinewidth": 0,
             "ticks": ""
            },
            "colorscale": [
             [
              0,
              "#0d0887"
             ],
             [
              0.1111111111111111,
              "#46039f"
             ],
             [
              0.2222222222222222,
              "#7201a8"
             ],
             [
              0.3333333333333333,
              "#9c179e"
             ],
             [
              0.4444444444444444,
              "#bd3786"
             ],
             [
              0.5555555555555556,
              "#d8576b"
             ],
             [
              0.6666666666666666,
              "#ed7953"
             ],
             [
              0.7777777777777778,
              "#fb9f3a"
             ],
             [
              0.8888888888888888,
              "#fdca26"
             ],
             [
              1,
              "#f0f921"
             ]
            ],
            "type": "contour"
           }
          ],
          "contourcarpet": [
           {
            "colorbar": {
             "outlinewidth": 0,
             "ticks": ""
            },
            "type": "contourcarpet"
           }
          ],
          "heatmap": [
           {
            "colorbar": {
             "outlinewidth": 0,
             "ticks": ""
            },
            "colorscale": [
             [
              0,
              "#0d0887"
             ],
             [
              0.1111111111111111,
              "#46039f"
             ],
             [
              0.2222222222222222,
              "#7201a8"
             ],
             [
              0.3333333333333333,
              "#9c179e"
             ],
             [
              0.4444444444444444,
              "#bd3786"
             ],
             [
              0.5555555555555556,
              "#d8576b"
             ],
             [
              0.6666666666666666,
              "#ed7953"
             ],
             [
              0.7777777777777778,
              "#fb9f3a"
             ],
             [
              0.8888888888888888,
              "#fdca26"
             ],
             [
              1,
              "#f0f921"
             ]
            ],
            "type": "heatmap"
           }
          ],
          "heatmapgl": [
           {
            "colorbar": {
             "outlinewidth": 0,
             "ticks": ""
            },
            "colorscale": [
             [
              0,
              "#0d0887"
             ],
             [
              0.1111111111111111,
              "#46039f"
             ],
             [
              0.2222222222222222,
              "#7201a8"
             ],
             [
              0.3333333333333333,
              "#9c179e"
             ],
             [
              0.4444444444444444,
              "#bd3786"
             ],
             [
              0.5555555555555556,
              "#d8576b"
             ],
             [
              0.6666666666666666,
              "#ed7953"
             ],
             [
              0.7777777777777778,
              "#fb9f3a"
             ],
             [
              0.8888888888888888,
              "#fdca26"
             ],
             [
              1,
              "#f0f921"
             ]
            ],
            "type": "heatmapgl"
           }
          ],
          "histogram": [
           {
            "marker": {
             "colorbar": {
              "outlinewidth": 0,
              "ticks": ""
             }
            },
            "type": "histogram"
           }
          ],
          "histogram2d": [
           {
            "colorbar": {
             "outlinewidth": 0,
             "ticks": ""
            },
            "colorscale": [
             [
              0,
              "#0d0887"
             ],
             [
              0.1111111111111111,
              "#46039f"
             ],
             [
              0.2222222222222222,
              "#7201a8"
             ],
             [
              0.3333333333333333,
              "#9c179e"
             ],
             [
              0.4444444444444444,
              "#bd3786"
             ],
             [
              0.5555555555555556,
              "#d8576b"
             ],
             [
              0.6666666666666666,
              "#ed7953"
             ],
             [
              0.7777777777777778,
              "#fb9f3a"
             ],
             [
              0.8888888888888888,
              "#fdca26"
             ],
             [
              1,
              "#f0f921"
             ]
            ],
            "type": "histogram2d"
           }
          ],
          "histogram2dcontour": [
           {
            "colorbar": {
             "outlinewidth": 0,
             "ticks": ""
            },
            "colorscale": [
             [
              0,
              "#0d0887"
             ],
             [
              0.1111111111111111,
              "#46039f"
             ],
             [
              0.2222222222222222,
              "#7201a8"
             ],
             [
              0.3333333333333333,
              "#9c179e"
             ],
             [
              0.4444444444444444,
              "#bd3786"
             ],
             [
              0.5555555555555556,
              "#d8576b"
             ],
             [
              0.6666666666666666,
              "#ed7953"
             ],
             [
              0.7777777777777778,
              "#fb9f3a"
             ],
             [
              0.8888888888888888,
              "#fdca26"
             ],
             [
              1,
              "#f0f921"
             ]
            ],
            "type": "histogram2dcontour"
           }
          ],
          "mesh3d": [
           {
            "colorbar": {
             "outlinewidth": 0,
             "ticks": ""
            },
            "type": "mesh3d"
           }
          ],
          "parcoords": [
           {
            "line": {
             "colorbar": {
              "outlinewidth": 0,
              "ticks": ""
             }
            },
            "type": "parcoords"
           }
          ],
          "pie": [
           {
            "automargin": true,
            "type": "pie"
           }
          ],
          "scatter": [
           {
            "marker": {
             "colorbar": {
              "outlinewidth": 0,
              "ticks": ""
             }
            },
            "type": "scatter"
           }
          ],
          "scatter3d": [
           {
            "line": {
             "colorbar": {
              "outlinewidth": 0,
              "ticks": ""
             }
            },
            "marker": {
             "colorbar": {
              "outlinewidth": 0,
              "ticks": ""
             }
            },
            "type": "scatter3d"
           }
          ],
          "scattercarpet": [
           {
            "marker": {
             "colorbar": {
              "outlinewidth": 0,
              "ticks": ""
             }
            },
            "type": "scattercarpet"
           }
          ],
          "scattergeo": [
           {
            "marker": {
             "colorbar": {
              "outlinewidth": 0,
              "ticks": ""
             }
            },
            "type": "scattergeo"
           }
          ],
          "scattergl": [
           {
            "marker": {
             "colorbar": {
              "outlinewidth": 0,
              "ticks": ""
             }
            },
            "type": "scattergl"
           }
          ],
          "scattermapbox": [
           {
            "marker": {
             "colorbar": {
              "outlinewidth": 0,
              "ticks": ""
             }
            },
            "type": "scattermapbox"
           }
          ],
          "scatterpolar": [
           {
            "marker": {
             "colorbar": {
              "outlinewidth": 0,
              "ticks": ""
             }
            },
            "type": "scatterpolar"
           }
          ],
          "scatterpolargl": [
           {
            "marker": {
             "colorbar": {
              "outlinewidth": 0,
              "ticks": ""
             }
            },
            "type": "scatterpolargl"
           }
          ],
          "scatterternary": [
           {
            "marker": {
             "colorbar": {
              "outlinewidth": 0,
              "ticks": ""
             }
            },
            "type": "scatterternary"
           }
          ],
          "surface": [
           {
            "colorbar": {
             "outlinewidth": 0,
             "ticks": ""
            },
            "colorscale": [
             [
              0,
              "#0d0887"
             ],
             [
              0.1111111111111111,
              "#46039f"
             ],
             [
              0.2222222222222222,
              "#7201a8"
             ],
             [
              0.3333333333333333,
              "#9c179e"
             ],
             [
              0.4444444444444444,
              "#bd3786"
             ],
             [
              0.5555555555555556,
              "#d8576b"
             ],
             [
              0.6666666666666666,
              "#ed7953"
             ],
             [
              0.7777777777777778,
              "#fb9f3a"
             ],
             [
              0.8888888888888888,
              "#fdca26"
             ],
             [
              1,
              "#f0f921"
             ]
            ],
            "type": "surface"
           }
          ],
          "table": [
           {
            "cells": {
             "fill": {
              "color": "#EBF0F8"
             },
             "line": {
              "color": "white"
             }
            },
            "header": {
             "fill": {
              "color": "#C8D4E3"
             },
             "line": {
              "color": "white"
             }
            },
            "type": "table"
           }
          ]
         },
         "layout": {
          "annotationdefaults": {
           "arrowcolor": "#2a3f5f",
           "arrowhead": 0,
           "arrowwidth": 1
          },
          "coloraxis": {
           "colorbar": {
            "outlinewidth": 0,
            "ticks": ""
           }
          },
          "colorscale": {
           "diverging": [
            [
             0,
             "#8e0152"
            ],
            [
             0.1,
             "#c51b7d"
            ],
            [
             0.2,
             "#de77ae"
            ],
            [
             0.3,
             "#f1b6da"
            ],
            [
             0.4,
             "#fde0ef"
            ],
            [
             0.5,
             "#f7f7f7"
            ],
            [
             0.6,
             "#e6f5d0"
            ],
            [
             0.7,
             "#b8e186"
            ],
            [
             0.8,
             "#7fbc41"
            ],
            [
             0.9,
             "#4d9221"
            ],
            [
             1,
             "#276419"
            ]
           ],
           "sequential": [
            [
             0,
             "#0d0887"
            ],
            [
             0.1111111111111111,
             "#46039f"
            ],
            [
             0.2222222222222222,
             "#7201a8"
            ],
            [
             0.3333333333333333,
             "#9c179e"
            ],
            [
             0.4444444444444444,
             "#bd3786"
            ],
            [
             0.5555555555555556,
             "#d8576b"
            ],
            [
             0.6666666666666666,
             "#ed7953"
            ],
            [
             0.7777777777777778,
             "#fb9f3a"
            ],
            [
             0.8888888888888888,
             "#fdca26"
            ],
            [
             1,
             "#f0f921"
            ]
           ],
           "sequentialminus": [
            [
             0,
             "#0d0887"
            ],
            [
             0.1111111111111111,
             "#46039f"
            ],
            [
             0.2222222222222222,
             "#7201a8"
            ],
            [
             0.3333333333333333,
             "#9c179e"
            ],
            [
             0.4444444444444444,
             "#bd3786"
            ],
            [
             0.5555555555555556,
             "#d8576b"
            ],
            [
             0.6666666666666666,
             "#ed7953"
            ],
            [
             0.7777777777777778,
             "#fb9f3a"
            ],
            [
             0.8888888888888888,
             "#fdca26"
            ],
            [
             1,
             "#f0f921"
            ]
           ]
          },
          "colorway": [
           "#636efa",
           "#EF553B",
           "#00cc96",
           "#ab63fa",
           "#FFA15A",
           "#19d3f3",
           "#FF6692",
           "#B6E880",
           "#FF97FF",
           "#FECB52"
          ],
          "font": {
           "color": "#2a3f5f"
          },
          "geo": {
           "bgcolor": "white",
           "lakecolor": "white",
           "landcolor": "#E5ECF6",
           "showlakes": true,
           "showland": true,
           "subunitcolor": "white"
          },
          "hoverlabel": {
           "align": "left"
          },
          "hovermode": "closest",
          "mapbox": {
           "style": "light"
          },
          "paper_bgcolor": "white",
          "plot_bgcolor": "#E5ECF6",
          "polar": {
           "angularaxis": {
            "gridcolor": "white",
            "linecolor": "white",
            "ticks": ""
           },
           "bgcolor": "#E5ECF6",
           "radialaxis": {
            "gridcolor": "white",
            "linecolor": "white",
            "ticks": ""
           }
          },
          "scene": {
           "xaxis": {
            "backgroundcolor": "#E5ECF6",
            "gridcolor": "white",
            "gridwidth": 2,
            "linecolor": "white",
            "showbackground": true,
            "ticks": "",
            "zerolinecolor": "white"
           },
           "yaxis": {
            "backgroundcolor": "#E5ECF6",
            "gridcolor": "white",
            "gridwidth": 2,
            "linecolor": "white",
            "showbackground": true,
            "ticks": "",
            "zerolinecolor": "white"
           },
           "zaxis": {
            "backgroundcolor": "#E5ECF6",
            "gridcolor": "white",
            "gridwidth": 2,
            "linecolor": "white",
            "showbackground": true,
            "ticks": "",
            "zerolinecolor": "white"
           }
          },
          "shapedefaults": {
           "line": {
            "color": "#2a3f5f"
           }
          },
          "ternary": {
           "aaxis": {
            "gridcolor": "white",
            "linecolor": "white",
            "ticks": ""
           },
           "baxis": {
            "gridcolor": "white",
            "linecolor": "white",
            "ticks": ""
           },
           "bgcolor": "#E5ECF6",
           "caxis": {
            "gridcolor": "white",
            "linecolor": "white",
            "ticks": ""
           }
          },
          "title": {
           "x": 0.05
          },
          "xaxis": {
           "automargin": true,
           "gridcolor": "white",
           "linecolor": "white",
           "ticks": "",
           "title": {
            "standoff": 15
           },
           "zerolinecolor": "white",
           "zerolinewidth": 2
          },
          "yaxis": {
           "automargin": true,
           "gridcolor": "white",
           "linecolor": "white",
           "ticks": "",
           "title": {
            "standoff": 15
           },
           "zerolinecolor": "white",
           "zerolinewidth": 2
          }
         }
        }
       }
      },
      "text/html": [
       "<div>\n",
       "        \n",
       "        \n",
       "            <div id=\"9bffdd56-7dab-4ae8-b149-101c011d2f24\" class=\"plotly-graph-div\" style=\"height:525px; width:100%;\"></div>\n",
       "            <script type=\"text/javascript\">\n",
       "                require([\"plotly\"], function(Plotly) {\n",
       "                    window.PLOTLYENV=window.PLOTLYENV || {};\n",
       "                    \n",
       "                if (document.getElementById(\"9bffdd56-7dab-4ae8-b149-101c011d2f24\")) {\n",
       "                    Plotly.newPlot(\n",
       "                        '9bffdd56-7dab-4ae8-b149-101c011d2f24',\n",
       "                        [{\"autocolorscale\": false, \"colorbar\": {\"ticks\": \"outside\", \"ticktext\": [\"0-1\", \"2\", \"3\", \"4\", \"5\"], \"tickvals\": [1, 2, 3, 4, 5, 6], \"title\": {\"text\": \"WHO opioids on EML\"}}, \"colorscale\": [[0.0, \"#440154\"], [0.1111111111111111, \"#482878\"], [0.2222222222222222, \"#3e4989\"], [0.3333333333333333, \"#31688e\"], [0.4444444444444444, \"#26828e\"], [0.5555555555555556, \"#1f9e89\"], [0.6666666666666666, \"#35b779\"], [0.7777777777777778, \"#6ece58\"], [0.8888888888888888, \"#b5de2b\"], [1.0, \"#fde725\"]], \"locations\": [\"BRA\", \"KHM\", \"BGR\", \"VUT\", \"PAK\", \"NIC\", \"AGO\", \"HTI\", \"TCD\", \"KIR\", \"PNG\", \"GEO\", \"MNG\", \"UKR\", \"NIU\", \"LTU\", \"LKA\", \"VCT\", \"SOM\", \"TUV\", \"GUY\", \"KEN\", \"MRT\", \"BGD\", \"MOZ\", \"ALB\", \"SUR\", \"TLS\", \"YEM\", \"DJI\", \"BDI\", \"ARM\", \"CHN\", \"GIN\", \"RUS\", \"TJK\", \"ATG\", \"ZMB\", \"LBR\", \"NPL\", \"MLI\", \"KNA\", \"KGZ\", \"GMB\", \"ZAF\", \"GRD\", \"DOM\", \"FJI\", \"GHA\", \"MMR\", \"IND\", \"BHR\", \"SLB\", \"TZA\", \"CRI\", \"DMA\", \"LSO\", \"BTN\", \"SYC\", \"LCA\", \"LBN\", \"BIH\", \"SLV\", \"CPV\", \"PRY\", \"MYS\", \"MHL\", \"MDA\", \"MWI\", \"NRU\", \"BOL\", \"ERI\", \"UGA\", \"PRK\", \"RWA\", \"SDN\", \"URY\", \"TON\", \"SWE\", \"CHL\", \"EST\", \"IDN\", \"BWA\", \"PLW\", \"ZWE\", \"EGY\", \"NAM\", \"COL\", \"VEN\", \"TTO\", \"CAF\", \"MDG\", \"HND\", \"CUB\", \"BLZ\", \"ARG\", \"PER\", \"COK\", \"MNE\", \"BKA\", \"LVA\", \"AFG\", \"VNM\", \"JOR\", \"COG\", \"TGO\", \"NGA\", \"MAR\", \"OMN\", \"SEN\", \"DZA\", \"MDV\", \"ECU\", \"MKD\", \"COD\", \"POL\", \"PHL\", \"CIV\", \"CMR\", \"ETH\", \"BLR\", \"THA\", \"SRB\", \"PRT\", \"ROU\", \"JAM\", \"IRQ\", \"MLT\", \"MEX\", \"HRV\", \"BRB\", \"TUN\", \"SVN\", \"IRN\", \"CZE\", \"SYR\", \"SVK\"], \"marker\": {\"line\": {\"color\": \"darkgray\", \"width\": 0.5}}, \"reversescale\": false, \"text\": [\"Brazil\", \"Cambodia\", \"Bulgaria\", \"Vanuatu\", \"Pakistan\", \"Nicaragua\", \"Angola\", \"Haiti\", \"Chad\", \"Kiribati\", \"Papua New Guinea\", \"Georgia\", \"Mongolia\", \"Ukraine\", \"Niue\", \"Lithuania\", \"Sri Lanka\", \"Saint Vincent & the Grenadines\", \"Somalia\", \"Tuvalu\", \"Guyana\", \"Kenya\", \"Mauritania\", \"Bangladesh\", \"Mozambique\", \"Albania\", \"Suriname\", \"Timor-Leste\", \"Yemen\", \"Djibouti\", \"Burundi\", \"Armenia\", \"China\", \"Guinea\", \"Russian Federation\", \"Tajikistan\", \"Antigua & Barbuda\", \"Zambia\", \"Liberia\", \"Nepal\", \"Mali\", \"Saint Kitts & Nevis\", \"Kyrgyzstan\", \"Gambia\", \"South Africa\", \"Grenada\", \"Dominican Republic\", \"Fiji\", \"Ghana\", \"Myanmar\", \"India\", \"Bahrain\", \"Solomon Islands\", \"Tanzania (United Republic of)\", \"Costa Rica\", \"Dominica\", \"Lesotho\", \"Bhutan\", \"Seychelles\", \"Saint Lucia\", \"Lebanon\", \"Bosnia & Herzegovina\", \"El Salvador\", \"Cabo Verde\", \"Paraguay\", \"Malaysia\", \"Marshall Islands\", \"Moldova (the Republic of)\", \"Malawi\", \"Nauru\", \"Bolivia (Plurinational State of)\", \"Eritrea\", \"Uganda\", \"Korea (Democratic People's Republic of)\", \"Rwanda\", \"Sudan\", \"Uruguay\", \"Tonga\", \"Sweden\", \"Chile\", \"Estonia\", \"Indonesia\", \"Botswana\", \"Palau\", \"Zimbabwe\", \"Egypt\", \"Namibia\", \"Colombia\", \"Venezuela (Bolivarian Rep. of)\", \"Trinidad & Tobago\", \"Central African Republic\", \"Madagascar\", \"Honduras\", \"Cuba\", \"Belize\", \"Argentina\", \"Peru\", \"Cook Islands\", \"Montenegro\", \"Burkina Faso\", \"Latvia\", \"Afghanistan\", \"Viet Nam\", \"Jordan\", \"Congo (the)\", \"Togo\", \"Nigeria\", \"Morocco\", \"Oman\", \"Senegal\", \"Algeria\", \"Maldives\", \"Ecuador\", \"Macedonia (The former Yugoslav Rep. of )\", \"Congo (Democratic Republic of the)\", \"Poland\", \"Philippines\", \"C\\u00f4te d'Ivoire\", \"Cameroon\", \"Ethiopia\", \"Belarus\", \"Thailand\", \"Serbia\", \"Portugal\", \"Romania\", \"Jamaica\", \"Iraq\", \"Malta\", \"Mexico\", \"Croatia\", \"Barbados\", \"Tunisia\", \"Slovenia\", \"Iran (Islamic Republic of)\", \"Czechia\", \"Syrian Arab Republic\", \"Slovakia\"], \"type\": \"choropleth\", \"z\": [3, 0, 1, 3, 3, 2, 1, 2, 3, 4, 3, 3, 3, 2, 3, 2, 3, 4, 0, 3, 5, 5, 2, 1, 4, 2, 4, 3, 2, 3, 3, 3, 3, 3, 3, 4, 4, 3, 2, 2, 4, 3, 3, 3, 2, 3, 4, 4, 3, 4, 2, 4, 3, 4, 5, 3, 1, 3, 3, 3, 3, 3, 3, 5, 3, 3, 4, 5, 4, 4, 5, 3, 4, 3, 3, 2, 5, 4, 4, 5, 5, 4, 4, 4, 4, 3, 5, 4, 3, 5, 3, 3, 4, 3, 5, 4, 3, 2, 4, 5, 2, 2, 4, 5, 4, 4, 5, 5, 5, 4, 2, 4, 5, 4, 4, 4, 4, 4, 4, 5, 3, 5, 4, 5, 4, 5, 4, 5, 4, 4, 4, 4, 5, 5, 3, 3, 4]}],\n",
       "                        {\"geo\": {\"projection\": {\"type\": \"equirectangular\"}, \"showcoastlines\": false, \"showframe\": false}, \"template\": {\"data\": {\"bar\": [{\"error_x\": {\"color\": \"#2a3f5f\"}, \"error_y\": {\"color\": \"#2a3f5f\"}, \"marker\": {\"line\": {\"color\": \"#E5ECF6\", \"width\": 0.5}}, \"type\": \"bar\"}], \"barpolar\": [{\"marker\": {\"line\": {\"color\": \"#E5ECF6\", \"width\": 0.5}}, \"type\": \"barpolar\"}], \"carpet\": [{\"aaxis\": {\"endlinecolor\": \"#2a3f5f\", \"gridcolor\": \"white\", \"linecolor\": \"white\", \"minorgridcolor\": \"white\", \"startlinecolor\": \"#2a3f5f\"}, \"baxis\": {\"endlinecolor\": \"#2a3f5f\", \"gridcolor\": \"white\", \"linecolor\": \"white\", \"minorgridcolor\": \"white\", \"startlinecolor\": \"#2a3f5f\"}, \"type\": \"carpet\"}], \"choropleth\": [{\"colorbar\": {\"outlinewidth\": 0, \"ticks\": \"\"}, \"type\": \"choropleth\"}], \"contour\": [{\"colorbar\": {\"outlinewidth\": 0, \"ticks\": \"\"}, \"colorscale\": [[0.0, \"#0d0887\"], [0.1111111111111111, \"#46039f\"], [0.2222222222222222, \"#7201a8\"], [0.3333333333333333, \"#9c179e\"], [0.4444444444444444, \"#bd3786\"], [0.5555555555555556, \"#d8576b\"], [0.6666666666666666, \"#ed7953\"], [0.7777777777777778, \"#fb9f3a\"], [0.8888888888888888, \"#fdca26\"], [1.0, \"#f0f921\"]], \"type\": \"contour\"}], \"contourcarpet\": [{\"colorbar\": {\"outlinewidth\": 0, \"ticks\": \"\"}, \"type\": \"contourcarpet\"}], \"heatmap\": [{\"colorbar\": {\"outlinewidth\": 0, \"ticks\": \"\"}, \"colorscale\": [[0.0, \"#0d0887\"], [0.1111111111111111, \"#46039f\"], [0.2222222222222222, \"#7201a8\"], [0.3333333333333333, \"#9c179e\"], [0.4444444444444444, \"#bd3786\"], [0.5555555555555556, \"#d8576b\"], [0.6666666666666666, \"#ed7953\"], [0.7777777777777778, \"#fb9f3a\"], [0.8888888888888888, \"#fdca26\"], [1.0, \"#f0f921\"]], \"type\": \"heatmap\"}], \"heatmapgl\": [{\"colorbar\": {\"outlinewidth\": 0, \"ticks\": \"\"}, \"colorscale\": [[0.0, \"#0d0887\"], [0.1111111111111111, \"#46039f\"], [0.2222222222222222, \"#7201a8\"], [0.3333333333333333, \"#9c179e\"], [0.4444444444444444, \"#bd3786\"], [0.5555555555555556, \"#d8576b\"], [0.6666666666666666, \"#ed7953\"], [0.7777777777777778, \"#fb9f3a\"], [0.8888888888888888, \"#fdca26\"], [1.0, \"#f0f921\"]], \"type\": \"heatmapgl\"}], \"histogram\": [{\"marker\": {\"colorbar\": {\"outlinewidth\": 0, \"ticks\": \"\"}}, \"type\": \"histogram\"}], \"histogram2d\": [{\"colorbar\": {\"outlinewidth\": 0, \"ticks\": \"\"}, \"colorscale\": [[0.0, \"#0d0887\"], [0.1111111111111111, \"#46039f\"], [0.2222222222222222, \"#7201a8\"], [0.3333333333333333, \"#9c179e\"], [0.4444444444444444, \"#bd3786\"], [0.5555555555555556, \"#d8576b\"], [0.6666666666666666, \"#ed7953\"], [0.7777777777777778, \"#fb9f3a\"], [0.8888888888888888, \"#fdca26\"], [1.0, \"#f0f921\"]], \"type\": \"histogram2d\"}], \"histogram2dcontour\": [{\"colorbar\": {\"outlinewidth\": 0, \"ticks\": \"\"}, \"colorscale\": [[0.0, \"#0d0887\"], [0.1111111111111111, \"#46039f\"], [0.2222222222222222, \"#7201a8\"], [0.3333333333333333, \"#9c179e\"], [0.4444444444444444, \"#bd3786\"], [0.5555555555555556, \"#d8576b\"], [0.6666666666666666, \"#ed7953\"], [0.7777777777777778, \"#fb9f3a\"], [0.8888888888888888, \"#fdca26\"], [1.0, \"#f0f921\"]], \"type\": \"histogram2dcontour\"}], \"mesh3d\": [{\"colorbar\": {\"outlinewidth\": 0, \"ticks\": \"\"}, \"type\": \"mesh3d\"}], \"parcoords\": [{\"line\": {\"colorbar\": {\"outlinewidth\": 0, \"ticks\": \"\"}}, \"type\": \"parcoords\"}], \"pie\": [{\"automargin\": true, \"type\": \"pie\"}], \"scatter\": [{\"marker\": {\"colorbar\": {\"outlinewidth\": 0, \"ticks\": \"\"}}, \"type\": \"scatter\"}], \"scatter3d\": [{\"line\": {\"colorbar\": {\"outlinewidth\": 0, \"ticks\": \"\"}}, \"marker\": {\"colorbar\": {\"outlinewidth\": 0, \"ticks\": \"\"}}, \"type\": \"scatter3d\"}], \"scattercarpet\": [{\"marker\": {\"colorbar\": {\"outlinewidth\": 0, \"ticks\": \"\"}}, \"type\": \"scattercarpet\"}], \"scattergeo\": [{\"marker\": {\"colorbar\": {\"outlinewidth\": 0, \"ticks\": \"\"}}, \"type\": \"scattergeo\"}], \"scattergl\": [{\"marker\": {\"colorbar\": {\"outlinewidth\": 0, \"ticks\": \"\"}}, \"type\": \"scattergl\"}], \"scattermapbox\": [{\"marker\": {\"colorbar\": {\"outlinewidth\": 0, \"ticks\": \"\"}}, \"type\": \"scattermapbox\"}], \"scatterpolar\": [{\"marker\": {\"colorbar\": {\"outlinewidth\": 0, \"ticks\": \"\"}}, \"type\": \"scatterpolar\"}], \"scatterpolargl\": [{\"marker\": {\"colorbar\": {\"outlinewidth\": 0, \"ticks\": \"\"}}, \"type\": \"scatterpolargl\"}], \"scatterternary\": [{\"marker\": {\"colorbar\": {\"outlinewidth\": 0, \"ticks\": \"\"}}, \"type\": \"scatterternary\"}], \"surface\": [{\"colorbar\": {\"outlinewidth\": 0, \"ticks\": \"\"}, \"colorscale\": [[0.0, \"#0d0887\"], [0.1111111111111111, \"#46039f\"], [0.2222222222222222, \"#7201a8\"], [0.3333333333333333, \"#9c179e\"], [0.4444444444444444, \"#bd3786\"], [0.5555555555555556, \"#d8576b\"], [0.6666666666666666, \"#ed7953\"], [0.7777777777777778, \"#fb9f3a\"], [0.8888888888888888, \"#fdca26\"], [1.0, \"#f0f921\"]], \"type\": \"surface\"}], \"table\": [{\"cells\": {\"fill\": {\"color\": \"#EBF0F8\"}, \"line\": {\"color\": \"white\"}}, \"header\": {\"fill\": {\"color\": \"#C8D4E3\"}, \"line\": {\"color\": \"white\"}}, \"type\": \"table\"}]}, \"layout\": {\"annotationdefaults\": {\"arrowcolor\": \"#2a3f5f\", \"arrowhead\": 0, \"arrowwidth\": 1}, \"coloraxis\": {\"colorbar\": {\"outlinewidth\": 0, \"ticks\": \"\"}}, \"colorscale\": {\"diverging\": [[0, \"#8e0152\"], [0.1, \"#c51b7d\"], [0.2, \"#de77ae\"], [0.3, \"#f1b6da\"], [0.4, \"#fde0ef\"], [0.5, \"#f7f7f7\"], [0.6, \"#e6f5d0\"], [0.7, \"#b8e186\"], [0.8, \"#7fbc41\"], [0.9, \"#4d9221\"], [1, \"#276419\"]], \"sequential\": [[0.0, \"#0d0887\"], [0.1111111111111111, \"#46039f\"], [0.2222222222222222, \"#7201a8\"], [0.3333333333333333, \"#9c179e\"], [0.4444444444444444, \"#bd3786\"], [0.5555555555555556, \"#d8576b\"], [0.6666666666666666, \"#ed7953\"], [0.7777777777777778, \"#fb9f3a\"], [0.8888888888888888, \"#fdca26\"], [1.0, \"#f0f921\"]], \"sequentialminus\": [[0.0, \"#0d0887\"], [0.1111111111111111, \"#46039f\"], [0.2222222222222222, \"#7201a8\"], [0.3333333333333333, \"#9c179e\"], [0.4444444444444444, \"#bd3786\"], [0.5555555555555556, \"#d8576b\"], [0.6666666666666666, \"#ed7953\"], [0.7777777777777778, \"#fb9f3a\"], [0.8888888888888888, \"#fdca26\"], [1.0, \"#f0f921\"]]}, \"colorway\": [\"#636efa\", \"#EF553B\", \"#00cc96\", \"#ab63fa\", \"#FFA15A\", \"#19d3f3\", \"#FF6692\", \"#B6E880\", \"#FF97FF\", \"#FECB52\"], \"font\": {\"color\": \"#2a3f5f\"}, \"geo\": {\"bgcolor\": \"white\", \"lakecolor\": \"white\", \"landcolor\": \"#E5ECF6\", \"showlakes\": true, \"showland\": true, \"subunitcolor\": \"white\"}, \"hoverlabel\": {\"align\": \"left\"}, \"hovermode\": \"closest\", \"mapbox\": {\"style\": \"light\"}, \"paper_bgcolor\": \"white\", \"plot_bgcolor\": \"#E5ECF6\", \"polar\": {\"angularaxis\": {\"gridcolor\": \"white\", \"linecolor\": \"white\", \"ticks\": \"\"}, \"bgcolor\": \"#E5ECF6\", \"radialaxis\": {\"gridcolor\": \"white\", \"linecolor\": \"white\", \"ticks\": \"\"}}, \"scene\": {\"xaxis\": {\"backgroundcolor\": \"#E5ECF6\", \"gridcolor\": \"white\", \"gridwidth\": 2, \"linecolor\": \"white\", \"showbackground\": true, \"ticks\": \"\", \"zerolinecolor\": \"white\"}, \"yaxis\": {\"backgroundcolor\": \"#E5ECF6\", \"gridcolor\": \"white\", \"gridwidth\": 2, \"linecolor\": \"white\", \"showbackground\": true, \"ticks\": \"\", \"zerolinecolor\": \"white\"}, \"zaxis\": {\"backgroundcolor\": \"#E5ECF6\", \"gridcolor\": \"white\", \"gridwidth\": 2, \"linecolor\": \"white\", \"showbackground\": true, \"ticks\": \"\", \"zerolinecolor\": \"white\"}}, \"shapedefaults\": {\"line\": {\"color\": \"#2a3f5f\"}}, \"ternary\": {\"aaxis\": {\"gridcolor\": \"white\", \"linecolor\": \"white\", \"ticks\": \"\"}, \"baxis\": {\"gridcolor\": \"white\", \"linecolor\": \"white\", \"ticks\": \"\"}, \"bgcolor\": \"#E5ECF6\", \"caxis\": {\"gridcolor\": \"white\", \"linecolor\": \"white\", \"ticks\": \"\"}}, \"title\": {\"x\": 0.05}, \"xaxis\": {\"automargin\": true, \"gridcolor\": \"white\", \"linecolor\": \"white\", \"ticks\": \"\", \"title\": {\"standoff\": 15}, \"zerolinecolor\": \"white\", \"zerolinewidth\": 2}, \"yaxis\": {\"automargin\": true, \"gridcolor\": \"white\", \"linecolor\": \"white\", \"ticks\": \"\", \"title\": {\"standoff\": 15}, \"zerolinecolor\": \"white\", \"zerolinewidth\": 2}}}},\n",
       "                        {\"responsive\": true}\n",
       "                    ).then(function(){\n",
       "                            \n",
       "var gd = document.getElementById('9bffdd56-7dab-4ae8-b149-101c011d2f24');\n",
       "var x = new MutationObserver(function (mutations, observer) {{\n",
       "        var display = window.getComputedStyle(gd).display;\n",
       "        if (!display || display === 'none') {{\n",
       "            console.log([gd, 'removed!']);\n",
       "            Plotly.purge(gd);\n",
       "            observer.disconnect();\n",
       "        }}\n",
       "}});\n",
       "\n",
       "// Listen for the removal of the full notebook cells\n",
       "var notebookContainer = gd.closest('#notebook-container');\n",
       "if (notebookContainer) {{\n",
       "    x.observe(notebookContainer, {childList: true});\n",
       "}}\n",
       "\n",
       "// Listen for the clearing of the current output cell\n",
       "var outputEl = gd.closest('.output');\n",
       "if (outputEl) {{\n",
       "    x.observe(outputEl, {childList: true});\n",
       "}}\n",
       "\n",
       "                        })\n",
       "                };\n",
       "                });\n",
       "            </script>\n",
       "        </div>"
      ]
     },
     "metadata": {},
     "output_type": "display_data"
    }
   ],
   "source": [
    "data3 = [go.Choropleth(\n",
    "    locations = df['Country_IOS2'],\n",
    "    z = df['who_opioids'],\n",
    "    text = df['Country'],\n",
    "    autocolorscale=False,\n",
    "    reversescale=False,\n",
    "    marker_line_color='darkgray',\n",
    "    marker_line_width=0.5,\n",
    "    colorscale ='Viridis',\n",
    "    colorbar=dict(\n",
    "        title=\"WHO opioids on EML\",\n",
    "        tickvals=[1, 2, 3, 4, 5, 6],\n",
    "        ticktext=[\"0-1\", \"2\", \"3\", \"4\", \"5\"],\n",
    "        ticks=\"outside\"),\n",
    ")]\n",
    "\n",
    "layout3 = go.Layout(\n",
    "    geo = go.layout.Geo(\n",
    "        showframe=False,\n",
    "        showcoastlines=False,\n",
    "        projection_type='equirectangular'),\n",
    "    )\n",
    "\n",
    "fig3 = go.Figure(data = data3, layout = layout3)\n",
    "\n",
    "fig3.show()"
   ]
  },
  {
   "cell_type": "markdown",
   "metadata": {},
   "source": [
    "# Saving image for journal publication"
   ]
  },
  {
   "cell_type": "markdown",
   "metadata": {},
   "source": [
    "TBC - add packages to requirements, try code again, if errors & no success in resolving errors then ask Caroline"
   ]
  },
  {
   "cell_type": "code",
   "execution_count": 10,
   "metadata": {},
   "outputs": [],
   "source": [
    "# ask Caroline about DASH to convert plotly figure to web-based applications? "
   ]
  },
  {
   "cell_type": "code",
   "execution_count": 11,
   "metadata": {},
   "outputs": [],
   "source": [
    "# trying to save these images as static files: https://plot.ly/python/static-image-export/ \n",
    "import os\n",
    "if not os.path.exists(\"images\"):\n",
    "    os.mkdir(\"images\")\n",
    "    \n",
    "#find a way to render when showing the figure "
   ]
  },
  {
   "cell_type": "code",
   "execution_count": 12,
   "metadata": {},
   "outputs": [
    {
     "ename": "ValueError",
     "evalue": "\nThe orca executable is required to export figures as static images,\nbut it could not be found on the system path.\n\nSearched for executable 'orca' on the following path:\n    /Users/carolinemorton/anaconda3/bin\n    /Users/carolinemorton/anaconda3/bin\n    /Library/Frameworks/Python.framework/Versions/3.6/bin\n    /usr/local/bin\n    /usr/bin\n    /bin\n    /usr/sbin\n    /sbin\n    /Library/TeX/texbin\n    /usr/local/share/dotnet\n    /opt/X11/bin\n    /Library/Frameworks/Mono.framework/Versions/Current/Commands\n    /Applications/Xamarin Workbooks.app/Contents/SharedSupport/path-bin\n\nIf you haven't installed orca yet, you can do so using conda as follows:\n\n    $ conda install -c plotly plotly-orca\n\nAlternatively, see other installation methods in the orca project README at\nhttps://github.com/plotly/orca\n\nAfter installation is complete, no further configuration should be needed.\n\nIf you have installed orca, then for some reason plotly.py was unable to\nlocate it. In this case, set the `plotly.io.orca.config.executable`\nproperty to the full path of your orca executable. For example:\n\n    >>> plotly.io.orca.config.executable = '/path/to/orca'\n\nAfter updating this executable property, try the export operation again.\nIf it is successful then you may want to save this configuration so that it\nwill be applied automatically in future sessions. You can do this as follows:\n\n    >>> plotly.io.orca.config.save()\n\nIf you're still having trouble, feel free to ask for help on the forums at\nhttps://community.plot.ly/c/api/python\n",
     "output_type": "error",
     "traceback": [
      "\u001b[0;31m---------------------------------------------------------------------------\u001b[0m",
      "\u001b[0;31mValueError\u001b[0m                                Traceback (most recent call last)",
      "\u001b[0;32m<ipython-input-12-569c98e6fd60>\u001b[0m in \u001b[0;36m<module>\u001b[0;34m()\u001b[0m\n\u001b[0;32m----> 1\u001b[0;31m \u001b[0mfig2\u001b[0m\u001b[0;34m.\u001b[0m\u001b[0mwrite_image\u001b[0m\u001b[0;34m(\u001b[0m\u001b[0;34m\"images/opconsum_map.jpeg\"\u001b[0m\u001b[0;34m)\u001b[0m\u001b[0;34m\u001b[0m\u001b[0;34m\u001b[0m\u001b[0m\n\u001b[0m",
      "\u001b[0;32m~/anaconda3/lib/python3.6/site-packages/plotly/basedatatypes.py\u001b[0m in \u001b[0;36mwrite_image\u001b[0;34m(self, *args, **kwargs)\u001b[0m\n\u001b[1;32m   2822\u001b[0m         \u001b[0;32mimport\u001b[0m \u001b[0mplotly\u001b[0m\u001b[0;34m.\u001b[0m\u001b[0mio\u001b[0m \u001b[0;32mas\u001b[0m \u001b[0mpio\u001b[0m\u001b[0;34m\u001b[0m\u001b[0;34m\u001b[0m\u001b[0m\n\u001b[1;32m   2823\u001b[0m \u001b[0;34m\u001b[0m\u001b[0m\n\u001b[0;32m-> 2824\u001b[0;31m         \u001b[0;32mreturn\u001b[0m \u001b[0mpio\u001b[0m\u001b[0;34m.\u001b[0m\u001b[0mwrite_image\u001b[0m\u001b[0;34m(\u001b[0m\u001b[0mself\u001b[0m\u001b[0;34m,\u001b[0m \u001b[0;34m*\u001b[0m\u001b[0margs\u001b[0m\u001b[0;34m,\u001b[0m \u001b[0;34m**\u001b[0m\u001b[0mkwargs\u001b[0m\u001b[0;34m)\u001b[0m\u001b[0;34m\u001b[0m\u001b[0;34m\u001b[0m\u001b[0m\n\u001b[0m\u001b[1;32m   2825\u001b[0m \u001b[0;34m\u001b[0m\u001b[0m\n\u001b[1;32m   2826\u001b[0m     \u001b[0;31m# Static helpers\u001b[0m\u001b[0;34m\u001b[0m\u001b[0;34m\u001b[0m\u001b[0;34m\u001b[0m\u001b[0m\n",
      "\u001b[0;32m~/anaconda3/lib/python3.6/site-packages/plotly/io/_orca.py\u001b[0m in \u001b[0;36mwrite_image\u001b[0;34m(fig, file, format, scale, width, height, validate)\u001b[0m\n\u001b[1;32m   1765\u001b[0m     \u001b[0;31m# Do this first so we don't create a file if image conversion fails\u001b[0m\u001b[0;34m\u001b[0m\u001b[0;34m\u001b[0m\u001b[0;34m\u001b[0m\u001b[0m\n\u001b[1;32m   1766\u001b[0m     img_data = to_image(\n\u001b[0;32m-> 1767\u001b[0;31m         \u001b[0mfig\u001b[0m\u001b[0;34m,\u001b[0m \u001b[0mformat\u001b[0m\u001b[0;34m=\u001b[0m\u001b[0mformat\u001b[0m\u001b[0;34m,\u001b[0m \u001b[0mscale\u001b[0m\u001b[0;34m=\u001b[0m\u001b[0mscale\u001b[0m\u001b[0;34m,\u001b[0m \u001b[0mwidth\u001b[0m\u001b[0;34m=\u001b[0m\u001b[0mwidth\u001b[0m\u001b[0;34m,\u001b[0m \u001b[0mheight\u001b[0m\u001b[0;34m=\u001b[0m\u001b[0mheight\u001b[0m\u001b[0;34m,\u001b[0m \u001b[0mvalidate\u001b[0m\u001b[0;34m=\u001b[0m\u001b[0mvalidate\u001b[0m\u001b[0;34m\u001b[0m\u001b[0;34m\u001b[0m\u001b[0m\n\u001b[0m\u001b[1;32m   1768\u001b[0m     )\n\u001b[1;32m   1769\u001b[0m \u001b[0;34m\u001b[0m\u001b[0m\n",
      "\u001b[0;32m~/anaconda3/lib/python3.6/site-packages/plotly/io/_orca.py\u001b[0m in \u001b[0;36mto_image\u001b[0;34m(fig, format, width, height, scale, validate)\u001b[0m\n\u001b[1;32m   1530\u001b[0m     \u001b[0;31m# Make sure orca sever is running\u001b[0m\u001b[0;34m\u001b[0m\u001b[0;34m\u001b[0m\u001b[0;34m\u001b[0m\u001b[0m\n\u001b[1;32m   1531\u001b[0m     \u001b[0;31m# -------------------------------\u001b[0m\u001b[0;34m\u001b[0m\u001b[0;34m\u001b[0m\u001b[0;34m\u001b[0m\u001b[0m\n\u001b[0;32m-> 1532\u001b[0;31m     \u001b[0mensure_server\u001b[0m\u001b[0;34m(\u001b[0m\u001b[0;34m)\u001b[0m\u001b[0;34m\u001b[0m\u001b[0;34m\u001b[0m\u001b[0m\n\u001b[0m\u001b[1;32m   1533\u001b[0m \u001b[0;34m\u001b[0m\u001b[0m\n\u001b[1;32m   1534\u001b[0m     \u001b[0;31m# Handle defaults\u001b[0m\u001b[0;34m\u001b[0m\u001b[0;34m\u001b[0m\u001b[0;34m\u001b[0m\u001b[0m\n",
      "\u001b[0;32m~/anaconda3/lib/python3.6/site-packages/plotly/io/_orca.py\u001b[0m in \u001b[0;36mensure_server\u001b[0;34m()\u001b[0m\n\u001b[1;32m   1388\u001b[0m         \u001b[0;31m# Validate orca executable only if server_url is not provided\u001b[0m\u001b[0;34m\u001b[0m\u001b[0;34m\u001b[0m\u001b[0;34m\u001b[0m\u001b[0m\n\u001b[1;32m   1389\u001b[0m         \u001b[0;32mif\u001b[0m \u001b[0mstatus\u001b[0m\u001b[0;34m.\u001b[0m\u001b[0mstate\u001b[0m \u001b[0;34m==\u001b[0m \u001b[0;34m\"unvalidated\"\u001b[0m\u001b[0;34m:\u001b[0m\u001b[0;34m\u001b[0m\u001b[0;34m\u001b[0m\u001b[0m\n\u001b[0;32m-> 1390\u001b[0;31m             \u001b[0mvalidate_executable\u001b[0m\u001b[0;34m(\u001b[0m\u001b[0;34m)\u001b[0m\u001b[0;34m\u001b[0m\u001b[0;34m\u001b[0m\u001b[0m\n\u001b[0m\u001b[1;32m   1391\u001b[0m         \u001b[0;31m# Acquire lock to make sure that we keep the properties of orca_state\u001b[0m\u001b[0;34m\u001b[0m\u001b[0;34m\u001b[0m\u001b[0;34m\u001b[0m\u001b[0m\n\u001b[1;32m   1392\u001b[0m         \u001b[0;31m# consistent across threads\u001b[0m\u001b[0;34m\u001b[0m\u001b[0;34m\u001b[0m\u001b[0;34m\u001b[0m\u001b[0m\n",
      "\u001b[0;32m~/anaconda3/lib/python3.6/site-packages/plotly/io/_orca.py\u001b[0m in \u001b[0;36mvalidate_executable\u001b[0;34m()\u001b[0m\n\u001b[1;32m   1085\u001b[0m                 \u001b[0mexecutable\u001b[0m\u001b[0;34m=\u001b[0m\u001b[0mconfig\u001b[0m\u001b[0;34m.\u001b[0m\u001b[0mexecutable\u001b[0m\u001b[0;34m,\u001b[0m\u001b[0;34m\u001b[0m\u001b[0;34m\u001b[0m\u001b[0m\n\u001b[1;32m   1086\u001b[0m                 \u001b[0mformatted_path\u001b[0m\u001b[0;34m=\u001b[0m\u001b[0mformatted_path\u001b[0m\u001b[0;34m,\u001b[0m\u001b[0;34m\u001b[0m\u001b[0;34m\u001b[0m\u001b[0m\n\u001b[0;32m-> 1087\u001b[0;31m                 \u001b[0minstructions\u001b[0m\u001b[0;34m=\u001b[0m\u001b[0minstall_location_instructions\u001b[0m\u001b[0;34m,\u001b[0m\u001b[0;34m\u001b[0m\u001b[0;34m\u001b[0m\u001b[0m\n\u001b[0m\u001b[1;32m   1088\u001b[0m             )\n\u001b[1;32m   1089\u001b[0m         )\n",
      "\u001b[0;31mValueError\u001b[0m: \nThe orca executable is required to export figures as static images,\nbut it could not be found on the system path.\n\nSearched for executable 'orca' on the following path:\n    /Users/carolinemorton/anaconda3/bin\n    /Users/carolinemorton/anaconda3/bin\n    /Library/Frameworks/Python.framework/Versions/3.6/bin\n    /usr/local/bin\n    /usr/bin\n    /bin\n    /usr/sbin\n    /sbin\n    /Library/TeX/texbin\n    /usr/local/share/dotnet\n    /opt/X11/bin\n    /Library/Frameworks/Mono.framework/Versions/Current/Commands\n    /Applications/Xamarin Workbooks.app/Contents/SharedSupport/path-bin\n\nIf you haven't installed orca yet, you can do so using conda as follows:\n\n    $ conda install -c plotly plotly-orca\n\nAlternatively, see other installation methods in the orca project README at\nhttps://github.com/plotly/orca\n\nAfter installation is complete, no further configuration should be needed.\n\nIf you have installed orca, then for some reason plotly.py was unable to\nlocate it. In this case, set the `plotly.io.orca.config.executable`\nproperty to the full path of your orca executable. For example:\n\n    >>> plotly.io.orca.config.executable = '/path/to/orca'\n\nAfter updating this executable property, try the export operation again.\nIf it is successful then you may want to save this configuration so that it\nwill be applied automatically in future sessions. You can do this as follows:\n\n    >>> plotly.io.orca.config.save()\n\nIf you're still having trouble, feel free to ask for help on the forums at\nhttps://community.plot.ly/c/api/python\n"
     ]
    }
   ],
   "source": [
    "fig2.write_image(\"images/opconsum_map.jpeg\")"
   ]
  },
  {
   "cell_type": "code",
   "execution_count": null,
   "metadata": {},
   "outputs": [],
   "source": [
    "fig2.write_image(\"images/opconsum_map.png\")"
   ]
  },
  {
   "cell_type": "code",
   "execution_count": null,
   "metadata": {},
   "outputs": [],
   "source": [
    "fig2.write_image(\"images/opconsum_map.tif\")"
   ]
  },
  {
   "cell_type": "code",
   "execution_count": null,
   "metadata": {},
   "outputs": [],
   "source": [
    "# when I know how the journal needs the figures \n",
    "img_bytes = fig2.to_image(format=\"png\", width=600, height=350, scale=2)\n",
    "Image(img_bytes)"
   ]
  }
 ],
 "metadata": {
  "kernelspec": {
   "display_name": "Python 3",
   "language": "python",
   "name": "python3"
  },
  "language_info": {
   "codemirror_mode": {
    "name": "ipython",
    "version": 3
   },
   "file_extension": ".py",
   "mimetype": "text/x-python",
   "name": "python",
   "nbconvert_exporter": "python",
   "pygments_lexer": "ipython3",
   "version": "3.6.8"
  }
 },
 "nbformat": 4,
 "nbformat_minor": 2
}
