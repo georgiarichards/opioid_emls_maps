{
 "cells": [
  {
   "cell_type": "markdown",
   "metadata": {},
   "source": [
    "# Global opioid consumption 2015-2017: part of the research study by Richards et al. \n"
   ]
  },
  {
   "cell_type": "markdown",
   "metadata": {},
   "source": [
    "The aim of our study is to determine the value and utility of national essential medicines lists (EMLs) in promoting global access to opioids. Our objectives are: \n",
    "1. to measure the variation in global opioid consumption,\n",
    "2. to compare opioids listed in the 2017 WHO Model EML with the opioids listed in the 137 national EMLs,\n",
    "3. to assess the association between national opioid consumption and listings in EMLs, and\n",
    "4. to assess whether certain country characteristics explain the variations in opioid consumption and the listings of opioids in EMLs. \n",
    "\n",
    "This Notebook addresses our first aim. \n",
    "\n",
    "Methods<br>\n",
    "We obtained the most up-to-date global opioid consumption data from the International Narcotics Control Board (INCB)  (2015-17), reported in kilograms (kg). We extracted total opioid consumption for 2015, 2016, and 2017 for each available country. We calculate annual mean (2015-17) consumption of opioids for each country. We then converted the unit of consumption from an annual mean (kg) to an annual mean in kg per 100,000 population, using 2016 population data from the WHO Global Health Observatory. We visualised the data and calculated 10 quantiles in Stata 16 to create the colour spectrum for the choropleth map displayed in this Notebook."
   ]
  },
  {
   "cell_type": "markdown",
   "metadata": {},
   "source": [
    "# Import packages for graphs"
   ]
  },
  {
   "cell_type": "code",
   "execution_count": 32,
   "metadata": {},
   "outputs": [],
   "source": [
    "# import module for handling datasets/dataframes and manipulating data\n",
    "import pandas as pd\n",
    "\n",
    "# import module for the numeric python library\n",
    "import numpy as np\n",
    "\n",
    "# import module for graphing & visualising data\n",
    "import plotly.express as px\n",
    "import plotly.graph_objects as go"
   ]
  },
  {
   "cell_type": "markdown",
   "metadata": {},
   "source": [
    "# Import data for graphs"
   ]
  },
  {
   "cell_type": "code",
   "execution_count": 20,
   "metadata": {},
   "outputs": [],
   "source": [
    "# import my data \n",
    "df=pd.read_csv(filepath_or_buffer=\"opioidconsum_maps_2.csv\")"
   ]
  },
  {
   "cell_type": "code",
   "execution_count": 21,
   "metadata": {},
   "outputs": [
    {
     "data": {
      "text/html": [
       "<div>\n",
       "<style scoped>\n",
       "    .dataframe tbody tr th:only-of-type {\n",
       "        vertical-align: middle;\n",
       "    }\n",
       "\n",
       "    .dataframe tbody tr th {\n",
       "        vertical-align: top;\n",
       "    }\n",
       "\n",
       "    .dataframe thead th {\n",
       "        text-align: right;\n",
       "    }\n",
       "</style>\n",
       "<table border=\"1\" class=\"dataframe\">\n",
       "  <thead>\n",
       "    <tr style=\"text-align: right;\">\n",
       "      <th></th>\n",
       "      <th>Country</th>\n",
       "      <th>country_ISO</th>\n",
       "      <th>Sub_region</th>\n",
       "      <th>Region</th>\n",
       "      <th>meanop_pop</th>\n",
       "      <th>meanDiphen_pop</th>\n",
       "      <th>meanDifen_pop</th>\n",
       "      <th>meanFent_pop</th>\n",
       "      <th>meanAlfent_pop</th>\n",
       "      <th>meanSufent_pop</th>\n",
       "      <th>...</th>\n",
       "      <th>meanPethidine_pop</th>\n",
       "      <th>meanPiritramide_pop</th>\n",
       "      <th>meanDextro_pop</th>\n",
       "      <th>meanTilid_pop</th>\n",
       "      <th>meanMeth_pop</th>\n",
       "      <th>meanDiamorph_pop</th>\n",
       "      <th>meanHydrocod_pop</th>\n",
       "      <th>meanCodeine_pop</th>\n",
       "      <th>meanPholcod_pop</th>\n",
       "      <th>10 quantiles of meanop_pop</th>\n",
       "    </tr>\n",
       "  </thead>\n",
       "  <tbody>\n",
       "    <tr>\n",
       "      <th>0</th>\n",
       "      <td>Afghanistan</td>\n",
       "      <td>AFG</td>\n",
       "      <td>Asia (west)</td>\n",
       "      <td>Asia</td>\n",
       "      <td>0.0</td>\n",
       "      <td>0.0</td>\n",
       "      <td>NaN</td>\n",
       "      <td>0.0</td>\n",
       "      <td>NaN</td>\n",
       "      <td>NaN</td>\n",
       "      <td>...</td>\n",
       "      <td>0.0</td>\n",
       "      <td>NaN</td>\n",
       "      <td>0.0</td>\n",
       "      <td>NaN</td>\n",
       "      <td>0.0</td>\n",
       "      <td>0.0</td>\n",
       "      <td>NaN</td>\n",
       "      <td>0.0</td>\n",
       "      <td>0.0</td>\n",
       "      <td>4.0</td>\n",
       "    </tr>\n",
       "    <tr>\n",
       "      <th>1</th>\n",
       "      <td>Albania</td>\n",
       "      <td>ALB</td>\n",
       "      <td>Europe (south eastern)</td>\n",
       "      <td>Europe</td>\n",
       "      <td>1.0</td>\n",
       "      <td>NaN</td>\n",
       "      <td>NaN</td>\n",
       "      <td>0.0</td>\n",
       "      <td>NaN</td>\n",
       "      <td>0.0</td>\n",
       "      <td>...</td>\n",
       "      <td>0.0</td>\n",
       "      <td>NaN</td>\n",
       "      <td>0.0</td>\n",
       "      <td>NaN</td>\n",
       "      <td>0.0</td>\n",
       "      <td>0.0</td>\n",
       "      <td>NaN</td>\n",
       "      <td>0.0</td>\n",
       "      <td>0.0</td>\n",
       "      <td>6.0</td>\n",
       "    </tr>\n",
       "    <tr>\n",
       "      <th>2</th>\n",
       "      <td>Algeria</td>\n",
       "      <td>DZA</td>\n",
       "      <td>Africa</td>\n",
       "      <td>Africa</td>\n",
       "      <td>0.0</td>\n",
       "      <td>NaN</td>\n",
       "      <td>NaN</td>\n",
       "      <td>0.0</td>\n",
       "      <td>0.0</td>\n",
       "      <td>0.0</td>\n",
       "      <td>...</td>\n",
       "      <td>0.0</td>\n",
       "      <td>NaN</td>\n",
       "      <td>NaN</td>\n",
       "      <td>NaN</td>\n",
       "      <td>0.0</td>\n",
       "      <td>NaN</td>\n",
       "      <td>NaN</td>\n",
       "      <td>0.0</td>\n",
       "      <td>0.0</td>\n",
       "      <td>3.0</td>\n",
       "    </tr>\n",
       "    <tr>\n",
       "      <th>3</th>\n",
       "      <td>Andorra</td>\n",
       "      <td>AND</td>\n",
       "      <td>Europe (west)</td>\n",
       "      <td>Europe</td>\n",
       "      <td>2.0</td>\n",
       "      <td>NaN</td>\n",
       "      <td>NaN</td>\n",
       "      <td>0.0</td>\n",
       "      <td>NaN</td>\n",
       "      <td>NaN</td>\n",
       "      <td>...</td>\n",
       "      <td>0.0</td>\n",
       "      <td>NaN</td>\n",
       "      <td>NaN</td>\n",
       "      <td>NaN</td>\n",
       "      <td>0.0</td>\n",
       "      <td>0.0</td>\n",
       "      <td>NaN</td>\n",
       "      <td>NaN</td>\n",
       "      <td>NaN</td>\n",
       "      <td>8.0</td>\n",
       "    </tr>\n",
       "    <tr>\n",
       "      <th>4</th>\n",
       "      <td>Angola</td>\n",
       "      <td>AGO</td>\n",
       "      <td>Africa</td>\n",
       "      <td>Africa</td>\n",
       "      <td>0.0</td>\n",
       "      <td>0.0</td>\n",
       "      <td>NaN</td>\n",
       "      <td>0.0</td>\n",
       "      <td>0.0</td>\n",
       "      <td>0.0</td>\n",
       "      <td>...</td>\n",
       "      <td>0.0</td>\n",
       "      <td>NaN</td>\n",
       "      <td>0.0</td>\n",
       "      <td>NaN</td>\n",
       "      <td>NaN</td>\n",
       "      <td>NaN</td>\n",
       "      <td>NaN</td>\n",
       "      <td>0.0</td>\n",
       "      <td>NaN</td>\n",
       "      <td>2.0</td>\n",
       "    </tr>\n",
       "  </tbody>\n",
       "</table>\n",
       "<p>5 rows × 27 columns</p>\n",
       "</div>"
      ],
      "text/plain": [
       "       Country country_ISO              Sub_region  Region  meanop_pop  \\\n",
       "0  Afghanistan         AFG             Asia (west)    Asia         0.0   \n",
       "1      Albania         ALB  Europe (south eastern)  Europe         1.0   \n",
       "2      Algeria         DZA                  Africa  Africa         0.0   \n",
       "3      Andorra         AND           Europe (west)  Europe         2.0   \n",
       "4       Angola         AGO                  Africa  Africa         0.0   \n",
       "\n",
       "   meanDiphen_pop  meanDifen_pop  meanFent_pop  meanAlfent_pop  \\\n",
       "0             0.0            NaN           0.0             NaN   \n",
       "1             NaN            NaN           0.0             NaN   \n",
       "2             NaN            NaN           0.0             0.0   \n",
       "3             NaN            NaN           0.0             NaN   \n",
       "4             0.0            NaN           0.0             0.0   \n",
       "\n",
       "   meanSufent_pop  ...  meanPethidine_pop  meanPiritramide_pop  \\\n",
       "0             NaN  ...                0.0                  NaN   \n",
       "1             0.0  ...                0.0                  NaN   \n",
       "2             0.0  ...                0.0                  NaN   \n",
       "3             NaN  ...                0.0                  NaN   \n",
       "4             0.0  ...                0.0                  NaN   \n",
       "\n",
       "   meanDextro_pop  meanTilid_pop  meanMeth_pop  meanDiamorph_pop  \\\n",
       "0             0.0            NaN           0.0               0.0   \n",
       "1             0.0            NaN           0.0               0.0   \n",
       "2             NaN            NaN           0.0               NaN   \n",
       "3             NaN            NaN           0.0               0.0   \n",
       "4             0.0            NaN           NaN               NaN   \n",
       "\n",
       "   meanHydrocod_pop  meanCodeine_pop  meanPholcod_pop  \\\n",
       "0               NaN              0.0              0.0   \n",
       "1               NaN              0.0              0.0   \n",
       "2               NaN              0.0              0.0   \n",
       "3               NaN              NaN              NaN   \n",
       "4               NaN              0.0              NaN   \n",
       "\n",
       "   10 quantiles of meanop_pop  \n",
       "0                         4.0  \n",
       "1                         6.0  \n",
       "2                         3.0  \n",
       "3                         8.0  \n",
       "4                         2.0  \n",
       "\n",
       "[5 rows x 27 columns]"
      ]
     },
     "execution_count": 21,
     "metadata": {},
     "output_type": "execute_result"
    }
   ],
   "source": [
    "df.head()"
   ]
  },
  {
   "cell_type": "code",
   "execution_count": 24,
   "metadata": {
    "scrolled": true
   },
   "outputs": [
    {
     "name": "stdout",
     "output_type": "stream",
     "text": [
      "<class 'pandas.core.frame.DataFrame'>\n",
      "RangeIndex: 218 entries, 0 to 217\n",
      "Data columns (total 27 columns):\n",
      "Country                       218 non-null object\n",
      "country_ISO                   218 non-null object\n",
      "Sub_region                    218 non-null object\n",
      "Region                        218 non-null object\n",
      "meanop_pop                    214 non-null float64\n",
      "meanDiphen_pop                66 non-null float64\n",
      "meanDifen_pop                 18 non-null float64\n",
      "meanFent_pop                  213 non-null float64\n",
      "meanAlfent_pop                108 non-null float64\n",
      "meanSufent_pop                102 non-null float64\n",
      "meanRemifent_pop              127 non-null float64\n",
      "meanTrimeper_pop              21 non-null float64\n",
      "meanMorphine_pop              213 non-null float64\n",
      "meanOpium_pop                 87 non-null float64\n",
      "meanHydromorph_pop            91 non-null float64\n",
      "meanOxycodone_pop             146 non-null float64\n",
      "meanDihydrocod_pop            96 non-null float64\n",
      "meanPethidine_pop             196 non-null float64\n",
      "meanPiritramide_pop           31 non-null float64\n",
      "meanDextro_pop                79 non-null float64\n",
      "meanTilid_pop                 46 non-null float64\n",
      "meanMeth_pop                  147 non-null float64\n",
      "meanDiamorph_pop              121 non-null float64\n",
      "meanHydrocod_pop              84 non-null float64\n",
      "meanCodeine_pop               203 non-null float64\n",
      "meanPholcod_pop               75 non-null float64\n",
      "10 quantiles of meanop_pop    214 non-null float64\n",
      "dtypes: float64(23), object(4)\n",
      "memory usage: 46.1+ KB\n"
     ]
    }
   ],
   "source": [
    "# to see what data is in the dataset (column names)\n",
    "df.info()"
   ]
  },
  {
   "cell_type": "code",
   "execution_count": 23,
   "metadata": {},
   "outputs": [
    {
     "data": {
      "text/html": [
       "<div>\n",
       "<style scoped>\n",
       "    .dataframe tbody tr th:only-of-type {\n",
       "        vertical-align: middle;\n",
       "    }\n",
       "\n",
       "    .dataframe tbody tr th {\n",
       "        vertical-align: top;\n",
       "    }\n",
       "\n",
       "    .dataframe thead th {\n",
       "        text-align: right;\n",
       "    }\n",
       "</style>\n",
       "<table border=\"1\" class=\"dataframe\">\n",
       "  <thead>\n",
       "    <tr style=\"text-align: right;\">\n",
       "      <th></th>\n",
       "      <th>meanop_pop</th>\n",
       "      <th>meanDiphen_pop</th>\n",
       "      <th>meanDifen_pop</th>\n",
       "      <th>meanFent_pop</th>\n",
       "      <th>meanAlfent_pop</th>\n",
       "      <th>meanSufent_pop</th>\n",
       "      <th>meanRemifent_pop</th>\n",
       "      <th>meanTrimeper_pop</th>\n",
       "      <th>meanMorphine_pop</th>\n",
       "      <th>meanOpium_pop</th>\n",
       "      <th>...</th>\n",
       "      <th>meanPethidine_pop</th>\n",
       "      <th>meanPiritramide_pop</th>\n",
       "      <th>meanDextro_pop</th>\n",
       "      <th>meanTilid_pop</th>\n",
       "      <th>meanMeth_pop</th>\n",
       "      <th>meanDiamorph_pop</th>\n",
       "      <th>meanHydrocod_pop</th>\n",
       "      <th>meanCodeine_pop</th>\n",
       "      <th>meanPholcod_pop</th>\n",
       "      <th>10 quantiles of meanop_pop</th>\n",
       "    </tr>\n",
       "  </thead>\n",
       "  <tbody>\n",
       "    <tr>\n",
       "      <th>count</th>\n",
       "      <td>214.000000</td>\n",
       "      <td>66.0</td>\n",
       "      <td>18.0</td>\n",
       "      <td>213.000000</td>\n",
       "      <td>108.0</td>\n",
       "      <td>102.0</td>\n",
       "      <td>127.0</td>\n",
       "      <td>21.0</td>\n",
       "      <td>213.000000</td>\n",
       "      <td>87.000000</td>\n",
       "      <td>...</td>\n",
       "      <td>196.000000</td>\n",
       "      <td>31.0</td>\n",
       "      <td>79.0</td>\n",
       "      <td>46.000000</td>\n",
       "      <td>147.000000</td>\n",
       "      <td>121.000000</td>\n",
       "      <td>84.000000</td>\n",
       "      <td>203.000000</td>\n",
       "      <td>75.000000</td>\n",
       "      <td>214.000000</td>\n",
       "    </tr>\n",
       "    <tr>\n",
       "      <th>mean</th>\n",
       "      <td>2.373832</td>\n",
       "      <td>0.0</td>\n",
       "      <td>0.0</td>\n",
       "      <td>1.657277</td>\n",
       "      <td>0.0</td>\n",
       "      <td>0.0</td>\n",
       "      <td>0.0</td>\n",
       "      <td>0.0</td>\n",
       "      <td>0.441315</td>\n",
       "      <td>0.057471</td>\n",
       "      <td>...</td>\n",
       "      <td>0.061224</td>\n",
       "      <td>0.0</td>\n",
       "      <td>0.0</td>\n",
       "      <td>1.326087</td>\n",
       "      <td>0.619048</td>\n",
       "      <td>0.041322</td>\n",
       "      <td>0.119048</td>\n",
       "      <td>0.305419</td>\n",
       "      <td>0.013333</td>\n",
       "      <td>5.443925</td>\n",
       "    </tr>\n",
       "    <tr>\n",
       "      <th>std</th>\n",
       "      <td>6.658009</td>\n",
       "      <td>0.0</td>\n",
       "      <td>0.0</td>\n",
       "      <td>24.187161</td>\n",
       "      <td>0.0</td>\n",
       "      <td>0.0</td>\n",
       "      <td>0.0</td>\n",
       "      <td>0.0</td>\n",
       "      <td>1.830708</td>\n",
       "      <td>0.440832</td>\n",
       "      <td>...</td>\n",
       "      <td>0.260820</td>\n",
       "      <td>0.0</td>\n",
       "      <td>0.0</td>\n",
       "      <td>6.088438</td>\n",
       "      <td>1.320717</td>\n",
       "      <td>0.299908</td>\n",
       "      <td>1.091089</td>\n",
       "      <td>2.607172</td>\n",
       "      <td>0.115470</td>\n",
       "      <td>2.958895</td>\n",
       "    </tr>\n",
       "    <tr>\n",
       "      <th>min</th>\n",
       "      <td>0.000000</td>\n",
       "      <td>0.0</td>\n",
       "      <td>0.0</td>\n",
       "      <td>0.000000</td>\n",
       "      <td>0.0</td>\n",
       "      <td>0.0</td>\n",
       "      <td>0.0</td>\n",
       "      <td>0.0</td>\n",
       "      <td>0.000000</td>\n",
       "      <td>0.000000</td>\n",
       "      <td>...</td>\n",
       "      <td>0.000000</td>\n",
       "      <td>0.0</td>\n",
       "      <td>0.0</td>\n",
       "      <td>0.000000</td>\n",
       "      <td>0.000000</td>\n",
       "      <td>0.000000</td>\n",
       "      <td>0.000000</td>\n",
       "      <td>0.000000</td>\n",
       "      <td>0.000000</td>\n",
       "      <td>1.000000</td>\n",
       "    </tr>\n",
       "    <tr>\n",
       "      <th>25%</th>\n",
       "      <td>0.000000</td>\n",
       "      <td>0.0</td>\n",
       "      <td>0.0</td>\n",
       "      <td>0.000000</td>\n",
       "      <td>0.0</td>\n",
       "      <td>0.0</td>\n",
       "      <td>0.0</td>\n",
       "      <td>0.0</td>\n",
       "      <td>0.000000</td>\n",
       "      <td>0.000000</td>\n",
       "      <td>...</td>\n",
       "      <td>0.000000</td>\n",
       "      <td>0.0</td>\n",
       "      <td>0.0</td>\n",
       "      <td>0.000000</td>\n",
       "      <td>0.000000</td>\n",
       "      <td>0.000000</td>\n",
       "      <td>0.000000</td>\n",
       "      <td>0.000000</td>\n",
       "      <td>0.000000</td>\n",
       "      <td>3.000000</td>\n",
       "    </tr>\n",
       "    <tr>\n",
       "      <th>50%</th>\n",
       "      <td>0.000000</td>\n",
       "      <td>0.0</td>\n",
       "      <td>0.0</td>\n",
       "      <td>0.000000</td>\n",
       "      <td>0.0</td>\n",
       "      <td>0.0</td>\n",
       "      <td>0.0</td>\n",
       "      <td>0.0</td>\n",
       "      <td>0.000000</td>\n",
       "      <td>0.000000</td>\n",
       "      <td>...</td>\n",
       "      <td>0.000000</td>\n",
       "      <td>0.0</td>\n",
       "      <td>0.0</td>\n",
       "      <td>0.000000</td>\n",
       "      <td>0.000000</td>\n",
       "      <td>0.000000</td>\n",
       "      <td>0.000000</td>\n",
       "      <td>0.000000</td>\n",
       "      <td>0.000000</td>\n",
       "      <td>5.500000</td>\n",
       "    </tr>\n",
       "    <tr>\n",
       "      <th>75%</th>\n",
       "      <td>1.000000</td>\n",
       "      <td>0.0</td>\n",
       "      <td>0.0</td>\n",
       "      <td>0.000000</td>\n",
       "      <td>0.0</td>\n",
       "      <td>0.0</td>\n",
       "      <td>0.0</td>\n",
       "      <td>0.0</td>\n",
       "      <td>0.000000</td>\n",
       "      <td>0.000000</td>\n",
       "      <td>...</td>\n",
       "      <td>0.000000</td>\n",
       "      <td>0.0</td>\n",
       "      <td>0.0</td>\n",
       "      <td>0.000000</td>\n",
       "      <td>1.000000</td>\n",
       "      <td>0.000000</td>\n",
       "      <td>0.000000</td>\n",
       "      <td>0.000000</td>\n",
       "      <td>0.000000</td>\n",
       "      <td>8.000000</td>\n",
       "    </tr>\n",
       "    <tr>\n",
       "      <th>max</th>\n",
       "      <td>48.000000</td>\n",
       "      <td>0.0</td>\n",
       "      <td>0.0</td>\n",
       "      <td>353.000000</td>\n",
       "      <td>0.0</td>\n",
       "      <td>0.0</td>\n",
       "      <td>0.0</td>\n",
       "      <td>0.0</td>\n",
       "      <td>21.000000</td>\n",
       "      <td>4.000000</td>\n",
       "      <td>...</td>\n",
       "      <td>2.000000</td>\n",
       "      <td>0.0</td>\n",
       "      <td>0.0</td>\n",
       "      <td>38.000000</td>\n",
       "      <td>7.000000</td>\n",
       "      <td>3.000000</td>\n",
       "      <td>10.000000</td>\n",
       "      <td>36.000000</td>\n",
       "      <td>1.000000</td>\n",
       "      <td>10.000000</td>\n",
       "    </tr>\n",
       "  </tbody>\n",
       "</table>\n",
       "<p>8 rows × 23 columns</p>\n",
       "</div>"
      ],
      "text/plain": [
       "       meanop_pop  meanDiphen_pop  meanDifen_pop  meanFent_pop  \\\n",
       "count  214.000000            66.0           18.0    213.000000   \n",
       "mean     2.373832             0.0            0.0      1.657277   \n",
       "std      6.658009             0.0            0.0     24.187161   \n",
       "min      0.000000             0.0            0.0      0.000000   \n",
       "25%      0.000000             0.0            0.0      0.000000   \n",
       "50%      0.000000             0.0            0.0      0.000000   \n",
       "75%      1.000000             0.0            0.0      0.000000   \n",
       "max     48.000000             0.0            0.0    353.000000   \n",
       "\n",
       "       meanAlfent_pop  meanSufent_pop  meanRemifent_pop  meanTrimeper_pop  \\\n",
       "count           108.0           102.0             127.0              21.0   \n",
       "mean              0.0             0.0               0.0               0.0   \n",
       "std               0.0             0.0               0.0               0.0   \n",
       "min               0.0             0.0               0.0               0.0   \n",
       "25%               0.0             0.0               0.0               0.0   \n",
       "50%               0.0             0.0               0.0               0.0   \n",
       "75%               0.0             0.0               0.0               0.0   \n",
       "max               0.0             0.0               0.0               0.0   \n",
       "\n",
       "       meanMorphine_pop  meanOpium_pop  ...  meanPethidine_pop  \\\n",
       "count        213.000000      87.000000  ...         196.000000   \n",
       "mean           0.441315       0.057471  ...           0.061224   \n",
       "std            1.830708       0.440832  ...           0.260820   \n",
       "min            0.000000       0.000000  ...           0.000000   \n",
       "25%            0.000000       0.000000  ...           0.000000   \n",
       "50%            0.000000       0.000000  ...           0.000000   \n",
       "75%            0.000000       0.000000  ...           0.000000   \n",
       "max           21.000000       4.000000  ...           2.000000   \n",
       "\n",
       "       meanPiritramide_pop  meanDextro_pop  meanTilid_pop  meanMeth_pop  \\\n",
       "count                 31.0            79.0      46.000000    147.000000   \n",
       "mean                   0.0             0.0       1.326087      0.619048   \n",
       "std                    0.0             0.0       6.088438      1.320717   \n",
       "min                    0.0             0.0       0.000000      0.000000   \n",
       "25%                    0.0             0.0       0.000000      0.000000   \n",
       "50%                    0.0             0.0       0.000000      0.000000   \n",
       "75%                    0.0             0.0       0.000000      1.000000   \n",
       "max                    0.0             0.0      38.000000      7.000000   \n",
       "\n",
       "       meanDiamorph_pop  meanHydrocod_pop  meanCodeine_pop  meanPholcod_pop  \\\n",
       "count        121.000000         84.000000       203.000000        75.000000   \n",
       "mean           0.041322          0.119048         0.305419         0.013333   \n",
       "std            0.299908          1.091089         2.607172         0.115470   \n",
       "min            0.000000          0.000000         0.000000         0.000000   \n",
       "25%            0.000000          0.000000         0.000000         0.000000   \n",
       "50%            0.000000          0.000000         0.000000         0.000000   \n",
       "75%            0.000000          0.000000         0.000000         0.000000   \n",
       "max            3.000000         10.000000        36.000000         1.000000   \n",
       "\n",
       "       10 quantiles of meanop_pop  \n",
       "count                  214.000000  \n",
       "mean                     5.443925  \n",
       "std                      2.958895  \n",
       "min                      1.000000  \n",
       "25%                      3.000000  \n",
       "50%                      5.500000  \n",
       "75%                      8.000000  \n",
       "max                     10.000000  \n",
       "\n",
       "[8 rows x 23 columns]"
      ]
     },
     "execution_count": 23,
     "metadata": {},
     "output_type": "execute_result"
    }
   ],
   "source": [
    "# summary stats for each column \n",
    "df.describe()"
   ]
  },
  {
   "cell_type": "code",
   "execution_count": 45,
   "metadata": {},
   "outputs": [
    {
     "data": {
      "application/vnd.plotly.v1+json": {
       "config": {
        "plotlyServerURL": "https://plot.ly"
       },
       "data": [
        {
         "alignmentgroup": "True",
         "customdata": [
          [
           "Afghanistan",
           0
          ],
          [
           "Armenia",
           0
          ],
          [
           "Azerbaijan",
           0
          ],
          [
           "Bahrain",
           1
          ],
          [
           "Bangladesh",
           0
          ],
          [
           "Bhutan",
           0
          ],
          [
           "Brunei Darussalam",
           0
          ],
          [
           "Cambodia",
           0
          ],
          [
           "China",
           0
          ],
          [
           "China, Hong Kong SAR",
           2
          ],
          [
           "China, Macao SAR",
           1
          ],
          [
           "Democratic People's Republic of Korea",
           0
          ],
          [
           "Georgia",
           1
          ],
          [
           "India",
           0
          ],
          [
           "Indonesia",
           0
          ],
          [
           "Iran (Islamic Republic of)",
           0
          ],
          [
           "Iraq",
           0
          ],
          [
           "Israel",
           9
          ],
          [
           "Japan",
           1
          ],
          [
           "Jordan",
           0
          ],
          [
           "Kazakhstan",
           0
          ],
          [
           "Kuwait",
           0
          ],
          [
           "Kyrgyzstan",
           1
          ],
          [
           "Lao People's Democratic Republic",
           0
          ],
          [
           "Lebanon",
           0
          ],
          [
           "Malaysia",
           2
          ],
          [
           "Maldives",
           0
          ],
          [
           "Mongolia",
           0
          ],
          [
           "Myanmar",
           1
          ],
          [
           "Nepal",
           0
          ],
          [
           "Oman",
           2
          ],
          [
           "Pakistan",
           0
          ],
          [
           "Palestine, State of ",
           null
          ],
          [
           "Philippines",
           0
          ],
          [
           "Qatar",
           0
          ],
          [
           "Republic of Korea",
           2
          ],
          [
           "Saudi Arabia",
           1
          ],
          [
           "Singapore",
           0
          ],
          [
           "Sri Lanka",
           1
          ],
          [
           "Syrian Arab Republic",
           0
          ],
          [
           "Tajikistan",
           0
          ],
          [
           "Thailand",
           0
          ],
          [
           "Timor-Leste",
           0
          ],
          [
           "Turkey",
           0
          ],
          [
           "Turkmenistan",
           0
          ],
          [
           "United Arab Emirates",
           0
          ],
          [
           "Uzbekistan",
           0
          ],
          [
           "Viet Nam",
           2
          ],
          [
           "Yemen",
           0
          ]
         ],
         "hoverlabel": {
          "namelength": 0
         },
         "hovertemplate": "Region=Asia<br>Country=%{customdata[0]}<br>Annual mean consumption of opioids<br>(kg per 100,000 population)=%{customdata[1]}",
         "legendgroup": "Region=Asia",
         "marker": {
          "color": "#636efa"
         },
         "name": "Region=Asia",
         "offsetgroup": "Region=Asia",
         "orientation": "v",
         "showlegend": true,
         "textposition": "auto",
         "type": "bar",
         "x": [
          "Afghanistan",
          "Armenia",
          "Azerbaijan",
          "Bahrain",
          "Bangladesh",
          "Bhutan",
          "Brunei Darussalam",
          "Cambodia",
          "China",
          "China, Hong Kong SAR",
          "China, Macao SAR",
          "Democratic People's Republic of Korea",
          "Georgia",
          "India",
          "Indonesia",
          "Iran (Islamic Republic of)",
          "Iraq",
          "Israel",
          "Japan",
          "Jordan",
          "Kazakhstan",
          "Kuwait",
          "Kyrgyzstan",
          "Lao People's Democratic Republic",
          "Lebanon",
          "Malaysia",
          "Maldives",
          "Mongolia",
          "Myanmar",
          "Nepal",
          "Oman",
          "Pakistan",
          "Palestine, State of ",
          "Philippines",
          "Qatar",
          "Republic of Korea",
          "Saudi Arabia",
          "Singapore",
          "Sri Lanka",
          "Syrian Arab Republic",
          "Tajikistan",
          "Thailand",
          "Timor-Leste",
          "Turkey",
          "Turkmenistan",
          "United Arab Emirates",
          "Uzbekistan",
          "Viet Nam",
          "Yemen"
         ],
         "xaxis": "x",
         "y": [
          0,
          0,
          0,
          1,
          0,
          0,
          0,
          0,
          0,
          2,
          1,
          0,
          1,
          0,
          0,
          0,
          0,
          9,
          1,
          0,
          0,
          0,
          1,
          0,
          0,
          2,
          0,
          0,
          1,
          0,
          2,
          0,
          null,
          0,
          0,
          2,
          1,
          0,
          1,
          0,
          0,
          0,
          0,
          0,
          0,
          0,
          0,
          2,
          0
         ],
         "yaxis": "y"
        },
        {
         "alignmentgroup": "True",
         "customdata": [
          [
           "Albania",
           1
          ],
          [
           "Andorra",
           2
          ],
          [
           "Austria",
           25
          ],
          [
           "Belarus",
           0
          ],
          [
           "Belgium",
           22
          ],
          [
           "Bosnia & Herzegovina",
           0
          ],
          [
           "Bulgaria",
           3
          ],
          [
           "Croatia",
           1
          ],
          [
           "Cyprus",
           3
          ],
          [
           "Czechia",
           2
          ],
          [
           "Denmark",
           20
          ],
          [
           "Estonia",
           3
          ],
          [
           "Finland",
           6
          ],
          [
           "France",
           7
          ],
          [
           "Germany",
           48
          ],
          [
           "Gibraltar",
           4
          ],
          [
           "Greece",
           1
          ],
          [
           "Hungary",
           1
          ],
          [
           "Iceland",
           43
          ],
          [
           "Ireland",
           12
          ],
          [
           "Italy",
           6
          ],
          [
           "Latvia",
           1
          ],
          [
           "Liechtenstein",
           null
          ],
          [
           "Lithuania",
           1
          ],
          [
           "Luxembourg",
           12
          ],
          [
           "Macedonia",
           3
          ],
          [
           "Malta",
           4
          ],
          [
           "Moldova (the Republic of)",
           1
          ],
          [
           "Monaco",
           null
          ],
          [
           "Montenegro",
           1
          ],
          [
           "Netherlands",
           8
          ],
          [
           "Norway",
           11
          ],
          [
           "Poland",
           2
          ],
          [
           "Portugal",
           2
          ],
          [
           "Romania",
           1
          ],
          [
           "Russian Federation",
           0
          ],
          [
           "San Marino",
           null
          ],
          [
           "Serbia",
           1
          ],
          [
           "Slovakia",
           1
          ],
          [
           "Slovenia",
           6
          ],
          [
           "Spain",
           5
          ],
          [
           "Sweden",
           10
          ],
          [
           "Switzerland",
           20
          ],
          [
           "UK",
           12
          ],
          [
           "Ukraine",
           1
          ]
         ],
         "hoverlabel": {
          "namelength": 0
         },
         "hovertemplate": "Region=Europe<br>Country=%{customdata[0]}<br>Annual mean consumption of opioids<br>(kg per 100,000 population)=%{customdata[1]}",
         "legendgroup": "Region=Europe",
         "marker": {
          "color": "#EF553B"
         },
         "name": "Region=Europe",
         "offsetgroup": "Region=Europe",
         "orientation": "v",
         "showlegend": true,
         "textposition": "auto",
         "type": "bar",
         "x": [
          "Albania",
          "Andorra",
          "Austria",
          "Belarus",
          "Belgium",
          "Bosnia & Herzegovina",
          "Bulgaria",
          "Croatia",
          "Cyprus",
          "Czechia",
          "Denmark",
          "Estonia",
          "Finland",
          "France",
          "Germany",
          "Gibraltar",
          "Greece",
          "Hungary",
          "Iceland",
          "Ireland",
          "Italy",
          "Latvia",
          "Liechtenstein",
          "Lithuania",
          "Luxembourg",
          "Macedonia",
          "Malta",
          "Moldova (the Republic of)",
          "Monaco",
          "Montenegro",
          "Netherlands",
          "Norway",
          "Poland",
          "Portugal",
          "Romania",
          "Russian Federation",
          "San Marino",
          "Serbia",
          "Slovakia",
          "Slovenia",
          "Spain",
          "Sweden",
          "Switzerland",
          "UK",
          "Ukraine"
         ],
         "xaxis": "x",
         "y": [
          1,
          2,
          25,
          0,
          22,
          0,
          3,
          1,
          3,
          2,
          20,
          3,
          6,
          7,
          48,
          4,
          1,
          1,
          43,
          12,
          6,
          1,
          null,
          1,
          12,
          3,
          4,
          1,
          null,
          1,
          8,
          11,
          2,
          2,
          1,
          0,
          null,
          1,
          1,
          6,
          5,
          10,
          20,
          12,
          1
         ],
         "yaxis": "y"
        },
        {
         "alignmentgroup": "True",
         "customdata": [
          [
           "Algeria",
           0
          ],
          [
           "Angola",
           0
          ],
          [
           "Ascension Island",
           0
          ],
          [
           "Benin",
           0
          ],
          [
           "Botswana",
           0
          ],
          [
           "Burkina Faso",
           0
          ],
          [
           "Burundi",
           0
          ],
          [
           "Cabo Verde",
           0
          ],
          [
           "Cameroon",
           0
          ],
          [
           "Central African Republic",
           0
          ],
          [
           "Chad",
           0
          ],
          [
           "Comoros",
           0
          ],
          [
           "Congo",
           0
          ],
          [
           "Côte d'Ivoire",
           0
          ],
          [
           "Democratic Republic of the Congo",
           0
          ],
          [
           "Djibouti",
           0
          ],
          [
           "Egypt",
           0
          ],
          [
           "Equatorial Guinea",
           0
          ],
          [
           "Eritrea",
           0
          ],
          [
           "Eswatini",
           0
          ],
          [
           "Ethiopia",
           0
          ],
          [
           "Gabon",
           0
          ],
          [
           "Gambia",
           0
          ],
          [
           "Ghana",
           0
          ],
          [
           "Guinea",
           0
          ],
          [
           "Guinea-Bissau",
           0
          ],
          [
           "Kenya",
           0
          ],
          [
           "Lesotho",
           0
          ],
          [
           "Liberia",
           0
          ],
          [
           "Libya",
           0
          ],
          [
           "Madagascar",
           0
          ],
          [
           "Malawi",
           0
          ],
          [
           "Mali",
           0
          ],
          [
           "Mauritania",
           0
          ],
          [
           "Mauritius",
           6
          ],
          [
           "Morocco",
           0
          ],
          [
           "Mozambique",
           0
          ],
          [
           "Namibia",
           0
          ],
          [
           "Niger",
           0
          ],
          [
           "Nigeria",
           0
          ],
          [
           "Rwanda",
           0
          ],
          [
           "Saint Helena",
           1
          ],
          [
           "Sao Tome & Principe",
           0
          ],
          [
           "Senegal",
           0
          ],
          [
           "Seychelles",
           2
          ],
          [
           "Sierra Leone",
           0
          ],
          [
           "Somalia",
           0
          ],
          [
           "South Africa",
           2
          ],
          [
           "South Sudan",
           0
          ],
          [
           "Sudan",
           0
          ],
          [
           "Tanzania (United Republic of)",
           0
          ],
          [
           "Togo",
           0
          ],
          [
           "Tristan da Cunha",
           0
          ],
          [
           "Tunisia",
           0
          ],
          [
           "Uganda",
           0
          ],
          [
           "Zambia",
           0
          ],
          [
           "Zimbabwe",
           0
          ]
         ],
         "hoverlabel": {
          "namelength": 0
         },
         "hovertemplate": "Region=Africa<br>Country=%{customdata[0]}<br>Annual mean consumption of opioids<br>(kg per 100,000 population)=%{customdata[1]}",
         "legendgroup": "Region=Africa",
         "marker": {
          "color": "#00cc96"
         },
         "name": "Region=Africa",
         "offsetgroup": "Region=Africa",
         "orientation": "v",
         "showlegend": true,
         "textposition": "auto",
         "type": "bar",
         "x": [
          "Algeria",
          "Angola",
          "Ascension Island",
          "Benin",
          "Botswana",
          "Burkina Faso",
          "Burundi",
          "Cabo Verde",
          "Cameroon",
          "Central African Republic",
          "Chad",
          "Comoros",
          "Congo",
          "Côte d'Ivoire",
          "Democratic Republic of the Congo",
          "Djibouti",
          "Egypt",
          "Equatorial Guinea",
          "Eritrea",
          "Eswatini",
          "Ethiopia",
          "Gabon",
          "Gambia",
          "Ghana",
          "Guinea",
          "Guinea-Bissau",
          "Kenya",
          "Lesotho",
          "Liberia",
          "Libya",
          "Madagascar",
          "Malawi",
          "Mali",
          "Mauritania",
          "Mauritius",
          "Morocco",
          "Mozambique",
          "Namibia",
          "Niger",
          "Nigeria",
          "Rwanda",
          "Saint Helena",
          "Sao Tome & Principe",
          "Senegal",
          "Seychelles",
          "Sierra Leone",
          "Somalia",
          "South Africa",
          "South Sudan",
          "Sudan",
          "Tanzania (United Republic of)",
          "Togo",
          "Tristan da Cunha",
          "Tunisia",
          "Uganda",
          "Zambia",
          "Zimbabwe"
         ],
         "xaxis": "x",
         "y": [
          0,
          0,
          0,
          0,
          0,
          0,
          0,
          0,
          0,
          0,
          0,
          0,
          0,
          0,
          0,
          0,
          0,
          0,
          0,
          0,
          0,
          0,
          0,
          0,
          0,
          0,
          0,
          0,
          0,
          0,
          0,
          0,
          0,
          0,
          6,
          0,
          0,
          0,
          0,
          0,
          0,
          1,
          0,
          0,
          2,
          0,
          0,
          2,
          0,
          0,
          0,
          0,
          0,
          0,
          0,
          0,
          0
         ],
         "yaxis": "y"
        },
        {
         "alignmentgroup": "True",
         "customdata": [
          [
           "Anguilla",
           1
          ],
          [
           "Antigua & Barbuda",
           0
          ],
          [
           "Argentina",
           1
          ],
          [
           "Aruba",
           0
          ],
          [
           "Bahamas",
           2
          ],
          [
           "Barbados",
           3
          ],
          [
           "Belize",
           0
          ],
          [
           "Bermuda",
           0
          ],
          [
           "Bolivia (Plurinational State of)",
           0
          ],
          [
           "Brazil",
           1
          ],
          [
           "British Virgin Islands",
           0
          ],
          [
           "Canada",
           33
          ],
          [
           "Cayman Islands",
           0
          ],
          [
           "Chile",
           1
          ],
          [
           "Colombia",
           1
          ],
          [
           "Costa Rica",
           1
          ],
          [
           "Cuba",
           0
          ],
          [
           "Curaçao",
           0
          ],
          [
           "Dominica",
           1
          ],
          [
           "Dominican Republic",
           0
          ],
          [
           "Ecuador",
           0
          ],
          [
           "El Salvador",
           0
          ],
          [
           "Falkland Islands",
           8
          ],
          [
           "Grenada",
           0
          ],
          [
           "Guatemala",
           0
          ],
          [
           "Guyana",
           1
          ],
          [
           "Haiti",
           0
          ],
          [
           "Honduras",
           0
          ],
          [
           "Jamaica",
           1
          ],
          [
           "Mexico",
           0
          ],
          [
           "Montserrat",
           2
          ],
          [
           "Nicaragua",
           0
          ],
          [
           "Panama",
           0
          ],
          [
           "Paraguay",
           0
          ],
          [
           "Peru",
           0
          ],
          [
           "Saint Kitts & Nevis",
           0
          ],
          [
           "Saint Lucia",
           0
          ],
          [
           "Saint Vincent & the Grenadines",
           1
          ],
          [
           "Sint Maarten",
           3
          ],
          [
           "Suriname",
           0
          ],
          [
           "Trinidad & Tobago",
           1
          ],
          [
           "Turks & Caicos Islands",
           1
          ],
          [
           "USA",
           40
          ],
          [
           "Uruguay",
           1
          ],
          [
           "Venezuela (Bolivarian Rep. of)",
           0
          ]
         ],
         "hoverlabel": {
          "namelength": 0
         },
         "hovertemplate": "Region=America<br>Country=%{customdata[0]}<br>Annual mean consumption of opioids<br>(kg per 100,000 population)=%{customdata[1]}",
         "legendgroup": "Region=America",
         "marker": {
          "color": "#ab63fa"
         },
         "name": "Region=America",
         "offsetgroup": "Region=America",
         "orientation": "v",
         "showlegend": true,
         "textposition": "auto",
         "type": "bar",
         "x": [
          "Anguilla",
          "Antigua & Barbuda",
          "Argentina",
          "Aruba",
          "Bahamas",
          "Barbados",
          "Belize",
          "Bermuda",
          "Bolivia (Plurinational State of)",
          "Brazil",
          "British Virgin Islands",
          "Canada",
          "Cayman Islands",
          "Chile",
          "Colombia",
          "Costa Rica",
          "Cuba",
          "Curaçao",
          "Dominica",
          "Dominican Republic",
          "Ecuador",
          "El Salvador",
          "Falkland Islands",
          "Grenada",
          "Guatemala",
          "Guyana",
          "Haiti",
          "Honduras",
          "Jamaica",
          "Mexico",
          "Montserrat",
          "Nicaragua",
          "Panama",
          "Paraguay",
          "Peru",
          "Saint Kitts & Nevis",
          "Saint Lucia",
          "Saint Vincent & the Grenadines",
          "Sint Maarten",
          "Suriname",
          "Trinidad & Tobago",
          "Turks & Caicos Islands",
          "USA",
          "Uruguay",
          "Venezuela (Bolivarian Rep. of)"
         ],
         "xaxis": "x",
         "y": [
          1,
          0,
          1,
          0,
          2,
          3,
          0,
          0,
          0,
          1,
          0,
          33,
          0,
          1,
          1,
          1,
          0,
          0,
          1,
          0,
          0,
          0,
          8,
          0,
          0,
          1,
          0,
          0,
          1,
          0,
          2,
          0,
          0,
          0,
          0,
          0,
          0,
          1,
          3,
          0,
          1,
          1,
          40,
          1,
          0
         ],
         "yaxis": "y"
        },
        {
         "alignmentgroup": "True",
         "customdata": [
          [
           "Australia",
           19
          ],
          [
           "Christmas Island",
           2
          ],
          [
           "Cocos (Keeling) Islands",
           0
          ],
          [
           "Cook Islands",
           1
          ],
          [
           "Fiji",
           0
          ],
          [
           "French Polynesia",
           2
          ],
          [
           "Kiribati",
           0
          ],
          [
           "Marshall Islands",
           0
          ],
          [
           "Micronesia (Federated States of)",
           0
          ],
          [
           "Nauru",
           0
          ],
          [
           "New Caledonia",
           2
          ],
          [
           "New Zealand",
           15
          ],
          [
           "Niue",
           1
          ],
          [
           "Norfolk Island",
           4
          ],
          [
           "Palau",
           2
          ],
          [
           "Papua New Guinea",
           0
          ],
          [
           "Samoa",
           0
          ],
          [
           "Solomon Islands",
           0
          ],
          [
           "Tonga",
           0
          ],
          [
           "Tuvalu",
           0
          ],
          [
           "Vanuatu",
           0
          ],
          [
           "Wallis & Futuna Islands",
           5
          ]
         ],
         "hoverlabel": {
          "namelength": 0
         },
         "hovertemplate": "Region=Oceania<br>Country=%{customdata[0]}<br>Annual mean consumption of opioids<br>(kg per 100,000 population)=%{customdata[1]}",
         "legendgroup": "Region=Oceania",
         "marker": {
          "color": "#FFA15A"
         },
         "name": "Region=Oceania",
         "offsetgroup": "Region=Oceania",
         "orientation": "v",
         "showlegend": true,
         "textposition": "auto",
         "type": "bar",
         "x": [
          "Australia",
          "Christmas Island",
          "Cocos (Keeling) Islands",
          "Cook Islands",
          "Fiji",
          "French Polynesia",
          "Kiribati",
          "Marshall Islands",
          "Micronesia (Federated States of)",
          "Nauru",
          "New Caledonia",
          "New Zealand",
          "Niue",
          "Norfolk Island",
          "Palau",
          "Papua New Guinea",
          "Samoa",
          "Solomon Islands",
          "Tonga",
          "Tuvalu",
          "Vanuatu",
          "Wallis & Futuna Islands"
         ],
         "xaxis": "x",
         "y": [
          19,
          2,
          0,
          1,
          0,
          2,
          0,
          0,
          0,
          0,
          2,
          15,
          1,
          4,
          2,
          0,
          0,
          0,
          0,
          0,
          0,
          5
         ],
         "yaxis": "y"
        }
       ],
       "layout": {
        "barmode": "relative",
        "height": 600,
        "legend": {
         "tracegroupgap": 0
        },
        "margin": {
         "t": 60
        },
        "template": {
         "data": {
          "bar": [
           {
            "error_x": {
             "color": "#2a3f5f"
            },
            "error_y": {
             "color": "#2a3f5f"
            },
            "marker": {
             "line": {
              "color": "#E5ECF6",
              "width": 0.5
             }
            },
            "type": "bar"
           }
          ],
          "barpolar": [
           {
            "marker": {
             "line": {
              "color": "#E5ECF6",
              "width": 0.5
             }
            },
            "type": "barpolar"
           }
          ],
          "carpet": [
           {
            "aaxis": {
             "endlinecolor": "#2a3f5f",
             "gridcolor": "white",
             "linecolor": "white",
             "minorgridcolor": "white",
             "startlinecolor": "#2a3f5f"
            },
            "baxis": {
             "endlinecolor": "#2a3f5f",
             "gridcolor": "white",
             "linecolor": "white",
             "minorgridcolor": "white",
             "startlinecolor": "#2a3f5f"
            },
            "type": "carpet"
           }
          ],
          "choropleth": [
           {
            "colorbar": {
             "outlinewidth": 0,
             "ticks": ""
            },
            "type": "choropleth"
           }
          ],
          "contour": [
           {
            "colorbar": {
             "outlinewidth": 0,
             "ticks": ""
            },
            "colorscale": [
             [
              0,
              "#0d0887"
             ],
             [
              0.1111111111111111,
              "#46039f"
             ],
             [
              0.2222222222222222,
              "#7201a8"
             ],
             [
              0.3333333333333333,
              "#9c179e"
             ],
             [
              0.4444444444444444,
              "#bd3786"
             ],
             [
              0.5555555555555556,
              "#d8576b"
             ],
             [
              0.6666666666666666,
              "#ed7953"
             ],
             [
              0.7777777777777778,
              "#fb9f3a"
             ],
             [
              0.8888888888888888,
              "#fdca26"
             ],
             [
              1,
              "#f0f921"
             ]
            ],
            "type": "contour"
           }
          ],
          "contourcarpet": [
           {
            "colorbar": {
             "outlinewidth": 0,
             "ticks": ""
            },
            "type": "contourcarpet"
           }
          ],
          "heatmap": [
           {
            "colorbar": {
             "outlinewidth": 0,
             "ticks": ""
            },
            "colorscale": [
             [
              0,
              "#0d0887"
             ],
             [
              0.1111111111111111,
              "#46039f"
             ],
             [
              0.2222222222222222,
              "#7201a8"
             ],
             [
              0.3333333333333333,
              "#9c179e"
             ],
             [
              0.4444444444444444,
              "#bd3786"
             ],
             [
              0.5555555555555556,
              "#d8576b"
             ],
             [
              0.6666666666666666,
              "#ed7953"
             ],
             [
              0.7777777777777778,
              "#fb9f3a"
             ],
             [
              0.8888888888888888,
              "#fdca26"
             ],
             [
              1,
              "#f0f921"
             ]
            ],
            "type": "heatmap"
           }
          ],
          "heatmapgl": [
           {
            "colorbar": {
             "outlinewidth": 0,
             "ticks": ""
            },
            "colorscale": [
             [
              0,
              "#0d0887"
             ],
             [
              0.1111111111111111,
              "#46039f"
             ],
             [
              0.2222222222222222,
              "#7201a8"
             ],
             [
              0.3333333333333333,
              "#9c179e"
             ],
             [
              0.4444444444444444,
              "#bd3786"
             ],
             [
              0.5555555555555556,
              "#d8576b"
             ],
             [
              0.6666666666666666,
              "#ed7953"
             ],
             [
              0.7777777777777778,
              "#fb9f3a"
             ],
             [
              0.8888888888888888,
              "#fdca26"
             ],
             [
              1,
              "#f0f921"
             ]
            ],
            "type": "heatmapgl"
           }
          ],
          "histogram": [
           {
            "marker": {
             "colorbar": {
              "outlinewidth": 0,
              "ticks": ""
             }
            },
            "type": "histogram"
           }
          ],
          "histogram2d": [
           {
            "colorbar": {
             "outlinewidth": 0,
             "ticks": ""
            },
            "colorscale": [
             [
              0,
              "#0d0887"
             ],
             [
              0.1111111111111111,
              "#46039f"
             ],
             [
              0.2222222222222222,
              "#7201a8"
             ],
             [
              0.3333333333333333,
              "#9c179e"
             ],
             [
              0.4444444444444444,
              "#bd3786"
             ],
             [
              0.5555555555555556,
              "#d8576b"
             ],
             [
              0.6666666666666666,
              "#ed7953"
             ],
             [
              0.7777777777777778,
              "#fb9f3a"
             ],
             [
              0.8888888888888888,
              "#fdca26"
             ],
             [
              1,
              "#f0f921"
             ]
            ],
            "type": "histogram2d"
           }
          ],
          "histogram2dcontour": [
           {
            "colorbar": {
             "outlinewidth": 0,
             "ticks": ""
            },
            "colorscale": [
             [
              0,
              "#0d0887"
             ],
             [
              0.1111111111111111,
              "#46039f"
             ],
             [
              0.2222222222222222,
              "#7201a8"
             ],
             [
              0.3333333333333333,
              "#9c179e"
             ],
             [
              0.4444444444444444,
              "#bd3786"
             ],
             [
              0.5555555555555556,
              "#d8576b"
             ],
             [
              0.6666666666666666,
              "#ed7953"
             ],
             [
              0.7777777777777778,
              "#fb9f3a"
             ],
             [
              0.8888888888888888,
              "#fdca26"
             ],
             [
              1,
              "#f0f921"
             ]
            ],
            "type": "histogram2dcontour"
           }
          ],
          "mesh3d": [
           {
            "colorbar": {
             "outlinewidth": 0,
             "ticks": ""
            },
            "type": "mesh3d"
           }
          ],
          "parcoords": [
           {
            "line": {
             "colorbar": {
              "outlinewidth": 0,
              "ticks": ""
             }
            },
            "type": "parcoords"
           }
          ],
          "pie": [
           {
            "automargin": true,
            "type": "pie"
           }
          ],
          "scatter": [
           {
            "marker": {
             "colorbar": {
              "outlinewidth": 0,
              "ticks": ""
             }
            },
            "type": "scatter"
           }
          ],
          "scatter3d": [
           {
            "line": {
             "colorbar": {
              "outlinewidth": 0,
              "ticks": ""
             }
            },
            "marker": {
             "colorbar": {
              "outlinewidth": 0,
              "ticks": ""
             }
            },
            "type": "scatter3d"
           }
          ],
          "scattercarpet": [
           {
            "marker": {
             "colorbar": {
              "outlinewidth": 0,
              "ticks": ""
             }
            },
            "type": "scattercarpet"
           }
          ],
          "scattergeo": [
           {
            "marker": {
             "colorbar": {
              "outlinewidth": 0,
              "ticks": ""
             }
            },
            "type": "scattergeo"
           }
          ],
          "scattergl": [
           {
            "marker": {
             "colorbar": {
              "outlinewidth": 0,
              "ticks": ""
             }
            },
            "type": "scattergl"
           }
          ],
          "scattermapbox": [
           {
            "marker": {
             "colorbar": {
              "outlinewidth": 0,
              "ticks": ""
             }
            },
            "type": "scattermapbox"
           }
          ],
          "scatterpolar": [
           {
            "marker": {
             "colorbar": {
              "outlinewidth": 0,
              "ticks": ""
             }
            },
            "type": "scatterpolar"
           }
          ],
          "scatterpolargl": [
           {
            "marker": {
             "colorbar": {
              "outlinewidth": 0,
              "ticks": ""
             }
            },
            "type": "scatterpolargl"
           }
          ],
          "scatterternary": [
           {
            "marker": {
             "colorbar": {
              "outlinewidth": 0,
              "ticks": ""
             }
            },
            "type": "scatterternary"
           }
          ],
          "surface": [
           {
            "colorbar": {
             "outlinewidth": 0,
             "ticks": ""
            },
            "colorscale": [
             [
              0,
              "#0d0887"
             ],
             [
              0.1111111111111111,
              "#46039f"
             ],
             [
              0.2222222222222222,
              "#7201a8"
             ],
             [
              0.3333333333333333,
              "#9c179e"
             ],
             [
              0.4444444444444444,
              "#bd3786"
             ],
             [
              0.5555555555555556,
              "#d8576b"
             ],
             [
              0.6666666666666666,
              "#ed7953"
             ],
             [
              0.7777777777777778,
              "#fb9f3a"
             ],
             [
              0.8888888888888888,
              "#fdca26"
             ],
             [
              1,
              "#f0f921"
             ]
            ],
            "type": "surface"
           }
          ],
          "table": [
           {
            "cells": {
             "fill": {
              "color": "#EBF0F8"
             },
             "line": {
              "color": "white"
             }
            },
            "header": {
             "fill": {
              "color": "#C8D4E3"
             },
             "line": {
              "color": "white"
             }
            },
            "type": "table"
           }
          ]
         },
         "layout": {
          "annotationdefaults": {
           "arrowcolor": "#2a3f5f",
           "arrowhead": 0,
           "arrowwidth": 1
          },
          "coloraxis": {
           "colorbar": {
            "outlinewidth": 0,
            "ticks": ""
           }
          },
          "colorscale": {
           "diverging": [
            [
             0,
             "#8e0152"
            ],
            [
             0.1,
             "#c51b7d"
            ],
            [
             0.2,
             "#de77ae"
            ],
            [
             0.3,
             "#f1b6da"
            ],
            [
             0.4,
             "#fde0ef"
            ],
            [
             0.5,
             "#f7f7f7"
            ],
            [
             0.6,
             "#e6f5d0"
            ],
            [
             0.7,
             "#b8e186"
            ],
            [
             0.8,
             "#7fbc41"
            ],
            [
             0.9,
             "#4d9221"
            ],
            [
             1,
             "#276419"
            ]
           ],
           "sequential": [
            [
             0,
             "#0d0887"
            ],
            [
             0.1111111111111111,
             "#46039f"
            ],
            [
             0.2222222222222222,
             "#7201a8"
            ],
            [
             0.3333333333333333,
             "#9c179e"
            ],
            [
             0.4444444444444444,
             "#bd3786"
            ],
            [
             0.5555555555555556,
             "#d8576b"
            ],
            [
             0.6666666666666666,
             "#ed7953"
            ],
            [
             0.7777777777777778,
             "#fb9f3a"
            ],
            [
             0.8888888888888888,
             "#fdca26"
            ],
            [
             1,
             "#f0f921"
            ]
           ],
           "sequentialminus": [
            [
             0,
             "#0d0887"
            ],
            [
             0.1111111111111111,
             "#46039f"
            ],
            [
             0.2222222222222222,
             "#7201a8"
            ],
            [
             0.3333333333333333,
             "#9c179e"
            ],
            [
             0.4444444444444444,
             "#bd3786"
            ],
            [
             0.5555555555555556,
             "#d8576b"
            ],
            [
             0.6666666666666666,
             "#ed7953"
            ],
            [
             0.7777777777777778,
             "#fb9f3a"
            ],
            [
             0.8888888888888888,
             "#fdca26"
            ],
            [
             1,
             "#f0f921"
            ]
           ]
          },
          "colorway": [
           "#636efa",
           "#EF553B",
           "#00cc96",
           "#ab63fa",
           "#FFA15A",
           "#19d3f3",
           "#FF6692",
           "#B6E880",
           "#FF97FF",
           "#FECB52"
          ],
          "font": {
           "color": "#2a3f5f"
          },
          "geo": {
           "bgcolor": "white",
           "lakecolor": "white",
           "landcolor": "#E5ECF6",
           "showlakes": true,
           "showland": true,
           "subunitcolor": "white"
          },
          "hoverlabel": {
           "align": "left"
          },
          "hovermode": "closest",
          "mapbox": {
           "style": "light"
          },
          "paper_bgcolor": "white",
          "plot_bgcolor": "#E5ECF6",
          "polar": {
           "angularaxis": {
            "gridcolor": "white",
            "linecolor": "white",
            "ticks": ""
           },
           "bgcolor": "#E5ECF6",
           "radialaxis": {
            "gridcolor": "white",
            "linecolor": "white",
            "ticks": ""
           }
          },
          "scene": {
           "xaxis": {
            "backgroundcolor": "#E5ECF6",
            "gridcolor": "white",
            "gridwidth": 2,
            "linecolor": "white",
            "showbackground": true,
            "ticks": "",
            "zerolinecolor": "white"
           },
           "yaxis": {
            "backgroundcolor": "#E5ECF6",
            "gridcolor": "white",
            "gridwidth": 2,
            "linecolor": "white",
            "showbackground": true,
            "ticks": "",
            "zerolinecolor": "white"
           },
           "zaxis": {
            "backgroundcolor": "#E5ECF6",
            "gridcolor": "white",
            "gridwidth": 2,
            "linecolor": "white",
            "showbackground": true,
            "ticks": "",
            "zerolinecolor": "white"
           }
          },
          "shapedefaults": {
           "line": {
            "color": "#2a3f5f"
           }
          },
          "ternary": {
           "aaxis": {
            "gridcolor": "white",
            "linecolor": "white",
            "ticks": ""
           },
           "baxis": {
            "gridcolor": "white",
            "linecolor": "white",
            "ticks": ""
           },
           "bgcolor": "#E5ECF6",
           "caxis": {
            "gridcolor": "white",
            "linecolor": "white",
            "ticks": ""
           }
          },
          "title": {
           "x": 0.05
          },
          "xaxis": {
           "automargin": true,
           "gridcolor": "white",
           "linecolor": "white",
           "ticks": "",
           "title": {
            "standoff": 15
           },
           "zerolinecolor": "white",
           "zerolinewidth": 2
          },
          "yaxis": {
           "automargin": true,
           "gridcolor": "white",
           "linecolor": "white",
           "ticks": "",
           "title": {
            "standoff": 15
           },
           "zerolinecolor": "white",
           "zerolinewidth": 2
          }
         }
        },
        "xaxis": {
         "anchor": "y",
         "categoryorder": "total descending",
         "domain": [
          0,
          1
         ],
         "tickangle": -45,
         "title": {
          "text": "Country"
         }
        },
        "yaxis": {
         "anchor": "x",
         "domain": [
          0,
          1
         ],
         "title": {
          "text": "Annual mean consumption of opioids<br>(kg per 100,000 population)"
         }
        }
       }
      },
      "text/html": [
       "<div>\n",
       "        \n",
       "        \n",
       "            <div id=\"9a8b79af-b0fe-46d2-8837-1539908619b3\" class=\"plotly-graph-div\" style=\"height:600px; width:100%;\"></div>\n",
       "            <script type=\"text/javascript\">\n",
       "                require([\"plotly\"], function(Plotly) {\n",
       "                    window.PLOTLYENV=window.PLOTLYENV || {};\n",
       "                    \n",
       "                if (document.getElementById(\"9a8b79af-b0fe-46d2-8837-1539908619b3\")) {\n",
       "                    Plotly.newPlot(\n",
       "                        '9a8b79af-b0fe-46d2-8837-1539908619b3',\n",
       "                        [{\"alignmentgroup\": \"True\", \"customdata\": [[\"Afghanistan\", 0.0], [\"Armenia\", 0.0], [\"Azerbaijan\", 0.0], [\"Bahrain\", 1.0], [\"Bangladesh\", 0.0], [\"Bhutan\", 0.0], [\"Brunei Darussalam\", 0.0], [\"Cambodia\", 0.0], [\"China\", 0.0], [\"China, Hong Kong SAR\", 2.0], [\"China, Macao SAR\", 1.0], [\"Democratic People's Republic of Korea\", 0.0], [\"Georgia\", 1.0], [\"India\", 0.0], [\"Indonesia\", 0.0], [\"Iran (Islamic Republic of)\", 0.0], [\"Iraq\", 0.0], [\"Israel\", 9.0], [\"Japan\", 1.0], [\"Jordan\", 0.0], [\"Kazakhstan\", 0.0], [\"Kuwait\", 0.0], [\"Kyrgyzstan\", 1.0], [\"Lao People's Democratic Republic\", 0.0], [\"Lebanon\", 0.0], [\"Malaysia\", 2.0], [\"Maldives\", 0.0], [\"Mongolia\", 0.0], [\"Myanmar\", 1.0], [\"Nepal\", 0.0], [\"Oman\", 2.0], [\"Pakistan\", 0.0], [\"Palestine, State of \", null], [\"Philippines\", 0.0], [\"Qatar\", 0.0], [\"Republic of Korea\", 2.0], [\"Saudi Arabia\", 1.0], [\"Singapore\", 0.0], [\"Sri Lanka\", 1.0], [\"Syrian Arab Republic\", 0.0], [\"Tajikistan\", 0.0], [\"Thailand\", 0.0], [\"Timor-Leste\", 0.0], [\"Turkey\", 0.0], [\"Turkmenistan\", 0.0], [\"United Arab Emirates\", 0.0], [\"Uzbekistan\", 0.0], [\"Viet Nam\", 2.0], [\"Yemen\", 0.0]], \"hoverlabel\": {\"namelength\": 0}, \"hovertemplate\": \"Region=Asia<br>Country=%{customdata[0]}<br>Annual mean consumption of opioids<br>(kg per 100,000 population)=%{customdata[1]}\", \"legendgroup\": \"Region=Asia\", \"marker\": {\"color\": \"#636efa\"}, \"name\": \"Region=Asia\", \"offsetgroup\": \"Region=Asia\", \"orientation\": \"v\", \"showlegend\": true, \"textposition\": \"auto\", \"type\": \"bar\", \"x\": [\"Afghanistan\", \"Armenia\", \"Azerbaijan\", \"Bahrain\", \"Bangladesh\", \"Bhutan\", \"Brunei Darussalam\", \"Cambodia\", \"China\", \"China, Hong Kong SAR\", \"China, Macao SAR\", \"Democratic People's Republic of Korea\", \"Georgia\", \"India\", \"Indonesia\", \"Iran (Islamic Republic of)\", \"Iraq\", \"Israel\", \"Japan\", \"Jordan\", \"Kazakhstan\", \"Kuwait\", \"Kyrgyzstan\", \"Lao People's Democratic Republic\", \"Lebanon\", \"Malaysia\", \"Maldives\", \"Mongolia\", \"Myanmar\", \"Nepal\", \"Oman\", \"Pakistan\", \"Palestine, State of \", \"Philippines\", \"Qatar\", \"Republic of Korea\", \"Saudi Arabia\", \"Singapore\", \"Sri Lanka\", \"Syrian Arab Republic\", \"Tajikistan\", \"Thailand\", \"Timor-Leste\", \"Turkey\", \"Turkmenistan\", \"United Arab Emirates\", \"Uzbekistan\", \"Viet Nam\", \"Yemen\"], \"xaxis\": \"x\", \"y\": [0.0, 0.0, 0.0, 1.0, 0.0, 0.0, 0.0, 0.0, 0.0, 2.0, 1.0, 0.0, 1.0, 0.0, 0.0, 0.0, 0.0, 9.0, 1.0, 0.0, 0.0, 0.0, 1.0, 0.0, 0.0, 2.0, 0.0, 0.0, 1.0, 0.0, 2.0, 0.0, null, 0.0, 0.0, 2.0, 1.0, 0.0, 1.0, 0.0, 0.0, 0.0, 0.0, 0.0, 0.0, 0.0, 0.0, 2.0, 0.0], \"yaxis\": \"y\"}, {\"alignmentgroup\": \"True\", \"customdata\": [[\"Albania\", 1.0], [\"Andorra\", 2.0], [\"Austria\", 25.0], [\"Belarus\", 0.0], [\"Belgium\", 22.0], [\"Bosnia & Herzegovina\", 0.0], [\"Bulgaria\", 3.0], [\"Croatia\", 1.0], [\"Cyprus\", 3.0], [\"Czechia\", 2.0], [\"Denmark\", 20.0], [\"Estonia\", 3.0], [\"Finland\", 6.0], [\"France\", 7.0], [\"Germany\", 48.0], [\"Gibraltar\", 4.0], [\"Greece\", 1.0], [\"Hungary\", 1.0], [\"Iceland\", 43.0], [\"Ireland\", 12.0], [\"Italy\", 6.0], [\"Latvia\", 1.0], [\"Liechtenstein\", null], [\"Lithuania\", 1.0], [\"Luxembourg\", 12.0], [\"Macedonia\", 3.0], [\"Malta\", 4.0], [\"Moldova (the Republic of)\", 1.0], [\"Monaco\", null], [\"Montenegro\", 1.0], [\"Netherlands\", 8.0], [\"Norway\", 11.0], [\"Poland\", 2.0], [\"Portugal\", 2.0], [\"Romania\", 1.0], [\"Russian Federation\", 0.0], [\"San Marino\", null], [\"Serbia\", 1.0], [\"Slovakia\", 1.0], [\"Slovenia\", 6.0], [\"Spain\", 5.0], [\"Sweden\", 10.0], [\"Switzerland\", 20.0], [\"UK\", 12.0], [\"Ukraine\", 1.0]], \"hoverlabel\": {\"namelength\": 0}, \"hovertemplate\": \"Region=Europe<br>Country=%{customdata[0]}<br>Annual mean consumption of opioids<br>(kg per 100,000 population)=%{customdata[1]}\", \"legendgroup\": \"Region=Europe\", \"marker\": {\"color\": \"#EF553B\"}, \"name\": \"Region=Europe\", \"offsetgroup\": \"Region=Europe\", \"orientation\": \"v\", \"showlegend\": true, \"textposition\": \"auto\", \"type\": \"bar\", \"x\": [\"Albania\", \"Andorra\", \"Austria\", \"Belarus\", \"Belgium\", \"Bosnia & Herzegovina\", \"Bulgaria\", \"Croatia\", \"Cyprus\", \"Czechia\", \"Denmark\", \"Estonia\", \"Finland\", \"France\", \"Germany\", \"Gibraltar\", \"Greece\", \"Hungary\", \"Iceland\", \"Ireland\", \"Italy\", \"Latvia\", \"Liechtenstein\", \"Lithuania\", \"Luxembourg\", \"Macedonia\", \"Malta\", \"Moldova (the Republic of)\", \"Monaco\", \"Montenegro\", \"Netherlands\", \"Norway\", \"Poland\", \"Portugal\", \"Romania\", \"Russian Federation\", \"San Marino\", \"Serbia\", \"Slovakia\", \"Slovenia\", \"Spain\", \"Sweden\", \"Switzerland\", \"UK\", \"Ukraine\"], \"xaxis\": \"x\", \"y\": [1.0, 2.0, 25.0, 0.0, 22.0, 0.0, 3.0, 1.0, 3.0, 2.0, 20.0, 3.0, 6.0, 7.0, 48.0, 4.0, 1.0, 1.0, 43.0, 12.0, 6.0, 1.0, null, 1.0, 12.0, 3.0, 4.0, 1.0, null, 1.0, 8.0, 11.0, 2.0, 2.0, 1.0, 0.0, null, 1.0, 1.0, 6.0, 5.0, 10.0, 20.0, 12.0, 1.0], \"yaxis\": \"y\"}, {\"alignmentgroup\": \"True\", \"customdata\": [[\"Algeria\", 0.0], [\"Angola\", 0.0], [\"Ascension Island\", 0.0], [\"Benin\", 0.0], [\"Botswana\", 0.0], [\"Burkina Faso\", 0.0], [\"Burundi\", 0.0], [\"Cabo Verde\", 0.0], [\"Cameroon\", 0.0], [\"Central African Republic\", 0.0], [\"Chad\", 0.0], [\"Comoros\", 0.0], [\"Congo\", 0.0], [\"C\\u00f4te d'Ivoire\", 0.0], [\"Democratic Republic of the Congo\", 0.0], [\"Djibouti\", 0.0], [\"Egypt\", 0.0], [\"Equatorial Guinea\", 0.0], [\"Eritrea\", 0.0], [\"Eswatini\", 0.0], [\"Ethiopia\", 0.0], [\"Gabon\", 0.0], [\"Gambia\", 0.0], [\"Ghana\", 0.0], [\"Guinea\", 0.0], [\"Guinea-Bissau\", 0.0], [\"Kenya\", 0.0], [\"Lesotho\", 0.0], [\"Liberia\", 0.0], [\"Libya\", 0.0], [\"Madagascar\", 0.0], [\"Malawi\", 0.0], [\"Mali\", 0.0], [\"Mauritania\", 0.0], [\"Mauritius\", 6.0], [\"Morocco\", 0.0], [\"Mozambique\", 0.0], [\"Namibia\", 0.0], [\"Niger\", 0.0], [\"Nigeria\", 0.0], [\"Rwanda\", 0.0], [\"Saint Helena\", 1.0], [\"Sao Tome & Principe\", 0.0], [\"Senegal\", 0.0], [\"Seychelles\", 2.0], [\"Sierra Leone\", 0.0], [\"Somalia\", 0.0], [\"South Africa\", 2.0], [\"South Sudan\", 0.0], [\"Sudan\", 0.0], [\"Tanzania (United Republic of)\", 0.0], [\"Togo\", 0.0], [\"Tristan da Cunha\", 0.0], [\"Tunisia\", 0.0], [\"Uganda\", 0.0], [\"Zambia\", 0.0], [\"Zimbabwe\", 0.0]], \"hoverlabel\": {\"namelength\": 0}, \"hovertemplate\": \"Region=Africa<br>Country=%{customdata[0]}<br>Annual mean consumption of opioids<br>(kg per 100,000 population)=%{customdata[1]}\", \"legendgroup\": \"Region=Africa\", \"marker\": {\"color\": \"#00cc96\"}, \"name\": \"Region=Africa\", \"offsetgroup\": \"Region=Africa\", \"orientation\": \"v\", \"showlegend\": true, \"textposition\": \"auto\", \"type\": \"bar\", \"x\": [\"Algeria\", \"Angola\", \"Ascension Island\", \"Benin\", \"Botswana\", \"Burkina Faso\", \"Burundi\", \"Cabo Verde\", \"Cameroon\", \"Central African Republic\", \"Chad\", \"Comoros\", \"Congo\", \"C\\u00f4te d'Ivoire\", \"Democratic Republic of the Congo\", \"Djibouti\", \"Egypt\", \"Equatorial Guinea\", \"Eritrea\", \"Eswatini\", \"Ethiopia\", \"Gabon\", \"Gambia\", \"Ghana\", \"Guinea\", \"Guinea-Bissau\", \"Kenya\", \"Lesotho\", \"Liberia\", \"Libya\", \"Madagascar\", \"Malawi\", \"Mali\", \"Mauritania\", \"Mauritius\", \"Morocco\", \"Mozambique\", \"Namibia\", \"Niger\", \"Nigeria\", \"Rwanda\", \"Saint Helena\", \"Sao Tome & Principe\", \"Senegal\", \"Seychelles\", \"Sierra Leone\", \"Somalia\", \"South Africa\", \"South Sudan\", \"Sudan\", \"Tanzania (United Republic of)\", \"Togo\", \"Tristan da Cunha\", \"Tunisia\", \"Uganda\", \"Zambia\", \"Zimbabwe\"], \"xaxis\": \"x\", \"y\": [0.0, 0.0, 0.0, 0.0, 0.0, 0.0, 0.0, 0.0, 0.0, 0.0, 0.0, 0.0, 0.0, 0.0, 0.0, 0.0, 0.0, 0.0, 0.0, 0.0, 0.0, 0.0, 0.0, 0.0, 0.0, 0.0, 0.0, 0.0, 0.0, 0.0, 0.0, 0.0, 0.0, 0.0, 6.0, 0.0, 0.0, 0.0, 0.0, 0.0, 0.0, 1.0, 0.0, 0.0, 2.0, 0.0, 0.0, 2.0, 0.0, 0.0, 0.0, 0.0, 0.0, 0.0, 0.0, 0.0, 0.0], \"yaxis\": \"y\"}, {\"alignmentgroup\": \"True\", \"customdata\": [[\"Anguilla\", 1.0], [\"Antigua & Barbuda\", 0.0], [\"Argentina\", 1.0], [\"Aruba\", 0.0], [\"Bahamas\", 2.0], [\"Barbados\", 3.0], [\"Belize\", 0.0], [\"Bermuda\", 0.0], [\"Bolivia (Plurinational State of)\", 0.0], [\"Brazil\", 1.0], [\"British Virgin Islands\", 0.0], [\"Canada\", 33.0], [\"Cayman Islands\", 0.0], [\"Chile\", 1.0], [\"Colombia\", 1.0], [\"Costa Rica\", 1.0], [\"Cuba\", 0.0], [\"Cura\\u00e7ao\", 0.0], [\"Dominica\", 1.0], [\"Dominican Republic\", 0.0], [\"Ecuador\", 0.0], [\"El Salvador\", 0.0], [\"Falkland Islands\", 8.0], [\"Grenada\", 0.0], [\"Guatemala\", 0.0], [\"Guyana\", 1.0], [\"Haiti\", 0.0], [\"Honduras\", 0.0], [\"Jamaica\", 1.0], [\"Mexico\", 0.0], [\"Montserrat\", 2.0], [\"Nicaragua\", 0.0], [\"Panama\", 0.0], [\"Paraguay\", 0.0], [\"Peru\", 0.0], [\"Saint Kitts & Nevis\", 0.0], [\"Saint Lucia\", 0.0], [\"Saint Vincent & the Grenadines\", 1.0], [\"Sint Maarten\", 3.0], [\"Suriname\", 0.0], [\"Trinidad & Tobago\", 1.0], [\"Turks & Caicos Islands\", 1.0], [\"USA\", 40.0], [\"Uruguay\", 1.0], [\"Venezuela (Bolivarian Rep. of)\", 0.0]], \"hoverlabel\": {\"namelength\": 0}, \"hovertemplate\": \"Region=America<br>Country=%{customdata[0]}<br>Annual mean consumption of opioids<br>(kg per 100,000 population)=%{customdata[1]}\", \"legendgroup\": \"Region=America\", \"marker\": {\"color\": \"#ab63fa\"}, \"name\": \"Region=America\", \"offsetgroup\": \"Region=America\", \"orientation\": \"v\", \"showlegend\": true, \"textposition\": \"auto\", \"type\": \"bar\", \"x\": [\"Anguilla\", \"Antigua & Barbuda\", \"Argentina\", \"Aruba\", \"Bahamas\", \"Barbados\", \"Belize\", \"Bermuda\", \"Bolivia (Plurinational State of)\", \"Brazil\", \"British Virgin Islands\", \"Canada\", \"Cayman Islands\", \"Chile\", \"Colombia\", \"Costa Rica\", \"Cuba\", \"Cura\\u00e7ao\", \"Dominica\", \"Dominican Republic\", \"Ecuador\", \"El Salvador\", \"Falkland Islands\", \"Grenada\", \"Guatemala\", \"Guyana\", \"Haiti\", \"Honduras\", \"Jamaica\", \"Mexico\", \"Montserrat\", \"Nicaragua\", \"Panama\", \"Paraguay\", \"Peru\", \"Saint Kitts & Nevis\", \"Saint Lucia\", \"Saint Vincent & the Grenadines\", \"Sint Maarten\", \"Suriname\", \"Trinidad & Tobago\", \"Turks & Caicos Islands\", \"USA\", \"Uruguay\", \"Venezuela (Bolivarian Rep. of)\"], \"xaxis\": \"x\", \"y\": [1.0, 0.0, 1.0, 0.0, 2.0, 3.0, 0.0, 0.0, 0.0, 1.0, 0.0, 33.0, 0.0, 1.0, 1.0, 1.0, 0.0, 0.0, 1.0, 0.0, 0.0, 0.0, 8.0, 0.0, 0.0, 1.0, 0.0, 0.0, 1.0, 0.0, 2.0, 0.0, 0.0, 0.0, 0.0, 0.0, 0.0, 1.0, 3.0, 0.0, 1.0, 1.0, 40.0, 1.0, 0.0], \"yaxis\": \"y\"}, {\"alignmentgroup\": \"True\", \"customdata\": [[\"Australia\", 19.0], [\"Christmas Island\", 2.0], [\"Cocos (Keeling) Islands\", 0.0], [\"Cook Islands\", 1.0], [\"Fiji\", 0.0], [\"French Polynesia\", 2.0], [\"Kiribati\", 0.0], [\"Marshall Islands\", 0.0], [\"Micronesia (Federated States of)\", 0.0], [\"Nauru\", 0.0], [\"New Caledonia\", 2.0], [\"New Zealand\", 15.0], [\"Niue\", 1.0], [\"Norfolk Island\", 4.0], [\"Palau\", 2.0], [\"Papua New Guinea\", 0.0], [\"Samoa\", 0.0], [\"Solomon Islands\", 0.0], [\"Tonga\", 0.0], [\"Tuvalu\", 0.0], [\"Vanuatu\", 0.0], [\"Wallis & Futuna Islands\", 5.0]], \"hoverlabel\": {\"namelength\": 0}, \"hovertemplate\": \"Region=Oceania<br>Country=%{customdata[0]}<br>Annual mean consumption of opioids<br>(kg per 100,000 population)=%{customdata[1]}\", \"legendgroup\": \"Region=Oceania\", \"marker\": {\"color\": \"#FFA15A\"}, \"name\": \"Region=Oceania\", \"offsetgroup\": \"Region=Oceania\", \"orientation\": \"v\", \"showlegend\": true, \"textposition\": \"auto\", \"type\": \"bar\", \"x\": [\"Australia\", \"Christmas Island\", \"Cocos (Keeling) Islands\", \"Cook Islands\", \"Fiji\", \"French Polynesia\", \"Kiribati\", \"Marshall Islands\", \"Micronesia (Federated States of)\", \"Nauru\", \"New Caledonia\", \"New Zealand\", \"Niue\", \"Norfolk Island\", \"Palau\", \"Papua New Guinea\", \"Samoa\", \"Solomon Islands\", \"Tonga\", \"Tuvalu\", \"Vanuatu\", \"Wallis & Futuna Islands\"], \"xaxis\": \"x\", \"y\": [19.0, 2.0, 0.0, 1.0, 0.0, 2.0, 0.0, 0.0, 0.0, 0.0, 2.0, 15.0, 1.0, 4.0, 2.0, 0.0, 0.0, 0.0, 0.0, 0.0, 0.0, 5.0], \"yaxis\": \"y\"}],\n",
       "                        {\"barmode\": \"relative\", \"height\": 600, \"legend\": {\"tracegroupgap\": 0}, \"margin\": {\"t\": 60}, \"template\": {\"data\": {\"bar\": [{\"error_x\": {\"color\": \"#2a3f5f\"}, \"error_y\": {\"color\": \"#2a3f5f\"}, \"marker\": {\"line\": {\"color\": \"#E5ECF6\", \"width\": 0.5}}, \"type\": \"bar\"}], \"barpolar\": [{\"marker\": {\"line\": {\"color\": \"#E5ECF6\", \"width\": 0.5}}, \"type\": \"barpolar\"}], \"carpet\": [{\"aaxis\": {\"endlinecolor\": \"#2a3f5f\", \"gridcolor\": \"white\", \"linecolor\": \"white\", \"minorgridcolor\": \"white\", \"startlinecolor\": \"#2a3f5f\"}, \"baxis\": {\"endlinecolor\": \"#2a3f5f\", \"gridcolor\": \"white\", \"linecolor\": \"white\", \"minorgridcolor\": \"white\", \"startlinecolor\": \"#2a3f5f\"}, \"type\": \"carpet\"}], \"choropleth\": [{\"colorbar\": {\"outlinewidth\": 0, \"ticks\": \"\"}, \"type\": \"choropleth\"}], \"contour\": [{\"colorbar\": {\"outlinewidth\": 0, \"ticks\": \"\"}, \"colorscale\": [[0.0, \"#0d0887\"], [0.1111111111111111, \"#46039f\"], [0.2222222222222222, \"#7201a8\"], [0.3333333333333333, \"#9c179e\"], [0.4444444444444444, \"#bd3786\"], [0.5555555555555556, \"#d8576b\"], [0.6666666666666666, \"#ed7953\"], [0.7777777777777778, \"#fb9f3a\"], [0.8888888888888888, \"#fdca26\"], [1.0, \"#f0f921\"]], \"type\": \"contour\"}], \"contourcarpet\": [{\"colorbar\": {\"outlinewidth\": 0, \"ticks\": \"\"}, \"type\": \"contourcarpet\"}], \"heatmap\": [{\"colorbar\": {\"outlinewidth\": 0, \"ticks\": \"\"}, \"colorscale\": [[0.0, \"#0d0887\"], [0.1111111111111111, \"#46039f\"], [0.2222222222222222, \"#7201a8\"], [0.3333333333333333, \"#9c179e\"], [0.4444444444444444, \"#bd3786\"], [0.5555555555555556, \"#d8576b\"], [0.6666666666666666, \"#ed7953\"], [0.7777777777777778, \"#fb9f3a\"], [0.8888888888888888, \"#fdca26\"], [1.0, \"#f0f921\"]], \"type\": \"heatmap\"}], \"heatmapgl\": [{\"colorbar\": {\"outlinewidth\": 0, \"ticks\": \"\"}, \"colorscale\": [[0.0, \"#0d0887\"], [0.1111111111111111, \"#46039f\"], [0.2222222222222222, \"#7201a8\"], [0.3333333333333333, \"#9c179e\"], [0.4444444444444444, \"#bd3786\"], [0.5555555555555556, \"#d8576b\"], [0.6666666666666666, \"#ed7953\"], [0.7777777777777778, \"#fb9f3a\"], [0.8888888888888888, \"#fdca26\"], [1.0, \"#f0f921\"]], \"type\": \"heatmapgl\"}], \"histogram\": [{\"marker\": {\"colorbar\": {\"outlinewidth\": 0, \"ticks\": \"\"}}, \"type\": \"histogram\"}], \"histogram2d\": [{\"colorbar\": {\"outlinewidth\": 0, \"ticks\": \"\"}, \"colorscale\": [[0.0, \"#0d0887\"], [0.1111111111111111, \"#46039f\"], [0.2222222222222222, \"#7201a8\"], [0.3333333333333333, \"#9c179e\"], [0.4444444444444444, \"#bd3786\"], [0.5555555555555556, \"#d8576b\"], [0.6666666666666666, \"#ed7953\"], [0.7777777777777778, \"#fb9f3a\"], [0.8888888888888888, \"#fdca26\"], [1.0, \"#f0f921\"]], \"type\": \"histogram2d\"}], \"histogram2dcontour\": [{\"colorbar\": {\"outlinewidth\": 0, \"ticks\": \"\"}, \"colorscale\": [[0.0, \"#0d0887\"], [0.1111111111111111, \"#46039f\"], [0.2222222222222222, \"#7201a8\"], [0.3333333333333333, \"#9c179e\"], [0.4444444444444444, \"#bd3786\"], [0.5555555555555556, \"#d8576b\"], [0.6666666666666666, \"#ed7953\"], [0.7777777777777778, \"#fb9f3a\"], [0.8888888888888888, \"#fdca26\"], [1.0, \"#f0f921\"]], \"type\": \"histogram2dcontour\"}], \"mesh3d\": [{\"colorbar\": {\"outlinewidth\": 0, \"ticks\": \"\"}, \"type\": \"mesh3d\"}], \"parcoords\": [{\"line\": {\"colorbar\": {\"outlinewidth\": 0, \"ticks\": \"\"}}, \"type\": \"parcoords\"}], \"pie\": [{\"automargin\": true, \"type\": \"pie\"}], \"scatter\": [{\"marker\": {\"colorbar\": {\"outlinewidth\": 0, \"ticks\": \"\"}}, \"type\": \"scatter\"}], \"scatter3d\": [{\"line\": {\"colorbar\": {\"outlinewidth\": 0, \"ticks\": \"\"}}, \"marker\": {\"colorbar\": {\"outlinewidth\": 0, \"ticks\": \"\"}}, \"type\": \"scatter3d\"}], \"scattercarpet\": [{\"marker\": {\"colorbar\": {\"outlinewidth\": 0, \"ticks\": \"\"}}, \"type\": \"scattercarpet\"}], \"scattergeo\": [{\"marker\": {\"colorbar\": {\"outlinewidth\": 0, \"ticks\": \"\"}}, \"type\": \"scattergeo\"}], \"scattergl\": [{\"marker\": {\"colorbar\": {\"outlinewidth\": 0, \"ticks\": \"\"}}, \"type\": \"scattergl\"}], \"scattermapbox\": [{\"marker\": {\"colorbar\": {\"outlinewidth\": 0, \"ticks\": \"\"}}, \"type\": \"scattermapbox\"}], \"scatterpolar\": [{\"marker\": {\"colorbar\": {\"outlinewidth\": 0, \"ticks\": \"\"}}, \"type\": \"scatterpolar\"}], \"scatterpolargl\": [{\"marker\": {\"colorbar\": {\"outlinewidth\": 0, \"ticks\": \"\"}}, \"type\": \"scatterpolargl\"}], \"scatterternary\": [{\"marker\": {\"colorbar\": {\"outlinewidth\": 0, \"ticks\": \"\"}}, \"type\": \"scatterternary\"}], \"surface\": [{\"colorbar\": {\"outlinewidth\": 0, \"ticks\": \"\"}, \"colorscale\": [[0.0, \"#0d0887\"], [0.1111111111111111, \"#46039f\"], [0.2222222222222222, \"#7201a8\"], [0.3333333333333333, \"#9c179e\"], [0.4444444444444444, \"#bd3786\"], [0.5555555555555556, \"#d8576b\"], [0.6666666666666666, \"#ed7953\"], [0.7777777777777778, \"#fb9f3a\"], [0.8888888888888888, \"#fdca26\"], [1.0, \"#f0f921\"]], \"type\": \"surface\"}], \"table\": [{\"cells\": {\"fill\": {\"color\": \"#EBF0F8\"}, \"line\": {\"color\": \"white\"}}, \"header\": {\"fill\": {\"color\": \"#C8D4E3\"}, \"line\": {\"color\": \"white\"}}, \"type\": \"table\"}]}, \"layout\": {\"annotationdefaults\": {\"arrowcolor\": \"#2a3f5f\", \"arrowhead\": 0, \"arrowwidth\": 1}, \"coloraxis\": {\"colorbar\": {\"outlinewidth\": 0, \"ticks\": \"\"}}, \"colorscale\": {\"diverging\": [[0, \"#8e0152\"], [0.1, \"#c51b7d\"], [0.2, \"#de77ae\"], [0.3, \"#f1b6da\"], [0.4, \"#fde0ef\"], [0.5, \"#f7f7f7\"], [0.6, \"#e6f5d0\"], [0.7, \"#b8e186\"], [0.8, \"#7fbc41\"], [0.9, \"#4d9221\"], [1, \"#276419\"]], \"sequential\": [[0.0, \"#0d0887\"], [0.1111111111111111, \"#46039f\"], [0.2222222222222222, \"#7201a8\"], [0.3333333333333333, \"#9c179e\"], [0.4444444444444444, \"#bd3786\"], [0.5555555555555556, \"#d8576b\"], [0.6666666666666666, \"#ed7953\"], [0.7777777777777778, \"#fb9f3a\"], [0.8888888888888888, \"#fdca26\"], [1.0, \"#f0f921\"]], \"sequentialminus\": [[0.0, \"#0d0887\"], [0.1111111111111111, \"#46039f\"], [0.2222222222222222, \"#7201a8\"], [0.3333333333333333, \"#9c179e\"], [0.4444444444444444, \"#bd3786\"], [0.5555555555555556, \"#d8576b\"], [0.6666666666666666, \"#ed7953\"], [0.7777777777777778, \"#fb9f3a\"], [0.8888888888888888, \"#fdca26\"], [1.0, \"#f0f921\"]]}, \"colorway\": [\"#636efa\", \"#EF553B\", \"#00cc96\", \"#ab63fa\", \"#FFA15A\", \"#19d3f3\", \"#FF6692\", \"#B6E880\", \"#FF97FF\", \"#FECB52\"], \"font\": {\"color\": \"#2a3f5f\"}, \"geo\": {\"bgcolor\": \"white\", \"lakecolor\": \"white\", \"landcolor\": \"#E5ECF6\", \"showlakes\": true, \"showland\": true, \"subunitcolor\": \"white\"}, \"hoverlabel\": {\"align\": \"left\"}, \"hovermode\": \"closest\", \"mapbox\": {\"style\": \"light\"}, \"paper_bgcolor\": \"white\", \"plot_bgcolor\": \"#E5ECF6\", \"polar\": {\"angularaxis\": {\"gridcolor\": \"white\", \"linecolor\": \"white\", \"ticks\": \"\"}, \"bgcolor\": \"#E5ECF6\", \"radialaxis\": {\"gridcolor\": \"white\", \"linecolor\": \"white\", \"ticks\": \"\"}}, \"scene\": {\"xaxis\": {\"backgroundcolor\": \"#E5ECF6\", \"gridcolor\": \"white\", \"gridwidth\": 2, \"linecolor\": \"white\", \"showbackground\": true, \"ticks\": \"\", \"zerolinecolor\": \"white\"}, \"yaxis\": {\"backgroundcolor\": \"#E5ECF6\", \"gridcolor\": \"white\", \"gridwidth\": 2, \"linecolor\": \"white\", \"showbackground\": true, \"ticks\": \"\", \"zerolinecolor\": \"white\"}, \"zaxis\": {\"backgroundcolor\": \"#E5ECF6\", \"gridcolor\": \"white\", \"gridwidth\": 2, \"linecolor\": \"white\", \"showbackground\": true, \"ticks\": \"\", \"zerolinecolor\": \"white\"}}, \"shapedefaults\": {\"line\": {\"color\": \"#2a3f5f\"}}, \"ternary\": {\"aaxis\": {\"gridcolor\": \"white\", \"linecolor\": \"white\", \"ticks\": \"\"}, \"baxis\": {\"gridcolor\": \"white\", \"linecolor\": \"white\", \"ticks\": \"\"}, \"bgcolor\": \"#E5ECF6\", \"caxis\": {\"gridcolor\": \"white\", \"linecolor\": \"white\", \"ticks\": \"\"}}, \"title\": {\"x\": 0.05}, \"xaxis\": {\"automargin\": true, \"gridcolor\": \"white\", \"linecolor\": \"white\", \"ticks\": \"\", \"title\": {\"standoff\": 15}, \"zerolinecolor\": \"white\", \"zerolinewidth\": 2}, \"yaxis\": {\"automargin\": true, \"gridcolor\": \"white\", \"linecolor\": \"white\", \"ticks\": \"\", \"title\": {\"standoff\": 15}, \"zerolinecolor\": \"white\", \"zerolinewidth\": 2}}}, \"xaxis\": {\"anchor\": \"y\", \"categoryorder\": \"total descending\", \"domain\": [0.0, 1.0], \"tickangle\": -45, \"title\": {\"text\": \"Country\"}}, \"yaxis\": {\"anchor\": \"x\", \"domain\": [0.0, 1.0], \"title\": {\"text\": \"Annual mean consumption of opioids<br>(kg per 100,000 population)\"}}},\n",
       "                        {\"responsive\": true}\n",
       "                    ).then(function(){\n",
       "                            \n",
       "var gd = document.getElementById('9a8b79af-b0fe-46d2-8837-1539908619b3');\n",
       "var x = new MutationObserver(function (mutations, observer) {{\n",
       "        var display = window.getComputedStyle(gd).display;\n",
       "        if (!display || display === 'none') {{\n",
       "            console.log([gd, 'removed!']);\n",
       "            Plotly.purge(gd);\n",
       "            observer.disconnect();\n",
       "        }}\n",
       "}});\n",
       "\n",
       "// Listen for the removal of the full notebook cells\n",
       "var notebookContainer = gd.closest('#notebook-container');\n",
       "if (notebookContainer) {{\n",
       "    x.observe(notebookContainer, {childList: true});\n",
       "}}\n",
       "\n",
       "// Listen for the clearing of the current output cell\n",
       "var outputEl = gd.closest('.output');\n",
       "if (outputEl) {{\n",
       "    x.observe(outputEl, {childList: true});\n",
       "}}\n",
       "\n",
       "                        })\n",
       "                };\n",
       "                });\n",
       "            </script>\n",
       "        </div>"
      ]
     },
     "metadata": {},
     "output_type": "display_data"
    }
   ],
   "source": [
    "fig1 = px.bar(df, x='Country', y='meanop_pop',\n",
    "             hover_data=['Country', 'meanop_pop'], color='Region',\n",
    "             labels={'meanop_pop':'Annual mean consumption of opioids<br>(kg per 100,000 population)'})\n",
    "fig1.update_layout(xaxis={'categoryorder':'total descending'}, xaxis_tickangle=-45)\n",
    "fig1.show()\n",
    "\n",
    "# Questions to ask Caroline: \n",
    "# 1. remove 'Country' from x-axsis \n",
    "# 2. ordering of bars, I tried using 'total descending' but this doesn't seem to have worked?\n",
    "# 3. reduce font size for countries? or how else could I fit? (i.e. every second Country name?)\n",
    "# 4. How to get legend to just have 'Asia' and not have 'Region'\n",
    "# 5. is it possible to just plot a certain number of Countries? To do this, do I use 'if'?? "
   ]
  },
  {
   "cell_type": "markdown",
   "metadata": {},
   "source": [
    "# Mapping global opioid consumption data on a choropleth map"
   ]
  },
  {
   "cell_type": "code",
   "execution_count": 69,
   "metadata": {},
   "outputs": [
    {
     "data": {
      "application/vnd.plotly.v1+json": {
       "config": {
        "plotlyServerURL": "https://plot.ly"
       },
       "data": [
        {
         "autocolorscale": false,
         "colorbar": {
          "ticks": "outside",
          "ticktext": [
           "0",
           ".00005-.0028",
           ".003-.046",
           ".05-0.15",
           ".16-.33",
           ".33-.51",
           ".55-1.02",
           "1.03-1.76",
           "1.8-5.6",
           "6.2-48"
          ],
          "tickvals": [
           1,
           2,
           3,
           4,
           5,
           6,
           7,
           8,
           9,
           10
          ],
          "title": {
           "text": "kg per<br>100,000 population<br>"
          }
         },
         "colorscale": [
          [
           0,
           "#440154"
          ],
          [
           0.1111111111111111,
           "#482878"
          ],
          [
           0.2222222222222222,
           "#3e4989"
          ],
          [
           0.3333333333333333,
           "#31688e"
          ],
          [
           0.4444444444444444,
           "#26828e"
          ],
          [
           0.5555555555555556,
           "#1f9e89"
          ],
          [
           0.6666666666666666,
           "#35b779"
          ],
          [
           0.7777777777777778,
           "#6ece58"
          ],
          [
           0.8888888888888888,
           "#b5de2b"
          ],
          [
           1,
           "#fde725"
          ]
         ],
         "locations": [
          "AFG",
          "ALB",
          "DZA",
          "AND",
          "AGO",
          "AIA",
          "ATG",
          "ARG",
          "ARM",
          "ABW",
          "SHN",
          "AUS",
          "AUT",
          "AZE",
          "BHS",
          "BHR",
          "BGD",
          "BRB",
          "BLR",
          "BEL",
          "BLZ",
          "BEN",
          "BMU",
          "BTN",
          "BOL",
          "BIH",
          "BWA",
          "BRA",
          "VGB",
          "BRN",
          "BGR",
          "BKA",
          "BDI",
          "CPV",
          "KHM",
          "CMR",
          "CAN",
          "CYM",
          "CAF",
          "TCD",
          "CHL",
          "CHN",
          "HKG",
          "MAC",
          "CXR",
          "CCK",
          "COL",
          "COM",
          "COG",
          "COK",
          "CRI",
          "HRV",
          "CUB",
          "CUW",
          "CYP",
          "CZE",
          "CIV",
          "PRK",
          "COD",
          "DNK",
          "DJI",
          "DMA",
          "DOM",
          "ECU",
          "EGY",
          "SLV",
          "GNQ",
          "ERI",
          "EST",
          "SWZ",
          "ETH",
          "FLK",
          "FJI",
          "FIN",
          "FRA",
          "PYF",
          "GAB",
          "GMB",
          "GEO",
          "DEU",
          "GHA",
          "GIB",
          "GRC",
          "GRD",
          "GTM",
          "GIN",
          "GNB",
          "GUY",
          "HTI",
          "HND",
          "HUN",
          "ISL",
          "IND",
          "IDN",
          "IRN",
          "IRQ",
          "IRL",
          "ISR",
          "ITA",
          "JAM",
          "JPN",
          "JOR",
          "KAZ",
          "KEN",
          "KIR",
          "KWT",
          "KGZ",
          "LAO",
          "LVA",
          "LBN",
          "LSO",
          "LBR",
          "LBY",
          "LIE",
          "LTU",
          "LUX",
          "MKD",
          "MDG",
          "MWI",
          "MYS",
          "MDV",
          "MLI",
          "MLT",
          "MHL",
          "MRT",
          "MUS",
          "MEX",
          "MDA",
          "FSM",
          "MCO",
          "MNG",
          "MNE",
          "MSR",
          "MAR",
          "MOZ",
          "MMR",
          "NAM",
          "NRU",
          "NPL",
          "NLD",
          "NCL",
          "NZL",
          "NIC",
          "NER",
          "NGA",
          "NIU",
          "NFK",
          "NOR",
          "OMN",
          "PAK",
          "PLW",
          "PSE",
          "PAN",
          "PNG",
          "PRY",
          "PER",
          "PHL",
          "POL",
          "PRT",
          "QAT",
          "KOR",
          "ROU",
          "RUS",
          "RWA",
          "SHN",
          "KNA",
          "LCA",
          "VCT",
          "WSM",
          "SMR",
          "STP",
          "SAU",
          "SEN",
          "SRB",
          "SYC",
          "SLE",
          "SGP",
          "SXM",
          "SVK",
          "SVN",
          "SLB",
          "SOM",
          "ZAF",
          "SSD",
          "ESP",
          "LKA",
          "SDN",
          "SUR",
          "SWE",
          "CHE",
          "SYR",
          "TJK",
          "TZA",
          "THA",
          "TLS",
          "TGO",
          "TON",
          "TTO",
          "SHN",
          "TUN",
          "TUR",
          "TKM",
          "TCA",
          "TUV",
          "GBR",
          "USA",
          "UGA",
          "UKR",
          "ARE",
          "URY",
          "UZB",
          "VUT",
          "VEN",
          "VNM",
          "WLF",
          "YEM",
          "ZMB",
          "ZWE"
         ],
         "marker": {
          "line": {
           "color": "darkgray",
           "width": 0.5
          }
         },
         "reversescale": false,
         "text": [
          "Afghanistan",
          "Albania",
          "Algeria",
          "Andorra",
          "Angola",
          "Anguilla",
          "Antigua & Barbuda",
          "Argentina",
          "Armenia",
          "Aruba",
          "Ascension Island",
          "Australia",
          "Austria",
          "Azerbaijan",
          "Bahamas",
          "Bahrain",
          "Bangladesh",
          "Barbados",
          "Belarus",
          "Belgium",
          "Belize",
          "Benin",
          "Bermuda",
          "Bhutan",
          "Bolivia (Plurinational State of)",
          "Bosnia & Herzegovina",
          "Botswana",
          "Brazil",
          "British Virgin Islands",
          "Brunei Darussalam",
          "Bulgaria",
          "Burkina Faso",
          "Burundi",
          "Cabo Verde",
          "Cambodia",
          "Cameroon",
          "Canada",
          "Cayman Islands",
          "Central African Republic",
          "Chad",
          "Chile",
          "China",
          "China, Hong Kong SAR",
          "China, Macao SAR",
          "Christmas Island",
          "Cocos (Keeling) Islands",
          "Colombia",
          "Comoros",
          "Congo",
          "Cook Islands",
          "Costa Rica",
          "Croatia",
          "Cuba",
          "Curaçao",
          "Cyprus",
          "Czechia",
          "Côte d'Ivoire",
          "Democratic People's Republic of Korea",
          "Democratic Republic of the Congo",
          "Denmark",
          "Djibouti",
          "Dominica",
          "Dominican Republic",
          "Ecuador",
          "Egypt",
          "El Salvador",
          "Equatorial Guinea",
          "Eritrea",
          "Estonia",
          "Eswatini",
          "Ethiopia",
          "Falkland Islands",
          "Fiji",
          "Finland",
          "France",
          "French Polynesia",
          "Gabon",
          "Gambia",
          "Georgia",
          "Germany",
          "Ghana",
          "Gibraltar",
          "Greece",
          "Grenada",
          "Guatemala",
          "Guinea",
          "Guinea-Bissau",
          "Guyana",
          "Haiti",
          "Honduras",
          "Hungary",
          "Iceland",
          "India",
          "Indonesia",
          "Iran (Islamic Republic of)",
          "Iraq",
          "Ireland",
          "Israel",
          "Italy",
          "Jamaica",
          "Japan",
          "Jordan",
          "Kazakhstan",
          "Kenya",
          "Kiribati",
          "Kuwait",
          "Kyrgyzstan",
          "Lao People's Democratic Republic",
          "Latvia",
          "Lebanon",
          "Lesotho",
          "Liberia",
          "Libya",
          "Liechtenstein",
          "Lithuania",
          "Luxembourg",
          "Macedonia",
          "Madagascar",
          "Malawi",
          "Malaysia",
          "Maldives",
          "Mali",
          "Malta",
          "Marshall Islands",
          "Mauritania",
          "Mauritius",
          "Mexico",
          "Micronesia (Federated States of)",
          "Moldova (the Republic of)",
          "Monaco",
          "Mongolia",
          "Montenegro",
          "Montserrat",
          "Morocco",
          "Mozambique",
          "Myanmar",
          "Namibia",
          "Nauru",
          "Nepal",
          "Netherlands",
          "New Caledonia",
          "New Zealand",
          "Nicaragua",
          "Niger",
          "Nigeria",
          "Niue",
          "Norfolk Island",
          "Norway",
          "Oman",
          "Pakistan",
          "Palau",
          "Palestine, State of ",
          "Panama",
          "Papua New Guinea",
          "Paraguay",
          "Peru",
          "Philippines",
          "Poland",
          "Portugal",
          "Qatar",
          "Republic of Korea",
          "Romania",
          "Russian Federation",
          "Rwanda",
          "Saint Helena",
          "Saint Kitts & Nevis",
          "Saint Lucia",
          "Saint Vincent & the Grenadines",
          "Samoa",
          "San Marino",
          "Sao Tome & Principe",
          "Saudi Arabia",
          "Senegal",
          "Serbia",
          "Seychelles",
          "Sierra Leone",
          "Singapore",
          "Sint Maarten",
          "Slovakia",
          "Slovenia",
          "Solomon Islands",
          "Somalia",
          "South Africa",
          "South Sudan",
          "Spain",
          "Sri Lanka",
          "Sudan",
          "Suriname",
          "Sweden",
          "Switzerland",
          "Syrian Arab Republic",
          "Tajikistan",
          "Tanzania (United Republic of)",
          "Thailand",
          "Timor-Leste",
          "Togo",
          "Tonga",
          "Trinidad & Tobago",
          "Tristan da Cunha",
          "Tunisia",
          "Turkey",
          "Turkmenistan",
          "Turks & Caicos Islands",
          "Tuvalu",
          "UK",
          "USA",
          "Uganda",
          "Ukraine",
          "United Arab Emirates",
          "Uruguay",
          "Uzbekistan",
          "Vanuatu",
          "Venezuela (Bolivarian Rep. of)",
          "Viet Nam",
          "Wallis & Futuna Islands",
          "Yemen",
          "Zambia",
          "Zimbabwe"
         ],
         "type": "choropleth",
         "z": [
          4,
          6,
          3,
          8,
          2,
          8,
          1,
          8,
          6,
          1,
          5,
          10,
          10,
          4,
          8,
          8,
          4,
          9,
          6,
          10,
          6,
          3,
          1,
          3,
          3,
          6,
          5,
          7,
          6,
          6,
          9,
          3,
          3,
          4,
          1,
          1,
          10,
          1,
          1,
          2,
          8,
          6,
          9,
          7,
          9,
          1,
          7,
          3,
          1,
          7,
          7,
          8,
          5,
          6,
          9,
          9,
          6,
          6,
          2,
          10,
          1,
          7,
          4,
          4,
          3,
          6,
          1,
          1,
          9,
          6,
          4,
          10,
          5,
          10,
          10,
          9,
          1,
          1,
          8,
          10,
          5,
          9,
          7,
          1,
          5,
          1,
          1,
          7,
          2,
          4,
          7,
          10,
          4,
          4,
          6,
          1,
          10,
          10,
          9,
          7,
          8,
          6,
          4,
          5,
          3,
          6,
          7,
          3,
          8,
          6,
          1,
          1,
          3,
          null,
          7,
          10,
          9,
          3,
          4,
          8,
          4,
          1,
          9,
          1,
          1,
          9,
          4,
          5,
          7,
          null,
          5,
          7,
          9,
          4,
          3,
          8,
          6,
          1,
          3,
          10,
          8,
          10,
          4,
          1,
          2,
          7,
          9,
          10,
          9,
          2,
          8,
          null,
          5,
          5,
          1,
          5,
          3,
          8,
          9,
          5,
          9,
          8,
          5,
          4,
          7,
          1,
          1,
          7,
          1,
          null,
          1,
          7,
          4,
          7,
          9,
          2,
          5,
          9,
          8,
          10,
          4,
          1,
          8,
          1,
          9,
          7,
          3,
          3,
          10,
          10,
          5,
          3,
          4,
          5,
          6,
          3,
          6,
          8,
          1,
          5,
          6,
          3,
          7,
          5,
          10,
          10,
          5,
          8,
          4,
          7,
          3,
          1,
          3,
          8,
          9,
          1,
          5,
          5
         ]
        }
       ],
       "layout": {
        "geo": {
         "projection": {
          "type": "equirectangular"
         },
         "showcoastlines": false,
         "showframe": false
        },
        "template": {
         "data": {
          "bar": [
           {
            "error_x": {
             "color": "#2a3f5f"
            },
            "error_y": {
             "color": "#2a3f5f"
            },
            "marker": {
             "line": {
              "color": "#E5ECF6",
              "width": 0.5
             }
            },
            "type": "bar"
           }
          ],
          "barpolar": [
           {
            "marker": {
             "line": {
              "color": "#E5ECF6",
              "width": 0.5
             }
            },
            "type": "barpolar"
           }
          ],
          "carpet": [
           {
            "aaxis": {
             "endlinecolor": "#2a3f5f",
             "gridcolor": "white",
             "linecolor": "white",
             "minorgridcolor": "white",
             "startlinecolor": "#2a3f5f"
            },
            "baxis": {
             "endlinecolor": "#2a3f5f",
             "gridcolor": "white",
             "linecolor": "white",
             "minorgridcolor": "white",
             "startlinecolor": "#2a3f5f"
            },
            "type": "carpet"
           }
          ],
          "choropleth": [
           {
            "colorbar": {
             "outlinewidth": 0,
             "ticks": ""
            },
            "type": "choropleth"
           }
          ],
          "contour": [
           {
            "colorbar": {
             "outlinewidth": 0,
             "ticks": ""
            },
            "colorscale": [
             [
              0,
              "#0d0887"
             ],
             [
              0.1111111111111111,
              "#46039f"
             ],
             [
              0.2222222222222222,
              "#7201a8"
             ],
             [
              0.3333333333333333,
              "#9c179e"
             ],
             [
              0.4444444444444444,
              "#bd3786"
             ],
             [
              0.5555555555555556,
              "#d8576b"
             ],
             [
              0.6666666666666666,
              "#ed7953"
             ],
             [
              0.7777777777777778,
              "#fb9f3a"
             ],
             [
              0.8888888888888888,
              "#fdca26"
             ],
             [
              1,
              "#f0f921"
             ]
            ],
            "type": "contour"
           }
          ],
          "contourcarpet": [
           {
            "colorbar": {
             "outlinewidth": 0,
             "ticks": ""
            },
            "type": "contourcarpet"
           }
          ],
          "heatmap": [
           {
            "colorbar": {
             "outlinewidth": 0,
             "ticks": ""
            },
            "colorscale": [
             [
              0,
              "#0d0887"
             ],
             [
              0.1111111111111111,
              "#46039f"
             ],
             [
              0.2222222222222222,
              "#7201a8"
             ],
             [
              0.3333333333333333,
              "#9c179e"
             ],
             [
              0.4444444444444444,
              "#bd3786"
             ],
             [
              0.5555555555555556,
              "#d8576b"
             ],
             [
              0.6666666666666666,
              "#ed7953"
             ],
             [
              0.7777777777777778,
              "#fb9f3a"
             ],
             [
              0.8888888888888888,
              "#fdca26"
             ],
             [
              1,
              "#f0f921"
             ]
            ],
            "type": "heatmap"
           }
          ],
          "heatmapgl": [
           {
            "colorbar": {
             "outlinewidth": 0,
             "ticks": ""
            },
            "colorscale": [
             [
              0,
              "#0d0887"
             ],
             [
              0.1111111111111111,
              "#46039f"
             ],
             [
              0.2222222222222222,
              "#7201a8"
             ],
             [
              0.3333333333333333,
              "#9c179e"
             ],
             [
              0.4444444444444444,
              "#bd3786"
             ],
             [
              0.5555555555555556,
              "#d8576b"
             ],
             [
              0.6666666666666666,
              "#ed7953"
             ],
             [
              0.7777777777777778,
              "#fb9f3a"
             ],
             [
              0.8888888888888888,
              "#fdca26"
             ],
             [
              1,
              "#f0f921"
             ]
            ],
            "type": "heatmapgl"
           }
          ],
          "histogram": [
           {
            "marker": {
             "colorbar": {
              "outlinewidth": 0,
              "ticks": ""
             }
            },
            "type": "histogram"
           }
          ],
          "histogram2d": [
           {
            "colorbar": {
             "outlinewidth": 0,
             "ticks": ""
            },
            "colorscale": [
             [
              0,
              "#0d0887"
             ],
             [
              0.1111111111111111,
              "#46039f"
             ],
             [
              0.2222222222222222,
              "#7201a8"
             ],
             [
              0.3333333333333333,
              "#9c179e"
             ],
             [
              0.4444444444444444,
              "#bd3786"
             ],
             [
              0.5555555555555556,
              "#d8576b"
             ],
             [
              0.6666666666666666,
              "#ed7953"
             ],
             [
              0.7777777777777778,
              "#fb9f3a"
             ],
             [
              0.8888888888888888,
              "#fdca26"
             ],
             [
              1,
              "#f0f921"
             ]
            ],
            "type": "histogram2d"
           }
          ],
          "histogram2dcontour": [
           {
            "colorbar": {
             "outlinewidth": 0,
             "ticks": ""
            },
            "colorscale": [
             [
              0,
              "#0d0887"
             ],
             [
              0.1111111111111111,
              "#46039f"
             ],
             [
              0.2222222222222222,
              "#7201a8"
             ],
             [
              0.3333333333333333,
              "#9c179e"
             ],
             [
              0.4444444444444444,
              "#bd3786"
             ],
             [
              0.5555555555555556,
              "#d8576b"
             ],
             [
              0.6666666666666666,
              "#ed7953"
             ],
             [
              0.7777777777777778,
              "#fb9f3a"
             ],
             [
              0.8888888888888888,
              "#fdca26"
             ],
             [
              1,
              "#f0f921"
             ]
            ],
            "type": "histogram2dcontour"
           }
          ],
          "mesh3d": [
           {
            "colorbar": {
             "outlinewidth": 0,
             "ticks": ""
            },
            "type": "mesh3d"
           }
          ],
          "parcoords": [
           {
            "line": {
             "colorbar": {
              "outlinewidth": 0,
              "ticks": ""
             }
            },
            "type": "parcoords"
           }
          ],
          "pie": [
           {
            "automargin": true,
            "type": "pie"
           }
          ],
          "scatter": [
           {
            "marker": {
             "colorbar": {
              "outlinewidth": 0,
              "ticks": ""
             }
            },
            "type": "scatter"
           }
          ],
          "scatter3d": [
           {
            "line": {
             "colorbar": {
              "outlinewidth": 0,
              "ticks": ""
             }
            },
            "marker": {
             "colorbar": {
              "outlinewidth": 0,
              "ticks": ""
             }
            },
            "type": "scatter3d"
           }
          ],
          "scattercarpet": [
           {
            "marker": {
             "colorbar": {
              "outlinewidth": 0,
              "ticks": ""
             }
            },
            "type": "scattercarpet"
           }
          ],
          "scattergeo": [
           {
            "marker": {
             "colorbar": {
              "outlinewidth": 0,
              "ticks": ""
             }
            },
            "type": "scattergeo"
           }
          ],
          "scattergl": [
           {
            "marker": {
             "colorbar": {
              "outlinewidth": 0,
              "ticks": ""
             }
            },
            "type": "scattergl"
           }
          ],
          "scattermapbox": [
           {
            "marker": {
             "colorbar": {
              "outlinewidth": 0,
              "ticks": ""
             }
            },
            "type": "scattermapbox"
           }
          ],
          "scatterpolar": [
           {
            "marker": {
             "colorbar": {
              "outlinewidth": 0,
              "ticks": ""
             }
            },
            "type": "scatterpolar"
           }
          ],
          "scatterpolargl": [
           {
            "marker": {
             "colorbar": {
              "outlinewidth": 0,
              "ticks": ""
             }
            },
            "type": "scatterpolargl"
           }
          ],
          "scatterternary": [
           {
            "marker": {
             "colorbar": {
              "outlinewidth": 0,
              "ticks": ""
             }
            },
            "type": "scatterternary"
           }
          ],
          "surface": [
           {
            "colorbar": {
             "outlinewidth": 0,
             "ticks": ""
            },
            "colorscale": [
             [
              0,
              "#0d0887"
             ],
             [
              0.1111111111111111,
              "#46039f"
             ],
             [
              0.2222222222222222,
              "#7201a8"
             ],
             [
              0.3333333333333333,
              "#9c179e"
             ],
             [
              0.4444444444444444,
              "#bd3786"
             ],
             [
              0.5555555555555556,
              "#d8576b"
             ],
             [
              0.6666666666666666,
              "#ed7953"
             ],
             [
              0.7777777777777778,
              "#fb9f3a"
             ],
             [
              0.8888888888888888,
              "#fdca26"
             ],
             [
              1,
              "#f0f921"
             ]
            ],
            "type": "surface"
           }
          ],
          "table": [
           {
            "cells": {
             "fill": {
              "color": "#EBF0F8"
             },
             "line": {
              "color": "white"
             }
            },
            "header": {
             "fill": {
              "color": "#C8D4E3"
             },
             "line": {
              "color": "white"
             }
            },
            "type": "table"
           }
          ]
         },
         "layout": {
          "annotationdefaults": {
           "arrowcolor": "#2a3f5f",
           "arrowhead": 0,
           "arrowwidth": 1
          },
          "coloraxis": {
           "colorbar": {
            "outlinewidth": 0,
            "ticks": ""
           }
          },
          "colorscale": {
           "diverging": [
            [
             0,
             "#8e0152"
            ],
            [
             0.1,
             "#c51b7d"
            ],
            [
             0.2,
             "#de77ae"
            ],
            [
             0.3,
             "#f1b6da"
            ],
            [
             0.4,
             "#fde0ef"
            ],
            [
             0.5,
             "#f7f7f7"
            ],
            [
             0.6,
             "#e6f5d0"
            ],
            [
             0.7,
             "#b8e186"
            ],
            [
             0.8,
             "#7fbc41"
            ],
            [
             0.9,
             "#4d9221"
            ],
            [
             1,
             "#276419"
            ]
           ],
           "sequential": [
            [
             0,
             "#0d0887"
            ],
            [
             0.1111111111111111,
             "#46039f"
            ],
            [
             0.2222222222222222,
             "#7201a8"
            ],
            [
             0.3333333333333333,
             "#9c179e"
            ],
            [
             0.4444444444444444,
             "#bd3786"
            ],
            [
             0.5555555555555556,
             "#d8576b"
            ],
            [
             0.6666666666666666,
             "#ed7953"
            ],
            [
             0.7777777777777778,
             "#fb9f3a"
            ],
            [
             0.8888888888888888,
             "#fdca26"
            ],
            [
             1,
             "#f0f921"
            ]
           ],
           "sequentialminus": [
            [
             0,
             "#0d0887"
            ],
            [
             0.1111111111111111,
             "#46039f"
            ],
            [
             0.2222222222222222,
             "#7201a8"
            ],
            [
             0.3333333333333333,
             "#9c179e"
            ],
            [
             0.4444444444444444,
             "#bd3786"
            ],
            [
             0.5555555555555556,
             "#d8576b"
            ],
            [
             0.6666666666666666,
             "#ed7953"
            ],
            [
             0.7777777777777778,
             "#fb9f3a"
            ],
            [
             0.8888888888888888,
             "#fdca26"
            ],
            [
             1,
             "#f0f921"
            ]
           ]
          },
          "colorway": [
           "#636efa",
           "#EF553B",
           "#00cc96",
           "#ab63fa",
           "#FFA15A",
           "#19d3f3",
           "#FF6692",
           "#B6E880",
           "#FF97FF",
           "#FECB52"
          ],
          "font": {
           "color": "#2a3f5f"
          },
          "geo": {
           "bgcolor": "white",
           "lakecolor": "white",
           "landcolor": "#E5ECF6",
           "showlakes": true,
           "showland": true,
           "subunitcolor": "white"
          },
          "hoverlabel": {
           "align": "left"
          },
          "hovermode": "closest",
          "mapbox": {
           "style": "light"
          },
          "paper_bgcolor": "white",
          "plot_bgcolor": "#E5ECF6",
          "polar": {
           "angularaxis": {
            "gridcolor": "white",
            "linecolor": "white",
            "ticks": ""
           },
           "bgcolor": "#E5ECF6",
           "radialaxis": {
            "gridcolor": "white",
            "linecolor": "white",
            "ticks": ""
           }
          },
          "scene": {
           "xaxis": {
            "backgroundcolor": "#E5ECF6",
            "gridcolor": "white",
            "gridwidth": 2,
            "linecolor": "white",
            "showbackground": true,
            "ticks": "",
            "zerolinecolor": "white"
           },
           "yaxis": {
            "backgroundcolor": "#E5ECF6",
            "gridcolor": "white",
            "gridwidth": 2,
            "linecolor": "white",
            "showbackground": true,
            "ticks": "",
            "zerolinecolor": "white"
           },
           "zaxis": {
            "backgroundcolor": "#E5ECF6",
            "gridcolor": "white",
            "gridwidth": 2,
            "linecolor": "white",
            "showbackground": true,
            "ticks": "",
            "zerolinecolor": "white"
           }
          },
          "shapedefaults": {
           "line": {
            "color": "#2a3f5f"
           }
          },
          "ternary": {
           "aaxis": {
            "gridcolor": "white",
            "linecolor": "white",
            "ticks": ""
           },
           "baxis": {
            "gridcolor": "white",
            "linecolor": "white",
            "ticks": ""
           },
           "bgcolor": "#E5ECF6",
           "caxis": {
            "gridcolor": "white",
            "linecolor": "white",
            "ticks": ""
           }
          },
          "title": {
           "x": 0.05
          },
          "xaxis": {
           "automargin": true,
           "gridcolor": "white",
           "linecolor": "white",
           "ticks": "",
           "title": {
            "standoff": 15
           },
           "zerolinecolor": "white",
           "zerolinewidth": 2
          },
          "yaxis": {
           "automargin": true,
           "gridcolor": "white",
           "linecolor": "white",
           "ticks": "",
           "title": {
            "standoff": 15
           },
           "zerolinecolor": "white",
           "zerolinewidth": 2
          }
         }
        }
       }
      },
      "text/html": [
       "<div>\n",
       "        \n",
       "        \n",
       "            <div id=\"17d9f988-c5d7-4407-87a4-a6bc7adce7c0\" class=\"plotly-graph-div\" style=\"height:525px; width:100%;\"></div>\n",
       "            <script type=\"text/javascript\">\n",
       "                require([\"plotly\"], function(Plotly) {\n",
       "                    window.PLOTLYENV=window.PLOTLYENV || {};\n",
       "                    \n",
       "                if (document.getElementById(\"17d9f988-c5d7-4407-87a4-a6bc7adce7c0\")) {\n",
       "                    Plotly.newPlot(\n",
       "                        '17d9f988-c5d7-4407-87a4-a6bc7adce7c0',\n",
       "                        [{\"autocolorscale\": false, \"colorbar\": {\"ticks\": \"outside\", \"ticktext\": [\"0\", \".00005-.0028\", \".003-.046\", \".05-0.15\", \".16-.33\", \".33-.51\", \".55-1.02\", \"1.03-1.76\", \"1.8-5.6\", \"6.2-48\"], \"tickvals\": [1, 2, 3, 4, 5, 6, 7, 8, 9, 10], \"title\": {\"text\": \"kg per<br>100,000 population<br>\"}}, \"colorscale\": [[0.0, \"#440154\"], [0.1111111111111111, \"#482878\"], [0.2222222222222222, \"#3e4989\"], [0.3333333333333333, \"#31688e\"], [0.4444444444444444, \"#26828e\"], [0.5555555555555556, \"#1f9e89\"], [0.6666666666666666, \"#35b779\"], [0.7777777777777778, \"#6ece58\"], [0.8888888888888888, \"#b5de2b\"], [1.0, \"#fde725\"]], \"locations\": [\"AFG\", \"ALB\", \"DZA\", \"AND\", \"AGO\", \"AIA\", \"ATG\", \"ARG\", \"ARM\", \"ABW\", \"SHN\", \"AUS\", \"AUT\", \"AZE\", \"BHS\", \"BHR\", \"BGD\", \"BRB\", \"BLR\", \"BEL\", \"BLZ\", \"BEN\", \"BMU\", \"BTN\", \"BOL\", \"BIH\", \"BWA\", \"BRA\", \"VGB\", \"BRN\", \"BGR\", \"BKA\", \"BDI\", \"CPV\", \"KHM\", \"CMR\", \"CAN\", \"CYM\", \"CAF\", \"TCD\", \"CHL\", \"CHN\", \"HKG\", \"MAC\", \"CXR\", \"CCK\", \"COL\", \"COM\", \"COG\", \"COK\", \"CRI\", \"HRV\", \"CUB\", \"CUW\", \"CYP\", \"CZE\", \"CIV\", \"PRK\", \"COD\", \"DNK\", \"DJI\", \"DMA\", \"DOM\", \"ECU\", \"EGY\", \"SLV\", \"GNQ\", \"ERI\", \"EST\", \"SWZ\", \"ETH\", \"FLK\", \"FJI\", \"FIN\", \"FRA\", \"PYF\", \"GAB\", \"GMB\", \"GEO\", \"DEU\", \"GHA\", \"GIB\", \"GRC\", \"GRD\", \"GTM\", \"GIN\", \"GNB\", \"GUY\", \"HTI\", \"HND\", \"HUN\", \"ISL\", \"IND\", \"IDN\", \"IRN\", \"IRQ\", \"IRL\", \"ISR\", \"ITA\", \"JAM\", \"JPN\", \"JOR\", \"KAZ\", \"KEN\", \"KIR\", \"KWT\", \"KGZ\", \"LAO\", \"LVA\", \"LBN\", \"LSO\", \"LBR\", \"LBY\", \"LIE\", \"LTU\", \"LUX\", \"MKD\", \"MDG\", \"MWI\", \"MYS\", \"MDV\", \"MLI\", \"MLT\", \"MHL\", \"MRT\", \"MUS\", \"MEX\", \"MDA\", \"FSM\", \"MCO\", \"MNG\", \"MNE\", \"MSR\", \"MAR\", \"MOZ\", \"MMR\", \"NAM\", \"NRU\", \"NPL\", \"NLD\", \"NCL\", \"NZL\", \"NIC\", \"NER\", \"NGA\", \"NIU\", \"NFK\", \"NOR\", \"OMN\", \"PAK\", \"PLW\", \"PSE\", \"PAN\", \"PNG\", \"PRY\", \"PER\", \"PHL\", \"POL\", \"PRT\", \"QAT\", \"KOR\", \"ROU\", \"RUS\", \"RWA\", \"SHN\", \"KNA\", \"LCA\", \"VCT\", \"WSM\", \"SMR\", \"STP\", \"SAU\", \"SEN\", \"SRB\", \"SYC\", \"SLE\", \"SGP\", \"SXM\", \"SVK\", \"SVN\", \"SLB\", \"SOM\", \"ZAF\", \"SSD\", \"ESP\", \"LKA\", \"SDN\", \"SUR\", \"SWE\", \"CHE\", \"SYR\", \"TJK\", \"TZA\", \"THA\", \"TLS\", \"TGO\", \"TON\", \"TTO\", \"SHN\", \"TUN\", \"TUR\", \"TKM\", \"TCA\", \"TUV\", \"GBR\", \"USA\", \"UGA\", \"UKR\", \"ARE\", \"URY\", \"UZB\", \"VUT\", \"VEN\", \"VNM\", \"WLF\", \"YEM\", \"ZMB\", \"ZWE\"], \"marker\": {\"line\": {\"color\": \"darkgray\", \"width\": 0.5}}, \"reversescale\": false, \"text\": [\"Afghanistan\", \"Albania\", \"Algeria\", \"Andorra\", \"Angola\", \"Anguilla\", \"Antigua & Barbuda\", \"Argentina\", \"Armenia\", \"Aruba\", \"Ascension Island\", \"Australia\", \"Austria\", \"Azerbaijan\", \"Bahamas\", \"Bahrain\", \"Bangladesh\", \"Barbados\", \"Belarus\", \"Belgium\", \"Belize\", \"Benin\", \"Bermuda\", \"Bhutan\", \"Bolivia (Plurinational State of)\", \"Bosnia & Herzegovina\", \"Botswana\", \"Brazil\", \"British Virgin Islands\", \"Brunei Darussalam\", \"Bulgaria\", \"Burkina Faso\", \"Burundi\", \"Cabo Verde\", \"Cambodia\", \"Cameroon\", \"Canada\", \"Cayman Islands\", \"Central African Republic\", \"Chad\", \"Chile\", \"China\", \"China, Hong Kong SAR\", \"China, Macao SAR\", \"Christmas Island\", \"Cocos (Keeling) Islands\", \"Colombia\", \"Comoros\", \"Congo\", \"Cook Islands\", \"Costa Rica\", \"Croatia\", \"Cuba\", \"Cura\\u00e7ao\", \"Cyprus\", \"Czechia\", \"C\\u00f4te d'Ivoire\", \"Democratic People's Republic of Korea\", \"Democratic Republic of the Congo\", \"Denmark\", \"Djibouti\", \"Dominica\", \"Dominican Republic\", \"Ecuador\", \"Egypt\", \"El Salvador\", \"Equatorial Guinea\", \"Eritrea\", \"Estonia\", \"Eswatini\", \"Ethiopia\", \"Falkland Islands\", \"Fiji\", \"Finland\", \"France\", \"French Polynesia\", \"Gabon\", \"Gambia\", \"Georgia\", \"Germany\", \"Ghana\", \"Gibraltar\", \"Greece\", \"Grenada\", \"Guatemala\", \"Guinea\", \"Guinea-Bissau\", \"Guyana\", \"Haiti\", \"Honduras\", \"Hungary\", \"Iceland\", \"India\", \"Indonesia\", \"Iran (Islamic Republic of)\", \"Iraq\", \"Ireland\", \"Israel\", \"Italy\", \"Jamaica\", \"Japan\", \"Jordan\", \"Kazakhstan\", \"Kenya\", \"Kiribati\", \"Kuwait\", \"Kyrgyzstan\", \"Lao People's Democratic Republic\", \"Latvia\", \"Lebanon\", \"Lesotho\", \"Liberia\", \"Libya\", \"Liechtenstein\", \"Lithuania\", \"Luxembourg\", \"Macedonia\", \"Madagascar\", \"Malawi\", \"Malaysia\", \"Maldives\", \"Mali\", \"Malta\", \"Marshall Islands\", \"Mauritania\", \"Mauritius\", \"Mexico\", \"Micronesia (Federated States of)\", \"Moldova (the Republic of)\", \"Monaco\", \"Mongolia\", \"Montenegro\", \"Montserrat\", \"Morocco\", \"Mozambique\", \"Myanmar\", \"Namibia\", \"Nauru\", \"Nepal\", \"Netherlands\", \"New Caledonia\", \"New Zealand\", \"Nicaragua\", \"Niger\", \"Nigeria\", \"Niue\", \"Norfolk Island\", \"Norway\", \"Oman\", \"Pakistan\", \"Palau\", \"Palestine, State of \", \"Panama\", \"Papua New Guinea\", \"Paraguay\", \"Peru\", \"Philippines\", \"Poland\", \"Portugal\", \"Qatar\", \"Republic of Korea\", \"Romania\", \"Russian Federation\", \"Rwanda\", \"Saint Helena\", \"Saint Kitts & Nevis\", \"Saint Lucia\", \"Saint Vincent & the Grenadines\", \"Samoa\", \"San Marino\", \"Sao Tome & Principe\", \"Saudi Arabia\", \"Senegal\", \"Serbia\", \"Seychelles\", \"Sierra Leone\", \"Singapore\", \"Sint Maarten\", \"Slovakia\", \"Slovenia\", \"Solomon Islands\", \"Somalia\", \"South Africa\", \"South Sudan\", \"Spain\", \"Sri Lanka\", \"Sudan\", \"Suriname\", \"Sweden\", \"Switzerland\", \"Syrian Arab Republic\", \"Tajikistan\", \"Tanzania (United Republic of)\", \"Thailand\", \"Timor-Leste\", \"Togo\", \"Tonga\", \"Trinidad & Tobago\", \"Tristan da Cunha\", \"Tunisia\", \"Turkey\", \"Turkmenistan\", \"Turks & Caicos Islands\", \"Tuvalu\", \"UK\", \"USA\", \"Uganda\", \"Ukraine\", \"United Arab Emirates\", \"Uruguay\", \"Uzbekistan\", \"Vanuatu\", \"Venezuela (Bolivarian Rep. of)\", \"Viet Nam\", \"Wallis & Futuna Islands\", \"Yemen\", \"Zambia\", \"Zimbabwe\"], \"type\": \"choropleth\", \"z\": [4.0, 6.0, 3.0, 8.0, 2.0, 8.0, 1.0, 8.0, 6.0, 1.0, 5.0, 10.0, 10.0, 4.0, 8.0, 8.0, 4.0, 9.0, 6.0, 10.0, 6.0, 3.0, 1.0, 3.0, 3.0, 6.0, 5.0, 7.0, 6.0, 6.0, 9.0, 3.0, 3.0, 4.0, 1.0, 1.0, 10.0, 1.0, 1.0, 2.0, 8.0, 6.0, 9.0, 7.0, 9.0, 1.0, 7.0, 3.0, 1.0, 7.0, 7.0, 8.0, 5.0, 6.0, 9.0, 9.0, 6.0, 6.0, 2.0, 10.0, 1.0, 7.0, 4.0, 4.0, 3.0, 6.0, 1.0, 1.0, 9.0, 6.0, 4.0, 10.0, 5.0, 10.0, 10.0, 9.0, 1.0, 1.0, 8.0, 10.0, 5.0, 9.0, 7.0, 1.0, 5.0, 1.0, 1.0, 7.0, 2.0, 4.0, 7.0, 10.0, 4.0, 4.0, 6.0, 1.0, 10.0, 10.0, 9.0, 7.0, 8.0, 6.0, 4.0, 5.0, 3.0, 6.0, 7.0, 3.0, 8.0, 6.0, 1.0, 1.0, 3.0, null, 7.0, 10.0, 9.0, 3.0, 4.0, 8.0, 4.0, 1.0, 9.0, 1.0, 1.0, 9.0, 4.0, 5.0, 7.0, null, 5.0, 7.0, 9.0, 4.0, 3.0, 8.0, 6.0, 1.0, 3.0, 10.0, 8.0, 10.0, 4.0, 1.0, 2.0, 7.0, 9.0, 10.0, 9.0, 2.0, 8.0, null, 5.0, 5.0, 1.0, 5.0, 3.0, 8.0, 9.0, 5.0, 9.0, 8.0, 5.0, 4.0, 7.0, 1.0, 1.0, 7.0, 1.0, null, 1.0, 7.0, 4.0, 7.0, 9.0, 2.0, 5.0, 9.0, 8.0, 10.0, 4.0, 1.0, 8.0, 1.0, 9.0, 7.0, 3.0, 3.0, 10.0, 10.0, 5.0, 3.0, 4.0, 5.0, 6.0, 3.0, 6.0, 8.0, 1.0, 5.0, 6.0, 3.0, 7.0, 5.0, 10.0, 10.0, 5.0, 8.0, 4.0, 7.0, 3.0, 1.0, 3.0, 8.0, 9.0, 1.0, 5.0, 5.0]}],\n",
       "                        {\"geo\": {\"projection\": {\"type\": \"equirectangular\"}, \"showcoastlines\": false, \"showframe\": false}, \"template\": {\"data\": {\"bar\": [{\"error_x\": {\"color\": \"#2a3f5f\"}, \"error_y\": {\"color\": \"#2a3f5f\"}, \"marker\": {\"line\": {\"color\": \"#E5ECF6\", \"width\": 0.5}}, \"type\": \"bar\"}], \"barpolar\": [{\"marker\": {\"line\": {\"color\": \"#E5ECF6\", \"width\": 0.5}}, \"type\": \"barpolar\"}], \"carpet\": [{\"aaxis\": {\"endlinecolor\": \"#2a3f5f\", \"gridcolor\": \"white\", \"linecolor\": \"white\", \"minorgridcolor\": \"white\", \"startlinecolor\": \"#2a3f5f\"}, \"baxis\": {\"endlinecolor\": \"#2a3f5f\", \"gridcolor\": \"white\", \"linecolor\": \"white\", \"minorgridcolor\": \"white\", \"startlinecolor\": \"#2a3f5f\"}, \"type\": \"carpet\"}], \"choropleth\": [{\"colorbar\": {\"outlinewidth\": 0, \"ticks\": \"\"}, \"type\": \"choropleth\"}], \"contour\": [{\"colorbar\": {\"outlinewidth\": 0, \"ticks\": \"\"}, \"colorscale\": [[0.0, \"#0d0887\"], [0.1111111111111111, \"#46039f\"], [0.2222222222222222, \"#7201a8\"], [0.3333333333333333, \"#9c179e\"], [0.4444444444444444, \"#bd3786\"], [0.5555555555555556, \"#d8576b\"], [0.6666666666666666, \"#ed7953\"], [0.7777777777777778, \"#fb9f3a\"], [0.8888888888888888, \"#fdca26\"], [1.0, \"#f0f921\"]], \"type\": \"contour\"}], \"contourcarpet\": [{\"colorbar\": {\"outlinewidth\": 0, \"ticks\": \"\"}, \"type\": \"contourcarpet\"}], \"heatmap\": [{\"colorbar\": {\"outlinewidth\": 0, \"ticks\": \"\"}, \"colorscale\": [[0.0, \"#0d0887\"], [0.1111111111111111, \"#46039f\"], [0.2222222222222222, \"#7201a8\"], [0.3333333333333333, \"#9c179e\"], [0.4444444444444444, \"#bd3786\"], [0.5555555555555556, \"#d8576b\"], [0.6666666666666666, \"#ed7953\"], [0.7777777777777778, \"#fb9f3a\"], [0.8888888888888888, \"#fdca26\"], [1.0, \"#f0f921\"]], \"type\": \"heatmap\"}], \"heatmapgl\": [{\"colorbar\": {\"outlinewidth\": 0, \"ticks\": \"\"}, \"colorscale\": [[0.0, \"#0d0887\"], [0.1111111111111111, \"#46039f\"], [0.2222222222222222, \"#7201a8\"], [0.3333333333333333, \"#9c179e\"], [0.4444444444444444, \"#bd3786\"], [0.5555555555555556, \"#d8576b\"], [0.6666666666666666, \"#ed7953\"], [0.7777777777777778, \"#fb9f3a\"], [0.8888888888888888, \"#fdca26\"], [1.0, \"#f0f921\"]], \"type\": \"heatmapgl\"}], \"histogram\": [{\"marker\": {\"colorbar\": {\"outlinewidth\": 0, \"ticks\": \"\"}}, \"type\": \"histogram\"}], \"histogram2d\": [{\"colorbar\": {\"outlinewidth\": 0, \"ticks\": \"\"}, \"colorscale\": [[0.0, \"#0d0887\"], [0.1111111111111111, \"#46039f\"], [0.2222222222222222, \"#7201a8\"], [0.3333333333333333, \"#9c179e\"], [0.4444444444444444, \"#bd3786\"], [0.5555555555555556, \"#d8576b\"], [0.6666666666666666, \"#ed7953\"], [0.7777777777777778, \"#fb9f3a\"], [0.8888888888888888, \"#fdca26\"], [1.0, \"#f0f921\"]], \"type\": \"histogram2d\"}], \"histogram2dcontour\": [{\"colorbar\": {\"outlinewidth\": 0, \"ticks\": \"\"}, \"colorscale\": [[0.0, \"#0d0887\"], [0.1111111111111111, \"#46039f\"], [0.2222222222222222, \"#7201a8\"], [0.3333333333333333, \"#9c179e\"], [0.4444444444444444, \"#bd3786\"], [0.5555555555555556, \"#d8576b\"], [0.6666666666666666, \"#ed7953\"], [0.7777777777777778, \"#fb9f3a\"], [0.8888888888888888, \"#fdca26\"], [1.0, \"#f0f921\"]], \"type\": \"histogram2dcontour\"}], \"mesh3d\": [{\"colorbar\": {\"outlinewidth\": 0, \"ticks\": \"\"}, \"type\": \"mesh3d\"}], \"parcoords\": [{\"line\": {\"colorbar\": {\"outlinewidth\": 0, \"ticks\": \"\"}}, \"type\": \"parcoords\"}], \"pie\": [{\"automargin\": true, \"type\": \"pie\"}], \"scatter\": [{\"marker\": {\"colorbar\": {\"outlinewidth\": 0, \"ticks\": \"\"}}, \"type\": \"scatter\"}], \"scatter3d\": [{\"line\": {\"colorbar\": {\"outlinewidth\": 0, \"ticks\": \"\"}}, \"marker\": {\"colorbar\": {\"outlinewidth\": 0, \"ticks\": \"\"}}, \"type\": \"scatter3d\"}], \"scattercarpet\": [{\"marker\": {\"colorbar\": {\"outlinewidth\": 0, \"ticks\": \"\"}}, \"type\": \"scattercarpet\"}], \"scattergeo\": [{\"marker\": {\"colorbar\": {\"outlinewidth\": 0, \"ticks\": \"\"}}, \"type\": \"scattergeo\"}], \"scattergl\": [{\"marker\": {\"colorbar\": {\"outlinewidth\": 0, \"ticks\": \"\"}}, \"type\": \"scattergl\"}], \"scattermapbox\": [{\"marker\": {\"colorbar\": {\"outlinewidth\": 0, \"ticks\": \"\"}}, \"type\": \"scattermapbox\"}], \"scatterpolar\": [{\"marker\": {\"colorbar\": {\"outlinewidth\": 0, \"ticks\": \"\"}}, \"type\": \"scatterpolar\"}], \"scatterpolargl\": [{\"marker\": {\"colorbar\": {\"outlinewidth\": 0, \"ticks\": \"\"}}, \"type\": \"scatterpolargl\"}], \"scatterternary\": [{\"marker\": {\"colorbar\": {\"outlinewidth\": 0, \"ticks\": \"\"}}, \"type\": \"scatterternary\"}], \"surface\": [{\"colorbar\": {\"outlinewidth\": 0, \"ticks\": \"\"}, \"colorscale\": [[0.0, \"#0d0887\"], [0.1111111111111111, \"#46039f\"], [0.2222222222222222, \"#7201a8\"], [0.3333333333333333, \"#9c179e\"], [0.4444444444444444, \"#bd3786\"], [0.5555555555555556, \"#d8576b\"], [0.6666666666666666, \"#ed7953\"], [0.7777777777777778, \"#fb9f3a\"], [0.8888888888888888, \"#fdca26\"], [1.0, \"#f0f921\"]], \"type\": \"surface\"}], \"table\": [{\"cells\": {\"fill\": {\"color\": \"#EBF0F8\"}, \"line\": {\"color\": \"white\"}}, \"header\": {\"fill\": {\"color\": \"#C8D4E3\"}, \"line\": {\"color\": \"white\"}}, \"type\": \"table\"}]}, \"layout\": {\"annotationdefaults\": {\"arrowcolor\": \"#2a3f5f\", \"arrowhead\": 0, \"arrowwidth\": 1}, \"coloraxis\": {\"colorbar\": {\"outlinewidth\": 0, \"ticks\": \"\"}}, \"colorscale\": {\"diverging\": [[0, \"#8e0152\"], [0.1, \"#c51b7d\"], [0.2, \"#de77ae\"], [0.3, \"#f1b6da\"], [0.4, \"#fde0ef\"], [0.5, \"#f7f7f7\"], [0.6, \"#e6f5d0\"], [0.7, \"#b8e186\"], [0.8, \"#7fbc41\"], [0.9, \"#4d9221\"], [1, \"#276419\"]], \"sequential\": [[0.0, \"#0d0887\"], [0.1111111111111111, \"#46039f\"], [0.2222222222222222, \"#7201a8\"], [0.3333333333333333, \"#9c179e\"], [0.4444444444444444, \"#bd3786\"], [0.5555555555555556, \"#d8576b\"], [0.6666666666666666, \"#ed7953\"], [0.7777777777777778, \"#fb9f3a\"], [0.8888888888888888, \"#fdca26\"], [1.0, \"#f0f921\"]], \"sequentialminus\": [[0.0, \"#0d0887\"], [0.1111111111111111, \"#46039f\"], [0.2222222222222222, \"#7201a8\"], [0.3333333333333333, \"#9c179e\"], [0.4444444444444444, \"#bd3786\"], [0.5555555555555556, \"#d8576b\"], [0.6666666666666666, \"#ed7953\"], [0.7777777777777778, \"#fb9f3a\"], [0.8888888888888888, \"#fdca26\"], [1.0, \"#f0f921\"]]}, \"colorway\": [\"#636efa\", \"#EF553B\", \"#00cc96\", \"#ab63fa\", \"#FFA15A\", \"#19d3f3\", \"#FF6692\", \"#B6E880\", \"#FF97FF\", \"#FECB52\"], \"font\": {\"color\": \"#2a3f5f\"}, \"geo\": {\"bgcolor\": \"white\", \"lakecolor\": \"white\", \"landcolor\": \"#E5ECF6\", \"showlakes\": true, \"showland\": true, \"subunitcolor\": \"white\"}, \"hoverlabel\": {\"align\": \"left\"}, \"hovermode\": \"closest\", \"mapbox\": {\"style\": \"light\"}, \"paper_bgcolor\": \"white\", \"plot_bgcolor\": \"#E5ECF6\", \"polar\": {\"angularaxis\": {\"gridcolor\": \"white\", \"linecolor\": \"white\", \"ticks\": \"\"}, \"bgcolor\": \"#E5ECF6\", \"radialaxis\": {\"gridcolor\": \"white\", \"linecolor\": \"white\", \"ticks\": \"\"}}, \"scene\": {\"xaxis\": {\"backgroundcolor\": \"#E5ECF6\", \"gridcolor\": \"white\", \"gridwidth\": 2, \"linecolor\": \"white\", \"showbackground\": true, \"ticks\": \"\", \"zerolinecolor\": \"white\"}, \"yaxis\": {\"backgroundcolor\": \"#E5ECF6\", \"gridcolor\": \"white\", \"gridwidth\": 2, \"linecolor\": \"white\", \"showbackground\": true, \"ticks\": \"\", \"zerolinecolor\": \"white\"}, \"zaxis\": {\"backgroundcolor\": \"#E5ECF6\", \"gridcolor\": \"white\", \"gridwidth\": 2, \"linecolor\": \"white\", \"showbackground\": true, \"ticks\": \"\", \"zerolinecolor\": \"white\"}}, \"shapedefaults\": {\"line\": {\"color\": \"#2a3f5f\"}}, \"ternary\": {\"aaxis\": {\"gridcolor\": \"white\", \"linecolor\": \"white\", \"ticks\": \"\"}, \"baxis\": {\"gridcolor\": \"white\", \"linecolor\": \"white\", \"ticks\": \"\"}, \"bgcolor\": \"#E5ECF6\", \"caxis\": {\"gridcolor\": \"white\", \"linecolor\": \"white\", \"ticks\": \"\"}}, \"title\": {\"x\": 0.05}, \"xaxis\": {\"automargin\": true, \"gridcolor\": \"white\", \"linecolor\": \"white\", \"ticks\": \"\", \"title\": {\"standoff\": 15}, \"zerolinecolor\": \"white\", \"zerolinewidth\": 2}, \"yaxis\": {\"automargin\": true, \"gridcolor\": \"white\", \"linecolor\": \"white\", \"ticks\": \"\", \"title\": {\"standoff\": 15}, \"zerolinecolor\": \"white\", \"zerolinewidth\": 2}}}},\n",
       "                        {\"responsive\": true}\n",
       "                    ).then(function(){\n",
       "                            \n",
       "var gd = document.getElementById('17d9f988-c5d7-4407-87a4-a6bc7adce7c0');\n",
       "var x = new MutationObserver(function (mutations, observer) {{\n",
       "        var display = window.getComputedStyle(gd).display;\n",
       "        if (!display || display === 'none') {{\n",
       "            console.log([gd, 'removed!']);\n",
       "            Plotly.purge(gd);\n",
       "            observer.disconnect();\n",
       "        }}\n",
       "}});\n",
       "\n",
       "// Listen for the removal of the full notebook cells\n",
       "var notebookContainer = gd.closest('#notebook-container');\n",
       "if (notebookContainer) {{\n",
       "    x.observe(notebookContainer, {childList: true});\n",
       "}}\n",
       "\n",
       "// Listen for the clearing of the current output cell\n",
       "var outputEl = gd.closest('.output');\n",
       "if (outputEl) {{\n",
       "    x.observe(outputEl, {childList: true});\n",
       "}}\n",
       "\n",
       "                        })\n",
       "                };\n",
       "                });\n",
       "            </script>\n",
       "        </div>"
      ]
     },
     "metadata": {},
     "output_type": "display_data"
    }
   ],
   "source": [
    "data3 = [go.Choropleth(\n",
    "    locations = df['country_ISO'],\n",
    "    z = df['10 quantiles of meanop_pop'],\n",
    "    text = df['Country'],\n",
    "    autocolorscale=False,\n",
    "    reversescale=False,\n",
    "    marker_line_color='darkgray',\n",
    "    marker_line_width=0.5,\n",
    "    colorscale ='Viridis',\n",
    "    colorbar=dict(\n",
    "        title=\"kg per<br>100,000 population<br>\",\n",
    "        tickvals=[1, 2, 3, 4, 5, 6, 7, 8, 9, 10],\n",
    "        ticktext=[\"0\", \".00005-.0028\", \".003-.046\", \".05-0.15\", \".16-.33\", \".33-.51\", \".55-1.02\", \"1.03-1.76\", \"1.8-5.6\", \"6.2-48\"],\n",
    "        ticks=\"outside\"),\n",
    ")]\n",
    "\n",
    "layout3 = go.Layout(\n",
    "    geo = go.layout.Geo(\n",
    "        showframe=False,\n",
    "        showcoastlines=False,\n",
    "        projection_type='equirectangular'),\n",
    "    )\n",
    "\n",
    "fig3 = go.Figure(data = data3, layout = layout3)\n",
    "\n",
    "fig3.show()"
   ]
  },
  {
   "cell_type": "markdown",
   "metadata": {},
   "source": [
    "# Saving image for journal publication"
   ]
  },
  {
   "cell_type": "markdown",
   "metadata": {},
   "source": [
    "TBC - add packages to requirements, try code again, if errors & no success in resolving errors then ask Caroline"
   ]
  },
  {
   "cell_type": "code",
   "execution_count": null,
   "metadata": {},
   "outputs": [],
   "source": [
    "# ask Caroline about DASH to convert plotly figure to web-based applications? "
   ]
  },
  {
   "cell_type": "code",
   "execution_count": 51,
   "metadata": {},
   "outputs": [],
   "source": [
    "# trying to save these images as static files: https://plot.ly/python/static-image-export/ \n",
    "import os\n",
    "if not os.path.exists(\"images\"):\n",
    "    os.mkdir(\"images\")\n",
    "    \n",
    "#find a way to render when showing the figure "
   ]
  },
  {
   "cell_type": "code",
   "execution_count": null,
   "metadata": {},
   "outputs": [],
   "source": [
    "fig3.write_image(\"images/opconsum_map.png\")"
   ]
  },
  {
   "cell_type": "code",
   "execution_count": null,
   "metadata": {},
   "outputs": [],
   "source": [
    "fig3.write_image(\"images/opconsum_map.jpeg\")"
   ]
  },
  {
   "cell_type": "code",
   "execution_count": null,
   "metadata": {},
   "outputs": [],
   "source": [
    "fig3.write_image(\"images/opconsum_map.tif\")"
   ]
  },
  {
   "cell_type": "code",
   "execution_count": null,
   "metadata": {},
   "outputs": [],
   "source": [
    "# when I know how the journal needs the figures \n",
    "img_bytes = fig3.to_image(format=\"png\", width=600, height=350, scale=2)\n",
    "Image(img_bytes)"
   ]
  }
 ],
 "metadata": {
  "kernelspec": {
   "display_name": "Python 2",
   "language": "python",
   "name": "python2"
  },
  "language_info": {
   "codemirror_mode": {
    "name": "ipython",
    "version": 2
   },
   "file_extension": ".py",
   "mimetype": "text/x-python",
   "name": "python",
   "nbconvert_exporter": "python",
   "pygments_lexer": "ipython2",
   "version": "2.7.16"
  }
 },
 "nbformat": 4,
 "nbformat_minor": 2
}
